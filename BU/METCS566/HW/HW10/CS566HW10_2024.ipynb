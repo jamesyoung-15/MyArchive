{
  "nbformat": 4,
  "nbformat_minor": 0,
  "metadata": {
    "colab": {
      "provenance": []
    },
    "kernelspec": {
      "name": "python3",
      "display_name": "Python 3"
    },
    "language_info": {
      "name": "python"
    }
  },
  "cells": [
    {
      "cell_type": "markdown",
      "source": [
        "## HW 10. Introduction to algorithms\n",
        "\n",
        "This is tenth homework for CS 566."
      ],
      "metadata": {
        "id": "J9NVY1MMJaE7"
      }
    },
    {
      "cell_type": "markdown",
      "source": [
        "## Task 1. Solve the problem \"Trapping Rain Water\" from https://leetcode.com/problems/trapping-rain-water/description/ using Python3.\n",
        "\n",
        "Use the box below, to paste the working code. The format of the code should be identical to LeetCode platform. (4 points)"
      ],
      "metadata": {
        "id": "TQr2kPMiJ18g"
      }
    },
    {
      "cell_type": "code",
      "source": [
        "import sys\n",
        "from typing import List\n",
        "\n",
        "class Solution:\n",
        "    def trap(self, height: List[int]) -> int:\n",
        "        n = len(height)\n",
        "        # max height to left and right of current index\n",
        "        max_left = [0] * n\n",
        "        max_right = [0] * n\n",
        "        max_left[0] = height[0]\n",
        "        max_right[n-1] = height[n-1]\n",
        "\n",
        "        for i in range(1, n):\n",
        "            max_left[i] = max(height[i], max_left[i-1])\n",
        "\n",
        "        for i in range(n-2, -1, -1):\n",
        "            max_right[i] = max(height[i], max_right[i+1])\n",
        "\n",
        "        num_water = 0\n",
        "        for i in range(0,n):\n",
        "            num_water += min(max_left[i], max_right[i]) - height[i]\n",
        "\n",
        "        return num_water"
      ],
      "metadata": {
        "id": "2lvL-OnWJ2lm"
      },
      "execution_count": 1,
      "outputs": []
    },
    {
      "cell_type": "markdown",
      "source": [
        "### Do not modify the testing code below. If you get message \"Mistake in test case #\", it means that you algorithm is incorrect."
      ],
      "metadata": {
        "id": "euoN0SF1Kaew"
      }
    },
    {
      "cell_type": "code",
      "source": [
        "#test_case_1\n",
        "height = [0,1,0,2,1,0,1,3,2,1,2,1]\n",
        "actual = Solution().trap(height)\n",
        "expected = 6\n",
        "assert actual==expected, \"Mistake in test case 1\"\n",
        "print(\"OK\")"
      ],
      "metadata": {
        "id": "FXuKwq8FJ7wq",
        "colab": {
          "base_uri": "https://localhost:8080/",
          "height": 0
        },
        "outputId": "3a8582e1-ccf0-46d3-cc74-04ca51048171"
      },
      "execution_count": 2,
      "outputs": [
        {
          "output_type": "stream",
          "name": "stdout",
          "text": [
            "OK\n"
          ]
        }
      ]
    },
    {
      "cell_type": "markdown",
      "source": [
        "### Write analysis of the Memory Complexity and Time Complexity using Aymptotic Notation O. (1 point)\n",
        "\n",
        "Memory Analysis: O(n)\n",
        "\n",
        "Time Analysis: O(n)"
      ],
      "metadata": {
        "id": "eWtUdlZULoyd"
      }
    },
    {
      "cell_type": "markdown",
      "source": [
        "## Task 2. Solve the problem \"Longest Palyndromic Substring\" from https://leetcode.com/problems/longest-palindromic-substring/description/ using Python3.\n",
        "\n",
        "Use the box below, to paste the working code. The format of the code should be identical to LeetCode platform. (4 points)"
      ],
      "metadata": {
        "id": "IKSo3QbF42QL"
      }
    },
    {
      "cell_type": "code",
      "source": [
        "class Solution:\n",
        "    def longestPalindrome(self, s: str) -> str:\n",
        "        # dp approach\n",
        "        ans = \"\"\n",
        "        count = 0\n",
        "        n = len(s)\n",
        "\n",
        "        dp = [[False]*n for i in range(n)]\n",
        "\n",
        "        for i in range(n):\n",
        "            for j in range(n-i):\n",
        "                k = i+j\n",
        "                if i == 0:\n",
        "                    dp[j][k] = True\n",
        "                elif i == 1:\n",
        "                    is_palindrome = (s[j] == s[k])\n",
        "                    dp[j][k] = is_palindrome\n",
        "                else:\n",
        "                    is_palindrome = (s[j] == s[k] and dp[j+1][k-1])\n",
        "                    dp[j][k] = is_palindrome\n",
        "                if dp[j][k] and count < k-j+1:\n",
        "                    ans = s[j:k+1]\n",
        "                    count = len(ans)\n",
        "\n",
        "        return ans"
      ],
      "metadata": {
        "id": "_J2StfIb5TqF"
      },
      "execution_count": 3,
      "outputs": []
    },
    {
      "cell_type": "code",
      "source": [
        "s = \"babad\"\n",
        "expected = \"bab\"\n",
        "actual = Solution().longestPalindrome(s)\n",
        "assert expected == actual, \"Mistake in test case 1\"\n",
        "print(\"OK\")"
      ],
      "metadata": {
        "colab": {
          "base_uri": "https://localhost:8080/",
          "height": 0
        },
        "id": "2k1p0PFY5g-p",
        "outputId": "624b2810-9ceb-4215-aeb9-2ceaa68a3a14"
      },
      "execution_count": 4,
      "outputs": [
        {
          "output_type": "stream",
          "name": "stdout",
          "text": [
            "OK\n"
          ]
        }
      ]
    },
    {
      "cell_type": "markdown",
      "source": [
        "### Write analysis of the Memory Complexity and Time Complexity using Asymptotic Notation O. (1 point)\n",
        "\n",
        "Memory Analysis: O(n^2)\n",
        "\n",
        "Time Analysis: O(n^2)\n"
      ],
      "metadata": {
        "id": "E1PuVdE66TK5"
      }
    },
    {
      "cell_type": "markdown",
      "source": [
        "## Task 3. Solve the problem \"Gas Station\" from https://leetcode.com/problems/gas-station/description/ using Python3.\n",
        "\n",
        "Use the box below, to paste the working code. The format of the code should be identical to LeetCode platform. (4 points)"
      ],
      "metadata": {
        "id": "Ng4NQ4j6Utw1"
      }
    },
    {
      "cell_type": "code",
      "source": [
        "from typing import List\n",
        "class Solution:\n",
        "    def canCompleteCircuit(self, gas: List[int], cost: List[int]) -> int:\n",
        "        # greedy\n",
        "        if sum(gas) < sum(cost):\n",
        "            return -1\n",
        "\n",
        "        total = 0\n",
        "        starting_pos = 0\n",
        "        for i in range(len(gas)):\n",
        "            total += (gas[i] - cost[i])\n",
        "\n",
        "            # if total negative, the position doesn't work so reset position\n",
        "            if total < 0:\n",
        "                total = 0\n",
        "                starting_pos = i + 1\n",
        "\n",
        "        return starting_pos"
      ],
      "metadata": {
        "id": "YE46ZrI_Usvh"
      },
      "execution_count": 9,
      "outputs": []
    },
    {
      "cell_type": "code",
      "source": [
        "gas = [1,2,3,4,5]\n",
        "cost = [3,4,5,1,2]\n",
        "expected = 3\n",
        "actual = Solution().canCompleteCircuit(gas, cost)\n",
        "assert expected==actual, \"Mistake in case 1\"\n",
        "print(\"OK\")"
      ],
      "metadata": {
        "id": "jL1LLwHF7ZPl",
        "colab": {
          "base_uri": "https://localhost:8080/",
          "height": 0
        },
        "outputId": "7c9468ea-b8be-400f-b3b8-9695fa61a04c"
      },
      "execution_count": 10,
      "outputs": [
        {
          "output_type": "stream",
          "name": "stdout",
          "text": [
            "OK\n"
          ]
        }
      ]
    },
    {
      "cell_type": "markdown",
      "source": [
        "### Write analysis of the Memory Complexity and Time Complexity using Asymptotic Notation O. (1 point)\n",
        "\n",
        "Memory Analysis: O(1)\n",
        "\n",
        "Time Analysis: O(n)\n"
      ],
      "metadata": {
        "id": "xsYMTWTQnRdb"
      }
    }
  ]
}