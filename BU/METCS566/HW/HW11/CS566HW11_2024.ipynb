{
  "nbformat": 4,
  "nbformat_minor": 0,
  "metadata": {
    "colab": {
      "provenance": []
    },
    "kernelspec": {
      "name": "python3",
      "display_name": "Python 3"
    },
    "language_info": {
      "name": "python"
    }
  },
  "cells": [
    {
      "cell_type": "markdown",
      "source": [
        "## HW 11. Introduction to algorithms\n",
        "\n",
        "This is eleventh homework for CS 566."
      ],
      "metadata": {
        "id": "J9NVY1MMJaE7"
      }
    },
    {
      "cell_type": "markdown",
      "source": [
        "## Task 1. Solve the problem \"Path With Maximum Probability\" from https://leetcode.com/problems/path-with-maximum-probability/description/ using Python3.\n",
        "\n",
        "Use the box below, to paste the working code. The format of the code should be identical to LeetCode platform. (4 points)"
      ],
      "metadata": {
        "id": "TQr2kPMiJ18g"
      }
    },
    {
      "cell_type": "code",
      "source": [
        "import sys\n",
        "from typing import List\n",
        "import heapq\n",
        "\n",
        "class Solution:\n",
        "    def maxProbability(self, n: int, edges: List[List[int]], succProb: List[float], start: int, end: int) -> float:\n",
        "        graph, prob = dict(), dict()\n",
        "        for i, (u, v) in enumerate(edges):\n",
        "            graph.setdefault(u, []).append(v)\n",
        "            graph.setdefault(v, []).append(u)\n",
        "            prob[u, v] = prob[v, u] = succProb[i]\n",
        "        #Dijkstra\n",
        "        h = [(-1, start)]\n",
        "        seen = set()\n",
        "        while h:\n",
        "            p, n = heapq.heappop(h)\n",
        "            if n == end: return -p\n",
        "            seen.add(n)\n",
        "            for nn in graph.get(n, []):\n",
        "                if nn in seen: continue\n",
        "                heapq.heappush(h, (p * prob.get((n, nn), 0), nn))\n",
        "        return 0"
      ],
      "metadata": {
        "id": "2lvL-OnWJ2lm"
      },
      "execution_count": 8,
      "outputs": []
    },
    {
      "cell_type": "markdown",
      "source": [
        "### Do not modify the testing code below. If you get message \"Mistake in test case #\", it means that you algorithm is incorrect."
      ],
      "metadata": {
        "id": "euoN0SF1Kaew"
      }
    },
    {
      "cell_type": "code",
      "source": [
        "#test_case_1\n",
        "n = 3\n",
        "edges = [[0,1],[1,2],[0,2]]\n",
        "succProb = [0.5,0.5,0.2]\n",
        "start = 0\n",
        "end = 2\n",
        "actual = Solution().maxProbability(n, edges, succProb, start, end)\n",
        "expected = 0.25\n",
        "assert actual==expected, \"Mistake in test case 1\"\n",
        "print(\"OK\")"
      ],
      "metadata": {
        "id": "FXuKwq8FJ7wq",
        "colab": {
          "base_uri": "https://localhost:8080/"
        },
        "outputId": "4017f067-d340-420d-e8c9-c9746602c75c"
      },
      "execution_count": 9,
      "outputs": [
        {
          "output_type": "stream",
          "name": "stdout",
          "text": [
            "OK\n"
          ]
        }
      ]
    },
    {
      "cell_type": "markdown",
      "source": [
        "### Write analysis of the Memory Complexity and Time Complexity using Aymptotic Notation O. (1 point)\n",
        "\n",
        "Memory Analysis: O(n+m), where n is edges and m is vertices\n",
        "\n",
        "Time Analysis: O(nlog(m)), where n is edges and m is vertices"
      ],
      "metadata": {
        "id": "eWtUdlZULoyd"
      }
    },
    {
      "cell_type": "markdown",
      "source": [
        "## Task 2. Solve the problem \"Course Schedule II\" from https://leetcode.com/problems/course-schedule-ii/description/ using Python3.\n",
        "\n",
        "Use the box below, to paste the working code. The format of the code should be identical to LeetCode platform. (4 points)"
      ],
      "metadata": {
        "id": "IKSo3QbF42QL"
      }
    },
    {
      "cell_type": "code",
      "source": [
        "from collections import defaultdict, deque\n",
        "class Solution:\n",
        "\n",
        "    def findOrder(self, numCourses, prerequisites):\n",
        "        graph = defaultdict(list)\n",
        "        res = []\n",
        "        def DFS(node):\n",
        "            if visited[node] == -1:\n",
        "                return False\n",
        "            if visited[node] == 1:\n",
        "                return True\n",
        "            visited[node] = -1\n",
        "            for x in graph[node]:\n",
        "                if not DFS(x):\n",
        "                    return False\n",
        "            visited[node] = 1\n",
        "            res.append(node)\n",
        "            return True\n",
        "\n",
        "        for pair in prerequisites:\n",
        "            graph[pair[0]].append(pair[1])\n",
        "        visited = [0 for x in range(numCourses)]\n",
        "        for x in range(numCourses):\n",
        "            if not DFS(x):\n",
        "                return []\n",
        "        return res"
      ],
      "metadata": {
        "id": "_J2StfIb5TqF"
      },
      "execution_count": 12,
      "outputs": []
    },
    {
      "cell_type": "code",
      "source": [
        "numCourses = 2\n",
        "prerequisites = [[1,0]]\n",
        "expected = [0, 1]\n",
        "actual = Solution().findOrder(numCourses, prerequisites)\n",
        "assert expected == actual, \"Mistake in test case 1\"\n",
        "print(\"OK\")"
      ],
      "metadata": {
        "colab": {
          "base_uri": "https://localhost:8080/"
        },
        "id": "2k1p0PFY5g-p",
        "outputId": "bbf75df1-0aa8-4328-91c7-9c86e5b7f0d1"
      },
      "execution_count": 13,
      "outputs": [
        {
          "output_type": "stream",
          "name": "stdout",
          "text": [
            "OK\n"
          ]
        }
      ]
    },
    {
      "cell_type": "markdown",
      "source": [
        "### Write analysis of the Memory Complexity and Time Complexity using Asymptotic Notation O. (1 point)\n",
        "\n",
        "Memory Analysis: O(n+m), where n is edges and m is vertices\n",
        "\n",
        "Time Analysis: O(n+m), where n is edges and m is vertices\n"
      ],
      "metadata": {
        "id": "E1PuVdE66TK5"
      }
    },
    {
      "cell_type": "markdown",
      "source": [
        "### Theoretical Problem (5 points)\n",
        "\n",
        "\n",
        "Let G = (V, E) be an undirected weighted graph, and let T be a minimum spanning tree of G. Given a subset of vertices V' ⊆ V:\n",
        "\n",
        "- Let T' be the subgraph of T induced by V'\n",
        "- Let G' be the subgraph of G induced by V'\n",
        "\n",
        "Prove: If T' is connected, then T' is a minimum spanning tree of G'.\n",
        "\n",
        "Definitions:\n",
        "\n",
        "- A spanning tree of a graph is a tree that includes all vertices and a subset of edges.\n",
        "- A minimum spanning tree (MST) is a spanning tree whose sum of edge weights is minimal.\n",
        "- An induced subgraph contains all edges from the original graph whose endpoints are both in the vertex subset.\n",
        "\n",
        "\n",
        "Use latex or write the proof on the list of paper and embed it as screenshot to the colab."
      ],
      "metadata": {
        "id": "mgKePplK8Usb"
      }
    },
    {
      "cell_type": "markdown",
      "source": [
        "Since T' is the subgraph of T induced by V', it means it includes all the vertices of V' and means there is a path in T' between any two vertices in V', thus it forms a spanning tree of G', the subgraph of G induced by V'.\n",
        "\n",
        "\n",
        "For any other spanning tree T' of G', we apply the cut property of MSTs. Any edge not in T' that connects vertices in V' must have a weight that is at least as large as the maximum edge weight in T'. Since T is an MST of G, it contains the minimum weight edges.\n",
        "\n",
        "Because T' has a weight less than or equal to any other spanning tree T'' of G', we conclude that T' is a minimum spanning tree of G'.\n",
        "\n"
      ],
      "metadata": {
        "id": "_9-JP4tlGhk5"
      }
    }
  ]
}