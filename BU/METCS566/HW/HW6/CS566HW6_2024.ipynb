{
  "nbformat": 4,
  "nbformat_minor": 0,
  "metadata": {
    "colab": {
      "provenance": []
    },
    "kernelspec": {
      "name": "python3",
      "display_name": "Python 3"
    },
    "language_info": {
      "name": "python"
    }
  },
  "cells": [
    {
      "cell_type": "markdown",
      "source": [
        "## Lab 6. Introduction to algorithms\n",
        "\n",
        "This is sixth HW for CS 566."
      ],
      "metadata": {
        "id": "J9NVY1MMJaE7"
      }
    },
    {
      "cell_type": "markdown",
      "source": [
        "## Task 1. Solve the problem \"Preorder Traversal\" from https://leetcode.com/problems/binary-tree-preorder-traversal/description/ using Python3.\n",
        "\n",
        "Use the box below, to paste the working code. The format of the code should be identical to LeetCode platform. (4 points)"
      ],
      "metadata": {
        "id": "TQr2kPMiJ18g"
      }
    },
    {
      "cell_type": "code",
      "source": [
        "from typing import Optional, List\n",
        "\n",
        "class TreeNode:\n",
        "    def __init__(self, val=0, left=None, right=None):\n",
        "        self.val = val\n",
        "        self.left = left\n",
        "        self.right = right\n",
        "\n",
        "class Solution:\n",
        "    def preorderTraversal(self, root: Optional[TreeNode]) -> List[int]:\n",
        "        result = []\n",
        "        def helper(root):\n",
        "            if root:\n",
        "                result.append(root.val)\n",
        "                helper(root.left)\n",
        "                helper(root.right)\n",
        "        helper(root)\n",
        "        return result\n"
      ],
      "metadata": {
        "id": "2lvL-OnWJ2lm"
      },
      "execution_count": 8,
      "outputs": []
    },
    {
      "cell_type": "markdown",
      "source": [
        "### Do not modify the testing code below. If you get message \"Mistake in test case #\", it means that you algorithm is incorrect."
      ],
      "metadata": {
        "id": "euoN0SF1Kaew"
      }
    },
    {
      "cell_type": "code",
      "source": [
        "#test_case_1\n",
        "root = TreeNode(1, None, TreeNode(2, TreeNode(3), None))\n",
        "expected = [1, 2, 3]\n",
        "actual = Solution().preorderTraversal(root)\n",
        "assert actual==expected, \"Mistake in test case 1\"\n",
        "print('OK')"
      ],
      "metadata": {
        "id": "FXuKwq8FJ7wq",
        "colab": {
          "base_uri": "https://localhost:8080/",
          "height": 0
        },
        "outputId": "cbbafc19-afa2-46ef-d5e6-88c7d90f098b"
      },
      "execution_count": 9,
      "outputs": [
        {
          "output_type": "stream",
          "name": "stdout",
          "text": [
            "OK\n"
          ]
        }
      ]
    },
    {
      "cell_type": "markdown",
      "source": [
        "### Write analysis of the Memory Complexity and Time Complexity using Aymptotic Notation O. (1 point)\n",
        "\n",
        "Memory Analysis: O(h), where h is height of tree (can be log(n) or n)\n",
        "\n",
        "Time Analysis: O(n)"
      ],
      "metadata": {
        "id": "eWtUdlZULoyd"
      }
    },
    {
      "cell_type": "markdown",
      "source": [
        "## Task 2. Solve the problem \"Inorder Traversal\" from https://leetcode.com/problems/binary-tree-inorder-traversal/description/ using Python3.\n",
        "\n",
        "Use the box below, to paste the working code. The format of the code should be identical to LeetCode platform. (4 points)"
      ],
      "metadata": {
        "id": "VWz-SXYXyO4m"
      }
    },
    {
      "cell_type": "code",
      "source": [
        "from typing import Optional, List\n",
        "\n",
        "class TreeNode:\n",
        "    def __init__(self, val=0, left=None, right=None):\n",
        "        self.val = val\n",
        "        self.left = left\n",
        "        self.right = right\n",
        "\n",
        "class Solution:\n",
        "    def inorderTraversal(self, root: Optional[TreeNode]) -> List[int]:\n",
        "        result = []\n",
        "        def helper(root):\n",
        "            if root:\n",
        "                helper(root.left)\n",
        "                result.append(root.val)\n",
        "                helper(root.right)\n",
        "        helper(root)\n",
        "        return result"
      ],
      "metadata": {
        "id": "Kpu1AlMvzFWG"
      },
      "execution_count": 10,
      "outputs": []
    },
    {
      "cell_type": "code",
      "source": [
        "#test_case_1\n",
        "root = TreeNode(1, None, TreeNode(2, TreeNode(3), None))\n",
        "expected = [1, 3, 2]\n",
        "actual = Solution().inorderTraversal(root)\n",
        "assert actual==expected, \"Mistake in test case 1\"\n",
        "print('OK')"
      ],
      "metadata": {
        "colab": {
          "base_uri": "https://localhost:8080/",
          "height": 0
        },
        "id": "5tK8Eg7skAxo",
        "outputId": "31e00f06-f5a5-4d86-91b5-824be194a9c1"
      },
      "execution_count": 11,
      "outputs": [
        {
          "output_type": "stream",
          "name": "stdout",
          "text": [
            "OK\n"
          ]
        }
      ]
    },
    {
      "cell_type": "markdown",
      "source": [
        "### Write analysis of the Memory Complexity and Time Complexity using Asymptotic Notation O. (1 point)\n",
        "\n",
        "Memory Analysis: O(h), where h is height of tree\n",
        "\n",
        "Time Analysis: O(n)\n"
      ],
      "metadata": {
        "id": "geHHGaR_0bA6"
      }
    },
    {
      "cell_type": "markdown",
      "source": [
        "## Task 3. Solve the problem \"PostOrder Traversal\" from https://leetcode.com/problems/binary-tree-postorder-traversal/ using Python3.\n",
        "\n",
        "Use the box below, to paste the working code. The format of the code should be identical to LeetCode platform. (4 points)"
      ],
      "metadata": {
        "id": "1d0Z9EaVV4LO"
      }
    },
    {
      "cell_type": "code",
      "source": [
        "from typing import Optional, List\n",
        "\n",
        "class TreeNode:\n",
        "    def __init__(self, val=0, left=None, right=None):\n",
        "        self.val = val\n",
        "        self.left = left\n",
        "        self.right = right\n",
        "\n",
        "class Solution:\n",
        "    def postorderTraversal(self, root: Optional[TreeNode]) -> List[int]:\n",
        "        result = []\n",
        "        def helper(root):\n",
        "            if root:\n",
        "                helper(root.left)\n",
        "                helper(root.right)\n",
        "                result.append(root.val)\n",
        "        helper(root)\n",
        "        return result"
      ],
      "metadata": {
        "id": "3ozlySzhV2tG"
      },
      "execution_count": 12,
      "outputs": []
    },
    {
      "cell_type": "code",
      "source": [
        "#test_case_1\n",
        "root = TreeNode(1, None, TreeNode(2, TreeNode(3), None))\n",
        "expected = [3, 2, 1]\n",
        "actual = Solution().postorderTraversal(root)\n",
        "assert actual==expected, \"Mistake in test case 1\"\n",
        "print('OK')"
      ],
      "metadata": {
        "id": "io1qIqgolllc",
        "colab": {
          "base_uri": "https://localhost:8080/",
          "height": 0
        },
        "outputId": "aa83721c-de98-43b9-ee76-893e5aa87a84"
      },
      "execution_count": 13,
      "outputs": [
        {
          "output_type": "stream",
          "name": "stdout",
          "text": [
            "OK\n"
          ]
        }
      ]
    },
    {
      "cell_type": "markdown",
      "source": [
        "### Write analysis of the Memory Complexity and Time Complexity using Asymptotic Notation O. (1 point)\n",
        "\n",
        "Memory Analysis: O(h), where h is height of tree\n",
        "\n",
        "Time Analysis: O(n)\n"
      ],
      "metadata": {
        "id": "frm9pzKDWy5G"
      }
    }
  ]
}