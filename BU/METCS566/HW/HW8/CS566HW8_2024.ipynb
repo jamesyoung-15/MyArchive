{
  "nbformat": 4,
  "nbformat_minor": 0,
  "metadata": {
    "colab": {
      "provenance": []
    },
    "kernelspec": {
      "name": "python3",
      "display_name": "Python 3"
    },
    "language_info": {
      "name": "python"
    }
  },
  "cells": [
    {
      "cell_type": "markdown",
      "source": [
        "## Lab 8. Introduction to algorithms\n",
        "\n",
        "This is eight homework for CS 566."
      ],
      "metadata": {
        "id": "J9NVY1MMJaE7"
      }
    },
    {
      "cell_type": "markdown",
      "source": [
        "## Task 1. Solve the problem \"Coin Change\" from https://leetcode.com/problems/coin-change/description/ using Python3.\n",
        "\n",
        "Use the box below, to paste the working code. The format of the code should be identical to LeetCode platform. (4 points)"
      ],
      "metadata": {
        "id": "TQr2kPMiJ18g"
      }
    },
    {
      "cell_type": "code",
      "source": [
        "import sys\n",
        "from typing import List\n",
        "\n",
        "class Solution:\n",
        "    def coinChange(self, coins: List[int], amount: int) -> int:\n",
        "        MAX = amount+1\n",
        "        dp = [MAX] * MAX\n",
        "        dp[0] = 0\n",
        "\n",
        "        for a in range(1, amount+1):\n",
        "            for c in coins:\n",
        "                if a-c>=0:\n",
        "                    dp[a] = min(dp[a],1+dp[a-c])\n",
        "        # print(dp)\n",
        "\n",
        "        if dp[amount] != amount+1:\n",
        "            return dp[amount]\n",
        "        else:\n",
        "            return -1"
      ],
      "metadata": {
        "id": "2lvL-OnWJ2lm"
      },
      "execution_count": 1,
      "outputs": []
    },
    {
      "cell_type": "markdown",
      "source": [
        "### Do not modify the testing code below. If you get message \"Mistake in test case #\", it means that you algorithm is incorrect."
      ],
      "metadata": {
        "id": "euoN0SF1Kaew"
      }
    },
    {
      "cell_type": "code",
      "source": [
        "#test_case_1\n",
        "coins = [1,2,5]\n",
        "amount = 11\n",
        "actual = Solution().coinChange(coins, amount)\n",
        "expected = 3\n",
        "assert actual==expected, \"Mistake in test case 1\"\n",
        "print(\"OK\")"
      ],
      "metadata": {
        "id": "FXuKwq8FJ7wq",
        "colab": {
          "base_uri": "https://localhost:8080/",
          "height": 0
        },
        "outputId": "d1f65606-014d-4942-8cd0-54dd843e9e6e"
      },
      "execution_count": 2,
      "outputs": [
        {
          "output_type": "stream",
          "name": "stdout",
          "text": [
            "OK\n"
          ]
        }
      ]
    },
    {
      "cell_type": "markdown",
      "source": [
        "### Write analysis of the Memory Complexity and Time Complexity using Aymptotic Notation O. (1 point)\n",
        "\n",
        "Memory Analysis: O(m), where n is number of coins and m is amount\n",
        "\n",
        "Time Analysis: O(n*m), where n is number of coins and m is amount"
      ],
      "metadata": {
        "id": "eWtUdlZULoyd"
      }
    },
    {
      "cell_type": "markdown",
      "source": [
        "## Task 2. Solve the problem \"Longest Increasing Subsequence\" from https://leetcode.com/problems/longest-increasing-subsequence/description/ using Python3.\n",
        "\n",
        "Use the box below, to paste the working code. The format of the code should be identical to LeetCode platform. (4 points)"
      ],
      "metadata": {
        "id": "IKSo3QbF42QL"
      }
    },
    {
      "cell_type": "code",
      "source": [
        "class Solution:\n",
        "    def lengthOfLIS(self, nums: List[int]) -> int:\n",
        "        dp = [1] * len(nums)\n",
        "        for i in range(1, len(nums)):\n",
        "            for j in range(0, i):\n",
        "                if nums[j] < nums[i]:\n",
        "                    dp[i] = max(dp[i], 1+dp[j])\n",
        "        return max(dp)"
      ],
      "metadata": {
        "id": "_J2StfIb5TqF"
      },
      "execution_count": 9,
      "outputs": []
    },
    {
      "cell_type": "code",
      "source": [
        "nums = [10,9,2,5,3,7,101,18]\n",
        "expected = 4\n",
        "actual = Solution().lengthOfLIS(nums)\n",
        "assert expected == actual, \"Mistake in test case 1\"\n",
        "print(\"OK\")"
      ],
      "metadata": {
        "colab": {
          "base_uri": "https://localhost:8080/",
          "height": 0
        },
        "id": "2k1p0PFY5g-p",
        "outputId": "5a9a6a7b-a6a7-4f75-e0b9-fac712c5e370"
      },
      "execution_count": 10,
      "outputs": [
        {
          "output_type": "stream",
          "name": "stdout",
          "text": [
            "OK\n"
          ]
        }
      ]
    },
    {
      "cell_type": "markdown",
      "source": [
        "### Write analysis of the Memory Complexity and Time Complexity using Asymptotic Notation O. (1 point)\n",
        "\n",
        "Memory Analysis: O(n)\n",
        "\n",
        "Time Analysis: O(n^2)\n"
      ],
      "metadata": {
        "id": "E1PuVdE66TK5"
      }
    },
    {
      "cell_type": "markdown",
      "source": [
        "### Theoretical Question.\n",
        "\n",
        "\n",
        "Design $O(n^2)$-time algorithm to find the longest monotonically increasing subsequence (LIS) of a sequence of $n$ numbers. Use the convention from the textbook:\n",
        "\n",
        "- Define DP State\n",
        "- Define Transition\n",
        "- Define Initialization\n",
        "\n",
        "Prove that your complexity is indeed $O(n^2)$"
      ],
      "metadata": {
        "id": "xCpD2mJ8JU1p"
      }
    },
    {
      "cell_type": "markdown",
      "source": [
        "## DP State:\n",
        "\n",
        "We have array $dp$, where $dp[i]$ represents the length of longest increasing subsequence that ends with the element at index $i$ in the sequence.\n",
        "\n",
        "## Transition:\n",
        "\n",
        "Use nested for loop, where outer for loop $i$ goes through 2nd element to end and inner loop $j$ goes through all previous elements before $i$.\n",
        "\n",
        "If the current element $numbers[i]$ is greater than a previous element $numbers[j]$, we can extend the increasing subsequence ending at $j$ by including $i$. In other words, if $numbers[j] \\lt numbers[i]$, then $dp[i] = max(dp[i], dp[j]+1)$.\n",
        "\n",
        "## Initialization:\n",
        "\n",
        "dp = [1] * n\n",
        "\n",
        "## Algorithm\n",
        "\n",
        "See above problem 2\n",
        "\n",
        "## Proof of $O(n^2)$\n",
        "\n",
        "The outer loop runs n times, and the inner loop runs at most n-1 times. Hence worst case of running n*(n-1) times, we get O(n^2) time complexity."
      ],
      "metadata": {
        "id": "56sykjvvRUfL"
      }
    }
  ]
}