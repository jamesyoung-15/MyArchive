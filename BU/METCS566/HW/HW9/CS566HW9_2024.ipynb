{
  "nbformat": 4,
  "nbformat_minor": 0,
  "metadata": {
    "colab": {
      "provenance": []
    },
    "kernelspec": {
      "name": "python3",
      "display_name": "Python 3"
    },
    "language_info": {
      "name": "python"
    }
  },
  "cells": [
    {
      "cell_type": "markdown",
      "source": [
        "## HW 9. Introduction to algorithms\n",
        "\n",
        "This is ninth Homework for CS 566. This problem was given in lecture."
      ],
      "metadata": {
        "id": "J9NVY1MMJaE7"
      }
    },
    {
      "cell_type": "markdown",
      "source": [
        "## Task 1. Solve the problem \"MinCost Climbing Stairs\" from https://leetcode.com/problems/min-cost-climbing-stairs/description/ using Python3.\n",
        "\n",
        "Use the box below, to paste the working code. The format of the code should be identical to LeetCode platform. (4 points)"
      ],
      "metadata": {
        "id": "TQr2kPMiJ18g"
      }
    },
    {
      "cell_type": "code",
      "source": [
        "from typing import List\n",
        "class Solution:\n",
        "    def minCostClimbingStairs(self, cost: List[int]) -> int:\n",
        "        d1, d2 = 0,0\n",
        "        for i in range(len(cost)):\n",
        "            temp = cost[i] + min(d1,d2)\n",
        "            d2 = d1\n",
        "            d1 = temp\n",
        "        return min(d1,d2)"
      ],
      "metadata": {
        "id": "2lvL-OnWJ2lm"
      },
      "execution_count": 9,
      "outputs": []
    },
    {
      "cell_type": "markdown",
      "source": [
        "### Do not modify the testing code below. If you get message \"Mistake in test case #\", it means that you algorithm is incorrect."
      ],
      "metadata": {
        "id": "euoN0SF1Kaew"
      }
    },
    {
      "cell_type": "code",
      "source": [
        "#test_case_1\n",
        "nums = [10, 15, 20]\n",
        "expected = 15\n",
        "actual = Solution().minCostClimbingStairs(nums)\n",
        "assert actual==expected, \"Mistake in test case 1\"\n",
        "print(\"OK\")"
      ],
      "metadata": {
        "id": "FXuKwq8FJ7wq",
        "colab": {
          "base_uri": "https://localhost:8080/",
          "height": 0
        },
        "outputId": "5a271955-a22d-4bad-ea32-e4d4e4f97fed"
      },
      "execution_count": 10,
      "outputs": [
        {
          "output_type": "stream",
          "name": "stdout",
          "text": [
            "OK\n"
          ]
        }
      ]
    },
    {
      "cell_type": "markdown",
      "source": [
        "### Write analysis of the Memory Complexity and Time Complexity using Aymptotic Notation O. (1 point)\n",
        "\n",
        "Memory Analysis: O(1)\n",
        "\n",
        "Time Analysis: O(n)"
      ],
      "metadata": {
        "id": "eWtUdlZULoyd"
      }
    },
    {
      "cell_type": "markdown",
      "source": [
        "## Task 2. Solve the problem \"Longest Palyndromic Subsequence\" from https://leetcode.com/problems/longest-palindromic-subsequence/description/ using Python3.\n",
        "\n",
        "Use the box below, to paste the working code. The format of the code should be identical to LeetCode platform. (4 points)"
      ],
      "metadata": {
        "id": "VWz-SXYXyO4m"
      }
    },
    {
      "cell_type": "code",
      "source": [
        "class Solution:\n",
        "    def longestPalindromeSubseq(self, s: str) -> int:\n",
        "        # bottom up\n",
        "        n = len(s)\n",
        "        dp = [[0] * n for i in range(n)]\n",
        "        for i in range(n - 1, -1, -1):\n",
        "            dp[i][i] = 1\n",
        "            for j in range(i+1, n):\n",
        "                if s[i] == s[j]:\n",
        "                    dp[i][j] = dp[i + 1][j - 1] + 2\n",
        "                else:\n",
        "                    dp[i][j] = max(dp[i + 1][j], dp[i][j - 1])\n",
        "\n",
        "        return dp[0][n - 1]"
      ],
      "metadata": {
        "id": "Kpu1AlMvzFWG"
      },
      "execution_count": 11,
      "outputs": []
    },
    {
      "cell_type": "code",
      "source": [
        "#test_case_1\n",
        "s = \"bbbab\"\n",
        "expected = 4\n",
        "actual = Solution().longestPalindromeSubseq(s)\n",
        "assert actual==expected, \"Mistake in test case 1\"\n",
        "print('OK')"
      ],
      "metadata": {
        "colab": {
          "base_uri": "https://localhost:8080/",
          "height": 0
        },
        "id": "5tK8Eg7skAxo",
        "outputId": "27ab0067-c2be-4de5-aea5-bd8b4dc24838"
      },
      "execution_count": 12,
      "outputs": [
        {
          "output_type": "stream",
          "name": "stdout",
          "text": [
            "OK\n"
          ]
        }
      ]
    },
    {
      "cell_type": "markdown",
      "source": [
        "### Write analysis of the Memory Complexity and Time Complexity using Asymptotic Notation O. (1 point)\n",
        "\n",
        "Memory Analysis: O(n^2)\n",
        "\n",
        "Time Analysis: O(n^2)\n"
      ],
      "metadata": {
        "id": "geHHGaR_0bA6"
      }
    },
    {
      "cell_type": "markdown",
      "source": [
        "### Task 3. Theoretical Question (5 points)\n",
        "\n",
        "As we have seen on the lecture about Amortized Analysis, the total cost for Table-Insert is $\\leq 3*n$.\n",
        "\n",
        "![image.png](data:image/png;base64,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)"
      ],
      "metadata": {
        "id": "hKjFCfygv1gm"
      }
    },
    {
      "cell_type": "markdown",
      "source": [
        "Your task is to proove that: $$\\sum_{j=0}^{lgn} 2^j ≤ 2*n$$\n",
        "\n",
        "Hint: use school math"
      ],
      "metadata": {
        "id": "9LFW8EmLwQZR"
      }
    },
    {
      "cell_type": "markdown",
      "source": [
        "#### My Answer"
      ],
      "metadata": {
        "id": "edJIhhAX__fN"
      }
    },
    {
      "cell_type": "markdown",
      "source": [
        "Start with by calculating the left-hand side:\n",
        "\n",
        "$\\sum_{j=0}^{k} 2^j$\n",
        "\n",
        "which is a geometric series:\n",
        "\n",
        "$= \\frac{1(2^{k+1} - 1)}{2 - 1} = 2^{k+1} - 1.$\n",
        "\n",
        "For $( k = \\log n )$, this becomes:\n",
        "\n",
        "$\\sum_{j=0}^{\\log n} 2^j$\n",
        "\n",
        "$= 2^{\\log n + 1} - 1$\n",
        "\n",
        "$= 2 \\cdot 2^{\\log n} - 1$\n",
        "\n",
        "$= 2n - 1.$\n",
        "\n",
        "Since:\n",
        "\n",
        "$2n - 1 \\leq 2n.$\n",
        "\n",
        "Thus, we conclude that:\n",
        "\n",
        "$\\sum_{j=0}^{\\log n} 2^j \\leq 2n.$"
      ],
      "metadata": {
        "id": "gKifqNGwC2TG"
      }
    },
    {
      "cell_type": "markdown",
      "source": [
        "### Task 4. Theoretical Question. (5 points)\n",
        "\n",
        "In standard Python `List` the reallocation is done with formula $$\\text{new_capacity} = \\text{current_capacity} * 2$$\n",
        "\n",
        " This leads to O(1) amortized cost on operation insert (proven on lecture with accounting method).\n",
        "\n",
        "Let's suppose we created new programming language where the reallocation is done via different formula, and we want to analyze it.\n",
        "\n",
        "Find the amortized cost on operation insert if reallocation formula becomes \"fibbonachi reallocation\" where instead of factor $2$ we use golden ratio:\n",
        "$$\\text{new_capacity} = \\text{current_capacity} * \\phi$$\n",
        "$$\\phi = \\frac{1 + \\sqrt5}{2}$$\n",
        "\n",
        "\n",
        "You need to no just find amortized cost on insert operation, but also proove it like we did on the lecture.\n",
        "\n",
        "P.S. Once you find the answer, you will be able to understand better how Java, for example, behaves during reallocation. The formula for reallocation for Java `ArrayList` (Python equivalent for `List`) is:\n",
        "\n",
        "$$\\text{new_capacity} = \\text{current_capacity} * 1.5$$"
      ],
      "metadata": {
        "id": "Cnbb3QKkwV72"
      }
    },
    {
      "cell_type": "markdown",
      "source": [
        "#### My Answer"
      ],
      "metadata": {
        "id": "zgS83UHKBiWZ"
      }
    },
    {
      "cell_type": "markdown",
      "source": [
        "Using accounting method, where $C$ is current capacity, $n$ is current array size, and $\\phi$ is golden ratio:\n",
        "\n",
        "**Cost Assignment**:\n",
        "   - **Inserting Without Resizing**:\n",
        "     - Actual Cost: $ O(1) $.\n",
        "     - Amortized Cost: Assign $2$ credits per insertion, leaving $ 1 $ credit after the operation.\n",
        "   - **Inserting With Resizing**:\n",
        "     - Total Actual Cost: $ O(n) $ (for copying $ n $ elements and inserting).\n",
        "     - Accumulated credits before resizing: $ 2n $ (from previous insertions).\n",
        "\n",
        "**Credit Usage During Resizing**:\n",
        "   - When resizing, we can cover the $ O(n) $ cost using the $ 2n $ credits accumulated from earlier operations.\n",
        "   - The amortized cost during resizing remains balanced:\n",
        "\n",
        "   Amortized Cost $= Actual Cost - Credits Used = O(n) - O(n) = O(1)$.\n",
        "\n",
        "So since regular insertions and resizing insertions amortized cost is $O(1)$ the total amortized cost is $O(1)$\n",
        "\n",
        "\n"
      ],
      "metadata": {
        "id": "P_dNqDN2C5xP"
      }
    }
  ]
}