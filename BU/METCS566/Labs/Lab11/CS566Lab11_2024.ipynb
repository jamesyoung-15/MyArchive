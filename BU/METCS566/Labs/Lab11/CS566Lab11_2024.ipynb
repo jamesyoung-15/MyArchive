{
  "nbformat": 4,
  "nbformat_minor": 0,
  "metadata": {
    "colab": {
      "provenance": []
    },
    "kernelspec": {
      "name": "python3",
      "display_name": "Python 3"
    },
    "language_info": {
      "name": "python"
    }
  },
  "cells": [
    {
      "cell_type": "markdown",
      "source": [
        "## Lab 11. Introduction to algorithms\n",
        "\n",
        "This is Eleventh Lab for CS 566. This problem was given in lecture."
      ],
      "metadata": {
        "id": "J9NVY1MMJaE7"
      }
    },
    {
      "cell_type": "markdown",
      "source": [
        "## Task 1. Solve the problem \"Number of provinces\" from https://leetcode.com/problems/number-of-provinces/ using Python3.\n",
        "\n",
        "Use the box below, to paste the working code. The format of the code should be identical to LeetCode platform. (4 points)"
      ],
      "metadata": {
        "id": "TQr2kPMiJ18g"
      }
    },
    {
      "cell_type": "code",
      "source": [
        "from typing import Optional, List\n",
        "\n",
        "class Solution:\n",
        "    def findCircleNum(self, isConnected: List[List[int]]) -> int:\n",
        "        n = len(isConnected)\n",
        "        visited = set()\n",
        "\n",
        "        def dfs(node):\n",
        "            connections = isConnected[node]\n",
        "            visited.add(node)\n",
        "            for city_j in range(n):\n",
        "                if (city_j not in visited) and (connections[city_j] == 1) and (node != city_j):\n",
        "                    dfs(city_j)\n",
        "            return\n",
        "\n",
        "        num_provinces = 0\n",
        "        for i in range(n):\n",
        "            if i not in visited:\n",
        "                dfs(i)\n",
        "                num_provinces += 1\n",
        "\n",
        "        return num_provinces"
      ],
      "metadata": {
        "id": "2lvL-OnWJ2lm"
      },
      "execution_count": 1,
      "outputs": []
    },
    {
      "cell_type": "markdown",
      "source": [
        "### Do not modify the testing code below. If you get message \"Mistake in test case #\", it means that you algorithm is incorrect."
      ],
      "metadata": {
        "id": "euoN0SF1Kaew"
      }
    },
    {
      "cell_type": "code",
      "source": [
        "#test_case_1\n",
        "height = [[1,1,0],[1,1,0],[0,0,1]]\n",
        "expected = 2\n",
        "actual = Solution().findCircleNum(height)\n",
        "assert actual==expected, \"Mistake in test case 1\"\n",
        "\n",
        "height = [[1,0,0],[0,1,0],[0,0,1]]\n",
        "expected = 3\n",
        "actual = Solution().findCircleNum(height)\n",
        "assert actual==expected, \"Mistake in test case 1\"\n",
        "\n",
        "print(\"OK\")"
      ],
      "metadata": {
        "id": "FXuKwq8FJ7wq",
        "colab": {
          "base_uri": "https://localhost:8080/"
        },
        "outputId": "34ec51a5-9c88-482b-b3ad-23954f4755b0"
      },
      "execution_count": 2,
      "outputs": [
        {
          "output_type": "stream",
          "name": "stdout",
          "text": [
            "OK\n"
          ]
        }
      ]
    },
    {
      "cell_type": "markdown",
      "source": [
        "### Write analysis of the Memory Complexity and Time Complexity using Aymptotic Notation O. (1 point)\n",
        "\n",
        "Memory Analysis: O(n)\n",
        "\n",
        "Time Analysis: O(n^2)"
      ],
      "metadata": {
        "id": "eWtUdlZULoyd"
      }
    },
    {
      "cell_type": "markdown",
      "source": [
        "## Task 2. Solve the problem \"Course Schedule\" from https://leetcode.com/problems/course-schedule/description/ using Python3.\n",
        "\n",
        "Use the box below, to paste the working code. The format of the code should be identical to LeetCode platform. (4 points)"
      ],
      "metadata": {
        "id": "IKSo3QbF42QL"
      }
    },
    {
      "cell_type": "code",
      "source": [
        "class Solution:\n",
        "    def canFinish(self, numCourses: int, prerequisites: List[List[int]]) -> bool:\n",
        "        graph = [[] for i in range(numCourses)]\n",
        "        visited = [0 for i in range(numCourses)]\n",
        "\n",
        "        def dfs(graph,visited,i):\n",
        "            if visited[i] == -1:\n",
        "                return False\n",
        "            if visited[i] == 1:\n",
        "                return True\n",
        "            visited[i] = -1\n",
        "            for j in graph[i]:\n",
        "                if not dfs(graph, visited, j):\n",
        "                    return False\n",
        "            visited[i] = 1\n",
        "            return True\n",
        "\n",
        "        for pair in prerequisites:\n",
        "            x, y = pair\n",
        "            graph[x].append(y)\n",
        "        for i in range(numCourses):\n",
        "            if not dfs(graph, visited, i):\n",
        "                return False\n",
        "        return True"
      ],
      "metadata": {
        "id": "_J2StfIb5TqF"
      },
      "execution_count": 3,
      "outputs": []
    },
    {
      "cell_type": "code",
      "source": [
        "#test_case_1\n",
        "numCourses = 2\n",
        "prerequisites = [[1,0]]\n",
        "expected = True\n",
        "actual = Solution().canFinish(numCourses, prerequisites)\n",
        "assert actual==expected, \"Mistake in test case 1\"\n",
        "\n",
        "#test_case_2\n",
        "numCourses = 2\n",
        "prerequisites = [[1,0],[0,1]]\n",
        "expected = False\n",
        "actual = Solution().canFinish(numCourses, prerequisites)\n",
        "assert actual==expected, \"Mistake in test case 2\"\n",
        "\n",
        "print('OK')"
      ],
      "metadata": {
        "colab": {
          "base_uri": "https://localhost:8080/"
        },
        "id": "2k1p0PFY5g-p",
        "outputId": "4961c58d-f554-41d9-9453-3defe568093f"
      },
      "execution_count": 4,
      "outputs": [
        {
          "output_type": "stream",
          "name": "stdout",
          "text": [
            "OK\n"
          ]
        }
      ]
    },
    {
      "cell_type": "markdown",
      "source": [
        "### Write analysis of the Memory Complexity and Time Complexity using Asymptotic Notation O. (1 point)\n",
        "\n",
        "Memory Analysis: O(m+n)\n",
        "\n",
        "Time Analysis: O(m+n)\n"
      ],
      "metadata": {
        "id": "E1PuVdE66TK5"
      }
    },
    {
      "cell_type": "markdown",
      "source": [
        "## Task 3. Solve the problem \"Min Cost To Connect All Points\" from https://leetcode.com/problems/min-cost-to-connect-all-points/ using Python3.\n",
        "\n",
        "Use the box below, to paste the working code. The format of the code should be identical to LeetCode platform. (4 points)"
      ],
      "metadata": {
        "id": "VWz-SXYXyO4m"
      }
    },
    {
      "cell_type": "code",
      "source": [
        "class Solution:\n",
        "    def minCostConnectPoints(self, points: List[List[int]]) -> int:\n",
        "        n = len(points)\n",
        "        graph = [[0] * n for i in range(n)]\n",
        "\n",
        "\n",
        "        for i, (x1, y1) in enumerate(points):\n",
        "            for j in range(i+1, n):\n",
        "                x2, y2 = points[j]\n",
        "                distance = abs(x1 - x2) + abs(y1 - y2)\n",
        "                graph[i][j] = graph[j][i] = distance\n",
        "\n",
        "        # print(graph)\n",
        "\n",
        "        visited = [False] * n\n",
        "        distances = [float('inf')] * n\n",
        "        distances[0] = 0\n",
        "\n",
        "        min_cost = 0\n",
        "\n",
        "        for i in range(n):\n",
        "            i = -1\n",
        "            for j in range(n):\n",
        "                if not visited[j] and (i == -1 or distances[j] < distances[i]):\n",
        "                    i = j\n",
        "\n",
        "            visited[i] = True\n",
        "            min_cost += distances[i]\n",
        "            for j in range(n):\n",
        "                if not visited[j]:\n",
        "                    distances[j] = min(distances[j], graph[i][j])\n",
        "\n",
        "        return min_cost"
      ],
      "metadata": {
        "id": "Kpu1AlMvzFWG"
      },
      "execution_count": 5,
      "outputs": []
    },
    {
      "cell_type": "code",
      "source": [
        "#test_case_1\n",
        "prices = [[0,0],[2,2],[3,10],[5,2],[7,0]]\n",
        "expected = 20\n",
        "actual = Solution().minCostConnectPoints(prices)\n",
        "assert actual==expected, \"Mistake in test case 1\"\n",
        "\n",
        "prices = [[3,12],[-2,5],[-4,1]]\n",
        "expected = 18\n",
        "actual = Solution().minCostConnectPoints(prices)\n",
        "assert actual==expected, \"Mistake in test case 2\"\n",
        "\n",
        "print('OK')"
      ],
      "metadata": {
        "colab": {
          "base_uri": "https://localhost:8080/"
        },
        "id": "5tK8Eg7skAxo",
        "outputId": "ad6e945d-a3a5-4ce8-b630-9c8491423e8a"
      },
      "execution_count": 6,
      "outputs": [
        {
          "output_type": "stream",
          "name": "stdout",
          "text": [
            "OK\n"
          ]
        }
      ]
    },
    {
      "cell_type": "markdown",
      "source": [
        "### Write analysis of the Memory Complexity and Time Complexity using Asymptotic Notation O. (1 point)\n",
        "\n",
        "Memory Analysis: O(n^2)\n",
        "\n",
        "Time Analysis: O(n^2)\n"
      ],
      "metadata": {
        "id": "geHHGaR_0bA6"
      }
    }
  ]
}