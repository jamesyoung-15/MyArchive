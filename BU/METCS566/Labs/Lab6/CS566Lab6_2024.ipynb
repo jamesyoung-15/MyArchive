{
  "nbformat": 4,
  "nbformat_minor": 0,
  "metadata": {
    "colab": {
      "provenance": []
    },
    "kernelspec": {
      "name": "python3",
      "display_name": "Python 3"
    },
    "language_info": {
      "name": "python"
    }
  },
  "cells": [
    {
      "cell_type": "markdown",
      "source": [
        "## Lab 5. Introduction to algorithms\n",
        "\n",
        "This is firth Lab for CS 566. This problem was given in lecture."
      ],
      "metadata": {
        "id": "J9NVY1MMJaE7"
      }
    },
    {
      "cell_type": "markdown",
      "source": [
        "## Task 1. Solve the problem \"Binary Search\" from https://leetcode.com/problems/binary-search/description/ using Python3.\n",
        "\n",
        "Use the box below, to paste the working code. The format of the code should be identical to LeetCode platform. (4 points)"
      ],
      "metadata": {
        "id": "TQr2kPMiJ18g"
      }
    },
    {
      "cell_type": "code",
      "source": [
        "from typing import List\n",
        "\n",
        "class Solution:\n",
        "    def search(self, nums: List[int], target: int) -> int:\n",
        "        left, right = 0, len(nums)-1\n",
        "        while left<=right:\n",
        "            mid = left+(right-left)//2\n",
        "            if nums[mid] == target:\n",
        "                return mid\n",
        "            elif target>nums[mid]:\n",
        "                left = mid+1\n",
        "            else:\n",
        "                right = mid - 1\n",
        "        return -1"
      ],
      "metadata": {
        "id": "2lvL-OnWJ2lm"
      },
      "execution_count": 3,
      "outputs": []
    },
    {
      "cell_type": "markdown",
      "source": [
        "### Do not modify the testing code below. If you get message \"Mistake in test case #\", it means that you algorithm is incorrect."
      ],
      "metadata": {
        "id": "euoN0SF1Kaew"
      }
    },
    {
      "cell_type": "code",
      "source": [
        "#test_case_1\n",
        "nums = [-1,0,3,5,9,12]\n",
        "target, expected = 9, 4\n",
        "actual = Solution().search(nums, target)\n",
        "assert actual==expected, \"Mistake in test case 1\"\n",
        "\n",
        "#test_case_2\n",
        "nums = [-1,0,3,5,9,12]\n",
        "target, expected = 11, -1\n",
        "actual = Solution().search(nums, target)\n",
        "assert actual==expected, \"Mistake in test case 2\"\n",
        "print('OK')"
      ],
      "metadata": {
        "id": "FXuKwq8FJ7wq",
        "colab": {
          "base_uri": "https://localhost:8080/"
        },
        "outputId": "13570a85-18f0-4dd9-fa68-b3db44f94e93"
      },
      "execution_count": 4,
      "outputs": [
        {
          "output_type": "stream",
          "name": "stdout",
          "text": [
            "OK\n"
          ]
        }
      ]
    },
    {
      "cell_type": "markdown",
      "source": [
        "### Write analysis of the Memory Complexity and Time Complexity using Aymptotic Notation O. (1 point)\n",
        "\n",
        "Memory Analysis: O(1)\n",
        "\n",
        "Time Analysis: O(logn)"
      ],
      "metadata": {
        "id": "eWtUdlZULoyd"
      }
    },
    {
      "cell_type": "markdown",
      "source": [
        "## Task 2. Solve the problem \"Find minimum in rotated sorted array\" from https://leetcode.com/problems/find-minimum-in-rotated-sorted-array/description/ using Python3.\n",
        "\n",
        "Use the box below, to paste the working code. The format of the code should be identical to LeetCode platform. (4 points)"
      ],
      "metadata": {
        "id": "VWz-SXYXyO4m"
      }
    },
    {
      "cell_type": "code",
      "source": [
        "class Solution:\n",
        "    def findMin(self, nums: List[int]) -> int:\n",
        "        left, right = 0, len(nums)-1\n",
        "        while left<right:\n",
        "            mid = left+(right-left)//2\n",
        "            if nums[mid]>nums[right]:\n",
        "                left = mid + 1\n",
        "            else:\n",
        "                right = mid\n",
        "        return nums[left]"
      ],
      "metadata": {
        "id": "Kpu1AlMvzFWG"
      },
      "execution_count": 7,
      "outputs": []
    },
    {
      "cell_type": "code",
      "source": [
        "#test_case_1\n",
        "expected, nums = 1, [3,4,5,1,2]\n",
        "actual = Solution().findMin(nums)\n",
        "assert expected == actual, \"Mistake in test case 1\"\n",
        "\n",
        "expected, nums = 0, [4,5,6,7,0,1,2]\n",
        "actual = Solution().findMin(nums)\n",
        "assert expected==actual, \"Mistake in test case 2\"\n",
        "expected, nums = 11, [11,13,15,17]\n",
        "actual = Solution().findMin(nums)\n",
        "assert expected==actual, \"Mistake in test case 3\"\n",
        "\n",
        "print('OK')"
      ],
      "metadata": {
        "colab": {
          "base_uri": "https://localhost:8080/"
        },
        "id": "5tK8Eg7skAxo",
        "outputId": "b8b7f4c2-ce70-4086-f0f2-47c624240692"
      },
      "execution_count": 8,
      "outputs": [
        {
          "output_type": "stream",
          "name": "stdout",
          "text": [
            "OK\n"
          ]
        }
      ]
    },
    {
      "cell_type": "markdown",
      "source": [
        "### Write analysis of the Memory Complexity and Time Complexity using Asymptotic Notation O. (1 point)\n",
        "\n",
        "Memory Analysis: O(1)\n",
        "\n",
        "Time Analysis: O(logn)\n"
      ],
      "metadata": {
        "id": "geHHGaR_0bA6"
      }
    },
    {
      "cell_type": "markdown",
      "source": [
        "## Task 3. Solve the problem \"Search 2D Matrix\" from https://leetcode.com/problems/search-a-2d-matrix/description/ using Python3.\n",
        "\n",
        "Use the box below, to paste the working code. The format of the code should be identical to LeetCode platform. (4 points)"
      ],
      "metadata": {
        "id": "1d0Z9EaVV4LO"
      }
    },
    {
      "cell_type": "code",
      "source": [
        "class Solution:\n",
        "    def searchMatrix(self, matrix: List[List[int]], target: int) -> bool:\n",
        "        num_rows, num_cols = len(matrix), len(matrix[0])\n",
        "        # binary search to find if there is a row that is within target range\n",
        "        low, high = 0, num_rows - 1\n",
        "        target_row = 0\n",
        "        while low<=high:\n",
        "            mid_row = low + (high-low)//2\n",
        "            target_row = mid_row\n",
        "            if target>matrix[mid_row][-1]:\n",
        "                low = mid_row + 1\n",
        "            elif target<matrix[mid_row][0]:\n",
        "                high = mid_row - 1\n",
        "            else:\n",
        "                break\n",
        "        # if none of rows are within range, return false\n",
        "        if low>high:\n",
        "            return False\n",
        "\n",
        "        # binary search to find if the value exist in the row that the target falls within range\n",
        "        left, right = 0, num_cols - 1\n",
        "        while left<=right:\n",
        "            mid = left + (right-left)//2\n",
        "            x = matrix[target_row][mid]\n",
        "            if target == x:\n",
        "                return True\n",
        "            elif target>x:\n",
        "                left = mid + 1\n",
        "            elif target<x:\n",
        "                right = mid - 1\n",
        "        return False"
      ],
      "metadata": {
        "id": "3ozlySzhV2tG"
      },
      "execution_count": 9,
      "outputs": []
    },
    {
      "cell_type": "code",
      "source": [
        "#test_case_1\n",
        "expected, nums, target = True, [[1,3,5,7],[10,11,16,20],[23,30,34,60]], 3\n",
        "actual = Solution().searchMatrix(nums, target)\n",
        "assert expected == actual, \"Mistake in test case 1\"\n",
        "\n",
        "expected, nums, target = False, [[1,3,5,7],[10,11,16,20],[23,30,34,60]], 13\n",
        "actual = Solution().searchMatrix(nums, target)\n",
        "assert expected==actual, \"Mistake in test case 2\"\n",
        "\n",
        "print('OK')"
      ],
      "metadata": {
        "id": "io1qIqgolllc",
        "colab": {
          "base_uri": "https://localhost:8080/"
        },
        "outputId": "04b075fc-93a1-43d5-84fd-197fb24bfbc9"
      },
      "execution_count": 10,
      "outputs": [
        {
          "output_type": "stream",
          "name": "stdout",
          "text": [
            "OK\n"
          ]
        }
      ]
    },
    {
      "cell_type": "markdown",
      "source": [
        "### Write analysis of the Memory Complexity and Time Complexity using Asymptotic Notation O. (1 point)\n",
        "\n",
        "Memory Analysis: O(1)\n",
        "\n",
        "Time Analysis: O(log(n*m))\n"
      ],
      "metadata": {
        "id": "frm9pzKDWy5G"
      }
    }
  ]
}