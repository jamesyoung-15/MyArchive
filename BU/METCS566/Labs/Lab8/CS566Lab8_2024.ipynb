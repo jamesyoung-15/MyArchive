{
  "nbformat": 4,
  "nbformat_minor": 0,
  "metadata": {
    "colab": {
      "provenance": []
    },
    "kernelspec": {
      "name": "python3",
      "display_name": "Python 3"
    },
    "language_info": {
      "name": "python"
    }
  },
  "cells": [
    {
      "cell_type": "markdown",
      "source": [
        "## Lab 8. Introduction to algorithms\n",
        "\n",
        "This is eight\n",
        " Lab for CS 566. This problem was given in lecture."
      ],
      "metadata": {
        "id": "J9NVY1MMJaE7"
      }
    },
    {
      "cell_type": "markdown",
      "source": [
        "## Task 1. Solve the problem \"House Robber\" from https://leetcode.com/problems/house-robber/description/ using Python3.\n",
        "\n",
        "Use the box below, to paste the working code. The format of the code should be identical to LeetCode platform. (4 points)"
      ],
      "metadata": {
        "id": "TQr2kPMiJ18g"
      }
    },
    {
      "cell_type": "code",
      "source": [
        "from typing import Optional, List\n",
        "\n",
        "class Solution:\n",
        "    def rob(self, nums: List[int]) -> int:\n",
        "        h1, h2 = 0,0\n",
        "\n",
        "        for num in nums:\n",
        "            # print(h1+num,h2)\n",
        "            temp_max = max(h1+num, h2)\n",
        "            h1 = h2\n",
        "            h2 = temp_max\n",
        "        return h2\n"
      ],
      "metadata": {
        "id": "2lvL-OnWJ2lm"
      },
      "execution_count": 1,
      "outputs": []
    },
    {
      "cell_type": "markdown",
      "source": [
        "### Do not modify the testing code below. If you get message \"Mistake in test case #\", it means that you algorithm is incorrect."
      ],
      "metadata": {
        "id": "euoN0SF1Kaew"
      }
    },
    {
      "cell_type": "code",
      "source": [
        "#test_case_1\n",
        "nums = [1,2,3,1]\n",
        "expected = 4\n",
        "actual = Solution().rob(nums)\n",
        "assert actual==expected, \"Mistake in test case 1\"\n",
        "\n",
        "nums = [2,7,9,3,1]\n",
        "expected = 12\n",
        "actual = Solution().rob(nums)\n",
        "assert actual==expected, \"Mistake in test case 1\"\n",
        "\n",
        "print(\"OK\")"
      ],
      "metadata": {
        "id": "FXuKwq8FJ7wq",
        "colab": {
          "base_uri": "https://localhost:8080/"
        },
        "outputId": "b6c69aa4-7116-4841-e280-fe8684f811bd"
      },
      "execution_count": 2,
      "outputs": [
        {
          "output_type": "stream",
          "name": "stdout",
          "text": [
            "OK\n"
          ]
        }
      ]
    },
    {
      "cell_type": "markdown",
      "source": [
        "### Write analysis of the Memory Complexity and Time Complexity using Aymptotic Notation O. (1 point)\n",
        "\n",
        "Memory Analysis: O(1)\n",
        "\n",
        "Time Analysis: O(n)"
      ],
      "metadata": {
        "id": "eWtUdlZULoyd"
      }
    },
    {
      "cell_type": "markdown",
      "source": [
        "## Task 2. Solve the problem \"Delete and Earn\" from https://leetcode.com/problems/delete-and-earn/description/ using Python3.\n",
        "\n",
        "Use the box below, to paste the working code. The format of the code should be identical to LeetCode platform. (4 points)"
      ],
      "metadata": {
        "id": "IKSo3QbF42QL"
      }
    },
    {
      "cell_type": "code",
      "source": [
        "import collections\n",
        "\n",
        "class Solution(object):\n",
        "    def deleteAndEarn(self, nums):\n",
        "        # build hashmap of occurences first\n",
        "        hashmap = {}\n",
        "        for num in nums:\n",
        "            if num in hashmap:\n",
        "                hashmap[num] += 1\n",
        "            else:\n",
        "                hashmap[num] = 1\n",
        "        # sort list by unique elements\n",
        "        new_nums = sorted(list(set(nums)))\n",
        "        earn1, earn2 = 0,0\n",
        "        for i in range(len(new_nums)):\n",
        "            curr_earn = new_nums[i] * hashmap[new_nums[i]]\n",
        "            # print(curr_earn)\n",
        "            if i>0 and new_nums[i] == new_nums[i-1] + 1:\n",
        "                temp = earn2\n",
        "                earn2 = max(curr_earn+earn1, earn2)\n",
        "                earn1 = temp\n",
        "            else:\n",
        "                temp = earn2\n",
        "                earn2 = max(curr_earn+earn1, curr_earn+earn2)\n",
        "                earn1 = temp\n",
        "        return earn2"
      ],
      "metadata": {
        "id": "_J2StfIb5TqF"
      },
      "execution_count": 5,
      "outputs": []
    },
    {
      "cell_type": "code",
      "source": [
        "#test_case_1\n",
        "nums = [3,4,2]\n",
        "expected = 6\n",
        "actual = Solution().deleteAndEarn(nums)\n",
        "assert actual==expected, \"Mistake in test case 1\"\n",
        "\n",
        "#test_case_2\n",
        "nums = [2,2,3,3,3,4]\n",
        "expected = 9\n",
        "actual = Solution().deleteAndEarn(nums)\n",
        "assert actual==expected, \"Mistake in test case 2\"\n",
        "\n",
        "print('OK')"
      ],
      "metadata": {
        "colab": {
          "base_uri": "https://localhost:8080/"
        },
        "id": "2k1p0PFY5g-p",
        "outputId": "2e04b653-6693-408c-e900-777ffb23ed56"
      },
      "execution_count": 6,
      "outputs": [
        {
          "output_type": "stream",
          "name": "stdout",
          "text": [
            "OK\n"
          ]
        }
      ]
    },
    {
      "cell_type": "markdown",
      "source": [
        "### Write analysis of the Memory Complexity and Time Complexity using Asymptotic Notation O. (1 point)\n",
        "\n",
        "Memory Analysis: O(n)\n",
        "\n",
        "Time Analysis: O(n)\n"
      ],
      "metadata": {
        "id": "E1PuVdE66TK5"
      }
    },
    {
      "cell_type": "markdown",
      "source": [
        "## Task 3. Solve the problem \"Longest Common Subsequence\" from https://leetcode.com/problems/longest-common-subsequence/description/ using Python3.\n",
        "\n",
        "Use the box below, to paste the working code. The format of the code should be identical to LeetCode platform. (4 points)"
      ],
      "metadata": {
        "id": "VWz-SXYXyO4m"
      }
    },
    {
      "cell_type": "code",
      "source": [
        "class Solution:\n",
        "    def longestCommonSubsequence(self, text1: str, text2: str) -> int:\n",
        "        n, m = len(text1), len(text2)\n",
        "        dp = [[0]*(m+1) for i in range(n+1)]\n",
        "        for i in range(n-1,-1,-1):\n",
        "            for j in range(m-1,-1,-1):\n",
        "                if text1[i] == text2[j]:\n",
        "                    dp[i][j] = dp[i+1][j+1] + 1\n",
        "                else:\n",
        "                    dp[i][j] = max(dp[i][j+1],dp[i+1][j])\n",
        "\n",
        "        # for n in dp:\n",
        "            # print(n)\n",
        "\n",
        "\n",
        "        return dp[0][0]"
      ],
      "metadata": {
        "id": "Kpu1AlMvzFWG"
      },
      "execution_count": 7,
      "outputs": []
    },
    {
      "cell_type": "code",
      "source": [
        "#test_case_1\n",
        "text1 = \"abcde\"\n",
        "text2 = \"ace\"\n",
        "expected = 3\n",
        "actual = Solution().longestCommonSubsequence(text1, text2)\n",
        "assert actual==expected, \"Mistake in test case 1\"\n",
        "\n",
        "text1 = \"abc\"\n",
        "text2 = \"def\"\n",
        "expected = 0\n",
        "actual = Solution().longestCommonSubsequence(text1, text2)\n",
        "assert actual==expected, \"Mistake in test case 2\"\n",
        "\n",
        "print('OK')"
      ],
      "metadata": {
        "colab": {
          "base_uri": "https://localhost:8080/"
        },
        "id": "5tK8Eg7skAxo",
        "outputId": "865d67cf-a1ca-4a36-cc0e-e245d095f08e"
      },
      "execution_count": 8,
      "outputs": [
        {
          "output_type": "stream",
          "name": "stdout",
          "text": [
            "OK\n"
          ]
        }
      ]
    },
    {
      "cell_type": "markdown",
      "source": [
        "### Write analysis of the Memory Complexity and Time Complexity using Asymptotic Notation O. (1 point)\n",
        "\n",
        "Memory Analysis: O(n*m)\n",
        "\n",
        "Time Analysis: O(n*m)\n"
      ],
      "metadata": {
        "id": "geHHGaR_0bA6"
      }
    }
  ]
}