{
  "nbformat": 4,
  "nbformat_minor": 0,
  "metadata": {
    "colab": {
      "provenance": []
    },
    "kernelspec": {
      "name": "python3",
      "display_name": "Python 3"
    },
    "language_info": {
      "name": "python"
    }
  },
  "cells": [
    {
      "cell_type": "markdown",
      "source": [
        "## Lab 9. Introduction to algorithms\n",
        "\n",
        "This is ninth Lab for CS 566. This problem was given in lecture."
      ],
      "metadata": {
        "id": "J9NVY1MMJaE7"
      }
    },
    {
      "cell_type": "markdown",
      "source": [
        "## Task 1. Solve the problem \"Tribonacci Number\" from https://leetcode.com/problems/n-th-tribonacci-number/description/ using Python3.\n",
        "\n",
        "Use the box below, to paste the working code. The format of the code should be identical to LeetCode platform. (4 points)"
      ],
      "metadata": {
        "id": "TQr2kPMiJ18g"
      }
    },
    {
      "cell_type": "code",
      "source": [
        "class Solution:\n",
        "    def tribonacci(self, n: int) -> int:\n",
        "        t = [0,1,1]\n",
        "        if n < 3:\n",
        "            return t[n]\n",
        "\n",
        "        for i in range(3, n+1):\n",
        "            t[0], t[1], t[2] = t[1], t[2], sum(t)\n",
        "\n",
        "        return t[2]"
      ],
      "metadata": {
        "id": "2lvL-OnWJ2lm"
      },
      "execution_count": 1,
      "outputs": []
    },
    {
      "cell_type": "markdown",
      "source": [
        "### Do not modify the testing code below. If you get message \"Mistake in test case #\", it means that you algorithm is incorrect."
      ],
      "metadata": {
        "id": "euoN0SF1Kaew"
      }
    },
    {
      "cell_type": "code",
      "source": [
        "#test_case_1\n",
        "nums = 25\n",
        "expected = 1389537\n",
        "actual = Solution().tribonacci(nums)\n",
        "assert actual==expected, \"Mistake in test case 1\"\n",
        "print(\"OK\")"
      ],
      "metadata": {
        "id": "FXuKwq8FJ7wq",
        "colab": {
          "base_uri": "https://localhost:8080/",
          "height": 0
        },
        "outputId": "8d09b6c1-66b8-4efd-bfca-64f828203481"
      },
      "execution_count": 2,
      "outputs": [
        {
          "output_type": "stream",
          "name": "stdout",
          "text": [
            "OK\n"
          ]
        }
      ]
    },
    {
      "cell_type": "markdown",
      "source": [
        "### Write analysis of the Memory Complexity and Time Complexity using Aymptotic Notation O. (1 point)\n",
        "\n",
        "Memory Analysis: O(1)\n",
        "\n",
        "Time Analysis: O(n)"
      ],
      "metadata": {
        "id": "eWtUdlZULoyd"
      }
    },
    {
      "cell_type": "markdown",
      "source": [
        "## Task 2. Solve the problem \"ROD Cutting\" from Course TextBook using Python3.\n",
        "\n",
        "Use the box below, to paste the working code. This is **not** leetcode, you just need to implement a function and pass the tests (4 points)"
      ],
      "metadata": {
        "id": "IKSo3QbF42QL"
      }
    },
    {
      "cell_type": "code",
      "source": [
        "def rod_cutting(prices, n):\n",
        "    r = [0 for x in range(n+1)]\n",
        "    for i in range(1, n+1):\n",
        "        q = -float('INF')\n",
        "        for j in range(i):\n",
        "            q = max(q,prices[j] + r[i-j-1])\n",
        "        r[i] = q\n",
        "\n",
        "    return r[n]\n",
        "\n",
        "# Testing the function\n",
        "print(\"Maximum Revenue:\", rod_cutting([1, 5, 8, 9, 10, 17, 17, 20], 8))  # Expected: 22\n",
        "print(\"Maximum Revenue:\", rod_cutting([2, 5, 7, 8], 4))  # Expected: 10\n",
        "print(\"Maximum Revenue:\", rod_cutting([1, 2, 3, 4, 5], 5))  # Expected: 5\n",
        "print(\"Maximum Revenue:\", rod_cutting([3, 5, 8, 9], 4))  # Expected: 10\n",
        "print(\"Maximum Revenue:\", rod_cutting([1, 5, 8, 9, 10, 17, 17, 20, 24, 30], 10))  # Expected: 30\n"
      ],
      "metadata": {
        "id": "_J2StfIb5TqF",
        "colab": {
          "base_uri": "https://localhost:8080/",
          "height": 0
        },
        "outputId": "61f6cfdb-0269-4e56-ac6d-dcdf9d4326bf"
      },
      "execution_count": 24,
      "outputs": [
        {
          "output_type": "stream",
          "name": "stdout",
          "text": [
            "Maximum Revenue: 22\n",
            "Maximum Revenue: 10\n",
            "Maximum Revenue: 5\n",
            "Maximum Revenue: 12\n",
            "Maximum Revenue: 30\n"
          ]
        }
      ]
    },
    {
      "cell_type": "markdown",
      "source": [
        "### Write analysis of the Memory Complexity and Time Complexity using Asymptotic Notation O. (1 point)\n",
        "\n",
        "Memory Analysis: O(n)\n",
        "\n",
        "Time Analysis: O(n^2)\n"
      ],
      "metadata": {
        "id": "E1PuVdE66TK5"
      }
    },
    {
      "cell_type": "markdown",
      "source": [
        "## Task 3. Solve the problem \"Coin Change II\" from https://leetcode.com/problems/coin-change-ii/description/ using Python3.\n",
        "\n",
        "Use the box below, to paste the working code. The format of the code should be identical to LeetCode platform. (4 points)"
      ],
      "metadata": {
        "id": "VWz-SXYXyO4m"
      }
    },
    {
      "cell_type": "code",
      "source": [
        "from typing import List\n",
        "class Solution:\n",
        "    def change(self, amount: int, coins: List[int]) -> int:\n",
        "        dp = [0] * (amount + 1)\n",
        "        dp[0] = 1\n",
        "        for coin in coins:\n",
        "            for j in range(coin, amount + 1):\n",
        "                dp[j] += dp[j - coin]\n",
        "        return dp[amount]"
      ],
      "metadata": {
        "id": "Kpu1AlMvzFWG"
      },
      "execution_count": 13,
      "outputs": []
    },
    {
      "cell_type": "code",
      "source": [
        "#test_case_1\n",
        "amount = 5\n",
        "coins = [1,2,5]\n",
        "expected = 4\n",
        "actual = Solution().change(amount, coins)\n",
        "assert actual==expected, \"Mistake in test case 1\"\n",
        "print('OK')"
      ],
      "metadata": {
        "colab": {
          "base_uri": "https://localhost:8080/",
          "height": 0
        },
        "id": "5tK8Eg7skAxo",
        "outputId": "f61620b0-ecd4-4259-84b4-b575f5c38ed4"
      },
      "execution_count": 14,
      "outputs": [
        {
          "output_type": "stream",
          "name": "stdout",
          "text": [
            "OK\n"
          ]
        }
      ]
    },
    {
      "cell_type": "markdown",
      "source": [
        "### Write analysis of the Memory Complexity and Time Complexity using Asymptotic Notation O. (1 point)\n",
        "\n",
        "Memory Analysis: O(m), m is amount\n",
        "\n",
        "Time Analysis: O(n*m), n is coin, m is amount\n"
      ],
      "metadata": {
        "id": "geHHGaR_0bA6"
      }
    }
  ]
}