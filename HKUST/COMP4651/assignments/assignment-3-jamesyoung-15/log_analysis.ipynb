{
  "cells": [
    {
      "cell_type": "markdown",
      "metadata": {
        "application/vnd.databricks.v1+cell": {
          "inputWidgets": {},
          "nuid": "fd4fdf75-4429-4227-83e2-0f718ecebe19",
          "showTitle": false,
          "title": ""
        },
        "id": "nSQCMz03ksw8"
      },
      "source": [
        "#![Spark Logo](http://spark-mooc.github.io/web-assets/images/ta_Spark-logo-small.png) + ![Python Logo](http://spark-mooc.github.io/web-assets/images/python-logo-master-v3-TM-flattened_small.png)\n",
        "# **Log Analysis Lab: Web Server Log Analysis with Apache Spark**\n",
        "\n",
        "This lab will demonstrate how easy it is to perform web server log analysis with Apache Spark.\n",
        "\n",
        "Server log analysis is an ideal use case for Spark.  It's a very large, common data source and contains a rich set of information.  Spark allows you to store your logs in files on disk cheaply, while still providing a quick and simple way to perform data analysis on them.  This homework will show you how to use Apache Spark on real-world text-based production logs and fully harness the power of that data.  Log data comes from many sources, such as web, file, and compute servers, application logs, user-generated content,  and can be used for monitoring servers, improving business and customer intelligence, building recommendation systems, fraud detection, and much more.\n",
        "\n",
        "**How to complete this assignment**\n",
        "\n",
        "This assignment is broken up into sections with bite-sized examples for demonstrating Spark functionality for log processing. For each problem, you should start by thinking about the algorithm that you will use to *efficiently* process the log in a parallel, distributed manner. This means using the various [RDD](https://spark.apache.org/docs/latest/api/python/reference/api/pyspark.RDD.html) operations along with [`lambda` functions](https://docs.python.org/3/tutorial/controlflow.html#lambda-expressions) that are applied at each worker.\n",
        "\n",
        "This assignment consists of 4 parts:\n",
        "\n",
        "- *Part 1*: Apache Web Server Log file format\n",
        "- *Part 2*: Sample Analyses on the Web Server Log File\n",
        "- *Part 3*: Analyzing Web Server Log File\n",
        "- *Part 4*: Exploring 404 Response Codes"
      ]
    },
    {
      "cell_type": "markdown",
      "metadata": {
        "id": "rEYwcyFJkwuR"
      },
      "source": [
        "#### **Prerequisite**"
      ]
    },
    {
      "cell_type": "markdown",
      "metadata": {
        "id": "jh3n1hank5aQ"
      },
      "source": [
        "** (a) Installing PySpark**"
      ]
    },
    {
      "cell_type": "code",
      "execution_count": 1,
      "metadata": {
        "id": "U7QEeikjk-Uw"
      },
      "outputs": [],
      "source": [
        "# ! pip install pyspark==3.2.1"
      ]
    },
    {
      "cell_type": "markdown",
      "metadata": {
        "id": "HG5UHHuElC5s"
      },
      "source": [
        "** (b) Initiating a SparkContext**"
      ]
    },
    {
      "cell_type": "code",
      "execution_count": 2,
      "metadata": {
        "id": "iUg6pnKklI5h"
      },
      "outputs": [
        {
          "name": "stderr",
          "output_type": "stream",
          "text": [
            "WARNING: An illegal reflective access operation has occurred\n",
            "WARNING: Illegal reflective access by org.apache.spark.unsafe.Platform (file:/home/jamesyoung/Documents/assignment-3-jamesyoung-15/venv/lib/python3.10/site-packages/pyspark/jars/spark-unsafe_2.12-3.2.1.jar) to constructor java.nio.DirectByteBuffer(long,int)\n",
            "WARNING: Please consider reporting this to the maintainers of org.apache.spark.unsafe.Platform\n",
            "WARNING: Use --illegal-access=warn to enable warnings of further illegal reflective access operations\n",
            "WARNING: All illegal access operations will be denied in a future release\n",
            "Using Spark's default log4j profile: org/apache/spark/log4j-defaults.properties\n",
            "Setting default log level to \"WARN\".\n",
            "To adjust logging level use sc.setLogLevel(newLevel). For SparkR, use setLogLevel(newLevel).\n",
            "24/04/25 10:21:56 WARN NativeCodeLoader: Unable to load native-hadoop library for your platform... using builtin-java classes where applicable\n",
            "24/04/25 10:21:56 WARN Utils: Service 'SparkUI' could not bind on port 4040. Attempting port 4041.\n"
          ]
        }
      ],
      "source": [
        "# import pyspark and initiate a SparkContext\n",
        "from pyspark import SparkConf, SparkContext\n",
        "\n",
        "conf = SparkConf().setAppName('Spark Programming')\n",
        "sc = SparkContext(conf=conf)"
      ]
    },
    {
      "cell_type": "markdown",
      "metadata": {
        "id": "8cr6uDKUlvYa"
      },
      "source": [
        "** (c) Initializing the Test class**"
      ]
    },
    {
      "cell_type": "code",
      "execution_count": 3,
      "metadata": {
        "application/vnd.databricks.v1+cell": {
          "inputWidgets": {},
          "nuid": "42c8f243-6db2-47dc-a05a-fdcc565d1bb2",
          "showTitle": false,
          "title": ""
        },
        "id": "_Tbc65O7ksxF"
      },
      "outputs": [],
      "source": [
        "# initialize the Test class\n",
        "import hashlib\n",
        "\n",
        "class TestFailure(Exception):\n",
        "    pass\n",
        "class PrivateTestFailure(Exception):\n",
        "    pass\n",
        "\n",
        "class Test(object):\n",
        "    passed = 0\n",
        "    numTests = 0\n",
        "    failFast = False\n",
        "    private = False\n",
        "\n",
        "    @classmethod\n",
        "    def setFailFast(cls):\n",
        "        cls.failFast = True\n",
        "\n",
        "    @classmethod\n",
        "    def setPrivateMode(cls):\n",
        "        cls.private = True\n",
        "\n",
        "    @classmethod\n",
        "    def assertTrue(cls, result, msg=\"\"):\n",
        "        cls.numTests += 1\n",
        "        if result == True:\n",
        "            cls.passed += 1\n",
        "            print(\"1 test passed.\")\n",
        "        else:\n",
        "            print(\"1 test failed. \" + msg)\n",
        "            if cls.failFast:\n",
        "                if cls.private:\n",
        "                    raise PrivateTestFailure(msg)\n",
        "                else:\n",
        "                    raise TestFailure(msg)\n",
        "\n",
        "    @classmethod\n",
        "    def assertEquals(cls, var, val, msg=\"\"):\n",
        "        cls.assertTrue(var == val, msg)\n",
        "\n",
        "    @classmethod\n",
        "    def assertEqualsHashed(cls, var, hashed_val, msg=\"\"):\n",
        "        cls.assertEquals(cls._hash(var), hashed_val, msg)\n",
        "\n",
        "    @classmethod\n",
        "    def printStats(cls):\n",
        "        print(\"{0} / {1} test(s) passed.\".format(cls.passed, cls.numTests))\n",
        "\n",
        "    @classmethod\n",
        "    def _hash(cls, x):\n",
        "        return hashlib.sha1(str(x).encode('utf-8')).hexdigest()"
      ]
    },
    {
      "cell_type": "markdown",
      "metadata": {
        "application/vnd.databricks.v1+cell": {
          "inputWidgets": {},
          "nuid": "aa0d24f7-fcd4-45da-a62c-eb414e8ebe4b",
          "showTitle": false,
          "title": ""
        },
        "id": "TPZzuj75ksxB"
      },
      "source": [
        "#### **Part 1: Apache Web Server Log file format**\n",
        "\n",
        "The log files that we use for this assignment are in the [Apache Common Log Format (CLF)](https://httpd.apache.org/docs/). The log file entries produced in CLF will look something like this:\n",
        "`127.0.0.1 - - [01/Aug/1995:00:00:01 -0400] \"GET /images/launch-logo.gif HTTP/1.0\" 200 1839`\n",
        "\n",
        "Each part of this log entry is described below.\n",
        "\n",
        "* `127.0.0.1` : This is the IP address (or host name, if available) of the client (remote host) which made the request to the server.\n",
        "\n",
        "* `-` : The \"hyphen\" in the output indicates that the requested piece of information (user identity from remote machine) is not available.\n",
        "\n",
        "* `-` : The \"hyphen\" in the output indicates that the requested piece of information (user identity from local logon) is not available.\n",
        "\n",
        "* `[01/Aug/1995:00:00:01 -0400]` : The time that the server finished processing the request. The format is:\n",
        "`[day/month/year:hour:minute:second timezone]`\n",
        "  * day = 2 digits\n",
        "  * month = 3 letters\n",
        "  * year = 4 digits\n",
        "  * hour = 2 digits\n",
        "  * minute = 2 digits\n",
        "  * second = 2 digits\n",
        "  * zone = (\\+ | \\-) 4 digits\n",
        "\n",
        "* `\"GET /images/launch-logo.gif HTTP/1.0\"` : This is the first line of the request string from the client. It consists of a three components: the request method (e.g., `GET`, `POST`, etc.), the endpoint (a [Uniform Resource Identifier](http://en.wikipedia.org/wiki/Uniform_resource_identifier)), and the client protocol version.\n",
        "\n",
        "* `200` : This is the status code that the server sends back to the client. This information is very valuable, because it reveals whether the request resulted in a successful response (codes beginning in 2), a redirection (codes beginning in 3), an error caused by the client (codes beginning in 4), or an error in the server (codes beginning in 5). The full list of possible status codes can be found in the HTTP specification ([RFC 2616](https://www.ietf.org/rfc/rfc2616.txt) section 10).\n",
        "\n",
        "* `1839` : The last entry indicates the size of the object returned to the client, not including the response headers. If no content was returned to the client, this value will be \"-\" (or sometimes 0).\n",
        "\n",
        "Note that log files contain information supplied directly by the client, without escaping. Therefore, it is possible for malicious clients to insert control-characters in the log files, *so care must be taken in dealing with raw logs.*\n",
        "\n",
        "**NASA-HTTP Web Server Log**\n",
        "\n",
        "For this assignment, we will use a data set from NASA Kennedy Space Center WWW server in Florida. The full [data set](http://ita.ee.lbl.gov/html/contrib/NASA-HTTP.html) is freely available and contains two month's of all HTTP requests. We are using a subset that only contains several hours worth of requests.\n",
        "\n",
        "PLEASE upload `apache.log`. (You could find the instructions for uploading in the warmup notebook.)\n",
        "\n",
        "**(1a) Parsing Each Log Line**\n",
        "\n",
        "Using the CLF as defined above, we create a regular expression pattern to extract the nine fields of the log line using the Python regular expression [`search` function](https://docs.python.org/3/library/re.html#regular-expression-objects). The function returns a pair consisting of a Row object and 1. If the log line fails to match the regular expression, the function returns a pair consisting of the log line string and 0. A '-' value in the content size field is cleaned up by substituting it with 0. The function converts the log line's date string into a Python `datetime` object using the given `parse_apache_time` function."
      ]
    },
    {
      "cell_type": "code",
      "execution_count": 4,
      "metadata": {
        "application/vnd.databricks.v1+cell": {
          "inputWidgets": {},
          "nuid": "38b5c493-6288-4038-aace-253ed290fd30",
          "showTitle": false,
          "title": ""
        },
        "id": "t0qHwBbnksxC"
      },
      "outputs": [],
      "source": [
        "import re\n",
        "import datetime\n",
        "\n",
        "from pyspark.sql import Row\n",
        "\n",
        "month_map = {'Jan': 1, 'Feb': 2, 'Mar':3, 'Apr':4, 'May':5, 'Jun':6, 'Jul':7,\n",
        "    'Aug':8,  'Sep': 9, 'Oct':10, 'Nov': 11, 'Dec': 12}\n",
        "\n",
        "def parse_apache_time(s):\n",
        "    \"\"\" Convert Apache time format into a Python datetime object\n",
        "    Args:\n",
        "        s (str): date and time in Apache time format\n",
        "    Returns:\n",
        "        datetime: datetime object (ignore timezone for now)\n",
        "    \"\"\"\n",
        "    return datetime.datetime(int(s[7:11]),\n",
        "                             month_map[s[3:6]],\n",
        "                             int(s[0:2]),\n",
        "                             int(s[12:14]),\n",
        "                             int(s[15:17]),\n",
        "                             int(s[18:20]))\n",
        "\n",
        "\n",
        "def parseApacheLogLine(logline):\n",
        "    \"\"\" Parse a line in the Apache Common Log format\n",
        "    Args:\n",
        "        logline (str): a line of text in the Apache Common Log format\n",
        "    Returns:\n",
        "        tuple: either a dictionary containing the parts of the Apache Access Log and 1,\n",
        "               or the original invalid log line and 0\n",
        "    \"\"\"\n",
        "    match = re.search(APACHE_ACCESS_LOG_PATTERN, logline)\n",
        "    if match is None:\n",
        "        return (logline, 0)\n",
        "    size_field = match.group(9)\n",
        "    if size_field == '-':\n",
        "        size = int(0)\n",
        "    else:\n",
        "        size = int(match.group(9))\n",
        "    return (Row(\n",
        "        host          = match.group(1),\n",
        "        client_identd = match.group(2),\n",
        "        user_id       = match.group(3),\n",
        "        date_time     = parse_apache_time(match.group(4)),\n",
        "        method        = match.group(5),\n",
        "        endpoint      = match.group(6),\n",
        "        protocol      = match.group(7),\n",
        "        response_code = int(match.group(8)),\n",
        "        content_size  = size\n",
        "    ), 1)"
      ]
    },
    {
      "cell_type": "code",
      "execution_count": 5,
      "metadata": {
        "application/vnd.databricks.v1+cell": {
          "inputWidgets": {},
          "nuid": "a44c09e7-d465-45c5-a563-baeeed86cdad",
          "showTitle": false,
          "title": ""
        },
        "id": "L1TOWyHCksxE"
      },
      "outputs": [],
      "source": [
        "# A regular expression pattern to extract fields from the log line\n",
        "APACHE_ACCESS_LOG_PATTERN = '^(\\S+) (\\S+) (\\S+) \\[([\\w:/]+\\s[+\\-]\\d{4})\\] \"(\\S+) (\\S+)\\s*(\\S*)\" (\\d{3}) (\\S+)'"
      ]
    },
    {
      "cell_type": "markdown",
      "metadata": {
        "application/vnd.databricks.v1+cell": {
          "inputWidgets": {},
          "nuid": "c6d0daad-e8cd-479f-8001-2180b893895c",
          "showTitle": false,
          "title": ""
        },
        "id": "CfM4-s7CksxF"
      },
      "source": [
        "**(1b) Configuration and Initial RDD Creation**\n",
        "\n",
        "We are ready to specify the input log file and create an RDD containing the parsed log file data. The log file has already been downloaded for you.\n",
        "\n",
        "To create the primary RDD that we'll use in the rest of this assignment, we first load the text file using [`sc.textfile(logFile)`](https://spark.apache.org/docs/latest/api/python/reference/api/pyspark.SparkContext.textFile.html) to convert each line of the file into an element in an RDD.\n",
        "\n",
        "Next, we use [`map(parseApacheLogLine)`](https://spark.apache.org/docs/latest/api/python/reference/api/pyspark.RDD.map.html) to apply the parse function to each element (that is, a line from the log file) in the RDD and turn each line into a pair [`Row` object](https://spark.apache.org/docs/latest/api/python/reference/api/pyspark.sql.Row.html).\n",
        "\n",
        "Finally, we cache the RDD in memory since we'll use it throughout this notebook.\n",
        "\n",
        "\n",
        "**WARNING**: Make sure you have uploaded the `apache.log` file before running the cell below."
      ]
    },
    {
      "cell_type": "code",
      "execution_count": 6,
      "metadata": {
        "application/vnd.databricks.v1+cell": {
          "inputWidgets": {},
          "nuid": "da942157-a60d-4c2d-83a5-db633d50493c",
          "showTitle": false,
          "title": ""
        },
        "id": "PLyOcz_-ksxG"
      },
      "outputs": [
        {
          "name": "stderr",
          "output_type": "stream",
          "text": [
            "                                                                                \r"
          ]
        },
        {
          "name": "stdout",
          "output_type": "stream",
          "text": [
            "Number of invalid logline: 3\n",
            "Invalid logline: 204.120.229.63 - - [01/Jul/1995:04:29:05 -0400] \"GET /history/history.html                                                 hqpao/hqpao_home.html HTTP/1.0\" 200 1502\n",
            "Invalid logline: nccse.gsfc.nasa.gov - - [01/Jul/1995:07:36:13 -0400] \"GET /shuttle/missions/missions.html Shuttle Launches from Kennedy Space Center HTTP/1.0\" 200 8677\n",
            "Invalid logline: ix-nbw-nj1-22.ix.netcom.com - - [01/Jul/1995:10:42:09 -0400] \"GET /finger @net.com HTTP/1.0\" 404 -\n",
            "Read 43177 lines, successfully parsed 43174 lines, failed to parse 3 lines\n"
          ]
        }
      ],
      "source": [
        "import sys\n",
        "import os\n",
        "\n",
        "logFile = 'apache.log'\n",
        "\n",
        "def parseLogs():\n",
        "    \"\"\" Read and parse log file \"\"\"\n",
        "    parsed_logs = (sc\n",
        "                   .textFile(logFile)\n",
        "                   .map(parseApacheLogLine)\n",
        "                   .cache())\n",
        "\n",
        "    access_logs = (parsed_logs\n",
        "                   .filter(lambda s: s[1] == 1)\n",
        "                   .map(lambda s: s[0])\n",
        "                   .cache())\n",
        "\n",
        "    failed_logs = (parsed_logs\n",
        "                   .filter(lambda s: s[1] == 0)\n",
        "                   .map(lambda s: s[0]))\n",
        "    failed_logs_count = failed_logs.count()\n",
        "    if failed_logs_count > 0:\n",
        "        print('Number of invalid logline: %d' % failed_logs.count())\n",
        "        for line in failed_logs.take(20):\n",
        "            print('Invalid logline: %s' % line)\n",
        "\n",
        "    print('Read %d lines, successfully parsed %d lines, failed to parse %d lines' % (parsed_logs.count(), access_logs.count(), failed_logs.count()))\n",
        "    return parsed_logs, access_logs, failed_logs\n",
        "\n",
        "\n",
        "parsed_logs, access_logs, failed_logs = parseLogs()"
      ]
    },
    {
      "cell_type": "markdown",
      "metadata": {
        "application/vnd.databricks.v1+cell": {
          "inputWidgets": {},
          "nuid": "559659be-1480-49b2-a539-eb44bc620171",
          "showTitle": false,
          "title": ""
        },
        "id": "0r1Vo04PksxG"
      },
      "source": [
        "**(1c) Data Cleaning**\n",
        "\n",
        "Notice that there are a large number of log lines that failed to parse. Examine the sample of invalid lines and compare them to the correctly parsed line, an example is included below. Based on your observations, alter the `APACHE_ACCESS_LOG_PATTERN` regular expression below so that the failed lines will correctly parse, and press `Shift-Enter` to rerun `parseLogs()`.\n",
        "\n",
        "`127.0.0.1 - - [01/Aug/1995:00:00:01 -0400] \"GET /images/launch-logo.gif HTTP/1.0\" 200 1839`\n",
        "\n",
        "If you not familar with Python regular expression [`search` function](https://docs.python.org/3/library/re.html#regular-expression-objects), now would be a good time to check up on the [documentation](https://developers.google.com/edu/python/regular-expressions). One tip that might be useful is to use an online tester like http://pythex.org. To use it, copy and paste the regular expression string below (located between the single quotes ') and test it against one of the 'Invalid logline' above."
      ]
    },
    {
      "cell_type": "code",
      "execution_count": 7,
      "metadata": {
        "application/vnd.databricks.v1+cell": {
          "inputWidgets": {},
          "nuid": "0d0f126f-4d4e-4171-bc29-705fd02ea2ec",
          "showTitle": false,
          "title": ""
        },
        "id": "cwIoguajksxG"
      },
      "outputs": [
        {
          "name": "stdout",
          "output_type": "stream",
          "text": [
            "Read 43177 lines, successfully parsed 43177 lines, failed to parse 0 lines\n"
          ]
        }
      ],
      "source": [
        "# TODO: Replace <FILL IN> with appropriate code\n",
        "\n",
        "# This was originally '^(\\S+) (\\S+) (\\S+) \\[([\\w:/]+\\s[+\\-]\\d{4})\\] \"(\\S+) (\\S+)\\s*(\\S*)\" (\\d{3}) (\\S+)'\n",
        "# Change to:          '^(\\S+) (\\S+) (\\S+) \\[([\\w:/]+\\s[+\\-]\\d{4})\\] \"(\\S+)\\s*(\\S+)\\s*[\\S*\\s*]*(\\S*)\" (\\d{3}) (\\S+)'\n",
        "# Regex test: https://regex101.com/\n",
        "\n",
        "APACHE_ACCESS_LOG_PATTERN = '^(\\S+) (\\S+) (\\S+) \\[([\\w:/]+\\s[+\\-]\\d{4})\\] \"(\\S+)\\s*(\\S+)\\s*[\\S*\\s*]*(\\S*)\" (\\d{3}) (\\S+)'\n",
        "\n",
        "parsed_logs, access_logs, failed_logs = parseLogs()"
      ]
    },
    {
      "cell_type": "code",
      "execution_count": 8,
      "metadata": {
        "application/vnd.databricks.v1+cell": {
          "inputWidgets": {},
          "nuid": "d9d32f8a-24a6-4cfc-91ae-dcffa229bded",
          "showTitle": false,
          "title": ""
        },
        "id": "LdCwx7xXksxH"
      },
      "outputs": [
        {
          "name": "stdout",
          "output_type": "stream",
          "text": [
            "1 test passed.\n",
            "1 test passed.\n"
          ]
        },
        {
          "name": "stdout",
          "output_type": "stream",
          "text": [
            "1 test passed.\n"
          ]
        }
      ],
      "source": [
        "# TEST Data cleaning (1c)\n",
        "Test.assertEquals(failed_logs.count(), 0, 'incorrect failed_logs.count()')\n",
        "Test.assertEquals(parsed_logs.count(), 43177 , 'incorrect parsed_logs.count()')\n",
        "Test.assertEquals(access_logs.count(), parsed_logs.count(), 'incorrect access_logs.count()')"
      ]
    },
    {
      "cell_type": "markdown",
      "metadata": {
        "application/vnd.databricks.v1+cell": {
          "inputWidgets": {},
          "nuid": "2e486657-0d0d-422d-afec-60db98fc9928",
          "showTitle": false,
          "title": ""
        },
        "id": "-h9JRHe9ksxH"
      },
      "source": [
        "#### **Part 2: Sample Analyses on the Web Server Log File**\n",
        "\n",
        "Now that we have an RDD containing the log file as a set of Row objects, we can perform various analyses.\n",
        "\n",
        "**(2a) Example: Content Size Statistics**\n",
        "\n",
        "Let's compute some statistics about the sizes of content being returned by the web server. In particular, we'd like to know what are the average, minimum, and maximum content sizes.\n",
        "\n",
        "We can compute the statistics by applying a `map` to the `access_logs` RDD. The `lambda` function we want for the map is to extract the `content_size` field from the RDD. The map produces a new RDD containing only the `content_sizes` (one element for each Row object in the `access_logs` RDD). To compute the minimum and maximum statistics, we can use [`min()`](https://spark.apache.org/docs/latest/api/python/reference/api/pyspark.RDD.min.html) and [`max()`](https://spark.apache.org/docs/latest/api/python/reference/api/pyspark.RDD.max.html) functions on the new RDD. We can compute the average statistic by using the [`reduce`](https://spark.apache.org/docs/latest/api/python/reference/api/pyspark.RDD.reduce.html) function with a `lambda` function that sums the two inputs, which represent two elements from the new RDD that are being reduced together. The result of the `reduce()` is the total content size from the log and it is to be divided by the number of requests as determined using the [`count()`](https://spark.apache.org/docs/latest/api/python/reference/api/pyspark.RDD.count.html) function on the new RDD."
      ]
    },
    {
      "cell_type": "code",
      "execution_count": 9,
      "metadata": {
        "application/vnd.databricks.v1+cell": {
          "inputWidgets": {},
          "nuid": "7e62c698-95b9-4380-85bd-f53ce138033e",
          "showTitle": false,
          "title": ""
        },
        "id": "AcTDlxL-ksxH"
      },
      "outputs": [
        {
          "name": "stdout",
          "output_type": "stream",
          "text": [
            "Content Size Avg: 24992, Min: 0, Max: 1646592\n"
          ]
        }
      ],
      "source": [
        "# Calculate statistics based on the content size.\n",
        "content_sizes = access_logs.map(lambda log: log.content_size).cache()\n",
        "print('Content Size Avg: %i, Min: %i, Max: %s' % (\n",
        "    content_sizes.reduce(lambda a, b : a + b) / content_sizes.count(),\n",
        "    content_sizes.min(),\n",
        "    content_sizes.max()))"
      ]
    },
    {
      "cell_type": "markdown",
      "metadata": {
        "application/vnd.databricks.v1+cell": {
          "inputWidgets": {},
          "nuid": "a46169dc-9c02-4cc9-83d8-8032e88735ca",
          "showTitle": false,
          "title": ""
        },
        "id": "ksCd_zHZksxI"
      },
      "source": [
        "**(2b) Example: Response Code Analysis**\n",
        "\n",
        "Next, lets look at the response codes that appear in the log. As with the content size analysis, first we create a new RDD by using a `lambda` function to extract the `response_code` field from the `access_logs` RDD. The difference here is that we will use a [pair tuple](https://docs.python.org/3/tutorial/datastructures.html?#tuples-and-sequences) instead of just the field itself. Using a pair tuple consisting of the response code and 1 will let us count how many records have a particular response code. Using the new RDD, we perform a [`reduceByKey`](https://spark.apache.org/docs/latest/api/python/reference/api/pyspark.RDD.reduceByKey.html) function. `reduceByKey` performs a reduce on a per-key basis by applying the `lambda` function to each element, pairwise with the same key. We use the simple `lambda` function of adding the two values. Then, we cache the resulting RDD and create a list by using the [`take`](https://spark.apache.org/docs/latest/api/python/reference/api/pyspark.RDD.take.html) function."
      ]
    },
    {
      "cell_type": "code",
      "execution_count": 10,
      "metadata": {
        "application/vnd.databricks.v1+cell": {
          "inputWidgets": {},
          "nuid": "9b09ab4e-d9bb-4d0b-8de0-0528bbfb7db3",
          "showTitle": false,
          "title": ""
        },
        "id": "JDP7mumyksxI"
      },
      "outputs": [
        {
          "name": "stdout",
          "output_type": "stream",
          "text": [
            "Found 4 response codes\n",
            "Response Code Counts: [(200, 38606), (304, 2631), (302, 1734), (404, 206)]\n",
            "1 test passed.\n",
            "1 test passed.\n"
          ]
        }
      ],
      "source": [
        "# Response Code to Count\n",
        "responseCodeToCount = (access_logs\n",
        "                       .map(lambda log: (log.response_code, 1))\n",
        "                       .reduceByKey(lambda a, b: a + b)\n",
        "                       .cache())\n",
        "responseCodeToCountList = responseCodeToCount.take(100)\n",
        "print('Found %d response codes' % len(responseCodeToCountList))\n",
        "print('Response Code Counts: %s' % responseCodeToCountList)\n",
        "Test.assertEquals(len(responseCodeToCountList), 4, 'incorrect number of response code')\n",
        "Test.assertEquals(sorted(responseCodeToCountList), [ (200, 38606), (302, 1734), (304, 2631), (404, 206) ], 'incorrect count list')"
      ]
    },
    {
      "cell_type": "markdown",
      "metadata": {
        "application/vnd.databricks.v1+cell": {
          "inputWidgets": {},
          "nuid": "908c71fd-dcfd-4589-b1e9-0c24d2d41775",
          "showTitle": false,
          "title": ""
        },
        "id": "PnosQHDeksxI"
      },
      "source": [
        "**(2c) Example: Response Code Graphing with `matplotlib`**\n",
        "\n",
        "Now, lets visualize the results from the last example. We can visualize the results from the last example using [`matplotlib`](http://matplotlib.org/). First we need to extract the labels and fractions for the graph. We do this with two separate `map` functions with a `lambda` functions. The first `map` function extracts a list of of the response code values, and the second `map` function extracts a list of the per response code counts  divided by the total size of the access logs. Next, we create a figure with `figure()` constructor and use the `pie()` method to create the pie plot."
      ]
    },
    {
      "cell_type": "code",
      "execution_count": 11,
      "metadata": {
        "application/vnd.databricks.v1+cell": {
          "inputWidgets": {},
          "nuid": "bdce2d6a-2f2f-4843-b80c-100cdd1bf4a9",
          "showTitle": false,
          "title": ""
        },
        "id": "rSLv73uRksxJ"
      },
      "outputs": [
        {
          "name": "stdout",
          "output_type": "stream",
          "text": [
            "[200, 304, 302, 404]\n",
            "[0.89413345067976, 0.060935220140352506, 0.04016027051439424, 0.004771058665493202]\n"
          ]
        }
      ],
      "source": [
        "labels = responseCodeToCount.map(lambda s: s[0]).collect()\n",
        "print(labels)\n",
        "count = access_logs.count()\n",
        "fracs = responseCodeToCount.map(lambda s: (float(s[1]) / count)).collect()\n",
        "print(fracs)"
      ]
    },
    {
      "cell_type": "code",
      "execution_count": 12,
      "metadata": {
        "application/vnd.databricks.v1+cell": {
          "inputWidgets": {},
          "nuid": "d08704d5-58ce-4984-aa8c-0a765c7dd8ee",
          "showTitle": false,
          "title": ""
        },
        "id": "ztvJOEn9ksxJ"
      },
      "outputs": [
        {
          "data": {
            "image/png": "[encoded data removed]",
            "text/plain": [
              "<Figure size 450x450 with 1 Axes>"
            ]
          },
          "metadata": {},
          "output_type": "display_data"
        },
        {
          "data": {
            "image/png": "[encoded data removed]",
            "text/plain": [
              "<Figure size 450x450 with 1 Axes>"
            ]
          },
          "metadata": {},
          "output_type": "display_data"
        }
      ],
      "source": [
        "import matplotlib.pyplot as plt\n",
        "\n",
        "\n",
        "def pie_pct_format(value):\n",
        "    \"\"\" Determine the appropriate format string for the pie chart percentage label\n",
        "    Args:\n",
        "        value: value of the pie slice\n",
        "    Returns:\n",
        "        str: formated string label; if the slice is too small to fit, returns an empty string for label\n",
        "    \"\"\"\n",
        "    return '' if value < 7 else '%.0f%%' % value\n",
        "\n",
        "fig = plt.figure(figsize=(4.5, 4.5), facecolor='white', edgecolor='white')\n",
        "colors = ['yellowgreen', 'lightskyblue', 'gold', 'purple']\n",
        "explode = (0.05, 0.05, 0.1, 0)\n",
        "patches, texts, autotexts = plt.pie(fracs, labels=labels, colors=colors,\n",
        "                                    explode=explode, autopct=pie_pct_format,\n",
        "                                    shadow=False,  startangle=125)\n",
        "for text, autotext in zip(texts, autotexts):\n",
        "    if autotext.get_text() == '':\n",
        "        text.set_text('')  # If the slice is small to fit, don't show a text label\n",
        "plt.legend(labels, loc=(0.80, -0.1), shadow=True)\n",
        "\n",
        "display(fig)\n",
        "pass"
      ]
    },
    {
      "cell_type": "markdown",
      "metadata": {
        "application/vnd.databricks.v1+cell": {
          "inputWidgets": {},
          "nuid": "41c88d86-407d-4b77-ad52-956592ad5feb",
          "showTitle": false,
          "title": ""
        },
        "id": "wMKLvdxNksxJ"
      },
      "source": [
        "**(2d) Example: Frequent Hosts**\n",
        "\n",
        "Let's look at hosts that have accessed the server multiple times (e.g., more than ten times). As with the response code analysis in (2b), first we create a new RDD by using a `lambda` function to extract the `host` field from the `access_logs` RDD using a pair tuple consisting of the host and 1 which will let us count how many records were created by a particular host's request. Using the new RDD, we perform a `reduceByKey` function with a `lambda` function that adds the two values. We then filter the result based on the count of accesses by each host (the second element of each pair) being greater than ten. Next, we extract the host name by performing a `map` with a `lambda` function that returns the first element of each pair. Finally, we extract 20 elements from the resulting RDD - *note that the choice of which elements are returned is not guaranteed to be deterministic.*"
      ]
    },
    {
      "cell_type": "code",
      "execution_count": 13,
      "metadata": {
        "application/vnd.databricks.v1+cell": {
          "inputWidgets": {},
          "nuid": "6b7d9cb6-4081-446f-ab0b-69dc03bc5069",
          "showTitle": false,
          "title": ""
        },
        "id": "G-Z0RWTcksxJ"
      },
      "outputs": [
        {
          "name": "stdout",
          "output_type": "stream",
          "text": [
            "Any 20 hosts that have accessed more then 10 times: ['unicomp6.unicomp.net', '129.94.144.152', 'alyssa.prodigy.com', 'www-a1.proxy.aol.com', 'link097.txdirect.net', 'ix-or10-06.ix.netcom.com', 'brandt.xensei.com', 'teleman.pr.mcs.net', 'midcom.com', 'dnet018.sat.texas.net', 'svasu.extern.ucsd.edu', '166.79.67.111', 'www-d3.proxy.aol.com', 'ix-tam1-26.ix.netcom.com', 'dynip38.efn.org', 'piweba1y.prodigy.com', 'leet.cts.com', 'www-b2.proxy.aol.com', 'kuts5p06.cc.ukans.edu', 'slip-5.io.com']\n"
          ]
        }
      ],
      "source": [
        "# Any hosts that has accessed the server more than 10 times.\n",
        "hostCountPairTuple = access_logs.map(lambda log: (log.host, 1))\n",
        "\n",
        "hostSum = hostCountPairTuple.reduceByKey(lambda a, b: a + b)\n",
        "\n",
        "hostMoreThan10 = hostSum.filter(lambda s: s[1] > 10)\n",
        "\n",
        "hostsPick20 = (hostMoreThan10\n",
        "               .map(lambda s: s[0])\n",
        "               .take(20))\n",
        "\n",
        "print('Any 20 hosts that have accessed more then 10 times: %s' % hostsPick20)\n",
        "# An example: [u'drjo002a099.embratel.net.br', u'n2o.phantom.com', u'sl137.active.ch', u'ppp179.aix.or.jp', u'168.95.123.108', u'ix-tam1-26.ix.netcom.com', u'ppp010.st.rim.or.jp', u'buffnet5.buffnet.net', u'129.11.224.6', u'node156.silcom.com', u'simonb.hip.cam.org', u's254n068ppp49.csun.edu', u'eic66.fiu.edu', u'cygnus.omsi.edu', u'sbd0124.deltanet.com', u'hub10.hub.co.uk', u'ix-sac2-02.ix.netcom.com', u'ix-pl1-27.ix.netcom.com', u'205.233.242.127', u'ip217.pom.primenet.com']"
      ]
    },
    {
      "cell_type": "markdown",
      "metadata": {
        "application/vnd.databricks.v1+cell": {
          "inputWidgets": {},
          "nuid": "cdba9afd-d9b7-463d-9ade-f313210d0a0c",
          "showTitle": false,
          "title": ""
        },
        "id": "tSYOIIW5ksxK"
      },
      "source": [
        "**(2e) Example: Visualizing Endpoints**\n",
        "\n",
        "Now, lets visualize the number of hits to endpoints (URIs) in the log. To perform this task, we first create a new RDD by using a `lambda` function to extract the `endpoint` field from the `access_logs` RDD using a pair tuple consisting of the endpoint and 1 which will let us count how many records were created by a particular host's request. Using the new RDD, we perform a `reduceByKey` function with a `lambda` function that adds the two values. We then cache the results.\n",
        "\n",
        "Next we visualize the results using `matplotlib`. We previously imported the `matplotlib.pyplot` library, so we do not need to import it again. We perform two separate `map` functions with `lambda` functions. The first `map` function extracts a list of endpoint values, and the second `map` function extracts a list of the visits per endpoint values. Next, we create a figure with `figure()` constructor, set various features of the plot (axis limits, grid lines, and labels), and use the `plot()` method to create the line plot."
      ]
    },
    {
      "cell_type": "code",
      "execution_count": 20,
      "metadata": {
        "application/vnd.databricks.v1+cell": {
          "inputWidgets": {},
          "nuid": "7c997806-fa89-4c1f-ae18-1aed081bd606",
          "showTitle": false,
          "title": ""
        },
        "id": "nDJvsu4PksxK"
      },
      "outputs": [
        {
          "data": {
            "image/png": "[encoded data removed]",
            "text/plain": [
              "<Figure size 800x420 with 1 Axes>"
            ]
          },
          "metadata": {},
          "output_type": "display_data"
        },
        {
          "data": {
            "image/png": "[encoded data removed]",
            "text/plain": [
              "<Figure size 800x420 with 1 Axes>"
            ]
          },
          "metadata": {},
          "output_type": "display_data"
        }
      ],
      "source": [
        "endpoints = (access_logs\n",
        "             .map(lambda log: (log.endpoint, 1))\n",
        "             .reduceByKey(lambda a, b: a + b)\n",
        "             .cache())\n",
        "ends = endpoints.map(lambda s: s[0]).collect()\n",
        "counts = endpoints.map(lambda s: s[1]).collect()\n",
        "\n",
        "fig = plt.figure(figsize=(8,4.2), facecolor='white', edgecolor='white')\n",
        "plt.axis([0, len(ends), 0, max(counts)])\n",
        "plt.grid(which='major', axis='y')\n",
        "plt.xlabel('Endpoints')\n",
        "plt.ylabel('Number of Hits')\n",
        "plt.plot(counts)\n",
        "display(fig)"
      ]
    },
    {
      "cell_type": "markdown",
      "metadata": {
        "application/vnd.databricks.v1+cell": {
          "inputWidgets": {},
          "nuid": "33880b4d-e19b-463e-8a01-1b8802f7f435",
          "showTitle": false,
          "title": ""
        },
        "id": "gppNKXuFksxK"
      },
      "source": [
        "**(2f) Example: Top Endpoints**\n",
        "\n",
        "For the final example, we'll look at the top endpoints (URIs) in the log. To determine them, we first create a new RDD by using a `lambda` function to extract the `endpoint` field from the `access_logs` RDD using a pair tuple consisting of the endpoint and 1 which will let us count how many records were created by a particular host's request. Using the new RDD, we perform a `reduceByKey` function with a `lambda` function that adds the two values. We then extract the top ten endpoints by performing a [`takeOrdered`](https://spark.apache.org/docs/latest/api/python/reference/api/pyspark.RDD.takeOrdered.html) with a value of 10 and a `lambda` function that multiplies the count (the second element of each pair) by -1 to create a sorted list with the top endpoints at the bottom."
      ]
    },
    {
      "cell_type": "code",
      "execution_count": 21,
      "metadata": {
        "application/vnd.databricks.v1+cell": {
          "inputWidgets": {},
          "nuid": "fe9d64fd-6509-43fa-8ff2-67759c2908d3",
          "showTitle": false,
          "title": ""
        },
        "id": "yDVMnvAOksxK"
      },
      "outputs": [
        {
          "name": "stdout",
          "output_type": "stream",
          "text": [
            "Top Ten Endpoints: [('/images/NASA-logosmall.gif', 2752), ('/images/KSC-logosmall.gif', 2392), ('/shuttle/countdown/count.gif', 1809), ('/shuttle/countdown/', 1798), ('/shuttle/missions/sts-71/sts-71-patch-small.gif', 1092), ('/images/ksclogo-medium.gif', 1049), ('/images/MOSAIC-logosmall.gif', 1049), ('/images/USA-logosmall.gif', 1048), ('/images/WORLD-logosmall.gif', 1024), ('/images/launch-logo.gif', 973)]\n",
            "1 test passed.\n"
          ]
        }
      ],
      "source": [
        "# Top Endpoints\n",
        "endpointCounts = (access_logs\n",
        "                  .map(lambda log: (log.endpoint, 1))\n",
        "                  .reduceByKey(lambda a, b : a + b))\n",
        "\n",
        "topEndpoints = endpointCounts.takeOrdered(10, lambda s: -1 * s[1])\n",
        "\n",
        "print('Top Ten Endpoints: %s' % topEndpoints)\n",
        "Test.assertEquals(topEndpoints,\n",
        "                  [(u'/images/NASA-logosmall.gif', 2752), (u'/images/KSC-logosmall.gif', 2392),\n",
        "                   (u'/shuttle/countdown/count.gif', 1809), (u'/shuttle/countdown/', 1798),\n",
        "                   (u'/shuttle/missions/sts-71/sts-71-patch-small.gif', 1092), (u'/images/ksclogo-medium.gif', 1049),\n",
        "                   (u'/images/MOSAIC-logosmall.gif', 1049), (u'/images/USA-logosmall.gif', 1048),\n",
        "                   (u'/images/WORLD-logosmall.gif', 1024), (u'/images/launch-logo.gif', 973)],\n",
        "                  'incorrect Top Ten Endpoints')"
      ]
    },
    {
      "cell_type": "markdown",
      "metadata": {
        "application/vnd.databricks.v1+cell": {
          "inputWidgets": {},
          "nuid": "abde3c36-d114-4a5a-bb71-a4cea30549f9",
          "showTitle": false,
          "title": ""
        },
        "id": "-PVnUKHGksxL"
      },
      "source": [
        "#### **Part 3: Analyzing Web Server Log File**\n",
        "\n",
        "Now it is your turn to perform analyses on web server log files."
      ]
    },
    {
      "cell_type": "markdown",
      "metadata": {
        "application/vnd.databricks.v1+cell": {
          "inputWidgets": {},
          "nuid": "2fdc3d30-ce72-4b5f-aebf-909c19880322",
          "showTitle": false,
          "title": ""
        },
        "id": "lWTft_n3ksxL"
      },
      "source": [
        "**(3a) Exercise: Top Five Error Endpoints**\n",
        "\n",
        "What are the top five endpoints which did not have return code 200? Create a sorted list containing top ten endpoints and the number of times that they were accessed with non-200 return code.\n",
        "\n",
        "Think about the steps that you need to perform to determine which endpoints did not have a 200 return code, how you will uniquely count those endpoints, and sort the list.\n",
        "\n",
        "You might want to refer back to the Word Count Lab for insights."
      ]
    },
    {
      "cell_type": "code",
      "execution_count": 23,
      "metadata": {
        "application/vnd.databricks.v1+cell": {
          "inputWidgets": {},
          "nuid": "dd194f13-5918-49c4-a824-c9999139fe92",
          "showTitle": false,
          "title": ""
        },
        "id": "8ioC9p2cksxL"
      },
      "outputs": [
        {
          "name": "stdout",
          "output_type": "stream",
          "text": [
            "Top Five failed URLs: [('/images/NASA-logosmall.gif', 468), ('/images/KSC-logosmall.gif', 294), ('/shuttle/countdown/liftoff.html', 199), ('/shuttle/countdown/', 141), ('/shuttle/countdown/count.gif', 140)]\n"
          ]
        }
      ],
      "source": [
        "# TODO: Replace <FILL IN> with appropriate code\n",
        "# HINT: Each of these <FILL IN> below could be completed with a single transformation or action.\n",
        "# You are welcome to structure your solution in a different way, so long as\n",
        "# you ensure the variables used in the next Test section are defined (ie. endpointSum, topFiveErrURLs).\n",
        "\n",
        "# not200 = <FILL IN>\n",
        "\n",
        "endpointCountPairTuple = access_logs.filter(lambda x: x.response_code != 200).map(lambda s: (s.endpoint, 1))\n",
        "\n",
        "endpointSum = endpointCountPairTuple.reduceByKey(lambda a, b: a + b)\n",
        "\n",
        "topFiveErrURLs = endpointSum.takeOrdered(5, lambda s: -s[1])\n",
        "print('Top Five failed URLs: %s' % topFiveErrURLs)"
      ]
    },
    {
      "cell_type": "code",
      "execution_count": 24,
      "metadata": {
        "application/vnd.databricks.v1+cell": {
          "inputWidgets": {},
          "nuid": "5a1a7e0f-7843-4bca-a16f-e14630d0229e",
          "showTitle": false,
          "title": ""
        },
        "id": "eEdHnoGOksxL"
      },
      "outputs": [
        {
          "name": "stdout",
          "output_type": "stream",
          "text": [
            "1 test passed.\n",
            "1 test passed.\n"
          ]
        }
      ],
      "source": [
        "# TEST Top five error endpoints (3a)\n",
        "Test.assertEquals(endpointSum.count(), 1369, 'incorrect count for endpointSum')\n",
        "Test.assertEquals(topFiveErrURLs,\n",
        "                  [(u'/images/NASA-logosmall.gif', 468), (u'/images/KSC-logosmall.gif', 294),\n",
        "                   (u'/shuttle/countdown/liftoff.html', 199), (u'/shuttle/countdown/', 141),\n",
        "                   (u'/shuttle/countdown/count.gif', 140)],\n",
        "                  'incorrect Top Ten failed URLs (topFiveErrURLs)')"
      ]
    },
    {
      "cell_type": "markdown",
      "metadata": {
        "application/vnd.databricks.v1+cell": {
          "inputWidgets": {},
          "nuid": "5ba2b678-0e33-44a2-93a1-bb92dc36b4b0",
          "showTitle": false,
          "title": ""
        },
        "id": "Lhse09kbksxM"
      },
      "source": [
        "**(3b) Exercise: Number of Unique Hosts**\n",
        "\n",
        "How many unique hosts are there in the entire log?\n",
        "\n",
        "Think about the steps that you need to perform to count the number of different hosts in the log."
      ]
    },
    {
      "cell_type": "code",
      "execution_count": 25,
      "metadata": {
        "application/vnd.databricks.v1+cell": {
          "inputWidgets": {},
          "nuid": "a4e7edcd-60f7-4da8-9418-2e451cd55918",
          "showTitle": false,
          "title": ""
        },
        "id": "HMQuLUDPksxM"
      },
      "outputs": [
        {
          "name": "stdout",
          "output_type": "stream",
          "text": [
            "Unique hosts: 3597\n"
          ]
        }
      ],
      "source": [
        "# TODO: Replace <FILL IN> with appropriate code\n",
        "# HINT: Do you recall the tips from (3a)? Each of these <FILL IN> could be an transformation or action.\n",
        "\n",
        "hosts = access_logs.map(lambda s: (s.host, 1))\n",
        "\n",
        "uniqueHosts = hosts.reduceByKey(lambda a, b: a + b)\n",
        "\n",
        "uniqueHostCount = uniqueHosts.count()\n",
        "print('Unique hosts: %d' % uniqueHostCount)"
      ]
    },
    {
      "cell_type": "code",
      "execution_count": 26,
      "metadata": {
        "application/vnd.databricks.v1+cell": {
          "inputWidgets": {},
          "nuid": "3f8195a5-33b9-4f34-818d-94d4220ea015",
          "showTitle": false,
          "title": ""
        },
        "id": "SNcm3sIeksxM"
      },
      "outputs": [
        {
          "name": "stdout",
          "output_type": "stream",
          "text": [
            "1 test passed.\n"
          ]
        }
      ],
      "source": [
        "# TEST Number of unique hosts (3b)\n",
        "Test.assertEquals(uniqueHostCount, 3597, 'incorrect uniqueHostCount')"
      ]
    },
    {
      "cell_type": "markdown",
      "metadata": {
        "application/vnd.databricks.v1+cell": {
          "inputWidgets": {},
          "nuid": "8089e71d-364f-48d1-9cfc-233a51be2aec",
          "showTitle": false,
          "title": ""
        },
        "id": "ISwu26bQksxM"
      },
      "source": [
        "**(3c) Exercise: Number of Unique Hourly Hosts**\n",
        "\n",
        "For an advanced exercise, let's determine the number of unique hosts in the entire log on a hour-by-hour basis. This computation will give us counts of the number of unique hourly hosts. We'd like a list sorted by increasing hour which includes the hour of the day and the associated number of unique hosts for that hour. Make sure you cache the resulting RDD `hourlyHosts` so that we can reuse it in the next exercise.\n",
        "\n",
        "Think about the steps that you need to perform to count the number of different hosts that make requests *each* hour.\n",
        "\n",
        "*Since the log only covers a single day, you can ignore the day.*"
      ]
    },
    {
      "cell_type": "code",
      "execution_count": 49,
      "metadata": {},
      "outputs": [],
      "source": [
        "# test\n",
        "\n",
        "# hourToHostPairTuple = access_logs.map(lambda s: (s.date_time.hour, s.host))\n",
        "\n",
        "# hourGroupedHosts = (hourToHostPairTuple\n",
        "#                     .distinct() # Returns a new DataFrame containing the distinct row\n",
        "#                     .groupByKey() \n",
        "#                     .map(lambda iterator: list(iterator))\n",
        "#                     .sortByKey())\n",
        "\n",
        "# hourGroupedHosts.collect()"
      ]
    },
    {
      "cell_type": "code",
      "execution_count": 42,
      "metadata": {
        "application/vnd.databricks.v1+cell": {
          "inputWidgets": {},
          "nuid": "36c5c4a8-0ad3-48aa-acbe-d645ba2b39fd",
          "showTitle": false,
          "title": ""
        },
        "id": "qRLrZgY_ksxN"
      },
      "outputs": [
        {
          "name": "stdout",
          "output_type": "stream",
          "text": [
            "Unique hosts per hour: [(0, 378), (1, 329), (2, 263), (3, 194), (4, 179), (5, 156), (6, 165), (7, 170), (8, 211), (9, 245), (10, 328), (11, 323), (12, 280), (13, 306), (14, 317), (15, 351), (16, 362), (17, 112)]\n"
          ]
        }
      ],
      "source": [
        "# TODO: Replace <FILL IN> with appropriate code\n",
        "\n",
        "hourToHostPairTuple = access_logs.map(lambda s: (s.date_time.hour, s.host))\n",
        "\n",
        "hourGroupedHosts = (hourToHostPairTuple\n",
        "                    .distinct() # Returns a new DataFrame containing the distinct row\n",
        "                    .groupByKey() \n",
        "                    .map(lambda iterator: list(iterator))\n",
        "                    .sortByKey())\n",
        "\n",
        "hourHostCount = (hourGroupedHosts\n",
        "               .map(lambda s: (s[0], len(s[1]))))\n",
        "\n",
        "hourlyHosts = hourHostCount.cache()\n",
        "\n",
        "hourlyHostsList = hourlyHosts.collect()\n",
        "\n",
        "print('Unique hosts per hour: %s' % hourlyHostsList)"
      ]
    },
    {
      "cell_type": "code",
      "execution_count": 43,
      "metadata": {
        "application/vnd.databricks.v1+cell": {
          "inputWidgets": {},
          "nuid": "0fb89efc-6bd3-4576-bf90-8f296e1317a5",
          "showTitle": false,
          "title": ""
        },
        "id": "5UJa8HqfksxN"
      },
      "outputs": [
        {
          "name": "stdout",
          "output_type": "stream",
          "text": [
            "1 test passed.\n",
            "1 test passed.\n",
            "1 test passed.\n"
          ]
        }
      ],
      "source": [
        "# TEST Number of unique hourly hosts (3c)\n",
        "Test.assertEquals(hourlyHosts.count(), 18, 'incorrect hourlyHosts.count()')\n",
        "Test.assertEquals(hourlyHostsList, [(0, 378), (1, 329), (2, 263), (3, 194), (4, 179), (5, 156), (6, 165), (7, 170), (8, 211), (9, 245), (10, 328), (11, 323), (12, 280), (13, 306), (14, 317), (15, 351), (16, 362), (17, 112)], 'incorrect hourlyHostsList')\n",
        "Test.assertTrue(hourlyHosts.is_cached, 'incorrect hourlyHosts.is_cached')"
      ]
    },
    {
      "cell_type": "markdown",
      "metadata": {
        "application/vnd.databricks.v1+cell": {
          "inputWidgets": {},
          "nuid": "8ee6f2e5-20b1-4b0f-a67f-0539d6c33f49",
          "showTitle": false,
          "title": ""
        },
        "id": "LpN0HnBlksxN"
      },
      "source": [
        "**(3d) Exercise: Visualizing the Number of Unique Hourly Hosts**\n",
        "\n",
        "Using the results from the previous exercise, use `matplotlib` to plot a \"Line\" graph of the unique hosts requests by hour.\n",
        "\n",
        "`hoursWithHosts` should be a list of hours and `hosts` should be a list of number of unique hosts for each corresponding hour.\n",
        "\n",
        "How could you convert a RDD into a list? See the [`collect()` method](https://spark.apache.org/docs/latest/api/python/reference/api/pyspark.RDD.collect.html)."
      ]
    },
    {
      "cell_type": "code",
      "execution_count": 44,
      "metadata": {
        "application/vnd.databricks.v1+cell": {
          "inputWidgets": {},
          "nuid": "6031c574-b042-437e-a0a3-c2e7c89a9a8d",
          "showTitle": false,
          "title": ""
        },
        "id": "S-TG0hQHksxO"
      },
      "outputs": [],
      "source": [
        "# TODO: Replace <FILL IN> with appropriate code\n",
        "\n",
        "hoursWithHosts = hourlyHosts.map(lambda s:s[0]).collect()\n",
        "hosts = hourlyHosts.map(lambda s: s[1]).collect()"
      ]
    },
    {
      "cell_type": "code",
      "execution_count": 45,
      "metadata": {
        "application/vnd.databricks.v1+cell": {
          "inputWidgets": {},
          "nuid": "6c10decc-2731-42cf-903d-ba23ade93f3e",
          "showTitle": false,
          "title": ""
        },
        "id": "8KkuSPL2ksxO"
      },
      "outputs": [
        {
          "name": "stdout",
          "output_type": "stream",
          "text": [
            "1 test passed.\n",
            "1 test passed.\n"
          ]
        }
      ],
      "source": [
        "# TEST Visualizing unique hourly hosts (3d)\n",
        "test_hours = list(range(0, 18))\n",
        "Test.assertEquals(hoursWithHosts, test_hours, 'incorrect hours')\n",
        "Test.assertEquals(hosts, [378, 329, 263, 194, 179, 156, 165, 170, 211, 245, 328, 323, 280, 306, 317, 351, 362, 112], 'incorrect hosts')"
      ]
    },
    {
      "cell_type": "code",
      "execution_count": 51,
      "metadata": {
        "application/vnd.databricks.v1+cell": {
          "inputWidgets": {},
          "nuid": "6fbcb254-7108-4c82-8dcb-2dfd582243e8",
          "showTitle": false,
          "title": ""
        },
        "id": "cevxNWtbksxO"
      },
      "outputs": [
        {
          "data": {
            "image/png": "[encoded data removed]",
            "text/plain": [
              "<Figure size 800x450 with 1 Axes>"
            ]
          },
          "metadata": {},
          "output_type": "display_data"
        },
        {
          "data": {
            "image/png": "[encoded data removed]",
            "text/plain": [
              "<Figure size 800x450 with 1 Axes>"
            ]
          },
          "metadata": {},
          "output_type": "display_data"
        }
      ],
      "source": [
        "fig = plt.figure(figsize=(8,4.5), facecolor='white', edgecolor='white')\n",
        "plt.axis([min(hoursWithHosts), max(hoursWithHosts), 0, max(hosts)+100])\n",
        "plt.grid(which='major', axis='y')\n",
        "plt.xlabel('Hour')\n",
        "plt.ylabel('Hosts')\n",
        "plt.plot(hoursWithHosts, hosts)\n",
        "display(fig)"
      ]
    },
    {
      "cell_type": "markdown",
      "metadata": {
        "application/vnd.databricks.v1+cell": {
          "inputWidgets": {},
          "nuid": "e0733802-56e7-45bc-9e30-722d155e683c",
          "showTitle": false,
          "title": ""
        },
        "id": "Wl6_VJB5ksxP"
      },
      "source": [
        "**(3e) Exercise: Average Number of Hourly Requests per Host**\n",
        "\n",
        "Next, let's determine the average number of requests on a hour-by-hour basis. We'd like a list by increasing hour of the day and the associated average number of requests per host for that hour. Make sure you cache the resulting RDD `avgHourlyReqPerHost` so that we can reuse it in the next exercise.\n",
        "\n",
        "To compute the average number of requests per host, get the total number of request across all hosts and divide that by the number of unique hosts.\n",
        "\n",
        "*Since the log only covers a single day, you can skip checking for the day.*\n",
        "\n",
        "*Also to keep it simple, when calculating the approximate average use the integer value - you do not need to upcast to float*"
      ]
    },
    {
      "cell_type": "code",
      "execution_count": 80,
      "metadata": {},
      "outputs": [],
      "source": [
        "# # test\n",
        "\n",
        "# hourAndHostTuple = access_logs.map(lambda s: (s.date_time.hour, 1))\n",
        "\n",
        "# groupedByHour = hourAndHostTuple.reduceByKey(lambda a, b: a + b)\n",
        "\n",
        "# sortedByHour =  groupedByHour.join(hourlyHosts).sortByKey()\n",
        "\n",
        "# sortedByHour.collect()"
      ]
    },
    {
      "cell_type": "code",
      "execution_count": 79,
      "metadata": {
        "application/vnd.databricks.v1+cell": {
          "inputWidgets": {},
          "nuid": "1f4b24c0-2d22-4142-9ce0-02a42fb7c265",
          "showTitle": false,
          "title": ""
        },
        "id": "pifwQM-2ksxP"
      },
      "outputs": [
        {
          "name": "stdout",
          "output_type": "stream",
          "text": [
            "Average number of hourly requests per Hosts is [(0, 9), (1, 9), (2, 8), (3, 8), (4, 8), (5, 8), (6, 9), (7, 9), (8, 9), (9, 8), (10, 9), (11, 10), (12, 9), (13, 10), (14, 9), (15, 9), (16, 8), (17, 6)]\n"
          ]
        }
      ],
      "source": [
        "# TODO: Replace <FILL IN> with appropriate code\n",
        "\n",
        "hourAndHostTuple = access_logs.map(lambda s: (s.date_time.hour, 1))\n",
        "\n",
        "groupedByHour = hourAndHostTuple.reduceByKey(lambda a, b: a + b)\n",
        "\n",
        "sortedByHour =  groupedByHour.sortByKey()\n",
        "\n",
        "avgHourlyReqPerHost = (sortedByHour\n",
        "                       .join(hourlyHosts)\n",
        "                       .mapValues(lambda s : int(s[0]/s[1]))).sortByKey().cache()\n",
        "avgHourlyReqPerHostList = avgHourlyReqPerHost.take(18)\n",
        "print('Average number of hourly requests per Hosts is %s' % avgHourlyReqPerHostList)"
      ]
    },
    {
      "cell_type": "code",
      "execution_count": 78,
      "metadata": {
        "application/vnd.databricks.v1+cell": {
          "inputWidgets": {},
          "nuid": "74ca2e13-89c9-41a7-9876-c843bd3b4ece",
          "showTitle": false,
          "title": ""
        },
        "id": "4Pqa-kJpksxQ"
      },
      "outputs": [
        {
          "name": "stdout",
          "output_type": "stream",
          "text": [
            "1 test passed.\n",
            "1 test passed.\n"
          ]
        }
      ],
      "source": [
        "# TEST Average number of hourly requests per hosts (3e)\n",
        "Test.assertEquals(avgHourlyReqPerHostList, [(0, 9), (1, 9), (2, 8), (3, 8), (4, 8), (5, 8), (6, 9), (7, 9), (8, 9), (9, 8), (10, 9), (11, 10), (12, 9), (13, 10), (14, 9), (15, 9), (16, 8), (17, 6)], 'incorrect avgHourlyReqPerHostList')\n",
        "Test.assertTrue(avgHourlyReqPerHost.is_cached, 'incorrect avgHourlyReqPerHost.is_cache')"
      ]
    },
    {
      "cell_type": "markdown",
      "metadata": {
        "application/vnd.databricks.v1+cell": {
          "inputWidgets": {},
          "nuid": "3b45ab7d-048e-407b-be48-e77dc1f95b80",
          "showTitle": false,
          "title": ""
        },
        "id": "66k3c8_vksxQ"
      },
      "source": [
        "**(3f) Exercise: Visualizing the Average Hourly Requests per Unique Host**\n",
        "\n",
        "Using the result `avgHourlyReqPerHost` from the previous exercise, use `matplotlib` to plot a \"Line\" graph of the average hourly requests per unique host by hour.\n",
        "\n",
        "`hoursWithAvg` should be a list of hours and `avgs` should be a list of average hourly requests per unique hosts for each corresponding hour."
      ]
    },
    {
      "cell_type": "code",
      "execution_count": 81,
      "metadata": {
        "application/vnd.databricks.v1+cell": {
          "inputWidgets": {},
          "nuid": "e83c4141-3e5f-4f09-956f-c77bcac9dfc1",
          "showTitle": false,
          "title": ""
        },
        "id": "Sf-cSBCJksxR"
      },
      "outputs": [],
      "source": [
        "# TODO: Replace <FILL IN> with appropriate code\n",
        "\n",
        "hoursWithAvg = avgHourlyReqPerHost.keys().collect()\n",
        "avgs = avgHourlyReqPerHost.values().collect()\n"
      ]
    },
    {
      "cell_type": "code",
      "execution_count": 82,
      "metadata": {
        "application/vnd.databricks.v1+cell": {
          "inputWidgets": {},
          "nuid": "045b01a7-d98b-45af-9725-0ef156a5e1e2",
          "showTitle": false,
          "title": ""
        },
        "id": "EsYMtYhAksxR"
      },
      "outputs": [
        {
          "name": "stdout",
          "output_type": "stream",
          "text": [
            "1 test passed.\n",
            "1 test passed.\n"
          ]
        }
      ],
      "source": [
        "# TEST Average Hourly Requests per Unique Host (3f)\n",
        "Test.assertEquals(hoursWithAvg, [0, 1, 2, 3, 4, 5, 6, 7, 8, 9, 10, 11, 12, 13, 14, 15, 16, 17], 'incorrect hours')\n",
        "Test.assertEquals(avgs, [9, 9, 8, 8, 8, 8, 9, 9, 9, 8, 9, 10, 9, 10, 9, 9, 8, 6], 'incorrect avgs')"
      ]
    },
    {
      "cell_type": "code",
      "execution_count": 84,
      "metadata": {
        "application/vnd.databricks.v1+cell": {
          "inputWidgets": {},
          "nuid": "a237a663-379b-4cbd-b3f5-0282050a8ffb",
          "showTitle": false,
          "title": ""
        },
        "id": "Ik3GCUM2ksxS"
      },
      "outputs": [
        {
          "data": {
            "image/png": "[encoded data removed]",
            "text/plain": [
              "<Figure size 800x420 with 1 Axes>"
            ]
          },
          "metadata": {},
          "output_type": "display_data"
        },
        {
          "data": {
            "image/png": "[encoded data removed]",
            "text/plain": [
              "<Figure size 800x420 with 1 Axes>"
            ]
          },
          "metadata": {},
          "output_type": "display_data"
        }
      ],
      "source": [
        "fig = plt.figure(figsize=(8,4.2), facecolor='white', edgecolor='white')\n",
        "plt.axis([0, max(hoursWithAvg), 0, max(avgs)+2])\n",
        "plt.grid(which='major', axis='y')\n",
        "plt.xlabel('Hour')\n",
        "plt.ylabel('Average')\n",
        "plt.plot(hoursWithAvg, avgs)\n",
        "display(fig)"
      ]
    },
    {
      "cell_type": "markdown",
      "metadata": {
        "application/vnd.databricks.v1+cell": {
          "inputWidgets": {},
          "nuid": "d86da38f-0ede-42cc-8f53-cd4676bdb9e5",
          "showTitle": false,
          "title": ""
        },
        "id": "k6xjqKk_ksxS"
      },
      "source": [
        "#### **Part 4: Exploring 404 Response Codes**\n",
        "\n",
        "Let's drill down and explore the error 404 response code records. 404 errors are returned when an endpoint is not found by the server (i.e., a missing page or object)."
      ]
    },
    {
      "cell_type": "markdown",
      "metadata": {
        "application/vnd.databricks.v1+cell": {
          "inputWidgets": {},
          "nuid": "3262b88b-1ca2-4aec-a2f2-a26e8bc55c8f",
          "showTitle": false,
          "title": ""
        },
        "id": "IX59LY22ksxS"
      },
      "source": [
        "**(4a) Exercise: Counting 404 Response Codes**\n",
        "\n",
        "Create a RDD containing only log records with a 404 response code. Make sure you `cache()` the RDD `badRecords` as we will use it in the rest of this exercise.\n",
        "\n",
        "How many 404 records are in the log?"
      ]
    },
    {
      "cell_type": "code",
      "execution_count": 87,
      "metadata": {
        "application/vnd.databricks.v1+cell": {
          "inputWidgets": {},
          "nuid": "70426ed3-9850-4988-ad66-13bfaf08aa87",
          "showTitle": false,
          "title": ""
        },
        "id": "HEtxRCKKksxS"
      },
      "outputs": [
        {
          "name": "stdout",
          "output_type": "stream",
          "text": [
            "Found 206 404 URLs\n"
          ]
        }
      ],
      "source": [
        "# TODO: Replace <FILL IN> with appropriate code\n",
        "\n",
        "badRecords = access_logs.filter(lambda line: line.response_code == 404).cache()\n",
        "print('Found %d 404 URLs' % badRecords.count())"
      ]
    },
    {
      "cell_type": "code",
      "execution_count": 86,
      "metadata": {
        "application/vnd.databricks.v1+cell": {
          "inputWidgets": {},
          "nuid": "e999a54f-a862-40c2-b9a9-ef9c9ed29a9e",
          "showTitle": false,
          "title": ""
        },
        "id": "qwwFI5yMksxT"
      },
      "outputs": [
        {
          "name": "stdout",
          "output_type": "stream",
          "text": [
            "1 test passed.\n",
            "1 test passed.\n"
          ]
        }
      ],
      "source": [
        "# TEST Counting 404 (4a)\n",
        "Test.assertEquals(badRecords.count(), 206, 'incorrect badRecords.count()')\n",
        "Test.assertTrue(badRecords.is_cached, 'incorrect badRecords.is_cached')"
      ]
    },
    {
      "cell_type": "markdown",
      "metadata": {
        "application/vnd.databricks.v1+cell": {
          "inputWidgets": {},
          "nuid": "31d01826-e216-4d2d-b4de-a486213657a2",
          "showTitle": false,
          "title": ""
        },
        "id": "Dd1988lTksxT"
      },
      "source": [
        "**(4b) Exercise: Listing 404 Response Code Records**\n",
        "\n",
        "Using the RDD containing only log records with a 404 response code that you cached in part (4a), print out a list up to 30 **distinct** endpoints that generate 404 errors -  *no endpoint should appear more than once in your list.*"
      ]
    },
    {
      "cell_type": "code",
      "execution_count": 89,
      "metadata": {
        "application/vnd.databricks.v1+cell": {
          "inputWidgets": {},
          "nuid": "dc20c304-ea02-4523-9e95-57155cd63341",
          "showTitle": false,
          "title": ""
        },
        "id": "a4aR6aKLksxT"
      },
      "outputs": [
        {
          "name": "stdout",
          "output_type": "stream",
          "text": [
            "404 URLS: ['/news/sci.space.shuttle/archive/sci-space-shuttle-22-apr-1995-40.txt', '/history/apollo-13/apollo-13.html', '/history/apollo/pad-abort-test-1/sounds/', '/history/apollo/pad-abort-test-1/movies/', '/history/apollo/pad-abort-test-1/docs/', '/:/spacelink.msfc.nasa.gov', '/robots.txt', '/shuttle/missions/sts-85/mission-sts-85.html', '/://spacelink.msfc.nasa.gov', '/ads/eds2_ad.gif', '/Business/', '/misc/showcase/personal_edition/images/milan_banner.gif', '/Titles?qt=nasa', '/shuttle/resources/orbiters/atlantis.gif', '/shuttle/missions/sts-68/ksc-upclose.gif', '/shuttle/missions/sts-86/mission-sts-86.html', '/shuttle/missions/sts-65/sts-65-day-04-highlights.html', '/shuttle/missions/sts-71/ksc-status-06-05-95.txt', '/.pub.win3.winvn', '/software/winvn/winvn.html.', '/people/nasa-cm/jmd.html', '/news/sci.space.shuttle/archive/sci-space-shuttle-9-aug-1994-62.txt', '/shuttle/missions/sts-67/images/images.htm', '/lc39a.gif', '/shuttle/missions/sts-XX/mission-sts-XX.html', '/images/crawlerway.gif', '/shuttle/countdown/images/NASA-logosmall.gi', '//images/NASA-logosmall.gi', '/images/NASA-logosmall.gi', '/history/apollo/apollo-13.html']\n"
          ]
        }
      ],
      "source": [
        "# TODO: Replace <FILL IN> with appropriate code\n",
        "\n",
        "badEndpoints = badRecords.map(lambda line:line.endpoint)\n",
        "\n",
        "badUniqueEndpoints = badEndpoints.distinct()\n",
        "\n",
        "badUniqueEndpointsPick30 = badUniqueEndpoints.take(30)\n",
        "print('404 URLS: %s' % badUniqueEndpointsPick30)"
      ]
    },
    {
      "cell_type": "code",
      "execution_count": 90,
      "metadata": {
        "application/vnd.databricks.v1+cell": {
          "inputWidgets": {},
          "nuid": "2a458c04-f67a-433b-a7af-4b6fb6a1b26d",
          "showTitle": false,
          "title": ""
        },
        "id": "89p69ecLksxT"
      },
      "outputs": [
        {
          "name": "stdout",
          "output_type": "stream",
          "text": [
            "1 test passed.\n"
          ]
        }
      ],
      "source": [
        "# TEST Listing 404 records (4b)\n",
        "\n",
        "badUniqueEndpointsSet30 = set(badUniqueEndpointsPick30)\n",
        "Test.assertEquals(len(badUniqueEndpointsSet30), 30, 'badUniqueEndpointsPick30 not distinct')"
      ]
    },
    {
      "cell_type": "markdown",
      "metadata": {
        "application/vnd.databricks.v1+cell": {
          "inputWidgets": {},
          "nuid": "93220801-439a-4c3c-8456-0fea8f680041",
          "showTitle": false,
          "title": ""
        },
        "id": "fqjGcnvAksxT"
      },
      "source": [
        "**(4c) Exercise: Listing the Top Ten 404 Response Code Endpoints**\n",
        "\n",
        "Using the RDD containing only log records with a 404 response code that you cached in part (4a), print out a list of the top ten endpoints that generate the most 404 errors.\n",
        "\n",
        "*Remember, top endpoints should be in sorted order*"
      ]
    },
    {
      "cell_type": "code",
      "execution_count": 93,
      "metadata": {
        "application/vnd.databricks.v1+cell": {
          "inputWidgets": {},
          "nuid": "38f8483d-6adf-4d08-b327-c6f61486ec1a",
          "showTitle": false,
          "title": ""
        },
        "id": "ogJ4C-oQksxT"
      },
      "outputs": [
        {
          "name": "stdout",
          "output_type": "stream",
          "text": [
            "Top Ten 404 URLs: [('/pub/winvn/readme.txt', 20), ('/pub/winvn/release.txt', 19), ('/shuttle/missions/sts-71/images/KSC-95EC-0916.txt', 14), ('/shuttle/resources/orbiters/atlantis.gif', 13), ('/history/apollo/publications/sp-350/sp-350.txt~', 12), ('/://spacelink.msfc.nasa.gov', 5), ('/misc/showcase/personal_edition/images/milan_banner.gif', 5), ('/shuttle/missions/sts-68/ksc-upclose.gif', 4), ('/software/winvn/winvn.html.', 4), ('/people/nasa-cm/jmd.html', 4)]\n"
          ]
        }
      ],
      "source": [
        "# TODO: Replace <FILL IN> with appropriate code\n",
        "\n",
        "badEndpointsCountPairTuple = badRecords.map(lambda s:(s.endpoint, 1))\n",
        "\n",
        "badEndpointsSum = badEndpointsCountPairTuple.reduceByKey(lambda a,b:a+b)\n",
        "\n",
        "badEndpointsTop10 = badEndpointsSum.top(10, lambda s:s[1])\n",
        "print('Top Ten 404 URLs: %s' % badEndpointsTop10)"
      ]
    },
    {
      "cell_type": "code",
      "execution_count": 94,
      "metadata": {
        "application/vnd.databricks.v1+cell": {
          "inputWidgets": {},
          "nuid": "ac2902ed-43fb-4cb2-88d8-e64e5b4ac6a0",
          "showTitle": false,
          "title": ""
        },
        "id": "J51o7RqnksxU"
      },
      "outputs": [
        {
          "name": "stdout",
          "output_type": "stream",
          "text": [
            "1 test passed.\n"
          ]
        }
      ],
      "source": [
        "# TEST Top ten 404 URLs (4c)\n",
        "Test.assertEquals(badEndpointsTop10,\n",
        "                  [(u'/pub/winvn/readme.txt', 20), (u'/pub/winvn/release.txt', 19),\n",
        "                   (u'/shuttle/missions/sts-71/images/KSC-95EC-0916.txt', 14), (u'/shuttle/resources/orbiters/atlantis.gif', 13),\n",
        "                   (u'/history/apollo/publications/sp-350/sp-350.txt~', 12), (u'/://spacelink.msfc.nasa.gov', 5),\n",
        "                   (u'/misc/showcase/personal_edition/images/milan_banner.gif', 5), (u'/shuttle/missions/sts-68/ksc-upclose.gif', 4),\n",
        "                   (u'/software/winvn/winvn.html.', 4), (u'/people/nasa-cm/jmd.html', 4)],\n",
        "                  'incorrect badEndpointsTop20')"
      ]
    },
    {
      "cell_type": "markdown",
      "metadata": {
        "application/vnd.databricks.v1+cell": {
          "inputWidgets": {},
          "nuid": "b01981fd-fb61-458c-8fd9-708b3191e4f6",
          "showTitle": false,
          "title": ""
        },
        "id": "REz_0UNxksxU"
      },
      "source": [
        "**(4d) Exercise: Hourly 404 Response Codes**\n",
        "\n",
        "Using the RDD `badRecords` you cached in the part (4a) and by hour of the day and in increasing order, create an RDD containing how many requests had a 404 return code for each hour of the day (midnight starts at 0). Cache the resulting RDD hourRecordsSorted and print that as a list."
      ]
    },
    {
      "cell_type": "code",
      "execution_count": 97,
      "metadata": {
        "application/vnd.databricks.v1+cell": {
          "inputWidgets": {},
          "nuid": "bb92ed74-af2e-40ed-ac4a-000ba368c10f",
          "showTitle": false,
          "title": ""
        },
        "id": "xa65qBCSksxU"
      },
      "outputs": [
        {
          "name": "stdout",
          "output_type": "stream",
          "text": [
            "Top hours for 404 requests: [(0, 24), (1, 10), (2, 12), (3, 16), (4, 10), (5, 9), (6, 4), (7, 2), (8, 6), (9, 3), (10, 13), (11, 23), (12, 10), (13, 13), (14, 19), (15, 17), (16, 14), (17, 1)]\n"
          ]
        }
      ],
      "source": [
        "# TODO: Replace <FILL IN> with appropriate code\n",
        "\n",
        "hourCountPairTuple = badRecords.map(lambda s:(s.date_time.hour,1))\n",
        "\n",
        "hourRecordsSum = hourCountPairTuple.reduceByKey(lambda a,b:a+b)\n",
        "\n",
        "hourRecordsSorted = hourRecordsSum.sortByKey().cache()\n",
        "\n",
        "errHourList = hourRecordsSorted.collect()\n",
        "print('Top hours for 404 requests: %s' % errHourList)"
      ]
    },
    {
      "cell_type": "code",
      "execution_count": 98,
      "metadata": {
        "application/vnd.databricks.v1+cell": {
          "inputWidgets": {},
          "nuid": "35ca2aaa-3ccf-493c-a782-5d5f5c62808e",
          "showTitle": false,
          "title": ""
        },
        "id": "c4HoBcBUksxU"
      },
      "outputs": [
        {
          "name": "stdout",
          "output_type": "stream",
          "text": [
            "1 test passed.\n",
            "1 test passed.\n"
          ]
        }
      ],
      "source": [
        "# TEST Hourly 404 response codes (4h)\n",
        "Test.assertEquals(errHourList, [(0, 24), (1, 10), (2, 12), (3, 16), (4, 10), (5, 9), (6, 4), (7, 2), (8, 6), (9, 3), (10, 13), (11, 23), (12, 10), (13, 13), (14, 19), (15, 17), (16, 14), (17, 1)], 'incorrect errHourList')\n",
        "Test.assertTrue(hourRecordsSorted.is_cached, 'incorrect hourRecordsSorted.is_cached')"
      ]
    },
    {
      "cell_type": "markdown",
      "metadata": {
        "application/vnd.databricks.v1+cell": {
          "inputWidgets": {},
          "nuid": "cdb4e034-effe-4e75-9020-1eecd40d0405",
          "showTitle": false,
          "title": ""
        },
        "id": "4cDZ4x8xksxU"
      },
      "source": [
        "**(4e) Exercise: Visualizing the 404 Response Codes by Hour**\n",
        "\n",
        "Using the results from the previous exercise, use `matplotlib` to plot a \"Line\" or \"Bar\" graph of the 404 response codes by hour."
      ]
    },
    {
      "cell_type": "code",
      "execution_count": 99,
      "metadata": {
        "application/vnd.databricks.v1+cell": {
          "inputWidgets": {},
          "nuid": "4086d4da-e13d-4e93-8582-f3c1119e9bbd",
          "showTitle": false,
          "title": ""
        },
        "id": "n41BMNTkksxU"
      },
      "outputs": [
        {
          "name": "stdout",
          "output_type": "stream",
          "text": [
            "[0, 1, 2, 3, 4, 5, 6, 7, 8, 9, 10, 11, 12, 13, 14, 15, 16, 17]\n",
            "[24, 10, 12, 16, 10, 9, 4, 2, 6, 3, 13, 23, 10, 13, 19, 17, 14, 1]\n"
          ]
        }
      ],
      "source": [
        "# TODO: Replace <FILL IN> with appropriate code\n",
        "\n",
        "hoursWithErrors404 = hourRecordsSorted.keys().collect()\n",
        "errors404ByHours = hourRecordsSorted.values().collect()\n",
        "print(hoursWithErrors404)\n",
        "print(errors404ByHours)"
      ]
    },
    {
      "cell_type": "code",
      "execution_count": 100,
      "metadata": {
        "application/vnd.databricks.v1+cell": {
          "inputWidgets": {},
          "nuid": "09071853-9718-4be0-a492-97138cdc047f",
          "showTitle": false,
          "title": ""
        },
        "id": "IpRscno3ksxV"
      },
      "outputs": [
        {
          "name": "stdout",
          "output_type": "stream",
          "text": [
            "1 test passed.\n",
            "1 test passed.\n"
          ]
        }
      ],
      "source": [
        "# TEST Visualizing the 404 Response Codes by Hour (4i)\n",
        "Test.assertEquals(hoursWithErrors404, [0, 1, 2, 3, 4, 5, 6, 7, 8, 9, 10, 11, 12, 13, 14, 15, 16, 17], 'incorrect hoursWithErrors404')\n",
        "Test.assertEquals(errors404ByHours, [24, 10, 12, 16, 10, 9, 4, 2, 6, 3, 13, 23, 10, 13, 19, 17, 14, 1], 'incorrect errors404ByHours')"
      ]
    },
    {
      "cell_type": "code",
      "execution_count": 102,
      "metadata": {
        "application/vnd.databricks.v1+cell": {
          "inputWidgets": {},
          "nuid": "2758bca0-f3ea-4747-812c-352a8d3988cf",
          "showTitle": false,
          "title": ""
        },
        "id": "4L18YB5SksxV"
      },
      "outputs": [
        {
          "data": {
            "image/png": "[encoded data removed]",
            "text/plain": [
              "<Figure size 800x420 with 1 Axes>"
            ]
          },
          "metadata": {},
          "output_type": "display_data"
        },
        {
          "data": {
            "image/png": "[encoded data removed]",
            "text/plain": [
              "<Figure size 800x420 with 1 Axes>"
            ]
          },
          "metadata": {},
          "output_type": "display_data"
        }
      ],
      "source": [
        "fig = plt.figure(figsize=(8,4.2), facecolor='white', edgecolor='white')\n",
        "plt.axis([0, max(hoursWithErrors404), 0, max(errors404ByHours)])\n",
        "plt.grid(which='major', axis='y')\n",
        "plt.xlabel('Hour')\n",
        "plt.ylabel('404 Errors')\n",
        "plt.plot(hoursWithErrors404, errors404ByHours)\n",
        "display(fig)"
      ]
    }
  ],
  "metadata": {
    "application/vnd.databricks.v1+notebook": {
      "dashboards": [],
      "language": "python",
      "notebookMetadata": {
        "pythonIndentUnit": 2
      },
      "notebookName": "log_analysis",
      "notebookOrigID": 4176429342212641,
      "widgets": {}
    },
    "colab": {
      "provenance": []
    },
    "kernelspec": {
      "display_name": "venv",
      "language": "python",
      "name": "python3"
    },
    "language_info": {
      "codemirror_mode": {
        "name": "ipython",
        "version": 3
      },
      "file_extension": ".py",
      "mimetype": "text/x-python",
      "name": "python",
      "nbconvert_exporter": "python",
      "pygments_lexer": "ipython3",
      "version": "3.10.12"
    },
    "name": "apache_log",
    "notebookId": 1708714483605329
  },
  "nbformat": 4,
  "nbformat_minor": 0
}
