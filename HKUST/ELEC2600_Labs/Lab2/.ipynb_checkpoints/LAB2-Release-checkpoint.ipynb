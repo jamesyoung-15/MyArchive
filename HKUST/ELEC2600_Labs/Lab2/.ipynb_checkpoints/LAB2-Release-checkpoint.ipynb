{
 "cells": [
  {
   "cell_type": "markdown",
   "metadata": {},
   "source": [
    "### Objectives:\n",
    "\n",
    "- To compute the relative frequency of two events occurring at the same time.\n",
    "- To compute the relative frequency of one event occurs given that another event has also occurred.\n",
    "- To be familiar with properties of the relative frequency."
   ]
  },
  {
   "cell_type": "markdown",
   "metadata": {},
   "source": [
    "The file “rainfall.xlsx”, which is extracted from The Hong Kong Observatory https://www.hko.gov.hk/en/wxinfo/pastwx/mws/mws.htm, stores the rainfall in Hong Kong within a certain period. Each element in the column “Rainfall” in the file “rainfall.xlsx” indicates the rainfall on a day. A positive value indicates it rained on that day, while a 0 indicates it did not rain on that day. One may wonder if season information indicates whether a day is rainy or not. For this, the column “Seasons” stores the season labels.\n",
    "\n",
    "\n",
    "Download the file \"rainfall.xlsx\" from the course website to complete the lab. \n",
    "\n",
    "We recommend you use the pandas data analysis package in python to do the homework. In particular, you should find the groupby and count functions provided by pandas useful. More information about the pandas data analysis package can be found from here:\n",
    "\n",
    "https://pandas.pydata.org/pandas-docs/stable/index.html \n",
    "\n",
    "However, you are free to do the question using any methods or functions that you like.\n",
    "\n",
    "After you have completed the notebok, export it as pdf for submission. You can do this in one of two ways:\n",
    "1. Go to File, click Download as, click PDF via LaTeX (.pdf).\n",
    "2. Go to File, click Download as, click HTML (.html), then convert the html file to pdf file."
   ]
  },
  {
   "cell_type": "markdown",
   "metadata": {},
   "source": [
    "We will first load the datafile and look at the first few lines. Do not change the code below."
   ]
  },
  {
   "cell_type": "code",
   "execution_count": 1,
   "metadata": {},
   "outputs": [
    {
     "data": {
      "text/html": [
       "<div>\n",
       "<style scoped>\n",
       "    .dataframe tbody tr th:only-of-type {\n",
       "        vertical-align: middle;\n",
       "    }\n",
       "\n",
       "    .dataframe tbody tr th {\n",
       "        vertical-align: top;\n",
       "    }\n",
       "\n",
       "    .dataframe thead th {\n",
       "        text-align: right;\n",
       "    }\n",
       "</style>\n",
       "<table border=\"1\" class=\"dataframe\">\n",
       "  <thead>\n",
       "    <tr style=\"text-align: right;\">\n",
       "      <th></th>\n",
       "      <th>Date</th>\n",
       "      <th>Season</th>\n",
       "      <th>Rainfall</th>\n",
       "    </tr>\n",
       "    <tr>\n",
       "      <th>Index</th>\n",
       "      <th></th>\n",
       "      <th></th>\n",
       "      <th></th>\n",
       "    </tr>\n",
       "  </thead>\n",
       "  <tbody>\n",
       "    <tr>\n",
       "      <th>1</th>\n",
       "      <td>2021-09-01</td>\n",
       "      <td>fall</td>\n",
       "      <td>5.90</td>\n",
       "    </tr>\n",
       "    <tr>\n",
       "      <th>2</th>\n",
       "      <td>2021-09-02</td>\n",
       "      <td>fall</td>\n",
       "      <td>0.00</td>\n",
       "    </tr>\n",
       "    <tr>\n",
       "      <th>3</th>\n",
       "      <td>2021-09-03</td>\n",
       "      <td>fall</td>\n",
       "      <td>0.05</td>\n",
       "    </tr>\n",
       "    <tr>\n",
       "      <th>4</th>\n",
       "      <td>2021-09-04</td>\n",
       "      <td>fall</td>\n",
       "      <td>0.90</td>\n",
       "    </tr>\n",
       "    <tr>\n",
       "      <th>5</th>\n",
       "      <td>2021-09-05</td>\n",
       "      <td>fall</td>\n",
       "      <td>0.05</td>\n",
       "    </tr>\n",
       "  </tbody>\n",
       "</table>\n",
       "</div>"
      ],
      "text/plain": [
       "            Date Season  Rainfall\n",
       "Index                            \n",
       "1     2021-09-01   fall      5.90\n",
       "2     2021-09-02   fall      0.00\n",
       "3     2021-09-03   fall      0.05\n",
       "4     2021-09-04   fall      0.90\n",
       "5     2021-09-05   fall      0.05"
      ]
     },
     "execution_count": 1,
     "metadata": {},
     "output_type": "execute_result"
    }
   ],
   "source": [
    "# load pandas, a data analysis package\n",
    "import pandas as pd\n",
    "\n",
    "# read the data file and show the first few entries\n",
    "data = pd.read_excel('rainfall.xlsx',index_col='Index')\n",
    "data.head()"
   ]
  },
  {
   "cell_type": "markdown",
   "metadata": {},
   "source": [
    "**Part a:** From the data, find the relative frequency that a day is rainy, and the relative frequency of its complement (i.e. a day is not rainy). In other words, count the number of days whose rainfall is greater than 0 (or less than or equal to 0) and divide by the total number of days in the dataset."
   ]
  },
  {
   "cell_type": "code",
   "execution_count": 3,
   "metadata": {},
   "outputs": [
    {
     "data": {
      "text/html": [
       "<div>\n",
       "<style scoped>\n",
       "    .dataframe tbody tr th:only-of-type {\n",
       "        vertical-align: middle;\n",
       "    }\n",
       "\n",
       "    .dataframe tbody tr th {\n",
       "        vertical-align: top;\n",
       "    }\n",
       "\n",
       "    .dataframe thead th {\n",
       "        text-align: right;\n",
       "    }\n",
       "</style>\n",
       "<table border=\"1\" class=\"dataframe\">\n",
       "  <thead>\n",
       "    <tr style=\"text-align: right;\">\n",
       "      <th></th>\n",
       "      <th>Date</th>\n",
       "      <th>Season</th>\n",
       "      <th>Rainfall</th>\n",
       "      <th>Rainy</th>\n",
       "    </tr>\n",
       "    <tr>\n",
       "      <th>Index</th>\n",
       "      <th></th>\n",
       "      <th></th>\n",
       "      <th></th>\n",
       "      <th></th>\n",
       "    </tr>\n",
       "  </thead>\n",
       "  <tbody>\n",
       "    <tr>\n",
       "      <th>1</th>\n",
       "      <td>2021-09-01</td>\n",
       "      <td>fall</td>\n",
       "      <td>5.90</td>\n",
       "      <td>True</td>\n",
       "    </tr>\n",
       "    <tr>\n",
       "      <th>2</th>\n",
       "      <td>2021-09-02</td>\n",
       "      <td>fall</td>\n",
       "      <td>0.00</td>\n",
       "      <td>False</td>\n",
       "    </tr>\n",
       "    <tr>\n",
       "      <th>3</th>\n",
       "      <td>2021-09-03</td>\n",
       "      <td>fall</td>\n",
       "      <td>0.05</td>\n",
       "      <td>True</td>\n",
       "    </tr>\n",
       "    <tr>\n",
       "      <th>4</th>\n",
       "      <td>2021-09-04</td>\n",
       "      <td>fall</td>\n",
       "      <td>0.90</td>\n",
       "      <td>True</td>\n",
       "    </tr>\n",
       "    <tr>\n",
       "      <th>5</th>\n",
       "      <td>2021-09-05</td>\n",
       "      <td>fall</td>\n",
       "      <td>0.05</td>\n",
       "      <td>True</td>\n",
       "    </tr>\n",
       "  </tbody>\n",
       "</table>\n",
       "</div>"
      ],
      "text/plain": [
       "            Date Season  Rainfall  Rainy\n",
       "Index                                   \n",
       "1     2021-09-01   fall      5.90   True\n",
       "2     2021-09-02   fall      0.00  False\n",
       "3     2021-09-03   fall      0.05   True\n",
       "4     2021-09-04   fall      0.90   True\n",
       "5     2021-09-05   fall      0.05   True"
      ]
     },
     "execution_count": 3,
     "metadata": {},
     "output_type": "execute_result"
    }
   ],
   "source": [
    "# put your code here\n",
    "\n",
    "# add a new column called \"Rainy\" which is True if the Rainfall value is positive and False otherwise\n",
    "data['Rainy'] = (data['Rainfall'] > 0)\n",
    "\n",
    "# count how many days in the year it rained and how many days it did not\n",
    "n_rain = data.groupby('Rainy')['Rainy'].count()\n",
    "\n",
    "# we use the groupby command to separates the data by whether it rained\n",
    "\n",
    "\n",
    "# ['Rainy'] selects only the 'Rainy' column\n",
    "# \"count()\" counts how many cells in the column have valid entries"
   ]
  },
  {
   "cell_type": "markdown",
   "metadata": {},
   "source": [
    "**Part b:** Find the relative frequencies that a day is a spring day, a summer day, a fall day and a winter day, respectively. In other words, count the number of days in each season and divide by the total number of days in the dataset."
   ]
  },
  {
   "cell_type": "code",
   "execution_count": 3,
   "metadata": {},
   "outputs": [],
   "source": [
    "# put your code here\n",
    "\n",
    "# calculate the number of days in each season\n",
    "# calculate the relative frequencies that a day is spring, summer, fall and windter"
   ]
  },
  {
   "cell_type": "markdown",
   "metadata": {},
   "source": [
    "**Part c:** Find the The relative frequencies that a day a spring rainy day, a summer rainy day, a fall rainy day and a winter rainy day, respectively."
   ]
  },
  {
   "cell_type": "code",
   "execution_count": 4,
   "metadata": {},
   "outputs": [],
   "source": [
    "# put your code here\n",
    "\n",
    "# group by season and sum the boolean entries of \"Rainy\""
   ]
  },
  {
   "cell_type": "markdown",
   "metadata": {},
   "source": [
    "**Part d:** Fine the following values\n",
    "\n",
    "The relative frequency that a day is rainy given that the day is a spring day\n",
    "\n",
    "The relative frequency that a day is rainy given that the day is a summer day\n",
    "\n",
    "The relative frequency that a day is rainy given that the day is a fall day\n",
    "\n",
    "The relative frequency that a day is rainy given that the day is a winter day"
   ]
  },
  {
   "cell_type": "code",
   "execution_count": 5,
   "metadata": {},
   "outputs": [],
   "source": [
    "#put your code here"
   ]
  }
 ],
 "metadata": {
  "kernelspec": {
   "display_name": "Python 3 (ipykernel)",
   "language": "python",
   "name": "python3"
  },
  "language_info": {
   "codemirror_mode": {
    "name": "ipython",
    "version": 3
   },
   "file_extension": ".py",
   "mimetype": "text/x-python",
   "name": "python",
   "nbconvert_exporter": "python",
   "pygments_lexer": "ipython3",
   "version": "3.10.4"
  },
  "vscode": {
   "interpreter": {
    "hash": "a7dbb88c84ecda04e2dfa8176cb6708abf8c95c32934f510df16d1a1f4945387"
   }
  }
 },
 "nbformat": 4,
 "nbformat_minor": 4
}
