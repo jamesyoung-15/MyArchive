{
 "cells": [
  {
   "attachments": {},
   "cell_type": "markdown",
   "metadata": {},
   "source": [
    "# Homework 2\n",
    "\n",
    "Young, James Yang"
   ]
  },
  {
   "attachments": {},
   "cell_type": "markdown",
   "metadata": {},
   "source": [
    "### Question 1"
   ]
  },
  {
   "attachments": {},
   "cell_type": "markdown",
   "metadata": {},
   "source": [
    "(a) In the linear factor model, $\\alpha$ is the intercept for assets or the expected log-return when all factors are equal to zero, $\\beta$ in this model is the factor loading matrix which shows the sensitivity of the assets, $f_t$ represents economic factors that can affect asset returns such as interest rates or unemployment, and $\\epsilon_t$ is error or residual term which represents noise and/or random varation in the assets which cannot be explained by the factors."
   ]
  },
  {
   "attachments": {},
   "cell_type": "markdown",
   "metadata": {},
   "source": [
    "(b)"
   ]
  },
  {
   "cell_type": "code",
   "execution_count": 1,
   "metadata": {},
   "outputs": [],
   "source": [
    "# import packages\n",
    "from scipy import optimize as opt\n",
    "import numpy as np\n",
    "import cvxpy as cp\n",
    "import matplotlib.pyplot as plt\n",
    "from pandas_datareader import data as pdr\n",
    "import yfinance as yf\n",
    "import pandas as pd"
   ]
  },
  {
   "cell_type": "code",
   "execution_count": 2,
   "metadata": {},
   "outputs": [
    {
     "name": "stdout",
     "output_type": "stream",
     "text": [
      "[*********************100%***********************]  10 of 10 completed\n",
      "[*********************100%***********************]  2 of 2 completed\n",
      "                BTC-USD        ^GSPC\n",
      "Date                                \n",
      "2019-01-01  3843.520020          NaN\n",
      "2019-01-02  3943.409424  2510.030029\n",
      "2019-01-03  3836.741211  2447.889893\n",
      "2019-01-04  3857.717529  2531.939941\n",
      "2019-01-05  3845.194580          NaN\n"
     ]
    }
   ],
   "source": [
    "# given log-returns of 10 popular stocks\n",
    "yf.pdr_override()\n",
    "\n",
    "stocks = ['TSLA', 'AMZN', 'EBAY', 'AAPL', 'MSFT', 'META', 'GOOGL',\n",
    "          'NFLX', 'IBM', 'NVDA']\n",
    "          \n",
    "indices = ['^GSPC', 'BTC-USD']\n",
    "\n",
    "prices = pdr.get_data_yahoo(stocks, start=\"2019-01-01\", end=\"2022-12-31\")[['Adj Close']]\n",
    "factor = pdr.get_data_yahoo(indices, start=\"2019-01-01\", end=\"2022-12-31\")[['Adj Close']]\n",
    "\n",
    "print(factor['Adj Close'].head())"
   ]
  },
  {
   "cell_type": "code",
   "execution_count": 3,
   "metadata": {},
   "outputs": [
    {
     "name": "stderr",
     "output_type": "stream",
     "text": [
      "/home/jamesyoung/.local/lib/python3.10/site-packages/cvxpy/problems/problem.py:155: UserWarning: Objective contains too many subexpressions. Consider vectorizing your CVXPY code to speed up compilation.\n",
      "  warnings.warn(\"Objective contains too many subexpressions. \"\n"
     ]
    },
    {
     "data": {
      "text/html": [
       "<div>\n",
       "<style scoped>\n",
       "    .dataframe tbody tr th:only-of-type {\n",
       "        vertical-align: middle;\n",
       "    }\n",
       "\n",
       "    .dataframe tbody tr th {\n",
       "        vertical-align: top;\n",
       "    }\n",
       "\n",
       "    .dataframe thead th {\n",
       "        text-align: right;\n",
       "    }\n",
       "</style>\n",
       "<table border=\"1\" class=\"dataframe\">\n",
       "  <thead>\n",
       "    <tr style=\"text-align: right;\">\n",
       "      <th></th>\n",
       "      <th>alpha</th>\n",
       "      <th>b1</th>\n",
       "      <th>b2</th>\n",
       "    </tr>\n",
       "  </thead>\n",
       "  <tbody>\n",
       "    <tr>\n",
       "      <th>TSLA</th>\n",
       "      <td>0.000709</td>\n",
       "      <td>-0.006548</td>\n",
       "      <td>1.228193</td>\n",
       "    </tr>\n",
       "    <tr>\n",
       "      <th>AMZN</th>\n",
       "      <td>-0.000376</td>\n",
       "      <td>0.030284</td>\n",
       "      <td>0.993262</td>\n",
       "    </tr>\n",
       "    <tr>\n",
       "      <th>EBAY</th>\n",
       "      <td>0.000082</td>\n",
       "      <td>-0.009761</td>\n",
       "      <td>0.830940</td>\n",
       "    </tr>\n",
       "    <tr>\n",
       "      <th>AAPL</th>\n",
       "      <td>0.000038</td>\n",
       "      <td>0.003613</td>\n",
       "      <td>1.109195</td>\n",
       "    </tr>\n",
       "    <tr>\n",
       "      <th>MSFT</th>\n",
       "      <td>0.000115</td>\n",
       "      <td>-0.028000</td>\n",
       "      <td>0.860260</td>\n",
       "    </tr>\n",
       "    <tr>\n",
       "      <th>META</th>\n",
       "      <td>-0.000666</td>\n",
       "      <td>0.018550</td>\n",
       "      <td>1.233919</td>\n",
       "    </tr>\n",
       "    <tr>\n",
       "      <th>GOOGL</th>\n",
       "      <td>0.000395</td>\n",
       "      <td>0.007276</td>\n",
       "      <td>1.171780</td>\n",
       "    </tr>\n",
       "    <tr>\n",
       "      <th>NFLX</th>\n",
       "      <td>-0.000379</td>\n",
       "      <td>0.044232</td>\n",
       "      <td>0.975753</td>\n",
       "    </tr>\n",
       "    <tr>\n",
       "      <th>IBM</th>\n",
       "      <td>0.000693</td>\n",
       "      <td>0.043370</td>\n",
       "      <td>1.655125</td>\n",
       "    </tr>\n",
       "    <tr>\n",
       "      <th>NVDA</th>\n",
       "      <td>0.001051</td>\n",
       "      <td>0.106543</td>\n",
       "      <td>1.347903</td>\n",
       "    </tr>\n",
       "  </tbody>\n",
       "</table>\n",
       "</div>"
      ],
      "text/plain": [
       "          alpha        b1        b2\n",
       "TSLA   0.000709 -0.006548  1.228193\n",
       "AMZN  -0.000376  0.030284  0.993262\n",
       "EBAY   0.000082 -0.009761  0.830940\n",
       "AAPL   0.000038  0.003613  1.109195\n",
       "MSFT   0.000115 -0.028000  0.860260\n",
       "META  -0.000666  0.018550  1.233919\n",
       "GOOGL  0.000395  0.007276  1.171780\n",
       "NFLX  -0.000379  0.044232  0.975753\n",
       "IBM    0.000693  0.043370  1.655125\n",
       "NVDA   0.001051  0.106543  1.347903"
      ]
     },
     "execution_count": 3,
     "metadata": {},
     "output_type": "execute_result"
    }
   ],
   "source": [
    "# My answer\n",
    "\n",
    "# interpolate data first to remove nan values\n",
    "prices.interpolate()\n",
    "factor.interpolate()\n",
    "\n",
    "# make sure both factor and prices are matching dates, because bitcoin is traded on days that sp500 isn't\n",
    "factor = factor.reindex(prices.index)\n",
    "\n",
    "# compute the log-returns of the stocks and of the SP500 index as explicit factor\n",
    "x = np.array(prices[['Adj Close']].apply(np.log).apply(np.diff).xs('Adj Close',axis=1)) #1007x10\n",
    "f = np.array(factor[['Adj Close']].apply(np.log).apply(np.diff).xs('Adj Close',axis=1)) #1007x2\n",
    "t,n = x.shape # t = days, n = stocks\n",
    "\n",
    "# set up alpha and beta as cvxpy variables to solve\n",
    "alpha = cp.Variable(n)\n",
    "beta = cp.Variable((n,2))\n",
    "\n",
    "beta_star = np.zeros((10,2))\n",
    "alpha_star = np.zeros(10)\n",
    "\n",
    "obj = 0\n",
    "# solve alpha and beta\n",
    "\n",
    "for i in range(t):\n",
    "    obj += cp.sum_squares(x[i] - alpha - beta@f[i].T)\n",
    "\n",
    "\n",
    "problem_b = cp.Problem(cp.Minimize(obj)).solve()\n",
    "\n",
    "alpha_min = alpha.value\n",
    "beta_min = beta.value\n",
    "\n",
    "# print(\"beta values: \\n\", beta_min)\n",
    "# print(\"\\n \\n alpha values: \\n\", alpha_min)\n",
    "pd.DataFrame(np.column_stack([alpha_min,beta_min]).real, index=stocks, columns=[\"alpha\",\"b1\",\"b2\"])"
   ]
  },
  {
   "attachments": {},
   "cell_type": "markdown",
   "metadata": {},
   "source": [
    "(c)"
   ]
  },
  {
   "attachments": {},
   "cell_type": "markdown",
   "metadata": {},
   "source": [
    " X = $x^T$, F = [3, factor], gamma = [alpha beta] where gamma is N×3"
   ]
  },
  {
   "cell_type": "code",
   "execution_count": 4,
   "metadata": {},
   "outputs": [
    {
     "data": {
      "text/html": [
       "<div>\n",
       "<style scoped>\n",
       "    .dataframe tbody tr th:only-of-type {\n",
       "        vertical-align: middle;\n",
       "    }\n",
       "\n",
       "    .dataframe tbody tr th {\n",
       "        vertical-align: top;\n",
       "    }\n",
       "\n",
       "    .dataframe thead th {\n",
       "        text-align: right;\n",
       "    }\n",
       "</style>\n",
       "<table border=\"1\" class=\"dataframe\">\n",
       "  <thead>\n",
       "    <tr style=\"text-align: right;\">\n",
       "      <th></th>\n",
       "      <th>alpha</th>\n",
       "      <th>b1</th>\n",
       "      <th>b2</th>\n",
       "    </tr>\n",
       "  </thead>\n",
       "  <tbody>\n",
       "    <tr>\n",
       "      <th>TSLA</th>\n",
       "      <td>0.000709</td>\n",
       "      <td>-0.006548</td>\n",
       "      <td>1.228193</td>\n",
       "    </tr>\n",
       "    <tr>\n",
       "      <th>AMZN</th>\n",
       "      <td>-0.000376</td>\n",
       "      <td>0.030284</td>\n",
       "      <td>0.993262</td>\n",
       "    </tr>\n",
       "    <tr>\n",
       "      <th>EBAY</th>\n",
       "      <td>0.000082</td>\n",
       "      <td>-0.009761</td>\n",
       "      <td>0.830940</td>\n",
       "    </tr>\n",
       "    <tr>\n",
       "      <th>AAPL</th>\n",
       "      <td>0.000038</td>\n",
       "      <td>0.003613</td>\n",
       "      <td>1.109195</td>\n",
       "    </tr>\n",
       "    <tr>\n",
       "      <th>MSFT</th>\n",
       "      <td>0.000115</td>\n",
       "      <td>-0.028000</td>\n",
       "      <td>0.860260</td>\n",
       "    </tr>\n",
       "    <tr>\n",
       "      <th>META</th>\n",
       "      <td>-0.000666</td>\n",
       "      <td>0.018550</td>\n",
       "      <td>1.233919</td>\n",
       "    </tr>\n",
       "    <tr>\n",
       "      <th>GOOGL</th>\n",
       "      <td>0.000395</td>\n",
       "      <td>0.007276</td>\n",
       "      <td>1.171780</td>\n",
       "    </tr>\n",
       "    <tr>\n",
       "      <th>NFLX</th>\n",
       "      <td>-0.000379</td>\n",
       "      <td>0.044232</td>\n",
       "      <td>0.975753</td>\n",
       "    </tr>\n",
       "    <tr>\n",
       "      <th>IBM</th>\n",
       "      <td>0.000693</td>\n",
       "      <td>0.043370</td>\n",
       "      <td>1.655125</td>\n",
       "    </tr>\n",
       "    <tr>\n",
       "      <th>NVDA</th>\n",
       "      <td>0.001051</td>\n",
       "      <td>0.106543</td>\n",
       "      <td>1.347903</td>\n",
       "    </tr>\n",
       "  </tbody>\n",
       "</table>\n",
       "</div>"
      ],
      "text/plain": [
       "          alpha        b1        b2\n",
       "TSLA   0.000709 -0.006548  1.228193\n",
       "AMZN  -0.000376  0.030284  0.993262\n",
       "EBAY   0.000082 -0.009761  0.830940\n",
       "AAPL   0.000038  0.003613  1.109195\n",
       "MSFT   0.000115 -0.028000  0.860260\n",
       "META  -0.000666  0.018550  1.233919\n",
       "GOOGL  0.000395  0.007276  1.171780\n",
       "NFLX  -0.000379  0.044232  0.975753\n",
       "IBM    0.000693  0.043370  1.655125\n",
       "NVDA   0.001051  0.106543  1.347903"
      ]
     },
     "execution_count": 4,
     "metadata": {},
     "output_type": "execute_result"
    }
   ],
   "source": [
    "# For F, make factor a 3*1007 array\n",
    "F = np.column_stack([np.ones(len(f)), f]).T\n",
    "# For X, x = x transpose\n",
    "X = x.T\n",
    "\n",
    "# gamma is n*3, [alpha beta]\n",
    "gamma = cp.Variable((n,3))\n",
    "# define and solve for gamma\n",
    "cp.Problem(cp.Minimize(cp.sum_squares(X - gamma@F))).solve()\n",
    "\n",
    "# print alpha and beta from gamma with cvxpy\n",
    "# print(\"beta values: \\n\", gamma.value.T[1:].T)\n",
    "# print(\"\\n \\n alpha values: \\n\", gamma.value.T[0])\n",
    "pd.DataFrame(np.column_stack([gamma.value.T[0],gamma.value.T[1:].T]).real, index=stocks, columns=[\"alpha\",\"b1\",\"b2\"])"
   ]
  },
  {
   "attachments": {},
   "cell_type": "markdown",
   "metadata": {},
   "source": [
    "(d) "
   ]
  },
  {
   "attachments": {},
   "cell_type": "markdown",
   "metadata": {},
   "source": [
    "Closed form solution (from python lecture slides): $\\boldsymbol{\\Gamma} = \\mathbf{X}^T {\\mathbf{F}}\n",
    "({\\mathbf{F}}^T {\\mathbf{F}})^{-1}$"
   ]
  },
  {
   "cell_type": "code",
   "execution_count": 5,
   "metadata": {},
   "outputs": [
    {
     "data": {
      "text/html": [
       "<div>\n",
       "<style scoped>\n",
       "    .dataframe tbody tr th:only-of-type {\n",
       "        vertical-align: middle;\n",
       "    }\n",
       "\n",
       "    .dataframe tbody tr th {\n",
       "        vertical-align: top;\n",
       "    }\n",
       "\n",
       "    .dataframe thead th {\n",
       "        text-align: right;\n",
       "    }\n",
       "</style>\n",
       "<table border=\"1\" class=\"dataframe\">\n",
       "  <thead>\n",
       "    <tr style=\"text-align: right;\">\n",
       "      <th></th>\n",
       "      <th>alpha</th>\n",
       "      <th>b1</th>\n",
       "      <th>b2</th>\n",
       "    </tr>\n",
       "  </thead>\n",
       "  <tbody>\n",
       "    <tr>\n",
       "      <th>TSLA</th>\n",
       "      <td>0.000709</td>\n",
       "      <td>-0.006548</td>\n",
       "      <td>1.228193</td>\n",
       "    </tr>\n",
       "    <tr>\n",
       "      <th>AMZN</th>\n",
       "      <td>-0.000376</td>\n",
       "      <td>0.030284</td>\n",
       "      <td>0.993262</td>\n",
       "    </tr>\n",
       "    <tr>\n",
       "      <th>EBAY</th>\n",
       "      <td>0.000082</td>\n",
       "      <td>-0.009761</td>\n",
       "      <td>0.830940</td>\n",
       "    </tr>\n",
       "    <tr>\n",
       "      <th>AAPL</th>\n",
       "      <td>0.000038</td>\n",
       "      <td>0.003613</td>\n",
       "      <td>1.109195</td>\n",
       "    </tr>\n",
       "    <tr>\n",
       "      <th>MSFT</th>\n",
       "      <td>0.000115</td>\n",
       "      <td>-0.028000</td>\n",
       "      <td>0.860260</td>\n",
       "    </tr>\n",
       "    <tr>\n",
       "      <th>META</th>\n",
       "      <td>-0.000666</td>\n",
       "      <td>0.018550</td>\n",
       "      <td>1.233919</td>\n",
       "    </tr>\n",
       "    <tr>\n",
       "      <th>GOOGL</th>\n",
       "      <td>0.000395</td>\n",
       "      <td>0.007276</td>\n",
       "      <td>1.171780</td>\n",
       "    </tr>\n",
       "    <tr>\n",
       "      <th>NFLX</th>\n",
       "      <td>-0.000379</td>\n",
       "      <td>0.044232</td>\n",
       "      <td>0.975753</td>\n",
       "    </tr>\n",
       "    <tr>\n",
       "      <th>IBM</th>\n",
       "      <td>0.000693</td>\n",
       "      <td>0.043370</td>\n",
       "      <td>1.655125</td>\n",
       "    </tr>\n",
       "    <tr>\n",
       "      <th>NVDA</th>\n",
       "      <td>0.001051</td>\n",
       "      <td>0.106543</td>\n",
       "      <td>1.347903</td>\n",
       "    </tr>\n",
       "  </tbody>\n",
       "</table>\n",
       "</div>"
      ],
      "text/plain": [
       "          alpha        b1        b2\n",
       "TSLA   0.000709 -0.006548  1.228193\n",
       "AMZN  -0.000376  0.030284  0.993262\n",
       "EBAY   0.000082 -0.009761  0.830940\n",
       "AAPL   0.000038  0.003613  1.109195\n",
       "MSFT   0.000115 -0.028000  0.860260\n",
       "META  -0.000666  0.018550  1.233919\n",
       "GOOGL  0.000395  0.007276  1.171780\n",
       "NFLX  -0.000379  0.044232  0.975753\n",
       "IBM    0.000693  0.043370  1.655125\n",
       "NVDA   0.001051  0.106543  1.347903"
      ]
     },
     "execution_count": 5,
     "metadata": {},
     "output_type": "execute_result"
    }
   ],
   "source": [
    "# solve with closed form solution, from lecture slides \n",
    "Gamma_mat = np.linalg.solve(F @ F.T, F @ X.T)\n",
    "\n",
    "# take alpha and beta values\n",
    "alpha_sol = Gamma_mat[0]\n",
    "beta_sol = Gamma_mat[1:]\n",
    "\n",
    "# print values\n",
    "# print(\"beta values: \\n\", beta_sol)\n",
    "# print(\"\\n \\n alpha values: \\n\", alpha_sol)\n",
    "pd.DataFrame(np.column_stack([alpha_sol,beta_sol.T]).real, index=stocks, columns=[\"alpha\",\"b1\",\"b2\"])"
   ]
  },
  {
   "attachments": {},
   "cell_type": "markdown",
   "metadata": {},
   "source": [
    "The results from part (d) are extremely close to part (b) and part(c). "
   ]
  },
  {
   "attachments": {},
   "cell_type": "markdown",
   "metadata": {},
   "source": [
    "(e)"
   ]
  },
  {
   "cell_type": "code",
   "execution_count": 6,
   "metadata": {},
   "outputs": [
    {
     "data": {
      "text/plain": [
       "Text(0.5, 0, 'alpha')"
      ]
     },
     "execution_count": 6,
     "metadata": {},
     "output_type": "execute_result"
    },
    {
     "data": {
      "image/png": "[encoded data removed]",
      "text/plain": [
       "<Figure size 640x480 with 1 Axes>"
      ]
     },
     "metadata": {},
     "output_type": "display_data"
    }
   ],
   "source": [
    "fig = plt.figure()\n",
    "ax = fig.add_subplot(projection='3d')\n",
    "\n",
    "# scatter plot (b1, b2, a)\n",
    "ax.scatter(beta_sol[0], beta_sol[1], alpha_sol)\n",
    "\n",
    "# label plots\n",
    "for x,y,z,stock in zip(beta_sol[0], beta_sol[1], alpha_sol, stocks):\n",
    "    label = '(%s)' % ( stock)\n",
    "    ax.text(x, y, z, label)\n",
    "\n",
    "ax.set_xlabel('beta_1')\n",
    "ax.set_ylabel('beta_2')\n",
    "ax.set_zlabel('alpha')\n",
    "\n"
   ]
  },
  {
   "attachments": {},
   "cell_type": "markdown",
   "metadata": {},
   "source": [
    "(f) Based on the previous plot, Amazon, Netflix, and Meta are less risky to invest in as they are closer to the origin. This is because we want to minimize beta and alpha as much as possible since a higher beta value means more volatility and a higher alpha value means more unpredictability from returns not influenced by factors."
   ]
  },
  {
   "attachments": {},
   "cell_type": "markdown",
   "metadata": {},
   "source": [
    "(g)"
   ]
  },
  {
   "cell_type": "code",
   "execution_count": 7,
   "metadata": {},
   "outputs": [],
   "source": [
    "# from py session slide\n",
    "from sklearn.preprocessing import scale\n",
    "\n",
    "X = prices[['Adj Close']].apply(np.log).apply(np.diff).xs('Adj Close',axis=1)\n",
    "\n",
    "# psa\n",
    "K = 2\n",
    "alpha = np.mean(X, axis=0)\n",
    "X_ = scale(X, with_std=False)\n",
    "Sigma_prev = np.zeros((n, n))\n",
    "Psi = np.zeros((n, n))\n",
    "Sigma = X_.T @ X_ / (t-1)\n",
    "\n",
    "# repeat estimates and eigen-decomposition until convergence\n",
    "while (np.linalg.norm(Sigma - Sigma_prev)/np.linalg.norm(Sigma) > 1e-3):\n",
    "  values, vectors = np.linalg.eig(Sigma - Psi)\n",
    "  B = vectors[:, :K] * np.sqrt(values[:K]) #beta = gamma*lambda^0.5\n",
    "  Psi = np.diag(np.diag(Sigma - B @ B.T))\n",
    "  Sigma_prev = Sigma\n",
    "  Sigma = B @ B.T + Psi\n",
    "  gamma = vectors[:, :K]\n",
    "  lbda  = values[:K]\n"
   ]
  },
  {
   "cell_type": "code",
   "execution_count": 8,
   "metadata": {},
   "outputs": [
    {
     "data": {
      "text/html": [
       "<div>\n",
       "<style scoped>\n",
       "    .dataframe tbody tr th:only-of-type {\n",
       "        vertical-align: middle;\n",
       "    }\n",
       "\n",
       "    .dataframe tbody tr th {\n",
       "        vertical-align: top;\n",
       "    }\n",
       "\n",
       "    .dataframe thead th {\n",
       "        text-align: right;\n",
       "    }\n",
       "</style>\n",
       "<table border=\"1\" class=\"dataframe\">\n",
       "  <thead>\n",
       "    <tr style=\"text-align: right;\">\n",
       "      <th></th>\n",
       "      <th>alpha</th>\n",
       "      <th>b1</th>\n",
       "      <th>b2</th>\n",
       "    </tr>\n",
       "  </thead>\n",
       "  <tbody>\n",
       "    <tr>\n",
       "      <th>TSLA</th>\n",
       "      <td>0.001218</td>\n",
       "      <td>4.906069e-10</td>\n",
       "      <td>0.017702</td>\n",
       "    </tr>\n",
       "    <tr>\n",
       "      <th>AMZN</th>\n",
       "      <td>0.000087</td>\n",
       "      <td>-4.085346e-11</td>\n",
       "      <td>0.017889</td>\n",
       "    </tr>\n",
       "    <tr>\n",
       "      <th>EBAY</th>\n",
       "      <td>0.000419</td>\n",
       "      <td>-2.821623e-11</td>\n",
       "      <td>0.012355</td>\n",
       "    </tr>\n",
       "    <tr>\n",
       "      <th>AAPL</th>\n",
       "      <td>0.000511</td>\n",
       "      <td>-3.681725e-11</td>\n",
       "      <td>0.016121</td>\n",
       "    </tr>\n",
       "    <tr>\n",
       "      <th>MSFT</th>\n",
       "      <td>0.000439</td>\n",
       "      <td>-1.702112e-11</td>\n",
       "      <td>0.007453</td>\n",
       "    </tr>\n",
       "    <tr>\n",
       "      <th>META</th>\n",
       "      <td>-0.000119</td>\n",
       "      <td>-4.797417e-11</td>\n",
       "      <td>0.021006</td>\n",
       "    </tr>\n",
       "    <tr>\n",
       "      <th>GOOGL</th>\n",
       "      <td>0.000900</td>\n",
       "      <td>-3.825716e-11</td>\n",
       "      <td>0.016752</td>\n",
       "    </tr>\n",
       "    <tr>\n",
       "      <th>NFLX</th>\n",
       "      <td>0.000096</td>\n",
       "      <td>-4.910719e-11</td>\n",
       "      <td>0.021503</td>\n",
       "    </tr>\n",
       "    <tr>\n",
       "      <th>IBM</th>\n",
       "      <td>0.001454</td>\n",
       "      <td>-6.454138e-11</td>\n",
       "      <td>0.028261</td>\n",
       "    </tr>\n",
       "    <tr>\n",
       "      <th>NVDA</th>\n",
       "      <td>0.001772</td>\n",
       "      <td>-7.335629e-11</td>\n",
       "      <td>0.032121</td>\n",
       "    </tr>\n",
       "  </tbody>\n",
       "</table>\n",
       "</div>"
      ],
      "text/plain": [
       "          alpha            b1        b2\n",
       "TSLA   0.001218  4.906069e-10  0.017702\n",
       "AMZN   0.000087 -4.085346e-11  0.017889\n",
       "EBAY   0.000419 -2.821623e-11  0.012355\n",
       "AAPL   0.000511 -3.681725e-11  0.016121\n",
       "MSFT   0.000439 -1.702112e-11  0.007453\n",
       "META  -0.000119 -4.797417e-11  0.021006\n",
       "GOOGL  0.000900 -3.825716e-11  0.016752\n",
       "NFLX   0.000096 -4.910719e-11  0.021503\n",
       "IBM    0.001454 -6.454138e-11  0.028261\n",
       "NVDA   0.001772 -7.335629e-11  0.032121"
      ]
     },
     "execution_count": 8,
     "metadata": {},
     "output_type": "execute_result"
    }
   ],
   "source": [
    "# estimated alpha and beta values\n",
    "pd.DataFrame(np.column_stack([alpha,B]).real, index=stocks, columns=[\"alpha\",\"b1\",\"b2\"])"
   ]
  },
  {
   "cell_type": "code",
   "execution_count": 9,
   "metadata": {},
   "outputs": [
    {
     "data": {
      "text/html": [
       "<div>\n",
       "<style scoped>\n",
       "    .dataframe tbody tr th:only-of-type {\n",
       "        vertical-align: middle;\n",
       "    }\n",
       "\n",
       "    .dataframe tbody tr th {\n",
       "        vertical-align: top;\n",
       "    }\n",
       "\n",
       "    .dataframe thead th {\n",
       "        text-align: right;\n",
       "    }\n",
       "</style>\n",
       "<table border=\"1\" class=\"dataframe\">\n",
       "  <thead>\n",
       "    <tr style=\"text-align: right;\">\n",
       "      <th></th>\n",
       "      <th>alpha</th>\n",
       "      <th>b1</th>\n",
       "      <th>b2</th>\n",
       "    </tr>\n",
       "  </thead>\n",
       "  <tbody>\n",
       "    <tr>\n",
       "      <th>TSLA</th>\n",
       "      <td>0.000709</td>\n",
       "      <td>-0.006548</td>\n",
       "      <td>1.228193</td>\n",
       "    </tr>\n",
       "    <tr>\n",
       "      <th>AMZN</th>\n",
       "      <td>-0.000376</td>\n",
       "      <td>0.030284</td>\n",
       "      <td>0.993262</td>\n",
       "    </tr>\n",
       "    <tr>\n",
       "      <th>EBAY</th>\n",
       "      <td>0.000082</td>\n",
       "      <td>-0.009761</td>\n",
       "      <td>0.830940</td>\n",
       "    </tr>\n",
       "    <tr>\n",
       "      <th>AAPL</th>\n",
       "      <td>0.000038</td>\n",
       "      <td>0.003613</td>\n",
       "      <td>1.109195</td>\n",
       "    </tr>\n",
       "    <tr>\n",
       "      <th>MSFT</th>\n",
       "      <td>0.000115</td>\n",
       "      <td>-0.028000</td>\n",
       "      <td>0.860260</td>\n",
       "    </tr>\n",
       "    <tr>\n",
       "      <th>META</th>\n",
       "      <td>-0.000666</td>\n",
       "      <td>0.018550</td>\n",
       "      <td>1.233919</td>\n",
       "    </tr>\n",
       "    <tr>\n",
       "      <th>GOOGL</th>\n",
       "      <td>0.000395</td>\n",
       "      <td>0.007276</td>\n",
       "      <td>1.171780</td>\n",
       "    </tr>\n",
       "    <tr>\n",
       "      <th>NFLX</th>\n",
       "      <td>-0.000379</td>\n",
       "      <td>0.044232</td>\n",
       "      <td>0.975753</td>\n",
       "    </tr>\n",
       "    <tr>\n",
       "      <th>IBM</th>\n",
       "      <td>0.000693</td>\n",
       "      <td>0.043370</td>\n",
       "      <td>1.655125</td>\n",
       "    </tr>\n",
       "    <tr>\n",
       "      <th>NVDA</th>\n",
       "      <td>0.001051</td>\n",
       "      <td>0.106543</td>\n",
       "      <td>1.347903</td>\n",
       "    </tr>\n",
       "  </tbody>\n",
       "</table>\n",
       "</div>"
      ],
      "text/plain": [
       "          alpha        b1        b2\n",
       "TSLA   0.000709 -0.006548  1.228193\n",
       "AMZN  -0.000376  0.030284  0.993262\n",
       "EBAY   0.000082 -0.009761  0.830940\n",
       "AAPL   0.000038  0.003613  1.109195\n",
       "MSFT   0.000115 -0.028000  0.860260\n",
       "META  -0.000666  0.018550  1.233919\n",
       "GOOGL  0.000395  0.007276  1.171780\n",
       "NFLX  -0.000379  0.044232  0.975753\n",
       "IBM    0.000693  0.043370  1.655125\n",
       "NVDA   0.001051  0.106543  1.347903"
      ]
     },
     "execution_count": 9,
     "metadata": {},
     "output_type": "execute_result"
    }
   ],
   "source": [
    "# compare to part b\n",
    "pd.DataFrame(np.column_stack([alpha_min,beta_min]).real, index=stocks, columns=[\"alpha\",\"b1\",\"b2\"])"
   ]
  },
  {
   "cell_type": "code",
   "execution_count": 10,
   "metadata": {},
   "outputs": [
    {
     "name": "stderr",
     "output_type": "stream",
     "text": [
      "/tmp/ipykernel_108600/1092792615.py:7: ComplexWarning: Casting complex values to real discards the imaginary part\n",
      "  f_hat[i] = ((np.power(lbda,-0.5)*gamma).T @ x_alpha).T\n"
     ]
    },
    {
     "data": {
      "text/html": [
       "<div>\n",
       "<style scoped>\n",
       "    .dataframe tbody tr th:only-of-type {\n",
       "        vertical-align: middle;\n",
       "    }\n",
       "\n",
       "    .dataframe tbody tr th {\n",
       "        vertical-align: top;\n",
       "    }\n",
       "\n",
       "    .dataframe thead th {\n",
       "        text-align: right;\n",
       "    }\n",
       "</style>\n",
       "<table border=\"1\" class=\"dataframe\">\n",
       "  <thead>\n",
       "    <tr style=\"text-align: right;\">\n",
       "      <th></th>\n",
       "      <th>0</th>\n",
       "      <th>1</th>\n",
       "    </tr>\n",
       "  </thead>\n",
       "  <tbody>\n",
       "    <tr>\n",
       "      <th>0</th>\n",
       "      <td>-1.545314e+08</td>\n",
       "      <td>-1.713280</td>\n",
       "    </tr>\n",
       "    <tr>\n",
       "      <th>1</th>\n",
       "      <td>-5.942139e+06</td>\n",
       "      <td>2.457397</td>\n",
       "    </tr>\n",
       "    <tr>\n",
       "      <th>2</th>\n",
       "      <td>-5.160916e+07</td>\n",
       "      <td>1.235647</td>\n",
       "    </tr>\n",
       "    <tr>\n",
       "      <th>3</th>\n",
       "      <td>2.379384e+07</td>\n",
       "      <td>0.338511</td>\n",
       "    </tr>\n",
       "    <tr>\n",
       "      <th>4</th>\n",
       "      <td>1.770330e+07</td>\n",
       "      <td>0.391809</td>\n",
       "    </tr>\n",
       "    <tr>\n",
       "      <th>...</th>\n",
       "      <td>...</td>\n",
       "      <td>...</td>\n",
       "    </tr>\n",
       "    <tr>\n",
       "      <th>1002</th>\n",
       "      <td>-4.826102e+06</td>\n",
       "      <td>-0.093349</td>\n",
       "    </tr>\n",
       "    <tr>\n",
       "      <th>1003</th>\n",
       "      <td>4.187113e+07</td>\n",
       "      <td>-2.018776</td>\n",
       "    </tr>\n",
       "    <tr>\n",
       "      <th>1004</th>\n",
       "      <td>-5.300016e+07</td>\n",
       "      <td>-0.360514</td>\n",
       "    </tr>\n",
       "    <tr>\n",
       "      <th>1005</th>\n",
       "      <td>-1.486118e+07</td>\n",
       "      <td>1.920909</td>\n",
       "    </tr>\n",
       "    <tr>\n",
       "      <th>1006</th>\n",
       "      <td>4.658946e+04</td>\n",
       "      <td>0.069194</td>\n",
       "    </tr>\n",
       "  </tbody>\n",
       "</table>\n",
       "<p>1007 rows × 2 columns</p>\n",
       "</div>"
      ],
      "text/plain": [
       "                 0         1\n",
       "0    -1.545314e+08 -1.713280\n",
       "1    -5.942139e+06  2.457397\n",
       "2    -5.160916e+07  1.235647\n",
       "3     2.379384e+07  0.338511\n",
       "4     1.770330e+07  0.391809\n",
       "...            ...       ...\n",
       "1002 -4.826102e+06 -0.093349\n",
       "1003  4.187113e+07 -2.018776\n",
       "1004 -5.300016e+07 -0.360514\n",
       "1005 -1.486118e+07  1.920909\n",
       "1006  4.658946e+04  0.069194\n",
       "\n",
       "[1007 rows x 2 columns]"
      ]
     },
     "execution_count": 10,
     "metadata": {},
     "output_type": "execute_result"
    }
   ],
   "source": [
    "# get f estimated\n",
    "f_hat = np.zeros((t,2))\n",
    "# fhat = lambda^-0.5 * gamma^T * (x-alpha) pg 50 lecture\n",
    "for i in range(t):\n",
    "  x_alpha = np.array((X.iloc[i]-alpha))\n",
    "  x_alpha = x_alpha.reshape(10,-1)\n",
    "  f_hat[i] = ((np.power(lbda,-0.5)*gamma).T @ x_alpha).T\n",
    "\n",
    "# print estimated \n",
    "alpha_beta_estimated = pd.DataFrame(np.column_stack([alpha, B]).real, index=stocks, columns=[\"a\",\"b1\",\"b2\"])\n",
    "f_estimated = pd.DataFrame(np.column_stack(f_hat.T).real)\n",
    "f_estimated"
   ]
  },
  {
   "cell_type": "code",
   "execution_count": 11,
   "metadata": {},
   "outputs": [
    {
     "data": {
      "text/html": [
       "<div>\n",
       "<style scoped>\n",
       "    .dataframe tbody tr th:only-of-type {\n",
       "        vertical-align: middle;\n",
       "    }\n",
       "\n",
       "    .dataframe tbody tr th {\n",
       "        vertical-align: top;\n",
       "    }\n",
       "\n",
       "    .dataframe thead th {\n",
       "        text-align: right;\n",
       "    }\n",
       "</style>\n",
       "<table border=\"1\" class=\"dataframe\">\n",
       "  <thead>\n",
       "    <tr style=\"text-align: right;\">\n",
       "      <th></th>\n",
       "      <th>^GSPC</th>\n",
       "      <th>BTC-USD</th>\n",
       "    </tr>\n",
       "  </thead>\n",
       "  <tbody>\n",
       "    <tr>\n",
       "      <th>0</th>\n",
       "      <td>-0.027422</td>\n",
       "      <td>-0.025068</td>\n",
       "    </tr>\n",
       "    <tr>\n",
       "      <th>1</th>\n",
       "      <td>0.005452</td>\n",
       "      <td>0.033759</td>\n",
       "    </tr>\n",
       "    <tr>\n",
       "      <th>2</th>\n",
       "      <td>0.042511</td>\n",
       "      <td>0.006986</td>\n",
       "    </tr>\n",
       "    <tr>\n",
       "      <th>3</th>\n",
       "      <td>0.001390</td>\n",
       "      <td>0.009649</td>\n",
       "    </tr>\n",
       "    <tr>\n",
       "      <th>4</th>\n",
       "      <td>0.001103</td>\n",
       "      <td>0.004090</td>\n",
       "    </tr>\n",
       "    <tr>\n",
       "      <th>...</th>\n",
       "      <td>...</td>\n",
       "      <td>...</td>\n",
       "    </tr>\n",
       "    <tr>\n",
       "      <th>1002</th>\n",
       "      <td>-0.001986</td>\n",
       "      <td>0.005851</td>\n",
       "    </tr>\n",
       "    <tr>\n",
       "      <th>1003</th>\n",
       "      <td>-0.004761</td>\n",
       "      <td>-0.004058</td>\n",
       "    </tr>\n",
       "    <tr>\n",
       "      <th>1004</th>\n",
       "      <td>-0.009895</td>\n",
       "      <td>-0.012093</td>\n",
       "    </tr>\n",
       "    <tr>\n",
       "      <th>1005</th>\n",
       "      <td>0.005409</td>\n",
       "      <td>0.017311</td>\n",
       "    </tr>\n",
       "    <tr>\n",
       "      <th>1006</th>\n",
       "      <td>-0.002392</td>\n",
       "      <td>-0.002544</td>\n",
       "    </tr>\n",
       "  </tbody>\n",
       "</table>\n",
       "<p>1007 rows × 2 columns</p>\n",
       "</div>"
      ],
      "text/plain": [
       "         ^GSPC   BTC-USD\n",
       "0    -0.027422 -0.025068\n",
       "1     0.005452  0.033759\n",
       "2     0.042511  0.006986\n",
       "3     0.001390  0.009649\n",
       "4     0.001103  0.004090\n",
       "...        ...       ...\n",
       "1002 -0.001986  0.005851\n",
       "1003 -0.004761 -0.004058\n",
       "1004 -0.009895 -0.012093\n",
       "1005  0.005409  0.017311\n",
       "1006 -0.002392 -0.002544\n",
       "\n",
       "[1007 rows x 2 columns]"
      ]
     },
     "execution_count": 11,
     "metadata": {},
     "output_type": "execute_result"
    }
   ],
   "source": [
    "# compare to part b\n",
    "pd.DataFrame(f,columns=indices)"
   ]
  },
  {
   "attachments": {},
   "cell_type": "markdown",
   "metadata": {},
   "source": [
    "I think the macroeconomic factor model used in part (b) works better in this case rather than estimating factors through PCA since estimating factors can introduce additional sources of uncertainty and potential biases depending on the dataset. However, for situations where factors are difficult to obtain or if there are uncertainty about the factors, it  may be better then to use the statistical factor model instead. Since in this case we are using a small amount of factors that are well-established, part b method works better."
   ]
  },
  {
   "attachments": {},
   "cell_type": "markdown",
   "metadata": {},
   "source": [
    "### Question 2"
   ]
  },
  {
   "attachments": {},
   "cell_type": "markdown",
   "metadata": {},
   "source": [
    "(a)"
   ]
  },
  {
   "cell_type": "code",
   "execution_count": 12,
   "metadata": {},
   "outputs": [
    {
     "name": "stdout",
     "output_type": "stream",
     "text": [
      "[*********************100%***********************]  3 of 3 completed\n"
     ]
    }
   ],
   "source": [
    "# get 'AAPL’, ‘MSFT’ and ‘GOOGL' from dataset\n",
    "new_stocks = ['AAPL', 'MSFT', 'GOOGL']\n",
    "new_dataset = pdr.get_data_yahoo(new_stocks, start=\"2019-01-01\", end=\"2022-12-31\")[['Adj Close']]\n",
    "\n",
    "new_dataset.interpolate()\n",
    "\n",
    "# divide into training and test data\n",
    "train_data = new_dataset.loc[\"2019-01-01\":\"2021-12-31\"]\n",
    "test_data = new_dataset.loc[\"2022-01-01\":\"2022-12-31\"]\n",
    "\n",
    "log_return = np.array(new_dataset[['Adj Close']].apply(np.log).apply(np.diff).xs('Adj Close',axis=1))\n",
    "train_log_return = np.array(train_data[['Adj Close']].apply(np.log).apply(np.diff).xs('Adj Close',axis=1))\n",
    "test_log_return = np.array(test_data[['Adj Close']].apply(np.log).apply(np.diff).xs('Adj Close',axis=1))"
   ]
  },
  {
   "cell_type": "code",
   "execution_count": 13,
   "metadata": {},
   "outputs": [
    {
     "data": {
      "text/plain": [
       "array([0.43974859, 0.10277962, 0.45747179])"
      ]
     },
     "execution_count": 13,
     "metadata": {},
     "output_type": "execute_result"
    }
   ],
   "source": [
    "# get data mean and cov\n",
    "mu_data = np.mean(log_return, axis=0)\n",
    "sigma_data = np.cov(log_return.T)\n",
    "mu_data2d = np.array([mu_data]).T # to 2d array\n",
    "\n",
    "# from hw 1 problem 1, get w\n",
    "w_var = cp.Variable(len(new_stocks)) \n",
    "portfolio_ret = mu_data2d.T @ w_var\n",
    "objective = cp.QuadForm(w_var, sigma_data)\n",
    "beta = 0.001 # beta = 0.05 didn't work, use suggestion from email\n",
    "prob = cp.Problem(cp.Minimize(objective),\n",
    "                    [portfolio_ret >= beta,\n",
    "                    w_var >= 0,\n",
    "                    cp.sum(w_var) == 1])\n",
    "prob.solve()\n",
    "\n",
    "w = w_var.value\n",
    "w"
   ]
  },
  {
   "cell_type": "code",
   "execution_count": 14,
   "metadata": {},
   "outputs": [],
   "source": [
    "# get training mean and cov\n",
    "mu_data = np.mean(train_log_return, axis=0)\n",
    "sigma_data = np.cov(train_log_return.T)\n",
    "mu_data2d = np.array([mu_data]).T # to 2d array\n",
    "\n",
    "# use equation s = (w.T * mu) / sqrt(w.T * sigma * w)\n",
    "def sharpe_ratio(p1,p2):\n",
    "    sig = p1*sigma_data + (1-p1)*np.diag(np.diag(sigma_data))\n",
    "    u = p2*mu_data + (1-p2)*(np.mean(mu_data))*np.ones(3).T\n",
    "    s = (w.T@u)/np.sqrt(w.T@sig@w)\n",
    "    return s"
   ]
  },
  {
   "attachments": {},
   "cell_type": "markdown",
   "metadata": {},
   "source": [
    "(b)"
   ]
  },
  {
   "cell_type": "code",
   "execution_count": 15,
   "metadata": {},
   "outputs": [],
   "source": [
    "# computing sr values\n",
    "\n",
    "# rho values\n",
    "rho = [0,0.2,0.4,0.6,0.8,1]\n",
    "rho_num = len(rho)\n",
    "ratio_values = np.zeros((rho_num,rho_num))\n",
    "\n",
    "# get sharpe ratio for each p1 and p2 values \n",
    "for i in range(rho_num):\n",
    "    for j in range(rho_num):\n",
    "        ratio_values[i,j] = sharpe_ratio(rho[i],rho[j])\n"
   ]
  },
  {
   "cell_type": "code",
   "execution_count": 16,
   "metadata": {},
   "outputs": [
    {
     "data": {
      "image/png": "[encoded data removed]",
      "text/plain": [
       "<Figure size 640x480 with 2 Axes>"
      ]
     },
     "metadata": {},
     "output_type": "display_data"
    }
   ],
   "source": [
    "import seaborn as sns\n",
    "\n",
    "# label values\n",
    "data_label = ['0','0.2','0.4','0.6','0.8','1']\n",
    "\n",
    "# plot heatmap\n",
    "ax = sns.heatmap(\n",
    "    ratio_values\n",
    ")\n",
    "\n",
    "# set axis labels\n",
    "ax.set_xlabel(\"p2\")\n",
    "ax.set_ylabel(\"p1\", rotation=45)\n",
    "ax.set_xticklabels(\n",
    "    data_label,\n",
    "    rotation=45,\n",
    "    horizontalalignment='right'\n",
    ")\n",
    "ax.set_yticklabels(\n",
    "    data_label,\n",
    "    rotation=45,\n",
    "    horizontalalignment='right'\n",
    ")\n",
    "\n",
    "plt.show()"
   ]
  },
  {
   "attachments": {},
   "cell_type": "markdown",
   "metadata": {},
   "source": [
    "Based on the heatmap, the largest Sharpe ratio has the pair $(\\rho _1, \\rho _2)$ = (0,1)."
   ]
  },
  {
   "attachments": {},
   "cell_type": "markdown",
   "metadata": {},
   "source": [
    "(c)"
   ]
  },
  {
   "cell_type": "code",
   "execution_count": 17,
   "metadata": {},
   "outputs": [
    {
     "name": "stdout",
     "output_type": "stream",
     "text": [
      "Sharpe ratio for test data is:  -0.09578150553547947\n"
     ]
    }
   ],
   "source": [
    "# get test mean and cov\n",
    "mu_data = np.mean(test_log_return, axis=0)\n",
    "sigma_data = np.cov(test_log_return.T)\n",
    "mu_data2d = np.array([mu_data]).T # to 2d array\n",
    "\n",
    "print(\"Sharpe ratio for test data is: \",sharpe_ratio(0,1))"
   ]
  },
  {
   "attachments": {},
   "cell_type": "markdown",
   "metadata": {},
   "source": [
    "(d)"
   ]
  },
  {
   "cell_type": "code",
   "execution_count": 18,
   "metadata": {},
   "outputs": [
    {
     "name": "stdout",
     "output_type": "stream",
     "text": [
      "Sharpe ratio for no shrinkage estimator is:  -0.06459155996215156\n"
     ]
    }
   ],
   "source": [
    "# no shrinkage estimator\n",
    "print(\"Sharpe ratio for no shrinkage estimator is: \", sharpe_ratio(1,1))"
   ]
  }
 ],
 "metadata": {
  "kernelspec": {
   "display_name": "Python 3",
   "language": "python",
   "name": "python3"
  },
  "language_info": {
   "codemirror_mode": {
    "name": "ipython",
    "version": 3
   },
   "file_extension": ".py",
   "mimetype": "text/x-python",
   "name": "python",
   "nbconvert_exporter": "python",
   "pygments_lexer": "ipython3",
   "version": "3.10.10 (main, Mar  5 2023, 22:26:53) [GCC 12.2.1 20230201]"
  },
  "orig_nbformat": 4,
  "vscode": {
   "interpreter": {
    "hash": "e7370f93d1d0cde622a1f8e1c04877d8463912d04d973331ad4851f04de6915a"
   }
  }
 },
 "nbformat": 4,
 "nbformat_minor": 2
}
