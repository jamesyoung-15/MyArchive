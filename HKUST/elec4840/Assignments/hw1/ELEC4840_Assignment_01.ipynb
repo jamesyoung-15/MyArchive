{
  "cells": [
    {
      "cell_type": "markdown",
      "metadata": {
        "id": "ApwjF_gNfBov"
      },
      "source": [
        "## ELEC4840 Assignment 1\n",
        "\n",
        "Name: Young, James Yang\n",
        "\n",
        "Student ID: 20740589\n",
        "\n",
        "- Problem 1 (40%)\n",
        "\n",
        "- Problem 2 (60%)"
      ]
    },
    {
      "cell_type": "code",
      "execution_count": 1,
      "metadata": {
        "id": "MiRMnBEmMc26"
      },
      "outputs": [
        {
          "name": "stderr",
          "output_type": "stream",
          "text": [
            "/home/jamesyoung/.local/lib/python3.10/site-packages/tqdm/auto.py:22: TqdmWarning: IProgress not found. Please update jupyter and ipywidgets. See https://ipywidgets.readthedocs.io/en/stable/user_install.html\n",
            "  from .autonotebook import tqdm as notebook_tqdm\n"
          ]
        }
      ],
      "source": [
        "# import packages\n",
        "import torch\n",
        "from torch import nn\n",
        "from torchvision import datasets, transforms\n",
        "from tqdm import tqdm"
      ]
    },
    {
      "cell_type": "markdown",
      "metadata": {},
      "source": [
        "## HINT\n",
        "You should run training on __training dataset__, validate the model's performance during training using __validation dataset__. After finishing training, select the model that has the best performance on validation dataset, then report the model's performance based on the data of the __test dataset__."
      ]
    },
    {
      "cell_type": "code",
      "execution_count": 2,
      "metadata": {
        "colab": {
          "base_uri": "https://localhost:8080/"
        },
        "id": "lsNk1OslN67-",
        "outputId": "6f3c439b-fe12-4bf4-a0b7-dbabadc4d2cf"
      },
      "outputs": [],
      "source": [
        "# load MNIST dataset\n",
        "transform = transforms.Compose([\n",
        "    transforms.ToTensor(),\n",
        "    transforms.Normalize(\n",
        "        mean=0.5,\n",
        "        std=0.5\n",
        "    )\n",
        "])\n",
        "\n",
        "data_train = datasets.MNIST(\n",
        "    root=\"./data/\",\n",
        "    transform=transform,\n",
        "    train=True,\n",
        "    download=True\n",
        ")\n",
        "\n",
        "data_test = datasets.MNIST(\n",
        "    root=\"./data/\",\n",
        "    transform=transform,\n",
        "    train=False\n",
        ")\n",
        "\n",
        "split_train_size = int(0.8*(len(data_train)))  # from test data, split 50% as validation set\n",
        "split_valid_size = len(data_train) - split_train_size  # split 50% as test set\n",
        "\n",
        "train_set, valid_set = torch.utils.data.random_split(\n",
        "    data_train, [split_train_size, split_valid_size])\n",
        "\n",
        "loader_train = torch.utils.data.DataLoader(\n",
        "    dataset=train_set,\n",
        "    batch_size=64,\n",
        "    shuffle=True\n",
        ")\n",
        "\n",
        "loader_valid = torch.utils.data.DataLoader(\n",
        "    dataset=valid_set,\n",
        "    batch_size=64,\n",
        "    shuffle=False\n",
        ")\n",
        "\n",
        "loader_test = torch.utils.data.DataLoader(\n",
        "    dataset=data_test,\n",
        "    batch_size=64,\n",
        "    shuffle=False\n",
        ")"
      ]
    },
    {
      "cell_type": "markdown",
      "metadata": {
        "id": "4r9vv7F8e_FK"
      },
      "source": [
        "### Problem 1. Train an MLP network on the MNIST dataset (40%)\n",
        "\n",
        "Use a four-layer MLP to train the MNIST dataset.\n",
        "\n",
        "| Layer |  Type  |       Input       |      Output       | Activation |\n",
        "| :---: | :----: | :---------------: | :---------------: | :--------: |\n",
        "|   1   | Linear |      28 * 28      |         128         |    ReLU    |\n",
        "|   2   | Linear |         128         |        64         |    ReLU    |\n",
        "|  3  | Dropout | 64 | 64 | - |\n",
        "|   4   | Linear |        64         |        32         |    ReLU    |\n",
        "|  5   | Dropout | 32 | 32 | - |\n",
        "|   6   | Linear |       32         |        10         |     -      |\n",
        "\n",
        "\n",
        "a.) Implement the function `__init__` and `forward` in the class `Model` (15%);\n",
        "\n",
        "b.) Implement the training code (15%).\n",
        "\n",
        "c.) Plot the curve of accuracy and loss(10%). Compare and discuss the results' difference between the model with / without dropout operation(5%)."
      ]
    },
    {
      "cell_type": "code",
      "execution_count": 3,
      "metadata": {
        "id": "5A8NgdpjO8Gs"
      },
      "outputs": [],
      "source": [
        "class Model(nn.Module):\n",
        "    def __init__(self):\n",
        "        super(Model, self).__init__()\n",
        "        ## ----- write your code here\n",
        "        # layer 1: 28*28 input, 128 output\n",
        "        self.fc1 = nn.Linear(28 * 28, 128)\n",
        "        # layer 2: 128 input, 64 output\n",
        "        self.fc2 = nn.Linear(128, 64)\n",
        "        self.dropout1 = nn.Dropout(0.3)\n",
        "        # layer 3: 64 input, 32 output\n",
        "        self.fc3 = nn.Linear(64, 32)\n",
        "        self.dropout2 = nn.Dropout(0.3)\n",
        "        # layer 4: 32 input, 10 output\n",
        "        self.fc4 = nn.Linear(32, 10)\n",
        "        \n",
        "        \n",
        "\n",
        "    def forward(self, x):\n",
        "        ## ----- write your code here\n",
        "        ## Remember to return the output and delete the 'pass' command below\n",
        "        x = torch.flatten(x, start_dim=1, end_dim=3)\n",
        "        x = nn.functional.relu(self.fc1(x))\n",
        "        x = nn.functional.relu(self.fc2(x))\n",
        "        x = self.dropout1(x)\n",
        "        x = nn.functional.relu(self.fc3(x))\n",
        "        x = self.dropout2(x)\n",
        "        x = self.fc4(x)\n",
        "        return x"
      ]
    },
    {
      "cell_type": "code",
      "execution_count": 4,
      "metadata": {},
      "outputs": [],
      "source": [
        "# reference used: https://pytorch.org/tutorials/beginner/introyt/trainingyt.html"
      ]
    },
    {
      "cell_type": "code",
      "execution_count": 5,
      "metadata": {
        "id": "gwwrK_2spxM1"
      },
      "outputs": [
        {
          "name": "stdout",
          "output_type": "stream",
          "text": [
            " -- Epoch 1/10\n"
          ]
        },
        {
          "name": "stderr",
          "output_type": "stream",
          "text": [
            "100%|██████████| 750/750 [00:06<00:00, 107.49it/s]\n"
          ]
        },
        {
          "name": "stdout",
          "output_type": "stream",
          "text": [
            "Loss 0.0131, Train Accuracy 72.6979%, Validation Accuracy 90.0083%\n",
            " -- Epoch 2/10\n"
          ]
        },
        {
          "name": "stderr",
          "output_type": "stream",
          "text": [
            "100%|██████████| 750/750 [00:06<00:00, 112.41it/s]\n"
          ]
        },
        {
          "name": "stdout",
          "output_type": "stream",
          "text": [
            "Loss 0.0054, Train Accuracy 90.3771%, Validation Accuracy 93.4917%\n",
            " -- Epoch 3/10\n"
          ]
        },
        {
          "name": "stderr",
          "output_type": "stream",
          "text": [
            "100%|██████████| 750/750 [00:06<00:00, 112.81it/s]\n"
          ]
        },
        {
          "name": "stdout",
          "output_type": "stream",
          "text": [
            "Loss 0.0040, Train Accuracy 93.0708%, Validation Accuracy 94.7083%\n",
            " -- Epoch 4/10\n"
          ]
        },
        {
          "name": "stderr",
          "output_type": "stream",
          "text": [
            "100%|██████████| 750/750 [00:06<00:00, 115.69it/s]\n"
          ]
        },
        {
          "name": "stdout",
          "output_type": "stream",
          "text": [
            "Loss 0.0034, Train Accuracy 94.0104%, Validation Accuracy 94.9583%\n",
            " -- Epoch 5/10\n"
          ]
        },
        {
          "name": "stderr",
          "output_type": "stream",
          "text": [
            "100%|██████████| 750/750 [00:06<00:00, 114.75it/s]\n"
          ]
        },
        {
          "name": "stdout",
          "output_type": "stream",
          "text": [
            "Loss 0.0030, Train Accuracy 94.7750%, Validation Accuracy 95.0667%\n",
            " -- Epoch 6/10\n"
          ]
        },
        {
          "name": "stderr",
          "output_type": "stream",
          "text": [
            "100%|██████████| 750/750 [00:06<00:00, 116.32it/s]\n"
          ]
        },
        {
          "name": "stdout",
          "output_type": "stream",
          "text": [
            "Loss 0.0028, Train Accuracy 95.2500%, Validation Accuracy 96.0250%\n",
            " -- Epoch 7/10\n"
          ]
        },
        {
          "name": "stderr",
          "output_type": "stream",
          "text": [
            "100%|██████████| 750/750 [00:06<00:00, 114.79it/s]\n"
          ]
        },
        {
          "name": "stdout",
          "output_type": "stream",
          "text": [
            "Loss 0.0024, Train Accuracy 95.8104%, Validation Accuracy 95.9000%\n",
            " -- Epoch 8/10\n"
          ]
        },
        {
          "name": "stderr",
          "output_type": "stream",
          "text": [
            "100%|██████████| 750/750 [00:06<00:00, 117.61it/s]\n"
          ]
        },
        {
          "name": "stdout",
          "output_type": "stream",
          "text": [
            "Loss 0.0023, Train Accuracy 96.0229%, Validation Accuracy 96.2083%\n",
            " -- Epoch 9/10\n"
          ]
        },
        {
          "name": "stderr",
          "output_type": "stream",
          "text": [
            "100%|██████████| 750/750 [00:06<00:00, 118.55it/s]\n"
          ]
        },
        {
          "name": "stdout",
          "output_type": "stream",
          "text": [
            "Loss 0.0021, Train Accuracy 96.4625%, Validation Accuracy 95.8167%\n",
            " -- Epoch 10/10\n"
          ]
        },
        {
          "name": "stderr",
          "output_type": "stream",
          "text": [
            "100%|██████████| 750/750 [00:06<00:00, 117.14it/s]\n"
          ]
        },
        {
          "name": "stdout",
          "output_type": "stream",
          "text": [
            "Loss 0.0020, Train Accuracy 96.3750%, Validation Accuracy 95.9917%\n",
            "Best model on test set: Test Accuracy 48.6700%\n"
          ]
        }
      ],
      "source": [
        "max_epoch = 10\n",
        "use_cuda = True\n",
        "\n",
        "# model initialization\n",
        "model = Model()\n",
        "if use_cuda:\n",
        "    model = model.cuda()\n",
        "\n",
        "# loss function\n",
        "criterion = nn.CrossEntropyLoss() # -- write your code here --\n",
        "\n",
        "# optimizer\n",
        "optimizer = torch.optim.SGD(model.parameters(), lr=0.01, momentum=0.9)# -- write your code here --\n",
        "\n",
        "loss_list = []\n",
        "acc_train_list = []\n",
        "acc_valid_list = []\n",
        "\n",
        "best_valid_loss = float('inf')\n",
        "\n",
        "for epoch in range(max_epoch):\n",
        "    running_loss = 0.0\n",
        "    running_correct = 0\n",
        "    valid_loss = 0.0\n",
        "    valid_correct = 0\n",
        "    print(\" -- Epoch {}/{}\".format(epoch + 1, max_epoch))\n",
        "\n",
        "    # training\n",
        "    # call a function to control the dropout behaviour \n",
        "    # your code here\n",
        "    model.train(True)\n",
        "\n",
        "    for data in tqdm(loader_train):\n",
        "        # set all gradients to zero\n",
        "        optimizer.zero_grad()\n",
        "\n",
        "        # fetch data\n",
        "        images, labels = data\n",
        "        if use_cuda:\n",
        "            images = images.cuda()\n",
        "            labels = labels.cuda()\n",
        "\n",
        "        # model forward\n",
        "        outputs = model(images) # -- write your code here --\n",
        "\n",
        "        # calculate loss\n",
        "        loss = criterion(outputs, labels) # -- write your code here --\n",
        "\n",
        "        loss.backward()\n",
        "        optimizer.step()\n",
        "\n",
        "        pred = torch.argmax(outputs, dim=1)\n",
        "        running_loss += loss.item()\n",
        "        running_correct += torch.sum(pred == labels)\n",
        "\n",
        "    # record loss, accuracy\n",
        "    loss = running_loss / len(train_set)\n",
        "    loss_list.append(loss)\n",
        "    acc_train = running_correct / len(train_set)\n",
        "    acc_train_list.append(acc_train.item())\n",
        "\n",
        "    # testing\n",
        "\n",
        "    # call a function to control the dropout behaviour \n",
        "    model.eval()\n",
        "\n",
        "    valid_correct = 0\n",
        "    for data in loader_valid:\n",
        "        # fetch data\n",
        "        images, labels = data\n",
        "        if use_cuda:\n",
        "            images = images.cuda()\n",
        "            labels = labels.cuda()\n",
        "        \n",
        "        # model forward\n",
        "        voutputs = model(images)# -- write your code here --\n",
        "        \n",
        "        # calculate loss\n",
        "        vloss = criterion(voutputs, labels)\n",
        "        vpred = torch.argmax(voutputs, dim=1)\n",
        "        valid_loss += vloss.item()\n",
        "        valid_correct += torch.sum(vpred == labels)\n",
        "    \n",
        "\n",
        "    # Save best checkpoint\n",
        "    if valid_loss < best_valid_loss:\n",
        "        best_valid_loss = valid_loss\n",
        "        torch.save(model.state_dict(), 'best_checkpoint_mnist.pt')\n",
        "\n",
        "    acc_valid = valid_correct / len(valid_set)\n",
        "    acc_valid_list.append(acc_valid.item())\n",
        "    print(\"Loss {:.4f}, Train Accuracy {:.4f}%, Validation Accuracy {:.4f}%\".format(\n",
        "        loss,\n",
        "        acc_train * 100,\n",
        "        acc_valid * 100\n",
        "    ))\n",
        "\n",
        "\n",
        "model.load_state_dict(torch.load('best_checkpoint_mnist.pt'))\n",
        "\n",
        "# call a function to control the dropout behaviour \n",
        "model.eval()\n",
        "\n",
        "test_loss = 0.0\n",
        "correct = 0\n",
        "total = 0\n",
        "total = len(data_test)\n",
        "\n",
        "with torch.no_grad():\n",
        "    for images, labels in loader_test:\n",
        "        # fetch data\n",
        "        images, labels = data\n",
        "        if use_cuda:\n",
        "            images = images.cuda()\n",
        "            labels = labels.cuda()\n",
        "        \n",
        "        # model forward\n",
        "        outputs = model(images)\n",
        "        \n",
        "        # calculate accuracy on test set\n",
        "        pred = torch.argmax(outputs, dim=1)\n",
        "        tloss = criterion(outputs, labels)\n",
        "        test_loss += tloss.item()\n",
        "        correct += torch.sum(pred == labels)\n",
        "\n",
        "        \n",
        "        \n",
        "        \n",
        "        \n",
        "acc_test=correct/total\n",
        "print(\"Best model on test set: Test Accuracy {:.4f}%\".format(\n",
        "        acc_test * 100\n",
        "    ))"
      ]
    },
    {
      "cell_type": "markdown",
      "metadata": {
        "id": "bo_qV1fOkdFI"
      },
      "source": [
        "c.) Plot loss and accuracy curve\n",
        "\n",
        "In the previous cell, you have recorded the loss and train/test accuracy in `loss_list`, `acc_train_list`, and `acc_test_list`, respectively. In this problem, you are required to plot two figures: 1.) training loss curve (5%); 2.) training and testing accuracy curves in the same figure (5%)."
      ]
    },
    {
      "cell_type": "code",
      "execution_count": 6,
      "metadata": {
        "id": "8ybynXZhTX32"
      },
      "outputs": [
        {
          "data": {
            "image/png": "[encoded data removed]",
            "text/plain": [
              "<Figure size 640x480 with 1 Axes>"
            ]
          },
          "metadata": {},
          "output_type": "display_data"
        }
      ],
      "source": [
        "import numpy as np\n",
        "from matplotlib import pyplot as plt\n",
        "\n",
        "## ----- write your code here\n",
        "\n",
        "# training loss curve\n",
        "plt.figure()\n",
        "plt.plot(loss_list)\n",
        "plt.title(\"Training loss\")\n",
        "plt.xlabel(\"Epoch\")\n",
        "plt.ylabel(\"Loss\")\n",
        "plt.show()"
      ]
    },
    {
      "cell_type": "code",
      "execution_count": 7,
      "metadata": {},
      "outputs": [
        {
          "data": {
            "image/png": "[encoded data removed]",
            "text/plain": [
              "<Figure size 640x480 with 1 Axes>"
            ]
          },
          "metadata": {},
          "output_type": "display_data"
        }
      ],
      "source": [
        "# training and testing accuracy curves\n",
        "plt.figure()\n",
        "plt.title(\"Training & Testing Acc\")\n",
        "plt.plot(acc_train_list, label=\"Train\")\n",
        "plt.plot(acc_valid_list, label=\"Validation\")\n",
        "plt.xlabel(\"Epoch\")\n",
        "plt.ylabel(\"Accuracy\")\n",
        "plt.legend()\n",
        "plt.show()"
      ]
    },
    {
      "cell_type": "markdown",
      "metadata": {},
      "source": [
        "Compare with no dropout"
      ]
    },
    {
      "cell_type": "code",
      "execution_count": 8,
      "metadata": {},
      "outputs": [],
      "source": [
        "!rm best_checkpoint_mnist.pt"
      ]
    },
    {
      "cell_type": "code",
      "execution_count": 9,
      "metadata": {},
      "outputs": [],
      "source": [
        "class Model_NoDropout(nn.Module):\n",
        "    def __init__(self):\n",
        "        super(Model_NoDropout, self).__init__()\n",
        "        ## ----- write your code here\n",
        "        # layer 1: 28*28 input, 128 output\n",
        "        self.fc1 = nn.Linear(28 * 28, 128)\n",
        "        # layer 2: 128 input, 64 output\n",
        "        self.fc2 = nn.Linear(128, 64)\n",
        "        # self.dropout1 = nn.Dropout(0.2)\n",
        "        # layer 3: 64 input, 32 output\n",
        "        self.fc3 = nn.Linear(64, 32)\n",
        "        # self.dropout2 = nn.Dropout(0.2)\n",
        "        # layer 4: 32 input, 10 output\n",
        "        self.fc4 = nn.Linear(32, 10)\n",
        "        \n",
        "        \n",
        "\n",
        "    def forward(self, x):\n",
        "        ## ----- write your code here\n",
        "        ## Remember to return the output and delete the 'pass' command below\n",
        "        x = torch.flatten(x, start_dim=1, end_dim=3)\n",
        "        x = nn.functional.relu(self.fc1(x))\n",
        "        x = nn.functional.relu(self.fc2(x))\n",
        "        # x = self.dropout1(x)\n",
        "        x = nn.functional.relu(self.fc3(x))\n",
        "        # x = self.dropout2(x)\n",
        "        x = self.fc4(x)\n",
        "        return x"
      ]
    },
    {
      "cell_type": "code",
      "execution_count": 10,
      "metadata": {},
      "outputs": [
        {
          "name": "stdout",
          "output_type": "stream",
          "text": [
            " -- Epoch 1/10\n"
          ]
        },
        {
          "name": "stderr",
          "output_type": "stream",
          "text": [
            "100%|██████████| 750/750 [00:06<00:00, 117.66it/s]\n"
          ]
        },
        {
          "name": "stdout",
          "output_type": "stream",
          "text": [
            "Loss 0.0094, Train Accuracy 80.5500%, Validation Accuracy 91.0083%\n",
            " -- Epoch 2/10\n"
          ]
        },
        {
          "name": "stderr",
          "output_type": "stream",
          "text": [
            "100%|██████████| 750/750 [00:06<00:00, 119.02it/s]\n"
          ]
        },
        {
          "name": "stdout",
          "output_type": "stream",
          "text": [
            "Loss 0.0032, Train Accuracy 93.6271%, Validation Accuracy 94.2667%\n",
            " -- Epoch 3/10\n"
          ]
        },
        {
          "name": "stderr",
          "output_type": "stream",
          "text": [
            "100%|██████████| 750/750 [00:06<00:00, 121.53it/s]\n"
          ]
        },
        {
          "name": "stdout",
          "output_type": "stream",
          "text": [
            "Loss 0.0023, Train Accuracy 95.4604%, Validation Accuracy 95.6750%\n",
            " -- Epoch 4/10\n"
          ]
        },
        {
          "name": "stderr",
          "output_type": "stream",
          "text": [
            "100%|██████████| 750/750 [00:06<00:00, 117.18it/s]\n"
          ]
        },
        {
          "name": "stdout",
          "output_type": "stream",
          "text": [
            "Loss 0.0019, Train Accuracy 96.2646%, Validation Accuracy 96.0667%\n",
            " -- Epoch 5/10\n"
          ]
        },
        {
          "name": "stderr",
          "output_type": "stream",
          "text": [
            "100%|██████████| 750/750 [00:06<00:00, 117.09it/s]\n"
          ]
        },
        {
          "name": "stdout",
          "output_type": "stream",
          "text": [
            "Loss 0.0016, Train Accuracy 96.8667%, Validation Accuracy 94.8917%\n",
            " -- Epoch 6/10\n"
          ]
        },
        {
          "name": "stderr",
          "output_type": "stream",
          "text": [
            "100%|██████████| 750/750 [00:06<00:00, 121.44it/s]\n"
          ]
        },
        {
          "name": "stdout",
          "output_type": "stream",
          "text": [
            "Loss 0.0014, Train Accuracy 97.1625%, Validation Accuracy 96.5667%\n",
            " -- Epoch 7/10\n"
          ]
        },
        {
          "name": "stderr",
          "output_type": "stream",
          "text": [
            "100%|██████████| 750/750 [00:06<00:00, 119.11it/s]\n"
          ]
        },
        {
          "name": "stdout",
          "output_type": "stream",
          "text": [
            "Loss 0.0012, Train Accuracy 97.5958%, Validation Accuracy 96.3250%\n",
            " -- Epoch 8/10\n"
          ]
        },
        {
          "name": "stderr",
          "output_type": "stream",
          "text": [
            "100%|██████████| 750/750 [00:05<00:00, 125.90it/s]\n"
          ]
        },
        {
          "name": "stdout",
          "output_type": "stream",
          "text": [
            "Loss 0.0010, Train Accuracy 97.8229%, Validation Accuracy 96.5500%\n",
            " -- Epoch 9/10\n"
          ]
        },
        {
          "name": "stderr",
          "output_type": "stream",
          "text": [
            "100%|██████████| 750/750 [00:06<00:00, 116.77it/s]\n"
          ]
        },
        {
          "name": "stdout",
          "output_type": "stream",
          "text": [
            "Loss 0.0009, Train Accuracy 98.0771%, Validation Accuracy 97.2583%\n",
            " -- Epoch 10/10\n"
          ]
        },
        {
          "name": "stderr",
          "output_type": "stream",
          "text": [
            "100%|██████████| 750/750 [00:06<00:00, 121.48it/s]\n"
          ]
        },
        {
          "name": "stdout",
          "output_type": "stream",
          "text": [
            "Loss 0.0008, Train Accuracy 98.2729%, Validation Accuracy 97.2000%\n",
            "Best model on test set: Test Accuracy 48.6700%\n"
          ]
        }
      ],
      "source": [
        "max_epoch = 10\n",
        "use_cuda = True\n",
        "\n",
        "# model initialization\n",
        "model = Model_NoDropout()\n",
        "if use_cuda:\n",
        "    model = model.cuda()\n",
        "\n",
        "# loss function\n",
        "criterion = nn.CrossEntropyLoss() # -- write your code here --\n",
        "\n",
        "# optimizer\n",
        "optimizer = torch.optim.SGD(model.parameters(), lr=0.01, momentum=0.9)# -- write your code here --\n",
        "\n",
        "loss_list = []\n",
        "acc_train_list = []\n",
        "acc_valid_list = []\n",
        "\n",
        "best_valid_loss = float('inf')\n",
        "\n",
        "for epoch in range(max_epoch):\n",
        "    running_loss = 0.0\n",
        "    running_correct = 0\n",
        "    valid_loss = 0.0\n",
        "    valid_correct = 0\n",
        "    print(\" -- Epoch {}/{}\".format(epoch + 1, max_epoch))\n",
        "\n",
        "    # training\n",
        "    # call a function to control the dropout behaviour \n",
        "    # your code here\n",
        "    model.train(True)\n",
        "\n",
        "    for data in tqdm(loader_train):\n",
        "        # set all gradients to zero\n",
        "        optimizer.zero_grad()\n",
        "\n",
        "        # fetch data\n",
        "        images, labels = data\n",
        "        if use_cuda:\n",
        "            images = images.cuda()\n",
        "            labels = labels.cuda()\n",
        "\n",
        "        # model forward\n",
        "        outputs = model(images) # -- write your code here --\n",
        "\n",
        "        # calculate loss\n",
        "        loss = criterion(outputs, labels) # -- write your code here --\n",
        "\n",
        "        loss.backward()\n",
        "        optimizer.step()\n",
        "\n",
        "        pred = torch.argmax(outputs, dim=1)\n",
        "        running_loss += loss.item()\n",
        "        running_correct += torch.sum(pred == labels)\n",
        "\n",
        "    # record loss, accuracy\n",
        "    loss = running_loss / len(train_set)\n",
        "    loss_list.append(loss)\n",
        "    acc_train = running_correct / len(train_set)\n",
        "    acc_train_list.append(acc_train.item())\n",
        "\n",
        "    # testing\n",
        "\n",
        "    # call a function to control the dropout behaviour \n",
        "    model.eval()\n",
        "\n",
        "    valid_correct = 0\n",
        "    for data in loader_valid:\n",
        "        # fetch data\n",
        "        images, labels = data\n",
        "        if use_cuda:\n",
        "            images = images.cuda()\n",
        "            labels = labels.cuda()\n",
        "        \n",
        "        # model forward\n",
        "        voutputs = model(images)# -- write your code here --\n",
        "        \n",
        "        # calculate loss\n",
        "        vloss = criterion(voutputs, labels)\n",
        "        vpred = torch.argmax(voutputs, dim=1)\n",
        "        valid_loss += vloss.item()\n",
        "        valid_correct += torch.sum(vpred == labels)\n",
        "    \n",
        "\n",
        "    # Save best checkpoint\n",
        "    if valid_loss < best_valid_loss:\n",
        "        best_valid_loss = valid_loss\n",
        "        torch.save(model.state_dict(), 'best_checkpoint_mnist.pt')\n",
        "\n",
        "    acc_valid = valid_correct / len(valid_set)\n",
        "    acc_valid_list.append(acc_valid.item())\n",
        "    print(\"Loss {:.4f}, Train Accuracy {:.4f}%, Validation Accuracy {:.4f}%\".format(\n",
        "        loss,\n",
        "        acc_train * 100,\n",
        "        acc_valid * 100\n",
        "    ))\n",
        "\n",
        "\n",
        "model.load_state_dict(torch.load('best_checkpoint_mnist.pt'))\n",
        "\n",
        "# call a function to control the dropout behaviour \n",
        "model.eval()\n",
        "\n",
        "test_loss = 0.0\n",
        "correct = 0\n",
        "total = 0\n",
        "total = len(data_test)\n",
        "\n",
        "with torch.no_grad():\n",
        "    for images, labels in loader_test:\n",
        "        # fetch data\n",
        "        images, labels = data\n",
        "        if use_cuda:\n",
        "            images = images.cuda()\n",
        "            labels = labels.cuda()\n",
        "        \n",
        "        # model fimport torch.nn.functional as Forward\n",
        "        outputs = model(images)\n",
        "        \n",
        "        # calculate accuracy on test set\n",
        "        pred = torch.argmax(outputs, dim=1)\n",
        "        tloss = criterion(outputs, labels)\n",
        "        test_loss += tloss.item()\n",
        "        correct += torch.sum(pred == labels)\n",
        "\n",
        "        \n",
        "        \n",
        "        \n",
        "        \n",
        "acc_test=correct/total\n",
        "print(\"Best model on test set: Test Accuracy {:.4f}%\".format(\n",
        "        acc_test * 100\n",
        "    ))"
      ]
    },
    {
      "cell_type": "code",
      "execution_count": 11,
      "metadata": {},
      "outputs": [
        {
          "data": {
            "image/png": "[encoded data removed]",
            "text/plain": [
              "<Figure size 640x480 with 1 Axes>"
            ]
          },
          "metadata": {},
          "output_type": "display_data"
        }
      ],
      "source": [
        "import numpy as np\n",
        "from matplotlib import pyplot as plt\n",
        "\n",
        "## ----- write your code here\n",
        "\n",
        "# training loss curve\n",
        "plt.figure()\n",
        "plt.plot(loss_list)\n",
        "plt.title(\"Training loss (No Dropout)\")\n",
        "plt.xlabel(\"Epoch\")\n",
        "plt.ylabel(\"Loss\")\n",
        "plt.show()"
      ]
    },
    {
      "cell_type": "code",
      "execution_count": 12,
      "metadata": {},
      "outputs": [
        {
          "data": {
            "image/png": "[encoded data removed]",
            "text/plain": [
              "<Figure size 640x480 with 1 Axes>"
            ]
          },
          "metadata": {},
          "output_type": "display_data"
        }
      ],
      "source": [
        "# training and testing accuracy curves\n",
        "plt.figure()\n",
        "plt.title(\"Traning & Testing Acc (No Dropout)\")\n",
        "plt.plot(acc_train_list, label=\"Train\")\n",
        "plt.plot(acc_valid_list, label=\"Validation\")\n",
        "plt.xlabel(\"Epoch\")\n",
        "plt.ylabel(\"Accuracy\")\n",
        "plt.legend()\n",
        "plt.show()"
      ]
    },
    {
      "cell_type": "markdown",
      "metadata": {
        "id": "GG389yDcsk1B"
      },
      "source": [
        "### Problem 2. Train a LeNet network on the EMINIST dataset (60%)\n",
        "\n",
        "1. Implement the model and training code as instructed in the Jupyter notebook (30%);\n",
        "\n",
        "2. In the summary report, plot the loss and accuracy curve (10%);\n",
        "\n",
        "3. Try different choices of batch sizes, learning rates, or optimizers in your experiments. In the summary report, report the accuracy of your three choices. You may discuss the findings, the explaination, and possible solutions in a short paragraph followed by your results (30%)."
      ]
    },
    {
      "cell_type": "markdown",
      "metadata": {},
      "source": [
        "load data"
      ]
    },
    {
      "cell_type": "code",
      "execution_count": 13,
      "metadata": {},
      "outputs": [
        {
          "name": "stdout",
          "output_type": "stream",
          "text": [
            "Downloading https://www.itl.nist.gov/iaui/vip/cs_links/EMNIST/gzip.zip to data/EMNIST/raw/gzip.zip\n"
          ]
        },
        {
          "name": "stderr",
          "output_type": "stream",
          "text": [
            "100%|██████████| 561753746/561753746 [01:43<00:00, 5413605.09it/s]\n"
          ]
        },
        {
          "name": "stdout",
          "output_type": "stream",
          "text": [
            "Extracting data/EMNIST/raw/gzip.zip to data/EMNIST/raw\n",
            "train set size: 90240, validation set size: 22560\n"
          ]
        }
      ],
      "source": [
        "# load EMNIST dataset\n",
        "train_set = datasets.EMNIST(\n",
        "    root=\"data\",\n",
        "    split=\"balanced\",\n",
        "    download=\"True\",\n",
        "    train=True,\n",
        "    transform=transform\n",
        ")\n",
        "\n",
        "\n",
        "test_set = datasets.EMNIST(\n",
        "    root=\"data\",\n",
        "    split=\"balanced\",\n",
        "    download=\"True\",\n",
        "    train=False,\n",
        "    transform=transform\n",
        "\n",
        ")\n",
        "entire_trainset = torch.utils.data.DataLoader(train_set, shuffle=True)\n",
        "\n",
        "split_train_size = int(0.8*(len(entire_trainset)))  # use 80% as train set\n",
        "split_valid_size = len(entire_trainset) - split_train_size  # use 20% as validation set\n",
        "\n",
        "train_set, val_set = torch.utils.data.random_split(\n",
        "    train_set, [split_train_size, split_valid_size])\n",
        "\n",
        "print(f'train set size: {split_train_size}, validation set size: {split_valid_size}')\n",
        "# EMNIST loader\n",
        "loader_train_emnist = torch.utils.data.DataLoader(\n",
        "    dataset=train_set,\n",
        "    batch_size=256, # Can be modified\n",
        "    shuffle=True\n",
        ")\n",
        "\n",
        "loader_val_emnist = torch.utils.data.DataLoader(\n",
        "    dataset=val_set,\n",
        "    batch_size=256, # Can be modified\n",
        "    shuffle=True\n",
        ")\n",
        "\n",
        "loader_test_emnist = torch.utils.data.DataLoader(\n",
        "    dataset=test_set,\n",
        "    batch_size=256, # Can be modified\n",
        "    shuffle=True\n",
        ")"
      ]
    },
    {
      "cell_type": "markdown",
      "metadata": {},
      "source": [
        "Implement Model"
      ]
    },
    {
      "cell_type": "code",
      "execution_count": 14,
      "metadata": {
        "id": "53h6r6b3tLLi"
      },
      "outputs": [],
      "source": [
        "## ----- write your code here.\n",
        "import torch.nn.functional as F\n",
        "\n",
        "# reference: https://pytorch.org/tutorials/beginner/blitz/neural_networks_tutorial.html#define-the-network\n",
        "class LeNet(nn.Module):\n",
        "    def __init__(self, num_classes):\n",
        "        super(LeNet, self).__init__()\n",
        "        self.features = nn.Sequential(\n",
        "            nn.Conv2d(1, 6, kernel_size=5),\n",
        "            nn.ReLU(inplace=True),\n",
        "            nn.MaxPool2d(kernel_size=2),\n",
        "            nn.Conv2d(6, 16, kernel_size=5),\n",
        "            nn.ReLU(inplace=True),\n",
        "            nn.MaxPool2d(kernel_size=2)\n",
        "        )\n",
        "        self.classifier = nn.Sequential(\n",
        "            nn.Linear(16 * 4 * 4, 120),\n",
        "            nn.ReLU(inplace=True),\n",
        "            nn.Linear(120, 84),\n",
        "            nn.ReLU(inplace=True),\n",
        "            nn.Linear(84, num_classes)\n",
        "        )\n",
        "\n",
        "    def forward(self, x):\n",
        "        x = self.features(x)\n",
        "        # reshape the input tensor x before passing it through the fully connected layers\n",
        "        x = x.view(x.size(0), -1)\n",
        "        x = self.classifier(x)\n",
        "        return x"
      ]
    },
    {
      "cell_type": "markdown",
      "metadata": {},
      "source": [
        "Train and try different hyperparameters (batch sizes, learning rate, and optimizer)."
      ]
    },
    {
      "cell_type": "code",
      "execution_count": 15,
      "metadata": {},
      "outputs": [],
      "source": [
        "!rm best_checkpoint_mnist.pt"
      ]
    },
    {
      "cell_type": "code",
      "execution_count": 16,
      "metadata": {},
      "outputs": [
        {
          "name": "stdout",
          "output_type": "stream",
          "text": [
            "lr: 0.1, optim: SGD, batch: 64\n",
            " -- Epoch 1/10\n"
          ]
        },
        {
          "name": "stderr",
          "output_type": "stream",
          "text": [
            "  0%|          | 0/1410 [00:00<?, ?it/s]"
          ]
        },
        {
          "name": "stderr",
          "output_type": "stream",
          "text": [
            "100%|██████████| 1410/1410 [00:14<00:00, 96.71it/s]\n"
          ]
        },
        {
          "name": "stdout",
          "output_type": "stream",
          "text": [
            "Loss 0.0209, Train Accuracy 61.2699%, Validation Accuracy 71.1037%\n",
            " -- Epoch 2/10\n"
          ]
        },
        {
          "name": "stderr",
          "output_type": "stream",
          "text": [
            "100%|██████████| 1410/1410 [00:14<00:00, 100.09it/s]\n"
          ]
        },
        {
          "name": "stdout",
          "output_type": "stream",
          "text": [
            "Loss 0.0176, Train Accuracy 68.3355%, Validation Accuracy 66.4849%\n",
            " -- Epoch 3/10\n"
          ]
        },
        {
          "name": "stderr",
          "output_type": "stream",
          "text": [
            "100%|██████████| 1410/1410 [00:14<00:00, 95.79it/s]\n"
          ]
        },
        {
          "name": "stdout",
          "output_type": "stream",
          "text": [
            "Loss 0.0190, Train Accuracy 67.7094%, Validation Accuracy 63.5683%\n",
            " -- Epoch 4/10\n"
          ]
        },
        {
          "name": "stderr",
          "output_type": "stream",
          "text": [
            "100%|██████████| 1410/1410 [00:14<00:00, 99.43it/s] \n"
          ]
        },
        {
          "name": "stdout",
          "output_type": "stream",
          "text": [
            "Loss 0.0228, Train Accuracy 63.8132%, Validation Accuracy 59.4592%\n",
            " -- Epoch 5/10\n"
          ]
        },
        {
          "name": "stderr",
          "output_type": "stream",
          "text": [
            "100%|██████████| 1410/1410 [00:14<00:00, 97.07it/s]\n"
          ]
        },
        {
          "name": "stdout",
          "output_type": "stream",
          "text": [
            "Loss 0.0297, Train Accuracy 55.6272%, Validation Accuracy 50.1418%\n",
            " -- Epoch 6/10\n"
          ]
        },
        {
          "name": "stderr",
          "output_type": "stream",
          "text": [
            "100%|██████████| 1410/1410 [00:14<00:00, 97.78it/s] \n"
          ]
        },
        {
          "name": "stdout",
          "output_type": "stream",
          "text": [
            "Loss 0.0456, Train Accuracy 28.7356%, Validation Accuracy 2.4158%\n",
            " -- Epoch 7/10\n"
          ]
        },
        {
          "name": "stderr",
          "output_type": "stream",
          "text": [
            "100%|██████████| 1410/1410 [00:14<00:00, 97.47it/s]\n"
          ]
        },
        {
          "name": "stdout",
          "output_type": "stream",
          "text": [
            "Loss 0.0602, Train Accuracy 2.1443%, Validation Accuracy 2.0966%\n",
            " -- Epoch 8/10\n"
          ]
        },
        {
          "name": "stderr",
          "output_type": "stream",
          "text": [
            "100%|██████████| 1410/1410 [00:14<00:00, 99.27it/s] \n"
          ]
        },
        {
          "name": "stdout",
          "output_type": "stream",
          "text": [
            "Loss 0.0602, Train Accuracy 2.2152%, Validation Accuracy 2.0833%\n",
            " -- Epoch 9/10\n"
          ]
        },
        {
          "name": "stderr",
          "output_type": "stream",
          "text": [
            "100%|██████████| 1410/1410 [00:15<00:00, 91.18it/s]\n"
          ]
        },
        {
          "name": "stdout",
          "output_type": "stream",
          "text": [
            "Loss 0.0599, Train Accuracy 2.6031%, Validation Accuracy 2.6729%\n",
            " -- Epoch 10/10\n"
          ]
        },
        {
          "name": "stderr",
          "output_type": "stream",
          "text": [
            "100%|██████████| 1410/1410 [00:15<00:00, 92.47it/s]\n"
          ]
        },
        {
          "name": "stdout",
          "output_type": "stream",
          "text": [
            "Loss 0.0589, Train Accuracy 3.3577%, Validation Accuracy 3.2402%\n",
            "Best model on test set: Test Accuracy 39.0957%\n",
            "lr: 0.1, optim: SGD, batch: 128\n",
            " -- Epoch 1/10\n"
          ]
        },
        {
          "name": "stderr",
          "output_type": "stream",
          "text": [
            "100%|██████████| 705/705 [00:13<00:00, 52.46it/s]\n"
          ]
        },
        {
          "name": "stdout",
          "output_type": "stream",
          "text": [
            "Loss 0.0084, Train Accuracy 67.5166%, Validation Accuracy 78.1915%\n",
            " -- Epoch 2/10\n"
          ]
        },
        {
          "name": "stderr",
          "output_type": "stream",
          "text": [
            "100%|██████████| 705/705 [00:13<00:00, 52.36it/s]\n"
          ]
        },
        {
          "name": "stdout",
          "output_type": "stream",
          "text": [
            "Loss 0.0049, Train Accuracy 79.2487%, Validation Accuracy 81.2855%\n",
            " -- Epoch 3/10\n"
          ]
        },
        {
          "name": "stderr",
          "output_type": "stream",
          "text": [
            "100%|██████████| 705/705 [00:13<00:00, 53.56it/s]\n"
          ]
        },
        {
          "name": "stdout",
          "output_type": "stream",
          "text": [
            "Loss 0.0044, Train Accuracy 81.2988%, Validation Accuracy 82.0833%\n",
            " -- Epoch 4/10\n"
          ]
        },
        {
          "name": "stderr",
          "output_type": "stream",
          "text": [
            "100%|██████████| 705/705 [00:13<00:00, 52.94it/s]\n"
          ]
        },
        {
          "name": "stdout",
          "output_type": "stream",
          "text": [
            "Loss 0.0049, Train Accuracy 79.8692%, Validation Accuracy 80.9752%\n",
            " -- Epoch 5/10\n"
          ]
        },
        {
          "name": "stderr",
          "output_type": "stream",
          "text": [
            "100%|██████████| 705/705 [00:13<00:00, 53.44it/s]\n"
          ]
        },
        {
          "name": "stdout",
          "output_type": "stream",
          "text": [
            "Loss 0.0042, Train Accuracy 82.3227%, Validation Accuracy 82.5754%\n",
            " -- Epoch 6/10\n"
          ]
        },
        {
          "name": "stderr",
          "output_type": "stream",
          "text": [
            "100%|██████████| 705/705 [00:13<00:00, 53.93it/s]\n"
          ]
        },
        {
          "name": "stdout",
          "output_type": "stream",
          "text": [
            "Loss 0.0040, Train Accuracy 83.0696%, Validation Accuracy 80.9885%\n",
            " -- Epoch 7/10\n"
          ]
        },
        {
          "name": "stderr",
          "output_type": "stream",
          "text": [
            "100%|██████████| 705/705 [00:13<00:00, 53.36it/s]\n"
          ]
        },
        {
          "name": "stdout",
          "output_type": "stream",
          "text": [
            "Loss 0.0042, Train Accuracy 82.3726%, Validation Accuracy 81.3697%\n",
            " -- Epoch 8/10\n"
          ]
        },
        {
          "name": "stderr",
          "output_type": "stream",
          "text": [
            "100%|██████████| 705/705 [00:13<00:00, 51.67it/s]\n"
          ]
        },
        {
          "name": "stdout",
          "output_type": "stream",
          "text": [
            "Loss 0.0040, Train Accuracy 83.1383%, Validation Accuracy 78.9495%\n",
            " -- Epoch 9/10\n"
          ]
        },
        {
          "name": "stderr",
          "output_type": "stream",
          "text": [
            "100%|██████████| 705/705 [00:13<00:00, 52.01it/s]\n"
          ]
        },
        {
          "name": "stdout",
          "output_type": "stream",
          "text": [
            "Loss 0.0053, Train Accuracy 79.7363%, Validation Accuracy 5.8156%\n",
            " -- Epoch 10/10\n"
          ]
        },
        {
          "name": "stderr",
          "output_type": "stream",
          "text": [
            "100%|██████████| 705/705 [00:13<00:00, 52.46it/s]\n"
          ]
        },
        {
          "name": "stdout",
          "output_type": "stream",
          "text": [
            "Loss 0.0155, Train Accuracy 45.5984%, Validation Accuracy 77.5665%\n",
            "Best model on test set: Test Accuracy 19.5479%\n",
            "lr: 0.1, optim: Adagrad, batch: 64\n",
            " -- Epoch 1/10\n"
          ]
        },
        {
          "name": "stderr",
          "output_type": "stream",
          "text": [
            "100%|██████████| 1410/1410 [00:15<00:00, 89.10it/s]\n"
          ]
        },
        {
          "name": "stdout",
          "output_type": "stream",
          "text": [
            "Loss 0.0187, Train Accuracy 68.0142%, Validation Accuracy 78.6348%\n",
            " -- Epoch 2/10\n"
          ]
        },
        {
          "name": "stderr",
          "output_type": "stream",
          "text": [
            "100%|██████████| 1410/1410 [00:15<00:00, 88.95it/s]\n"
          ]
        },
        {
          "name": "stdout",
          "output_type": "stream",
          "text": [
            "Loss 0.0090, Train Accuracy 80.6860%, Validation Accuracy 81.2145%\n",
            " -- Epoch 3/10\n"
          ]
        },
        {
          "name": "stderr",
          "output_type": "stream",
          "text": [
            "100%|██████████| 1410/1410 [00:15<00:00, 88.80it/s]\n"
          ]
        },
        {
          "name": "stdout",
          "output_type": "stream",
          "text": [
            "Loss 0.0079, Train Accuracy 82.7859%, Validation Accuracy 82.5089%\n",
            " -- Epoch 4/10\n"
          ]
        },
        {
          "name": "stderr",
          "output_type": "stream",
          "text": [
            "100%|██████████| 1410/1410 [00:15<00:00, 88.99it/s]\n"
          ]
        },
        {
          "name": "stdout",
          "output_type": "stream",
          "text": [
            "Loss 0.0073, Train Accuracy 83.9340%, Validation Accuracy 82.3183%\n",
            " -- Epoch 5/10\n"
          ]
        },
        {
          "name": "stderr",
          "output_type": "stream",
          "text": [
            "100%|██████████| 1410/1410 [00:16<00:00, 86.98it/s]\n"
          ]
        },
        {
          "name": "stdout",
          "output_type": "stream",
          "text": [
            "Loss 0.0069, Train Accuracy 84.6121%, Validation Accuracy 83.3555%\n",
            " -- Epoch 6/10\n"
          ]
        },
        {
          "name": "stderr",
          "output_type": "stream",
          "text": [
            "100%|██████████| 1410/1410 [00:16<00:00, 86.33it/s]\n"
          ]
        },
        {
          "name": "stdout",
          "output_type": "stream",
          "text": [
            "Loss 0.0066, Train Accuracy 85.3457%, Validation Accuracy 83.7145%\n",
            " -- Epoch 7/10\n"
          ]
        },
        {
          "name": "stderr",
          "output_type": "stream",
          "text": [
            "100%|██████████| 1410/1410 [00:16<00:00, 87.56it/s]\n"
          ]
        },
        {
          "name": "stdout",
          "output_type": "stream",
          "text": [
            "Loss 0.0064, Train Accuracy 85.6339%, Validation Accuracy 83.7943%\n",
            " -- Epoch 8/10\n"
          ]
        },
        {
          "name": "stderr",
          "output_type": "stream",
          "text": [
            "100%|██████████| 1410/1410 [00:15<00:00, 88.97it/s]\n"
          ]
        },
        {
          "name": "stdout",
          "output_type": "stream",
          "text": [
            "Loss 0.0062, Train Accuracy 85.9153%, Validation Accuracy 84.5922%\n",
            " -- Epoch 9/10\n"
          ]
        },
        {
          "name": "stderr",
          "output_type": "stream",
          "text": [
            "100%|██████████| 1410/1410 [00:15<00:00, 88.58it/s]\n"
          ]
        },
        {
          "name": "stdout",
          "output_type": "stream",
          "text": [
            "Loss 0.0060, Train Accuracy 86.2976%, Validation Accuracy 84.2775%\n",
            " -- Epoch 10/10\n"
          ]
        },
        {
          "name": "stderr",
          "output_type": "stream",
          "text": [
            "100%|██████████| 1410/1410 [00:15<00:00, 90.61it/s]\n"
          ]
        },
        {
          "name": "stdout",
          "output_type": "stream",
          "text": [
            "Loss 0.0059, Train Accuracy 86.6445%, Validation Accuracy 84.2066%\n",
            "Best model on test set: Test Accuracy 40.6596%\n",
            "lr: 0.1, optim: Adagrad, batch: 128\n",
            " -- Epoch 1/10\n"
          ]
        },
        {
          "name": "stderr",
          "output_type": "stream",
          "text": [
            "100%|██████████| 705/705 [00:14<00:00, 49.96it/s]\n"
          ]
        },
        {
          "name": "stdout",
          "output_type": "stream",
          "text": [
            "Loss 0.0119, Train Accuracy 57.3570%, Validation Accuracy 76.4229%\n",
            " -- Epoch 2/10\n"
          ]
        },
        {
          "name": "stderr",
          "output_type": "stream",
          "text": [
            "100%|██████████| 705/705 [00:13<00:00, 50.88it/s]\n"
          ]
        },
        {
          "name": "stdout",
          "output_type": "stream",
          "text": [
            "Loss 0.0049, Train Accuracy 79.0137%, Validation Accuracy 79.8050%\n",
            " -- Epoch 3/10\n"
          ]
        },
        {
          "name": "stderr",
          "output_type": "stream",
          "text": [
            "100%|██████████| 705/705 [00:14<00:00, 50.08it/s]\n"
          ]
        },
        {
          "name": "stdout",
          "output_type": "stream",
          "text": [
            "Loss 0.0042, Train Accuracy 81.8019%, Validation Accuracy 81.6312%\n",
            " -- Epoch 4/10\n"
          ]
        },
        {
          "name": "stderr",
          "output_type": "stream",
          "text": [
            "100%|██████████| 705/705 [00:14<00:00, 49.50it/s]\n"
          ]
        },
        {
          "name": "stdout",
          "output_type": "stream",
          "text": [
            "Loss 0.0037, Train Accuracy 83.5649%, Validation Accuracy 82.3449%\n",
            " -- Epoch 5/10\n"
          ]
        },
        {
          "name": "stderr",
          "output_type": "stream",
          "text": [
            "100%|██████████| 705/705 [00:14<00:00, 49.59it/s]\n"
          ]
        },
        {
          "name": "stdout",
          "output_type": "stream",
          "text": [
            "Loss 0.0035, Train Accuracy 84.6210%, Validation Accuracy 82.5443%\n",
            " -- Epoch 6/10\n"
          ]
        },
        {
          "name": "stderr",
          "output_type": "stream",
          "text": [
            "100%|██████████| 705/705 [00:14<00:00, 50.22it/s]\n"
          ]
        },
        {
          "name": "stdout",
          "output_type": "stream",
          "text": [
            "Loss 0.0033, Train Accuracy 85.2560%, Validation Accuracy 83.5239%\n",
            " -- Epoch 7/10\n"
          ]
        },
        {
          "name": "stderr",
          "output_type": "stream",
          "text": [
            "100%|██████████| 705/705 [00:13<00:00, 50.80it/s]\n"
          ]
        },
        {
          "name": "stdout",
          "output_type": "stream",
          "text": [
            "Loss 0.0031, Train Accuracy 85.7801%, Validation Accuracy 83.6436%\n",
            " -- Epoch 8/10\n"
          ]
        },
        {
          "name": "stderr",
          "output_type": "stream",
          "text": [
            "100%|██████████| 705/705 [00:13<00:00, 51.79it/s]\n"
          ]
        },
        {
          "name": "stdout",
          "output_type": "stream",
          "text": [
            "Loss 0.0030, Train Accuracy 86.3398%, Validation Accuracy 83.5062%\n",
            " -- Epoch 9/10\n"
          ]
        },
        {
          "name": "stderr",
          "output_type": "stream",
          "text": [
            "100%|██████████| 705/705 [00:14<00:00, 49.41it/s]\n"
          ]
        },
        {
          "name": "stdout",
          "output_type": "stream",
          "text": [
            "Loss 0.0029, Train Accuracy 86.6744%, Validation Accuracy 83.9672%\n",
            " -- Epoch 10/10\n"
          ]
        },
        {
          "name": "stderr",
          "output_type": "stream",
          "text": [
            "100%|██████████| 705/705 [00:14<00:00, 50.01it/s]\n"
          ]
        },
        {
          "name": "stdout",
          "output_type": "stream",
          "text": [
            "Loss 0.0028, Train Accuracy 87.0556%, Validation Accuracy 84.2465%\n",
            "Best model on test set: Test Accuracy 21.1117%\n",
            "lr: 0.01, optim: SGD, batch: 64\n",
            " -- Epoch 1/10\n"
          ]
        },
        {
          "name": "stderr",
          "output_type": "stream",
          "text": [
            "100%|██████████| 1410/1410 [00:15<00:00, 89.38it/s]\n"
          ]
        },
        {
          "name": "stdout",
          "output_type": "stream",
          "text": [
            "Loss 0.0189, Train Accuracy 64.5058%, Validation Accuracy 80.8954%\n",
            " -- Epoch 2/10\n"
          ]
        },
        {
          "name": "stderr",
          "output_type": "stream",
          "text": [
            "100%|██████████| 1410/1410 [00:15<00:00, 90.47it/s]\n"
          ]
        },
        {
          "name": "stdout",
          "output_type": "stream",
          "text": [
            "Loss 0.0076, Train Accuracy 82.9776%, Validation Accuracy 84.4016%\n",
            " -- Epoch 3/10\n"
          ]
        },
        {
          "name": "stderr",
          "output_type": "stream",
          "text": [
            "100%|██████████| 1410/1410 [00:15<00:00, 92.89it/s]\n"
          ]
        },
        {
          "name": "stdout",
          "output_type": "stream",
          "text": [
            "Loss 0.0066, Train Accuracy 85.1042%, Validation Accuracy 84.1356%\n",
            " -- Epoch 4/10\n"
          ]
        },
        {
          "name": "stderr",
          "output_type": "stream",
          "text": [
            "100%|██████████| 1410/1410 [00:15<00:00, 93.60it/s] \n"
          ]
        },
        {
          "name": "stdout",
          "output_type": "stream",
          "text": [
            "Loss 0.0060, Train Accuracy 86.0084%, Validation Accuracy 85.2748%\n",
            " -- Epoch 5/10\n"
          ]
        },
        {
          "name": "stderr",
          "output_type": "stream",
          "text": [
            "100%|██████████| 1410/1410 [00:15<00:00, 93.95it/s]\n"
          ]
        },
        {
          "name": "stdout",
          "output_type": "stream",
          "text": [
            "Loss 0.0056, Train Accuracy 86.7077%, Validation Accuracy 86.0062%\n",
            " -- Epoch 6/10\n"
          ]
        },
        {
          "name": "stderr",
          "output_type": "stream",
          "text": [
            "100%|██████████| 1410/1410 [00:15<00:00, 93.22it/s]\n"
          ]
        },
        {
          "name": "stdout",
          "output_type": "stream",
          "text": [
            "Loss 0.0053, Train Accuracy 87.3005%, Validation Accuracy 85.7270%\n",
            " -- Epoch 7/10\n"
          ]
        },
        {
          "name": "stderr",
          "output_type": "stream",
          "text": [
            "100%|██████████| 1410/1410 [00:15<00:00, 90.40it/s]\n"
          ]
        },
        {
          "name": "stdout",
          "output_type": "stream",
          "text": [
            "Loss 0.0051, Train Accuracy 87.7637%, Validation Accuracy 85.9619%\n",
            " -- Epoch 8/10\n"
          ]
        },
        {
          "name": "stderr",
          "output_type": "stream",
          "text": [
            "100%|██████████| 1410/1410 [00:15<00:00, 93.23it/s]\n"
          ]
        },
        {
          "name": "stdout",
          "output_type": "stream",
          "text": [
            "Loss 0.0049, Train Accuracy 88.2702%, Validation Accuracy 86.1170%\n",
            " -- Epoch 9/10\n"
          ]
        },
        {
          "name": "stderr",
          "output_type": "stream",
          "text": [
            "100%|██████████| 1410/1410 [00:15<00:00, 92.50it/s]\n"
          ]
        },
        {
          "name": "stdout",
          "output_type": "stream",
          "text": [
            "Loss 0.0047, Train Accuracy 88.5649%, Validation Accuracy 86.5115%\n",
            " -- Epoch 10/10\n"
          ]
        },
        {
          "name": "stderr",
          "output_type": "stream",
          "text": [
            "100%|██████████| 1410/1410 [00:14<00:00, 94.72it/s]\n"
          ]
        },
        {
          "name": "stdout",
          "output_type": "stream",
          "text": [
            "Loss 0.0046, Train Accuracy 88.8198%, Validation Accuracy 86.7332%\n",
            "Best model on test set: Test Accuracy 37.5319%\n",
            "lr: 0.01, optim: SGD, batch: 128\n",
            " -- Epoch 1/10\n"
          ]
        },
        {
          "name": "stderr",
          "output_type": "stream",
          "text": [
            "100%|██████████| 705/705 [00:13<00:00, 50.97it/s]\n"
          ]
        },
        {
          "name": "stdout",
          "output_type": "stream",
          "text": [
            "Loss 0.0153, Train Accuracy 46.7442%, Validation Accuracy 78.0629%\n",
            " -- Epoch 2/10\n"
          ]
        },
        {
          "name": "stderr",
          "output_type": "stream",
          "text": [
            "100%|██████████| 705/705 [00:13<00:00, 51.81it/s]\n"
          ]
        },
        {
          "name": "stdout",
          "output_type": "stream",
          "text": [
            "Loss 0.0045, Train Accuracy 80.6915%, Validation Accuracy 82.3537%\n",
            " -- Epoch 3/10\n"
          ]
        },
        {
          "name": "stderr",
          "output_type": "stream",
          "text": [
            "100%|██████████| 705/705 [00:13<00:00, 51.56it/s]\n"
          ]
        },
        {
          "name": "stdout",
          "output_type": "stream",
          "text": [
            "Loss 0.0036, Train Accuracy 83.7932%, Validation Accuracy 84.0559%\n",
            " -- Epoch 4/10\n"
          ]
        },
        {
          "name": "stderr",
          "output_type": "stream",
          "text": [
            "100%|██████████| 705/705 [00:13<00:00, 51.82it/s]\n"
          ]
        },
        {
          "name": "stdout",
          "output_type": "stream",
          "text": [
            "Loss 0.0032, Train Accuracy 85.4222%, Validation Accuracy 84.5080%\n",
            " -- Epoch 5/10\n"
          ]
        },
        {
          "name": "stderr",
          "output_type": "stream",
          "text": [
            "100%|██████████| 705/705 [00:13<00:00, 53.83it/s]\n"
          ]
        },
        {
          "name": "stdout",
          "output_type": "stream",
          "text": [
            "Loss 0.0030, Train Accuracy 86.3730%, Validation Accuracy 85.2128%\n",
            " -- Epoch 6/10\n"
          ]
        },
        {
          "name": "stderr",
          "output_type": "stream",
          "text": [
            "100%|██████████| 705/705 [00:13<00:00, 52.38it/s]\n"
          ]
        },
        {
          "name": "stdout",
          "output_type": "stream",
          "text": [
            "Loss 0.0028, Train Accuracy 86.8506%, Validation Accuracy 85.8555%\n",
            " -- Epoch 7/10\n"
          ]
        },
        {
          "name": "stderr",
          "output_type": "stream",
          "text": [
            "100%|██████████| 705/705 [00:13<00:00, 52.97it/s]\n"
          ]
        },
        {
          "name": "stdout",
          "output_type": "stream",
          "text": [
            "Loss 0.0027, Train Accuracy 87.3692%, Validation Accuracy 86.1215%\n",
            " -- Epoch 8/10\n"
          ]
        },
        {
          "name": "stderr",
          "output_type": "stream",
          "text": [
            "100%|██████████| 705/705 [00:13<00:00, 54.15it/s]\n"
          ]
        },
        {
          "name": "stdout",
          "output_type": "stream",
          "text": [
            "Loss 0.0026, Train Accuracy 87.8690%, Validation Accuracy 86.3520%\n",
            " -- Epoch 9/10\n"
          ]
        },
        {
          "name": "stderr",
          "output_type": "stream",
          "text": [
            "100%|██████████| 705/705 [00:13<00:00, 53.35it/s]\n"
          ]
        },
        {
          "name": "stdout",
          "output_type": "stream",
          "text": [
            "Loss 0.0025, Train Accuracy 88.2325%, Validation Accuracy 86.7908%\n",
            " -- Epoch 10/10\n"
          ]
        },
        {
          "name": "stderr",
          "output_type": "stream",
          "text": [
            "100%|██████████| 705/705 [00:13<00:00, 52.54it/s]\n"
          ]
        },
        {
          "name": "stdout",
          "output_type": "stream",
          "text": [
            "Loss 0.0024, Train Accuracy 88.5306%, Validation Accuracy 86.2722%\n",
            "Best model on test set: Test Accuracy 21.8936%\n",
            "lr: 0.01, optim: Adagrad, batch: 64\n",
            " -- Epoch 1/10\n"
          ]
        },
        {
          "name": "stderr",
          "output_type": "stream",
          "text": [
            "100%|██████████| 1410/1410 [00:16<00:00, 83.95it/s]\n"
          ]
        },
        {
          "name": "stdout",
          "output_type": "stream",
          "text": [
            "Loss 0.0141, Train Accuracy 72.0911%, Validation Accuracy 79.9291%\n",
            " -- Epoch 2/10\n"
          ]
        },
        {
          "name": "stderr",
          "output_type": "stream",
          "text": [
            "100%|██████████| 1410/1410 [00:16<00:00, 84.30it/s]\n"
          ]
        },
        {
          "name": "stdout",
          "output_type": "stream",
          "text": [
            "Loss 0.0086, Train Accuracy 81.6899%, Validation Accuracy 81.9282%\n",
            " -- Epoch 3/10\n"
          ]
        },
        {
          "name": "stderr",
          "output_type": "stream",
          "text": [
            "100%|██████████| 1410/1410 [00:16<00:00, 85.87it/s]\n"
          ]
        },
        {
          "name": "stdout",
          "output_type": "stream",
          "text": [
            "Loss 0.0077, Train Accuracy 83.4065%, Validation Accuracy 82.6773%\n",
            " -- Epoch 4/10\n"
          ]
        },
        {
          "name": "stderr",
          "output_type": "stream",
          "text": [
            "100%|██████████| 1410/1410 [00:16<00:00, 87.15it/s]\n"
          ]
        },
        {
          "name": "stdout",
          "output_type": "stream",
          "text": [
            "Loss 0.0072, Train Accuracy 84.3783%, Validation Accuracy 83.6569%\n",
            " -- Epoch 5/10\n"
          ]
        },
        {
          "name": "stderr",
          "output_type": "stream",
          "text": [
            "100%|██████████| 1410/1410 [00:16<00:00, 86.00it/s]\n"
          ]
        },
        {
          "name": "stdout",
          "output_type": "stream",
          "text": [
            "Loss 0.0068, Train Accuracy 85.0831%, Validation Accuracy 83.8741%\n",
            " -- Epoch 6/10\n"
          ]
        },
        {
          "name": "stderr",
          "output_type": "stream",
          "text": [
            "100%|██████████| 1410/1410 [00:16<00:00, 87.06it/s]\n"
          ]
        },
        {
          "name": "stdout",
          "output_type": "stream",
          "text": [
            "Loss 0.0066, Train Accuracy 85.5862%, Validation Accuracy 84.0736%\n",
            " -- Epoch 7/10\n"
          ]
        },
        {
          "name": "stderr",
          "output_type": "stream",
          "text": [
            "100%|██████████| 1410/1410 [00:16<00:00, 83.90it/s]\n"
          ]
        },
        {
          "name": "stdout",
          "output_type": "stream",
          "text": [
            "Loss 0.0064, Train Accuracy 85.8910%, Validation Accuracy 84.7606%\n",
            " -- Epoch 8/10\n"
          ]
        },
        {
          "name": "stderr",
          "output_type": "stream",
          "text": [
            "100%|██████████| 1410/1410 [00:16<00:00, 86.34it/s]\n"
          ]
        },
        {
          "name": "stdout",
          "output_type": "stream",
          "text": [
            "Loss 0.0062, Train Accuracy 86.3542%, Validation Accuracy 84.6853%\n",
            " -- Epoch 9/10\n"
          ]
        },
        {
          "name": "stderr",
          "output_type": "stream",
          "text": [
            "100%|██████████| 1410/1410 [00:16<00:00, 83.91it/s]\n"
          ]
        },
        {
          "name": "stdout",
          "output_type": "stream",
          "text": [
            "Loss 0.0061, Train Accuracy 86.5448%, Validation Accuracy 84.8537%\n",
            " -- Epoch 10/10\n"
          ]
        },
        {
          "name": "stderr",
          "output_type": "stream",
          "text": [
            "100%|██████████| 1410/1410 [00:17<00:00, 82.64it/s]\n"
          ]
        },
        {
          "name": "stdout",
          "output_type": "stream",
          "text": [
            "Loss 0.0059, Train Accuracy 86.7620%, Validation Accuracy 84.9424%\n",
            "Best model on test set: Test Accuracy 42.2234%\n",
            "lr: 0.01, optim: Adagrad, batch: 128\n",
            " -- Epoch 1/10\n"
          ]
        },
        {
          "name": "stderr",
          "output_type": "stream",
          "text": [
            "100%|██████████| 705/705 [00:14<00:00, 47.99it/s]\n"
          ]
        },
        {
          "name": "stdout",
          "output_type": "stream",
          "text": [
            "Loss 0.0075, Train Accuracy 70.7281%, Validation Accuracy 79.4282%\n",
            " -- Epoch 2/10\n"
          ]
        },
        {
          "name": "stderr",
          "output_type": "stream",
          "text": [
            "100%|██████████| 705/705 [00:14<00:00, 47.54it/s]\n"
          ]
        },
        {
          "name": "stdout",
          "output_type": "stream",
          "text": [
            "Loss 0.0043, Train Accuracy 81.4860%, Validation Accuracy 82.2651%\n",
            " -- Epoch 3/10\n"
          ]
        },
        {
          "name": "stderr",
          "output_type": "stream",
          "text": [
            "100%|██████████| 705/705 [00:14<00:00, 49.80it/s]\n"
          ]
        },
        {
          "name": "stdout",
          "output_type": "stream",
          "text": [
            "Loss 0.0038, Train Accuracy 83.5494%, Validation Accuracy 83.1472%\n",
            " -- Epoch 4/10\n"
          ]
        },
        {
          "name": "stderr",
          "output_type": "stream",
          "text": [
            "100%|██████████| 705/705 [00:14<00:00, 48.30it/s]\n"
          ]
        },
        {
          "name": "stdout",
          "output_type": "stream",
          "text": [
            "Loss 0.0035, Train Accuracy 84.6354%, Validation Accuracy 83.8298%\n",
            " -- Epoch 5/10\n"
          ]
        },
        {
          "name": "stderr",
          "output_type": "stream",
          "text": [
            "100%|██████████| 705/705 [00:14<00:00, 49.15it/s]\n"
          ]
        },
        {
          "name": "stdout",
          "output_type": "stream",
          "text": [
            "Loss 0.0034, Train Accuracy 85.1452%, Validation Accuracy 84.6321%\n",
            " -- Epoch 6/10\n"
          ]
        },
        {
          "name": "stderr",
          "output_type": "stream",
          "text": [
            "100%|██████████| 705/705 [00:14<00:00, 48.73it/s]\n"
          ]
        },
        {
          "name": "stdout",
          "output_type": "stream",
          "text": [
            "Loss 0.0032, Train Accuracy 85.6272%, Validation Accuracy 84.9246%\n",
            " -- Epoch 7/10\n"
          ]
        },
        {
          "name": "stderr",
          "output_type": "stream",
          "text": [
            "100%|██████████| 705/705 [00:14<00:00, 49.51it/s]\n"
          ]
        },
        {
          "name": "stdout",
          "output_type": "stream",
          "text": [
            "Loss 0.0031, Train Accuracy 86.1525%, Validation Accuracy 85.4743%\n",
            " -- Epoch 8/10\n"
          ]
        },
        {
          "name": "stderr",
          "output_type": "stream",
          "text": [
            "100%|██████████| 705/705 [00:14<00:00, 47.79it/s]\n"
          ]
        },
        {
          "name": "stdout",
          "output_type": "stream",
          "text": [
            "Loss 0.0031, Train Accuracy 86.4716%, Validation Accuracy 85.2394%\n",
            " -- Epoch 9/10\n"
          ]
        },
        {
          "name": "stderr",
          "output_type": "stream",
          "text": [
            "100%|██████████| 705/705 [00:14<00:00, 48.92it/s]\n"
          ]
        },
        {
          "name": "stdout",
          "output_type": "stream",
          "text": [
            "Loss 0.0030, Train Accuracy 86.7465%, Validation Accuracy 85.3856%\n",
            " -- Epoch 10/10\n"
          ]
        },
        {
          "name": "stderr",
          "output_type": "stream",
          "text": [
            "100%|██████████| 705/705 [00:14<00:00, 48.34it/s]\n"
          ]
        },
        {
          "name": "stdout",
          "output_type": "stream",
          "text": [
            "Loss 0.0029, Train Accuracy 87.0002%, Validation Accuracy 85.8023%\n",
            "Best model on test set: Test Accuracy 21.1117%\n",
            "lr: 0.001, optim: SGD, batch: 64\n",
            " -- Epoch 1/10\n"
          ]
        },
        {
          "name": "stderr",
          "output_type": "stream",
          "text": [
            "100%|██████████| 1410/1410 [00:15<00:00, 91.50it/s]\n"
          ]
        },
        {
          "name": "stdout",
          "output_type": "stream",
          "text": [
            "Loss 0.0598, Train Accuracy 5.5762%, Validation Accuracy 10.7314%\n",
            " -- Epoch 2/10\n"
          ]
        },
        {
          "name": "stderr",
          "output_type": "stream",
          "text": [
            "100%|██████████| 1410/1410 [00:15<00:00, 88.69it/s]\n"
          ]
        },
        {
          "name": "stdout",
          "output_type": "stream",
          "text": [
            "Loss 0.0285, Train Accuracy 49.3983%, Validation Accuracy 69.0514%\n",
            " -- Epoch 3/10\n"
          ]
        },
        {
          "name": "stderr",
          "output_type": "stream",
          "text": [
            "100%|██████████| 1410/1410 [00:15<00:00, 88.77it/s]\n"
          ]
        },
        {
          "name": "stdout",
          "output_type": "stream",
          "text": [
            "Loss 0.0128, Train Accuracy 74.1467%, Validation Accuracy 76.5603%\n",
            " -- Epoch 4/10\n"
          ]
        },
        {
          "name": "stderr",
          "output_type": "stream",
          "text": [
            "100%|██████████| 1410/1410 [00:15<00:00, 89.00it/s]\n"
          ]
        },
        {
          "name": "stdout",
          "output_type": "stream",
          "text": [
            "Loss 0.0102, Train Accuracy 78.8907%, Validation Accuracy 79.8626%\n",
            " -- Epoch 5/10\n"
          ]
        },
        {
          "name": "stderr",
          "output_type": "stream",
          "text": [
            "100%|██████████| 1410/1410 [00:15<00:00, 90.63it/s]\n"
          ]
        },
        {
          "name": "stdout",
          "output_type": "stream",
          "text": [
            "Loss 0.0089, Train Accuracy 81.2057%, Validation Accuracy 80.5674%\n",
            " -- Epoch 6/10\n"
          ]
        },
        {
          "name": "stderr",
          "output_type": "stream",
          "text": [
            "100%|██████████| 1410/1410 [00:15<00:00, 92.24it/s]\n"
          ]
        },
        {
          "name": "stdout",
          "output_type": "stream",
          "text": [
            "Loss 0.0081, Train Accuracy 82.5166%, Validation Accuracy 82.2119%\n",
            " -- Epoch 7/10\n"
          ]
        },
        {
          "name": "stderr",
          "output_type": "stream",
          "text": [
            "100%|██████████| 1410/1410 [00:15<00:00, 90.05it/s]\n"
          ]
        },
        {
          "name": "stdout",
          "output_type": "stream",
          "text": [
            "Loss 0.0076, Train Accuracy 83.5306%, Validation Accuracy 82.3404%\n",
            " -- Epoch 8/10\n"
          ]
        },
        {
          "name": "stderr",
          "output_type": "stream",
          "text": [
            "100%|██████████| 1410/1410 [00:15<00:00, 88.45it/s]\n"
          ]
        },
        {
          "name": "stdout",
          "output_type": "stream",
          "text": [
            "Loss 0.0072, Train Accuracy 84.1523%, Validation Accuracy 83.8298%\n",
            " -- Epoch 9/10\n"
          ]
        },
        {
          "name": "stderr",
          "output_type": "stream",
          "text": [
            "100%|██████████| 1410/1410 [00:15<00:00, 91.40it/s]\n"
          ]
        },
        {
          "name": "stdout",
          "output_type": "stream",
          "text": [
            "Loss 0.0069, Train Accuracy 84.7717%, Validation Accuracy 83.3777%\n",
            " -- Epoch 10/10\n"
          ]
        },
        {
          "name": "stderr",
          "output_type": "stream",
          "text": [
            "100%|██████████| 1410/1410 [00:15<00:00, 93.91it/s]\n"
          ]
        },
        {
          "name": "stdout",
          "output_type": "stream",
          "text": [
            "Loss 0.0066, Train Accuracy 85.2150%, Validation Accuracy 84.4149%\n",
            "Best model on test set: Test Accuracy 43.7872%\n",
            "lr: 0.001, optim: SGD, batch: 128\n",
            " -- Epoch 1/10\n"
          ]
        },
        {
          "name": "stderr",
          "output_type": "stream",
          "text": [
            "100%|██████████| 705/705 [00:13<00:00, 51.04it/s]\n"
          ]
        },
        {
          "name": "stdout",
          "output_type": "stream",
          "text": [
            "Loss 0.0300, Train Accuracy 3.1516%, Validation Accuracy 4.1844%\n",
            " -- Epoch 2/10\n"
          ]
        },
        {
          "name": "stderr",
          "output_type": "stream",
          "text": [
            "100%|██████████| 705/705 [00:13<00:00, 51.08it/s]\n"
          ]
        },
        {
          "name": "stdout",
          "output_type": "stream",
          "text": [
            "Loss 0.0243, Train Accuracy 22.2274%, Validation Accuracy 49.8271%\n",
            " -- Epoch 3/10\n"
          ]
        },
        {
          "name": "stderr",
          "output_type": "stream",
          "text": [
            "100%|██████████| 705/705 [00:13<00:00, 51.67it/s]\n"
          ]
        },
        {
          "name": "stdout",
          "output_type": "stream",
          "text": [
            "Loss 0.0111, Train Accuracy 58.9550%, Validation Accuracy 64.4637%\n",
            " -- Epoch 4/10\n"
          ]
        },
        {
          "name": "stderr",
          "output_type": "stream",
          "text": [
            "100%|██████████| 705/705 [00:13<00:00, 50.96it/s]\n"
          ]
        },
        {
          "name": "stdout",
          "output_type": "stream",
          "text": [
            "Loss 0.0079, Train Accuracy 69.1822%, Validation Accuracy 71.4495%\n",
            " -- Epoch 5/10\n"
          ]
        },
        {
          "name": "stderr",
          "output_type": "stream",
          "text": [
            "100%|██████████| 705/705 [00:13<00:00, 51.39it/s]\n"
          ]
        },
        {
          "name": "stdout",
          "output_type": "stream",
          "text": [
            "Loss 0.0062, Train Accuracy 74.8903%, Validation Accuracy 74.5523%\n",
            " -- Epoch 6/10\n"
          ]
        },
        {
          "name": "stderr",
          "output_type": "stream",
          "text": [
            "100%|██████████| 705/705 [00:13<00:00, 51.92it/s]\n"
          ]
        },
        {
          "name": "stdout",
          "output_type": "stream",
          "text": [
            "Loss 0.0054, Train Accuracy 77.9034%, Validation Accuracy 76.7553%\n",
            " -- Epoch 7/10\n"
          ]
        },
        {
          "name": "stderr",
          "output_type": "stream",
          "text": [
            "100%|██████████| 705/705 [00:13<00:00, 50.58it/s]\n"
          ]
        },
        {
          "name": "stdout",
          "output_type": "stream",
          "text": [
            "Loss 0.0049, Train Accuracy 79.7296%, Validation Accuracy 79.5434%\n",
            " -- Epoch 8/10\n"
          ]
        },
        {
          "name": "stderr",
          "output_type": "stream",
          "text": [
            "100%|██████████| 705/705 [00:13<00:00, 51.29it/s]\n"
          ]
        },
        {
          "name": "stdout",
          "output_type": "stream",
          "text": [
            "Loss 0.0045, Train Accuracy 80.9375%, Validation Accuracy 80.6161%\n",
            " -- Epoch 9/10\n"
          ]
        },
        {
          "name": "stderr",
          "output_type": "stream",
          "text": [
            "100%|██████████| 705/705 [00:13<00:00, 50.78it/s]\n"
          ]
        },
        {
          "name": "stdout",
          "output_type": "stream",
          "text": [
            "Loss 0.0043, Train Accuracy 81.8894%, Validation Accuracy 81.1746%\n",
            " -- Epoch 10/10\n"
          ]
        },
        {
          "name": "stderr",
          "output_type": "stream",
          "text": [
            "100%|██████████| 705/705 [00:13<00:00, 51.07it/s]\n"
          ]
        },
        {
          "name": "stdout",
          "output_type": "stream",
          "text": [
            "Loss 0.0041, Train Accuracy 82.5776%, Validation Accuracy 81.4894%\n",
            "Best model on test set: Test Accuracy 17.2021%\n",
            "lr: 0.001, optim: Adagrad, batch: 64\n",
            " -- Epoch 1/10\n"
          ]
        },
        {
          "name": "stderr",
          "output_type": "stream",
          "text": [
            "100%|██████████| 1410/1410 [00:15<00:00, 89.49it/s]\n"
          ]
        },
        {
          "name": "stdout",
          "output_type": "stream",
          "text": [
            "Loss 0.0364, Train Accuracy 40.0565%, Validation Accuracy 53.4663%\n",
            " -- Epoch 2/10\n"
          ]
        },
        {
          "name": "stderr",
          "output_type": "stream",
          "text": [
            "100%|██████████| 1410/1410 [00:16<00:00, 86.36it/s]\n"
          ]
        },
        {
          "name": "stdout",
          "output_type": "stream",
          "text": [
            "Loss 0.0239, Train Accuracy 57.1653%, Validation Accuracy 59.0691%\n",
            " -- Epoch 3/10\n"
          ]
        },
        {
          "name": "stderr",
          "output_type": "stream",
          "text": [
            "100%|██████████| 1410/1410 [00:15<00:00, 89.41it/s]\n"
          ]
        },
        {
          "name": "stdout",
          "output_type": "stream",
          "text": [
            "Loss 0.0212, Train Accuracy 61.1857%, Validation Accuracy 61.9592%\n",
            " -- Epoch 4/10\n"
          ]
        },
        {
          "name": "stderr",
          "output_type": "stream",
          "text": [
            "100%|██████████| 1410/1410 [00:15<00:00, 90.07it/s]\n"
          ]
        },
        {
          "name": "stdout",
          "output_type": "stream",
          "text": [
            "Loss 0.0195, Train Accuracy 63.8852%, Validation Accuracy 64.0957%\n",
            " -- Epoch 5/10\n"
          ]
        },
        {
          "name": "stderr",
          "output_type": "stream",
          "text": [
            "100%|██████████| 1410/1410 [00:16<00:00, 86.09it/s]\n"
          ]
        },
        {
          "name": "stdout",
          "output_type": "stream",
          "text": [
            "Loss 0.0183, Train Accuracy 65.8544%, Validation Accuracy 65.8112%\n",
            " -- Epoch 6/10\n"
          ]
        },
        {
          "name": "stderr",
          "output_type": "stream",
          "text": [
            "100%|██████████| 1410/1410 [00:16<00:00, 87.10it/s]\n"
          ]
        },
        {
          "name": "stdout",
          "output_type": "stream",
          "text": [
            "Loss 0.0174, Train Accuracy 67.3460%, Validation Accuracy 66.9504%\n",
            " -- Epoch 7/10\n"
          ]
        },
        {
          "name": "stderr",
          "output_type": "stream",
          "text": [
            "100%|██████████| 1410/1410 [00:16<00:00, 87.60it/s]\n"
          ]
        },
        {
          "name": "stdout",
          "output_type": "stream",
          "text": [
            "Loss 0.0166, Train Accuracy 68.4785%, Validation Accuracy 68.2137%\n",
            " -- Epoch 8/10\n"
          ]
        },
        {
          "name": "stderr",
          "output_type": "stream",
          "text": [
            "100%|██████████| 1410/1410 [00:15<00:00, 88.71it/s]\n"
          ]
        },
        {
          "name": "stdout",
          "output_type": "stream",
          "text": [
            "Loss 0.0160, Train Accuracy 69.5445%, Validation Accuracy 69.0780%\n",
            " -- Epoch 9/10\n"
          ]
        },
        {
          "name": "stderr",
          "output_type": "stream",
          "text": [
            "100%|██████████| 1410/1410 [00:15<00:00, 88.38it/s]\n"
          ]
        },
        {
          "name": "stdout",
          "output_type": "stream",
          "text": [
            "Loss 0.0155, Train Accuracy 70.3047%, Validation Accuracy 69.8094%\n",
            " -- Epoch 10/10\n"
          ]
        },
        {
          "name": "stderr",
          "output_type": "stream",
          "text": [
            "100%|██████████| 1410/1410 [00:15<00:00, 88.53it/s]\n"
          ]
        },
        {
          "name": "stdout",
          "output_type": "stream",
          "text": [
            "Loss 0.0151, Train Accuracy 71.0527%, Validation Accuracy 70.4965%\n",
            "Best model on test set: Test Accuracy 35.9681%\n",
            "lr: 0.001, optim: Adagrad, batch: 128\n",
            " -- Epoch 1/10\n"
          ]
        },
        {
          "name": "stderr",
          "output_type": "stream",
          "text": [
            "100%|██████████| 705/705 [00:14<00:00, 48.70it/s]\n"
          ]
        },
        {
          "name": "stdout",
          "output_type": "stream",
          "text": [
            "Loss 0.0199, Train Accuracy 36.3874%, Validation Accuracy 49.7296%\n",
            " -- Epoch 2/10\n"
          ]
        },
        {
          "name": "stderr",
          "output_type": "stream",
          "text": [
            "100%|██████████| 705/705 [00:14<00:00, 50.10it/s]\n"
          ]
        },
        {
          "name": "stdout",
          "output_type": "stream",
          "text": [
            "Loss 0.0130, Train Accuracy 53.9661%, Validation Accuracy 56.7021%\n",
            " -- Epoch 3/10\n"
          ]
        },
        {
          "name": "stderr",
          "output_type": "stream",
          "text": [
            "100%|██████████| 705/705 [00:14<00:00, 47.96it/s]\n"
          ]
        },
        {
          "name": "stdout",
          "output_type": "stream",
          "text": [
            "Loss 0.0113, Train Accuracy 58.7888%, Validation Accuracy 60.2083%\n",
            " -- Epoch 4/10\n"
          ]
        },
        {
          "name": "stderr",
          "output_type": "stream",
          "text": [
            "100%|██████████| 705/705 [00:14<00:00, 48.47it/s]\n"
          ]
        },
        {
          "name": "stdout",
          "output_type": "stream",
          "text": [
            "Loss 0.0103, Train Accuracy 61.6910%, Validation Accuracy 62.3759%\n",
            " -- Epoch 5/10\n"
          ]
        },
        {
          "name": "stderr",
          "output_type": "stream",
          "text": [
            "100%|██████████| 705/705 [00:14<00:00, 48.88it/s]\n"
          ]
        },
        {
          "name": "stdout",
          "output_type": "stream",
          "text": [
            "Loss 0.0096, Train Accuracy 64.0171%, Validation Accuracy 64.4326%\n",
            " -- Epoch 6/10\n"
          ]
        },
        {
          "name": "stderr",
          "output_type": "stream",
          "text": [
            "100%|██████████| 705/705 [00:14<00:00, 48.76it/s]\n"
          ]
        },
        {
          "name": "stdout",
          "output_type": "stream",
          "text": [
            "Loss 0.0091, Train Accuracy 65.6793%, Validation Accuracy 65.8511%\n",
            " -- Epoch 7/10\n"
          ]
        },
        {
          "name": "stderr",
          "output_type": "stream",
          "text": [
            "100%|██████████| 705/705 [00:14<00:00, 48.41it/s]\n"
          ]
        },
        {
          "name": "stdout",
          "output_type": "stream",
          "text": [
            "Loss 0.0087, Train Accuracy 67.0590%, Validation Accuracy 67.0213%\n",
            " -- Epoch 8/10\n"
          ]
        },
        {
          "name": "stderr",
          "output_type": "stream",
          "text": [
            "100%|██████████| 705/705 [00:14<00:00, 49.51it/s]\n"
          ]
        },
        {
          "name": "stdout",
          "output_type": "stream",
          "text": [
            "Loss 0.0084, Train Accuracy 68.2236%, Validation Accuracy 68.0762%\n",
            " -- Epoch 9/10\n"
          ]
        },
        {
          "name": "stderr",
          "output_type": "stream",
          "text": [
            "100%|██████████| 705/705 [00:14<00:00, 48.86it/s]\n"
          ]
        },
        {
          "name": "stdout",
          "output_type": "stream",
          "text": [
            "Loss 0.0081, Train Accuracy 69.1722%, Validation Accuracy 68.9716%\n",
            " -- Epoch 10/10\n"
          ]
        },
        {
          "name": "stderr",
          "output_type": "stream",
          "text": [
            "100%|██████████| 705/705 [00:14<00:00, 48.32it/s]\n"
          ]
        },
        {
          "name": "stdout",
          "output_type": "stream",
          "text": [
            "Loss 0.0079, Train Accuracy 69.9512%, Validation Accuracy 69.5434%\n",
            "Best model on test set: Test Accuracy 21.8936%\n",
            "lr: 1e-07, optim: SGD, batch: 64\n",
            " -- Epoch 1/10\n"
          ]
        },
        {
          "name": "stderr",
          "output_type": "stream",
          "text": [
            "100%|██████████| 1410/1410 [00:15<00:00, 92.56it/s]\n"
          ]
        },
        {
          "name": "stdout",
          "output_type": "stream",
          "text": [
            "Loss 0.0602, Train Accuracy 2.2540%, Validation Accuracy 2.3715%\n",
            " -- Epoch 2/10\n"
          ]
        },
        {
          "name": "stderr",
          "output_type": "stream",
          "text": [
            "100%|██████████| 1410/1410 [00:15<00:00, 93.52it/s]\n"
          ]
        },
        {
          "name": "stdout",
          "output_type": "stream",
          "text": [
            "Loss 0.0602, Train Accuracy 2.2540%, Validation Accuracy 2.3715%\n",
            " -- Epoch 3/10\n"
          ]
        },
        {
          "name": "stderr",
          "output_type": "stream",
          "text": [
            "100%|██████████| 1410/1410 [00:15<00:00, 93.96it/s]\n"
          ]
        },
        {
          "name": "stdout",
          "output_type": "stream",
          "text": [
            "Loss 0.0602, Train Accuracy 2.2540%, Validation Accuracy 2.3715%\n",
            " -- Epoch 4/10\n"
          ]
        },
        {
          "name": "stderr",
          "output_type": "stream",
          "text": [
            "100%|██████████| 1410/1410 [00:15<00:00, 93.41it/s]\n"
          ]
        },
        {
          "name": "stdout",
          "output_type": "stream",
          "text": [
            "Loss 0.0602, Train Accuracy 2.2540%, Validation Accuracy 2.3715%\n",
            " -- Epoch 5/10\n"
          ]
        },
        {
          "name": "stderr",
          "output_type": "stream",
          "text": [
            "100%|██████████| 1410/1410 [00:15<00:00, 89.51it/s]\n"
          ]
        },
        {
          "name": "stdout",
          "output_type": "stream",
          "text": [
            "Loss 0.0602, Train Accuracy 2.2540%, Validation Accuracy 2.3715%\n",
            " -- Epoch 6/10\n"
          ]
        },
        {
          "name": "stderr",
          "output_type": "stream",
          "text": [
            "100%|██████████| 1410/1410 [00:15<00:00, 90.36it/s]\n"
          ]
        },
        {
          "name": "stdout",
          "output_type": "stream",
          "text": [
            "Loss 0.0602, Train Accuracy 2.2540%, Validation Accuracy 2.3715%\n",
            " -- Epoch 7/10\n"
          ]
        },
        {
          "name": "stderr",
          "output_type": "stream",
          "text": [
            "100%|██████████| 1410/1410 [00:15<00:00, 90.80it/s]\n"
          ]
        },
        {
          "name": "stdout",
          "output_type": "stream",
          "text": [
            "Loss 0.0602, Train Accuracy 2.2551%, Validation Accuracy 2.3715%\n",
            " -- Epoch 8/10\n"
          ]
        },
        {
          "name": "stderr",
          "output_type": "stream",
          "text": [
            "100%|██████████| 1410/1410 [00:15<00:00, 93.42it/s]\n"
          ]
        },
        {
          "name": "stdout",
          "output_type": "stream",
          "text": [
            "Loss 0.0602, Train Accuracy 2.2562%, Validation Accuracy 2.3715%\n",
            " -- Epoch 9/10\n"
          ]
        },
        {
          "name": "stderr",
          "output_type": "stream",
          "text": [
            "100%|██████████| 1410/1410 [00:16<00:00, 88.00it/s]\n"
          ]
        },
        {
          "name": "stdout",
          "output_type": "stream",
          "text": [
            "Loss 0.0602, Train Accuracy 2.2562%, Validation Accuracy 2.3715%\n",
            " -- Epoch 10/10\n"
          ]
        },
        {
          "name": "stderr",
          "output_type": "stream",
          "text": [
            "100%|██████████| 1410/1410 [00:15<00:00, 90.96it/s]\n"
          ]
        },
        {
          "name": "stdout",
          "output_type": "stream",
          "text": [
            "Loss 0.0602, Train Accuracy 2.2562%, Validation Accuracy 2.3715%\n",
            "Best model on test set: Test Accuracy 0.0000%\n",
            "lr: 1e-07, optim: SGD, batch: 128\n",
            " -- Epoch 1/10\n"
          ]
        },
        {
          "name": "stderr",
          "output_type": "stream",
          "text": [
            "100%|██████████| 705/705 [00:13<00:00, 50.51it/s]\n"
          ]
        },
        {
          "name": "stdout",
          "output_type": "stream",
          "text": [
            "Loss 0.0301, Train Accuracy 1.2777%, Validation Accuracy 1.2411%\n",
            " -- Epoch 2/10\n"
          ]
        },
        {
          "name": "stderr",
          "output_type": "stream",
          "text": [
            "100%|██████████| 705/705 [00:13<00:00, 52.21it/s]\n"
          ]
        },
        {
          "name": "stdout",
          "output_type": "stream",
          "text": [
            "Loss 0.0301, Train Accuracy 1.2777%, Validation Accuracy 1.2411%\n",
            " -- Epoch 3/10\n"
          ]
        },
        {
          "name": "stderr",
          "output_type": "stream",
          "text": [
            "100%|██████████| 705/705 [00:13<00:00, 50.99it/s]\n"
          ]
        },
        {
          "name": "stdout",
          "output_type": "stream",
          "text": [
            "Loss 0.0301, Train Accuracy 1.2777%, Validation Accuracy 1.2411%\n",
            " -- Epoch 4/10\n"
          ]
        },
        {
          "name": "stderr",
          "output_type": "stream",
          "text": [
            "100%|██████████| 705/705 [00:13<00:00, 52.14it/s]\n"
          ]
        },
        {
          "name": "stdout",
          "output_type": "stream",
          "text": [
            "Loss 0.0301, Train Accuracy 1.2777%, Validation Accuracy 1.2411%\n",
            " -- Epoch 5/10\n"
          ]
        },
        {
          "name": "stderr",
          "output_type": "stream",
          "text": [
            "100%|██████████| 705/705 [00:13<00:00, 50.73it/s]\n"
          ]
        },
        {
          "name": "stdout",
          "output_type": "stream",
          "text": [
            "Loss 0.0301, Train Accuracy 1.2777%, Validation Accuracy 1.2411%\n",
            " -- Epoch 6/10\n"
          ]
        },
        {
          "name": "stderr",
          "output_type": "stream",
          "text": [
            "100%|██████████| 705/705 [00:13<00:00, 50.79it/s]\n"
          ]
        },
        {
          "name": "stdout",
          "output_type": "stream",
          "text": [
            "Loss 0.0301, Train Accuracy 1.2788%, Validation Accuracy 1.2411%\n",
            " -- Epoch 7/10\n"
          ]
        },
        {
          "name": "stderr",
          "output_type": "stream",
          "text": [
            "100%|██████████| 705/705 [00:13<00:00, 51.23it/s]\n"
          ]
        },
        {
          "name": "stdout",
          "output_type": "stream",
          "text": [
            "Loss 0.0301, Train Accuracy 1.2788%, Validation Accuracy 1.2411%\n",
            " -- Epoch 8/10\n"
          ]
        },
        {
          "name": "stderr",
          "output_type": "stream",
          "text": [
            "100%|██████████| 705/705 [00:13<00:00, 52.21it/s]\n"
          ]
        },
        {
          "name": "stdout",
          "output_type": "stream",
          "text": [
            "Loss 0.0301, Train Accuracy 1.2777%, Validation Accuracy 1.2411%\n",
            " -- Epoch 9/10\n"
          ]
        },
        {
          "name": "stderr",
          "output_type": "stream",
          "text": [
            "100%|██████████| 705/705 [00:14<00:00, 49.74it/s]\n"
          ]
        },
        {
          "name": "stdout",
          "output_type": "stream",
          "text": [
            "Loss 0.0301, Train Accuracy 1.2788%, Validation Accuracy 1.2411%\n",
            " -- Epoch 10/10\n"
          ]
        },
        {
          "name": "stderr",
          "output_type": "stream",
          "text": [
            "100%|██████████| 705/705 [00:13<00:00, 50.95it/s]\n"
          ]
        },
        {
          "name": "stdout",
          "output_type": "stream",
          "text": [
            "Loss 0.0301, Train Accuracy 1.2788%, Validation Accuracy 1.2411%\n",
            "Best model on test set: Test Accuracy 0.7819%\n",
            "lr: 1e-07, optim: Adagrad, batch: 64\n",
            " -- Epoch 1/10\n"
          ]
        },
        {
          "name": "stderr",
          "output_type": "stream",
          "text": [
            "100%|██████████| 1410/1410 [00:16<00:00, 86.72it/s]\n"
          ]
        },
        {
          "name": "stdout",
          "output_type": "stream",
          "text": [
            "Loss 0.0602, Train Accuracy 1.8273%, Validation Accuracy 1.8706%\n",
            " -- Epoch 2/10\n"
          ]
        },
        {
          "name": "stderr",
          "output_type": "stream",
          "text": [
            "100%|██████████| 1410/1410 [00:16<00:00, 84.74it/s]\n"
          ]
        },
        {
          "name": "stdout",
          "output_type": "stream",
          "text": [
            "Loss 0.0602, Train Accuracy 1.8285%, Validation Accuracy 1.8706%\n",
            " -- Epoch 3/10\n"
          ]
        },
        {
          "name": "stderr",
          "output_type": "stream",
          "text": [
            "100%|██████████| 1410/1410 [00:16<00:00, 84.75it/s]\n"
          ]
        },
        {
          "name": "stdout",
          "output_type": "stream",
          "text": [
            "Loss 0.0602, Train Accuracy 1.8285%, Validation Accuracy 1.8706%\n",
            " -- Epoch 4/10\n"
          ]
        },
        {
          "name": "stderr",
          "output_type": "stream",
          "text": [
            "100%|██████████| 1410/1410 [00:17<00:00, 82.10it/s]\n"
          ]
        },
        {
          "name": "stdout",
          "output_type": "stream",
          "text": [
            "Loss 0.0602, Train Accuracy 1.8285%, Validation Accuracy 1.8706%\n",
            " -- Epoch 5/10\n"
          ]
        },
        {
          "name": "stderr",
          "output_type": "stream",
          "text": [
            "100%|██████████| 1410/1410 [00:16<00:00, 84.62it/s]\n"
          ]
        },
        {
          "name": "stdout",
          "output_type": "stream",
          "text": [
            "Loss 0.0602, Train Accuracy 1.8285%, Validation Accuracy 1.8706%\n",
            " -- Epoch 6/10\n"
          ]
        },
        {
          "name": "stderr",
          "output_type": "stream",
          "text": [
            "100%|██████████| 1410/1410 [00:16<00:00, 84.89it/s]\n"
          ]
        },
        {
          "name": "stdout",
          "output_type": "stream",
          "text": [
            "Loss 0.0602, Train Accuracy 1.8285%, Validation Accuracy 1.8706%\n",
            " -- Epoch 7/10\n"
          ]
        },
        {
          "name": "stderr",
          "output_type": "stream",
          "text": [
            "100%|██████████| 1410/1410 [00:16<00:00, 87.88it/s]\n"
          ]
        },
        {
          "name": "stdout",
          "output_type": "stream",
          "text": [
            "Loss 0.0602, Train Accuracy 1.8285%, Validation Accuracy 1.8706%\n",
            " -- Epoch 8/10\n"
          ]
        },
        {
          "name": "stderr",
          "output_type": "stream",
          "text": [
            "100%|██████████| 1410/1410 [00:16<00:00, 87.60it/s]\n"
          ]
        },
        {
          "name": "stdout",
          "output_type": "stream",
          "text": [
            "Loss 0.0602, Train Accuracy 1.8285%, Validation Accuracy 1.8706%\n",
            " -- Epoch 9/10\n"
          ]
        },
        {
          "name": "stderr",
          "output_type": "stream",
          "text": [
            "100%|██████████| 1410/1410 [00:16<00:00, 85.25it/s]\n"
          ]
        },
        {
          "name": "stdout",
          "output_type": "stream",
          "text": [
            "Loss 0.0602, Train Accuracy 1.8285%, Validation Accuracy 1.8706%\n",
            " -- Epoch 10/10\n"
          ]
        },
        {
          "name": "stderr",
          "output_type": "stream",
          "text": [
            "100%|██████████| 1410/1410 [00:16<00:00, 87.10it/s]\n"
          ]
        },
        {
          "name": "stdout",
          "output_type": "stream",
          "text": [
            "Loss 0.0602, Train Accuracy 1.8285%, Validation Accuracy 1.8706%\n",
            "Best model on test set: Test Accuracy 3.1277%\n",
            "lr: 1e-07, optim: Adagrad, batch: 128\n",
            " -- Epoch 1/10\n"
          ]
        },
        {
          "name": "stderr",
          "output_type": "stream",
          "text": [
            "100%|██████████| 705/705 [00:14<00:00, 47.24it/s]\n"
          ]
        },
        {
          "name": "stdout",
          "output_type": "stream",
          "text": [
            "Loss 0.0301, Train Accuracy 2.1443%, Validation Accuracy 2.0700%\n",
            " -- Epoch 2/10\n"
          ]
        },
        {
          "name": "stderr",
          "output_type": "stream",
          "text": [
            "100%|██████████| 705/705 [00:14<00:00, 49.02it/s]\n"
          ]
        },
        {
          "name": "stdout",
          "output_type": "stream",
          "text": [
            "Loss 0.0301, Train Accuracy 2.1443%, Validation Accuracy 2.0700%\n",
            " -- Epoch 3/10\n"
          ]
        },
        {
          "name": "stderr",
          "output_type": "stream",
          "text": [
            "100%|██████████| 705/705 [00:14<00:00, 48.37it/s]\n"
          ]
        },
        {
          "name": "stdout",
          "output_type": "stream",
          "text": [
            "Loss 0.0301, Train Accuracy 2.1443%, Validation Accuracy 2.0700%\n",
            " -- Epoch 4/10\n"
          ]
        },
        {
          "name": "stderr",
          "output_type": "stream",
          "text": [
            "100%|██████████| 705/705 [00:14<00:00, 49.98it/s]\n"
          ]
        },
        {
          "name": "stdout",
          "output_type": "stream",
          "text": [
            "Loss 0.0301, Train Accuracy 2.1443%, Validation Accuracy 2.0700%\n",
            " -- Epoch 5/10\n"
          ]
        },
        {
          "name": "stderr",
          "output_type": "stream",
          "text": [
            "100%|██████████| 705/705 [00:14<00:00, 49.05it/s]\n"
          ]
        },
        {
          "name": "stdout",
          "output_type": "stream",
          "text": [
            "Loss 0.0301, Train Accuracy 2.1443%, Validation Accuracy 2.0700%\n",
            " -- Epoch 6/10\n"
          ]
        },
        {
          "name": "stderr",
          "output_type": "stream",
          "text": [
            "100%|██████████| 705/705 [00:14<00:00, 48.90it/s]\n"
          ]
        },
        {
          "name": "stdout",
          "output_type": "stream",
          "text": [
            "Loss 0.0301, Train Accuracy 2.1443%, Validation Accuracy 2.0700%\n",
            " -- Epoch 7/10\n"
          ]
        },
        {
          "name": "stderr",
          "output_type": "stream",
          "text": [
            "100%|██████████| 705/705 [00:14<00:00, 48.97it/s]\n"
          ]
        },
        {
          "name": "stdout",
          "output_type": "stream",
          "text": [
            "Loss 0.0301, Train Accuracy 2.1443%, Validation Accuracy 2.0700%\n",
            " -- Epoch 8/10\n"
          ]
        },
        {
          "name": "stderr",
          "output_type": "stream",
          "text": [
            "100%|██████████| 705/705 [00:14<00:00, 48.37it/s]\n"
          ]
        },
        {
          "name": "stdout",
          "output_type": "stream",
          "text": [
            "Loss 0.0301, Train Accuracy 2.1443%, Validation Accuracy 2.0700%\n",
            " -- Epoch 9/10\n"
          ]
        },
        {
          "name": "stderr",
          "output_type": "stream",
          "text": [
            "100%|██████████| 705/705 [00:14<00:00, 49.23it/s]\n"
          ]
        },
        {
          "name": "stdout",
          "output_type": "stream",
          "text": [
            "Loss 0.0301, Train Accuracy 2.1443%, Validation Accuracy 2.0700%\n",
            " -- Epoch 10/10\n"
          ]
        },
        {
          "name": "stderr",
          "output_type": "stream",
          "text": [
            "100%|██████████| 705/705 [00:14<00:00, 49.98it/s]\n"
          ]
        },
        {
          "name": "stdout",
          "output_type": "stream",
          "text": [
            "Loss 0.0301, Train Accuracy 2.1443%, Validation Accuracy 2.0700%\n",
            "Best model on test set: Test Accuracy 0.7819%\n",
            "Best hyper-parameters: lr: 0.001, optim: SGD, batchsize: 64 acc: 0.43787235021591187\n"
          ]
        }
      ],
      "source": [
        "max_epoch = 10\n",
        "use_cuda = False\n",
        "\n",
        "\n",
        "# hyper-parameters to test\n",
        "lr_list = [1e-1, 1e-2, 1e-3, 1e-7]\n",
        "optim_list = [\"SGD\", \"Adagrad\"]\n",
        "batch_list = [64, 128]\n",
        "\n",
        "\n",
        "\n",
        "# init variables to store best hyper-parameters\n",
        "best_acc = 0.0\n",
        "best_lr = 0.0\n",
        "best_optim = \"\"\n",
        "best_batchsize = 0\n",
        "\n",
        "# store all runs\n",
        "loss_hist = {}\n",
        "acc_training_hist = {}\n",
        "acc_validation_hist = {}\n",
        "acc_test_hist = {}\n",
        "\n",
        "\n",
        "\n",
        "\n",
        "\n",
        "for lr in lr_list:\n",
        "    for optim in optim_list:\n",
        "        for batch in batch_list:\n",
        "            # create new instance of model\n",
        "            model = LeNet(47)\n",
        "            if use_cuda:\n",
        "                model = model.cuda()\n",
        "                \n",
        "            # loss function\n",
        "            criterion = nn.CrossEntropyLoss() # -- write your code here --\n",
        "            \n",
        "            print(f\"lr: {lr}, optim: {optim}, batch: {batch}\")\n",
        "            \n",
        "            # change optimizer\n",
        "            if optim == \"SGD\":\n",
        "                optimizer = torch.optim.SGD(model.parameters(), lr=lr, momentum=0.9)\n",
        "            else:\n",
        "                optimizer = torch.optim.Adagrad(model.parameters(), lr=lr)\n",
        "            \n",
        "            # change batch size\n",
        "            loader_train_emnist = torch.utils.data.DataLoader(\n",
        "                dataset=train_set,\n",
        "                batch_size=batch, # Can be modified\n",
        "                shuffle=True\n",
        "            )\n",
        "\n",
        "            loader_val_emnist = torch.utils.data.DataLoader(\n",
        "                dataset=val_set,\n",
        "                batch_size=batch, # Can be modified\n",
        "                shuffle=True\n",
        "            )\n",
        "\n",
        "            loader_test_emnist = torch.utils.data.DataLoader(\n",
        "                dataset=test_set,\n",
        "                batch_size=batch, # Can be modified\n",
        "                shuffle=True\n",
        "            )\n",
        "            \n",
        "            loss_list = []\n",
        "            acc_train_list = []\n",
        "            acc_valid_list = []\n",
        "\n",
        "            best_valid_loss = float('inf')\n",
        "\n",
        "            for epoch in range(max_epoch):\n",
        "                running_loss = 0.0\n",
        "                running_correct = 0\n",
        "                valid_loss = 0.0\n",
        "                valid_correct = 0\n",
        "                print(\" -- Epoch {}/{}\".format(epoch + 1, max_epoch))\n",
        "\n",
        "                # training\n",
        "                # call a function to control the dropout behaviour \n",
        "                # your code here\n",
        "                model.train(True)\n",
        "\n",
        "                for data in tqdm(loader_train_emnist):\n",
        "                    # set all gradients to zero\n",
        "                    optimizer.zero_grad()\n",
        "\n",
        "                    # fetch data\n",
        "                    images, labels = data\n",
        "                    if use_cuda:\n",
        "                        images = images.cuda()\n",
        "                        labels = labels.cuda()\n",
        "\n",
        "                    # model forward\n",
        "                    outputs = model(images) # -- write your code here --\n",
        "\n",
        "                    # calculate loss\n",
        "                    loss = criterion(outputs, labels) # -- write your code here --\n",
        "\n",
        "                    loss.backward()\n",
        "                    optimizer.step()\n",
        "\n",
        "                    pred = torch.argmax(outputs, dim=1)\n",
        "                    running_loss += loss.item()\n",
        "                    running_correct += torch.sum(pred == labels)\n",
        "\n",
        "                # record loss, accuracy\n",
        "                loss = running_loss / len(loader_train_emnist.dataset)\n",
        "                loss_list.append(loss)\n",
        "                acc_train = running_correct / len(loader_train_emnist.dataset)\n",
        "                acc_train_list.append(acc_train.item())\n",
        "\n",
        "                # testing\n",
        "\n",
        "                # call a function to control the dropout behaviour \n",
        "                model.eval()\n",
        "\n",
        "                valid_correct = 0\n",
        "                for data in loader_val_emnist:\n",
        "                    # fetch data\n",
        "                    images, labels = data\n",
        "                    if use_cuda:\n",
        "                        images = images.cuda()\n",
        "                        labels = labels.cuda()\n",
        "                    \n",
        "                    # model forward\n",
        "                    voutputs = model(images)# -- write your code here --\n",
        "                    \n",
        "                    # calculate loss\n",
        "                    vloss = criterion(voutputs, labels)\n",
        "                    vpred = torch.argmax(voutputs, dim=1)\n",
        "                    valid_loss += vloss.item()\n",
        "                    valid_correct += torch.sum(vpred == labels)\n",
        "                \n",
        "\n",
        "                # Save best checkpoint\n",
        "                if valid_loss < best_valid_loss:\n",
        "                    best_valid_loss = valid_loss\n",
        "                    torch.save(model.state_dict(), 'best_checkpoint_mnist.pt')\n",
        "\n",
        "                acc_valid = valid_correct / len(loader_val_emnist.dataset)\n",
        "                acc_valid_list.append(acc_valid.item())\n",
        "                print(\"Loss {:.4f}, Train Accuracy {:.4f}%, Validation Accuracy {:.4f}%\".format(\n",
        "                    loss,\n",
        "                    acc_train * 100,\n",
        "                    acc_valid * 100\n",
        "                ))\n",
        "\n",
        "\n",
        "            model.load_state_dict(torch.load('best_checkpoint_mnist.pt'))\n",
        "\n",
        "            # call a function to control the dropout behaviour \n",
        "            model.eval()\n",
        "\n",
        "            test_loss = 0.0\n",
        "            correct = 0\n",
        "            total = 0\n",
        "            total = len(loader_test_emnist.dataset)\n",
        "\n",
        "            with torch.no_grad():\n",
        "                for images, labels in loader_test_emnist:\n",
        "                    # fetch data\n",
        "                    images, labels = data\n",
        "                    if use_cuda:\n",
        "                        images = images.cuda()\n",
        "                        labels = labels.cuda()\n",
        "                    \n",
        "                    # model forward\n",
        "                    outputs = model(images)\n",
        "                    \n",
        "                    # calculate accuracy on test set\n",
        "                    pred = torch.argmax(outputs, dim=1)\n",
        "                    tloss = criterion(outputs, labels)\n",
        "                    test_loss += tloss.item()\n",
        "                    correct += torch.sum(pred == labels)\n",
        "                    \n",
        "            acc_test=correct/total\n",
        "            print(\"Best model on test set: Test Accuracy {:.4f}%\".format(\n",
        "                    acc_test * 100\n",
        "                ))\n",
        "            if acc_test > best_acc:\n",
        "                best_acc = acc_test\n",
        "                best_lr = lr\n",
        "                best_optim = optim\n",
        "                best_batchsize = batch\n",
        "            \n",
        "            # store items\n",
        "            loss_hist[(lr, optim, batch)] = loss_list\n",
        "            acc_training_hist[(lr, optim, batch)] = acc_train_list\n",
        "            acc_validation_hist[(lr, optim, batch)] = acc_valid_list\n",
        "            acc_test_hist[(lr, optim, batch)] = acc_test\n",
        "            \n",
        "print(f'Best hyper-parameters: lr: {best_lr}, optim: {best_optim}, batchsize: {best_batchsize} acc: {best_acc}')"
      ]
    },
    {
      "cell_type": "code",
      "execution_count": 21,
      "metadata": {},
      "outputs": [
        {
          "data": {
            "image/png": "[encoded data removed]",
            "text/plain": [
              "<Figure size 640x480 with 1 Axes>"
            ]
          },
          "metadata": {},
          "output_type": "display_data"
        },
        {
          "data": {
            "image/png": "[encoded data removed]",
            "text/plain": [
              "<Figure size 640x480 with 1 Axes>"
            ]
          },
          "metadata": {},
          "output_type": "display_data"
        }
      ],
      "source": [
        "# SGD loss\n",
        "for key in loss_hist:\n",
        "    if key[1] == \"SGD\":\n",
        "        plt.title(f\"Training loss SGD\")\n",
        "        plt.plot(loss_hist[key], label=f\"lr: {key[0]}, batch: {key[2]}\")\n",
        "        plt.xlabel(\"Epoch\")\n",
        "        plt.ylabel(\"Loss\")\n",
        "plt.legend(bbox_to_anchor=(1, 1))\n",
        "plt.show()\n",
        "\n",
        "# Adagrad loss\n",
        "for key in loss_hist:\n",
        "    if key[1] == \"Adagrad\":\n",
        "        plt.title(f\"Training loss Adagrad\")\n",
        "        plt.plot(loss_hist[key], label=f\"lr: {key[0]}, batch: {key[2]}\")\n",
        "        plt.xlabel(\"Epoch\")\n",
        "        plt.ylabel(\"Loss\")\n",
        "plt.legend(bbox_to_anchor=(1.01, 1.05))\n",
        "plt.show()"
      ]
    },
    {
      "cell_type": "code",
      "execution_count": 22,
      "metadata": {},
      "outputs": [
        {
          "data": {
            "image/png": "[encoded data removed]",
            "text/plain": [
              "<Figure size 640x480 with 1 Axes>"
            ]
          },
          "metadata": {},
          "output_type": "display_data"
        },
        {
          "data": {
            "image/png": "[encoded data removed]",
            "text/plain": [
              "<Figure size 640x480 with 1 Axes>"
            ]
          },
          "metadata": {},
          "output_type": "display_data"
        }
      ],
      "source": [
        "for key in acc_training_hist:\n",
        "    if key[1] == \"SGD\":\n",
        "        plt.title(f\"Training Acc SGD\")\n",
        "        plt.plot(acc_training_hist[key], label=f\"lr: {key[0]}, batch: {key[2]}\")\n",
        "        plt.xlabel(\"Epoch\")\n",
        "        plt.ylabel(\"Accuracy\")\n",
        "plt.legend()\n",
        "plt.show()\n",
        "\n",
        "for key in acc_training_hist:\n",
        "    if key[1] == \"Adagrad\":\n",
        "        plt.title(f\"Training Acc Adagrad\")\n",
        "        plt.plot(acc_training_hist[key], label=f\"lr: {key[0]}, batch: {key[2]}\")\n",
        "        plt.xlabel(\"Epoch\")\n",
        "        plt.ylabel(\"Accuracy\")\n",
        "plt.legend()\n",
        "plt.show()"
      ]
    },
    {
      "cell_type": "code",
      "execution_count": 23,
      "metadata": {},
      "outputs": [
        {
          "data": {
            "image/png": "[encoded data removed]",
            "text/plain": [
              "<Figure size 640x480 with 1 Axes>"
            ]
          },
          "metadata": {},
          "output_type": "display_data"
        },
        {
          "data": {
            "image/png": "[encoded data removed]",
            "text/plain": [
              "<Figure size 640x480 with 1 Axes>"
            ]
          },
          "metadata": {},
          "output_type": "display_data"
        }
      ],
      "source": [
        "for key in acc_validation_hist:\n",
        "    if key[1] == \"SGD\":\n",
        "        plt.title(f\"Validation Acc SGD\")\n",
        "        plt.plot(acc_validation_hist[key], label=f\"lr: {key[0]}, batch: {key[2]}\")\n",
        "        plt.xlabel(\"Epoch\")\n",
        "        plt.ylabel(\"Accuracy\")\n",
        "plt.legend()\n",
        "plt.show()\n",
        "\n",
        "for key in acc_validation_hist:\n",
        "    if key[1] == \"Adagrad\":\n",
        "        plt.title(f\"Validation Acc Adagrad\")\n",
        "        plt.plot(acc_validation_hist[key], label=f\"lr: {key[0]}, batch: {key[2]}\")\n",
        "        plt.xlabel(\"Epoch\")\n",
        "        plt.ylabel(\"Accuracy\")\n",
        "plt.legend()\n",
        "plt.show()"
      ]
    },
    {
      "cell_type": "code",
      "execution_count": 35,
      "metadata": {},
      "outputs": [
        {
          "data": {
            "image/png": "[encoded data removed]",
            "text/plain": [
              "<Figure size 1000x600 with 1 Axes>"
            ]
          },
          "metadata": {},
          "output_type": "display_data"
        },
        {
          "data": {
            "image/png": "[encoded data removed]",
            "text/plain": [
              "<Figure size 1000x600 with 1 Axes>"
            ]
          },
          "metadata": {},
          "output_type": "display_data"
        }
      ],
      "source": [
        "# test accuracy\n",
        "plt.figure(figsize=(10,6))\n",
        "for key in acc_test_hist:\n",
        "    if key[1] == \"SGD\":\n",
        "        score = float(acc_test_hist[key])\n",
        "        # print(score)\n",
        "        plt.bar(f\"lr: {key[0]},\\nbatch: {key[2]}\", score)\n",
        "        plt.title(\"Test Acc SGD\")\n",
        "        plt.xlabel(\"Hyper-parameters\")\n",
        "        plt.ylabel(\"Accuracy\")\n",
        "plt.show()\n",
        "\n",
        "plt.figure(figsize=(10,6))\n",
        "for key in acc_test_hist:\n",
        "    if key[1] == \"Adagrad\":\n",
        "        score = float(acc_test_hist[key])\n",
        "        # print(score)\n",
        "        plt.bar(f\"lr: {key[0]},\\nbatch: {key[2]}\", score)\n",
        "        plt.title(\"Test Acc Adagrad\")\n",
        "        plt.xlabel(\"Hyper-parameters\")\n",
        "        plt.ylabel(\"Accuracy\")\n",
        "plt.show()"
      ]
    }
  ],
  "metadata": {
    "accelerator": "GPU",
    "colab": {
      "provenance": []
    },
    "kernelspec": {
      "display_name": "Python 3",
      "language": "python",
      "name": "python3"
    },
    "language_info": {
      "codemirror_mode": {
        "name": "ipython",
        "version": 3
      },
      "file_extension": ".py",
      "mimetype": "text/x-python",
      "name": "python",
      "nbconvert_exporter": "python",
      "pygments_lexer": "ipython3",
      "version": "3.10.12"
    },
    "vscode": {
      "interpreter": {
        "hash": "a665b5d41d17b532ea9890333293a1b812fa0b73c9c25c950b3cedf1bebd0438"
      }
    }
  },
  "nbformat": 4,
  "nbformat_minor": 0
}
