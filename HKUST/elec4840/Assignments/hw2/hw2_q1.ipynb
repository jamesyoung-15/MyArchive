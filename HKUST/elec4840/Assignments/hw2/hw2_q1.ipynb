{
  "cells": [
    {
      "cell_type": "markdown",
      "metadata": {
        "id": "Hci3KvN7ivcH"
      },
      "source": [
        "# 1. Download and unzip data"
      ]
    },
    {
      "cell_type": "code",
      "execution_count": 2,
      "metadata": {
        "id": "ZXeyyLwuD6mr"
      },
      "outputs": [],
      "source": [
        "# !wget https://isic-challenge-data.s3.amazonaws.com/2016/ISBI2016_ISIC_Part3_Training_Data.zip\n",
        "# !wget https://isic-challenge-data.s3.amazonaws.com/2016/ISBI2016_ISIC_Part3_Test_Data.zip\n",
        "# !wget https://isic-challenge-data.s3.amazonaws.com/2016/ISBI2016_ISIC_Part3_Training_GroundTruth.csv\n",
        "# !wget https://isic-challenge-data.s3.amazonaws.com/2016/ISBI2016_ISIC_Part3_Test_GroundTruth.csv\n",
        "# !unzip \"./ISBI2016_ISIC_Part3_Test_Data.zip\"\n",
        "# !unzip \"./ISBI2016_ISIC_Part3_Training_Data.zip\""
      ]
    },
    {
      "cell_type": "markdown",
      "metadata": {
        "id": "RovDpxZFi-KA"
      },
      "source": [
        "# 2. Make training, validation and test image folders by training and test csv files\n",
        "[ImageFolder](https://pytorch.org/vision/main/generated/torchvision.datasets.ImageFolder.html)"
      ]
    },
    {
      "cell_type": "code",
      "execution_count": 2,
      "metadata": {},
      "outputs": [],
      "source": [
        "import os\n",
        "import shutil\n",
        "import pandas as pd\n",
        "import matplotlib.pyplot as plt\n",
        "import numpy as np"
      ]
    },
    {
      "cell_type": "code",
      "execution_count": 3,
      "metadata": {
        "id": "2WLrB9eWG3Nn"
      },
      "outputs": [
        {
          "name": "stdout",
          "output_type": "stream",
          "text": [
            "Train data size: 900\n",
            "Val data size: 190\n",
            "Test data size: 189\n",
            "Train classes: Benign: 727, Malignant: 173\n",
            "Val classes: Benign: 148, Malignant: 42\n",
            "Test classes: Benign: 156, Malignant: 33\n"
          ]
        }
      ],
      "source": [
        "'''\n",
        "You are recommended to use torchvision.datasets.ImageFolder to load data into the Pytorch dataset.\n",
        "To employ ImageFolder, the images should be arranged into:\n",
        "\n",
        "  root: train/val/test\n",
        "    class_a\n",
        "      a1.png\n",
        "      a2.png\n",
        "      ...\n",
        "    class_b\n",
        "      b1.png\n",
        "      b2.png\n",
        "      ...\n",
        "\n",
        "Write your codes here to organize the original data and split the data into training/validation/test set.\n",
        "'''\n",
        "\n",
        "# create directories\n",
        "os.makedirs('./train', exist_ok=True)\n",
        "os.makedirs('./train/benign', exist_ok=True)\n",
        "os.makedirs('./train/malignant', exist_ok=True)\n",
        "os.makedirs('./val', exist_ok=True)\n",
        "os.makedirs('./val/benign', exist_ok=True)\n",
        "os.makedirs('./val/malignant', exist_ok=True)\n",
        "os.makedirs('./test', exist_ok=True)\n",
        "os.makedirs('./test/benign', exist_ok=True)\n",
        "os.makedirs('./test/malignant', exist_ok=True)\n",
        "\n",
        "# read csv files\n",
        "df_train = pd.read_csv(\"./ISBI2016_ISIC_Part3_Training_GroundTruth.csv\")\n",
        "df_test = pd.read_csv(\"./ISBI2016_ISIC_Part3_Test_GroundTruth.csv\")\n",
        "\n",
        "# split testing into testing and validation dataset\n",
        "split_test_size = int(0.5*(len(df_test)+1))  # from test data, split 50% as validation set\n",
        "split_valid_size = (len(df_test)+1) - split_test_size  # split 50% as test set\n",
        "train_size = 900\n",
        "\n",
        "print(f\"Train data size: {train_size}\\nVal data size: {split_valid_size}\\nTest data size: {split_test_size}\")\n",
        "\n",
        "# setup training data\n",
        "shutil.copy(\"./ISBI2016_ISIC_Part3_Training_Data/ISIC_0000000.jpg\", \"./train/benign/ISIC_0000000.jpg\") # need to copy first one manually as for loop starts one row below\n",
        "# go through csv, put into corresponding directory\n",
        "num_train_benign=1\n",
        "num_train_malignant=0\n",
        "for i in range(len(df_train)):\n",
        "  name, label = df_train.iloc[i,0], df_train.iloc[i,1]\n",
        "  # print(name, label)\n",
        "  # copy into training directory\n",
        "  if label == \"benign\":\n",
        "    num_train_benign+=1\n",
        "  elif label == \"malignant\":\n",
        "    num_train_malignant+=1\n",
        "  shutil.copy(\"./ISBI2016_ISIC_Part3_Training_Data/\"+name+\".jpg\", \"./train/\"+label+\"/\"+name+\".jpg\")\n",
        "\n",
        "# validation\n",
        "# need to copy first one manually as for loop starts one row below\n",
        "shutil.copy(\"./ISBI2016_ISIC_Part3_Test_Data/ISIC_0000003.jpg\", \"./val/benign/ISIC_0000003.jpg\")\n",
        "num_val_benign=1\n",
        "num_val_malignant=0\n",
        "for i in range(split_valid_size-1):\n",
        "  name, label = df_test.iloc[i,0], df_test.iloc[i,1]\n",
        "  # print(name, label)\n",
        "  if label == 0:\n",
        "    label = \"benign\"\n",
        "    num_val_benign+=1\n",
        "  else:\n",
        "    label = \"malignant\"\n",
        "    num_val_malignant+=1\n",
        "  # copy into training directory\n",
        "  shutil.copy(\"./ISBI2016_ISIC_Part3_Test_Data/\"+name+\".jpg\", \"./val/\"+label+\"/\"+name+\".jpg\")\n",
        "\n",
        "# testing\n",
        "num_test_benign = 0\n",
        "num_test_malignant = 0\n",
        "for i in range(split_valid_size-1, len(df_test)):\n",
        "  name, label = df_test.iloc[i,0], df_test.iloc[i,1]\n",
        "  # print(name, label)\n",
        "  if label == 0:\n",
        "    label = \"benign\"\n",
        "    num_test_benign+=1\n",
        "  else:\n",
        "    label = \"malignant\"\n",
        "    num_test_malignant+=1\n",
        "  # copy into training directory\n",
        "  shutil.copy(\"./ISBI2016_ISIC_Part3_Test_Data/\"+name+\".jpg\", \"./test/\"+label+\"/\"+name+\".jpg\")\n",
        "\n",
        "\n",
        "print(f'Train classes: Benign: {num_train_benign}, Malignant: {num_train_malignant}')\n",
        "print(f'Val classes: Benign: {num_val_benign}, Malignant: {num_val_malignant}')\n",
        "print(f'Test classes: Benign: {num_test_benign}, Malignant: {num_test_malignant}')\n"
      ]
    },
    {
      "cell_type": "markdown",
      "metadata": {
        "id": "B77B7mO0jw6K"
      },
      "source": [
        "# 3. Prepare data and build dataloaders"
      ]
    },
    {
      "cell_type": "code",
      "execution_count": 4,
      "metadata": {
        "id": "vizcUhavjvm3"
      },
      "outputs": [],
      "source": [
        "from torchvision.datasets import ImageFolder\n",
        "from torchvision import transforms\n",
        "import torch\n",
        "\n",
        "root_train, root_val, root_test = './train', './val', './test' # -- write your codes here: the root path of training/validation/test set\n",
        "\n",
        "train_transform = transforms.Compose([\n",
        "    # -- write your codes here: data preprocessing and augmentation\n",
        "    transforms.RandomResizedCrop(size=(224, 224)),\n",
        "    transforms.RandomHorizontalFlip(p=0.5),\n",
        "    transforms.ToTensor(),\n",
        "    transforms.Normalize(mean=[0.485, 0.456, 0.406], std=[0.229, 0.224, 0.225])\n",
        "])\n",
        "\n",
        "test_transform = transforms.Compose([\n",
        "    # -- write your codes here: data preprocessing\n",
        "    transforms.Resize(224),\n",
        "    transforms.RandomCrop(224),\n",
        "    transforms.ToTensor(),\n",
        "    transforms.Normalize(mean=[0.485, 0.456, 0.406], std=[0.229, 0.224, 0.225])\n",
        "])\n",
        "\n",
        "\n",
        "def get_train_test_set(batch_size):\n",
        "    train_dataset = ImageFolder(root_train, transform=train_transform)\n",
        "    loader_train = torch.utils.data.DataLoader(\n",
        "        dataset=train_dataset,\n",
        "        batch_size=batch_size,\n",
        "        shuffle=True\n",
        "        )\n",
        "\n",
        "    val_dataset = ImageFolder(root_val, transform=test_transform)\n",
        "    loader_val = torch.utils.data.DataLoader(\n",
        "        dataset=val_dataset,\n",
        "        batch_size=batch_size,\n",
        "        shuffle=False\n",
        "        )\n",
        "\n",
        "    test_dataset = ImageFolder(root_test, transform=test_transform)\n",
        "    loader_test = torch.utils.data.DataLoader(\n",
        "        dataset=test_dataset,\n",
        "        batch_size=batch_size,\n",
        "        shuffle=False\n",
        "        )\n",
        "\n",
        "    return loader_train, loader_val, loader_test\n",
        "\n",
        "batch_size = 16\n",
        "loader_train, loader_val, loader_test = get_train_test_set(batch_size)"
      ]
    },
    {
      "cell_type": "code",
      "execution_count": 13,
      "metadata": {},
      "outputs": [
        {
          "data": {
            "text/plain": [
              "Dataset ImageFolder\n",
              "    Number of datapoints: 900\n",
              "    Root location: ./train\n",
              "    StandardTransform\n",
              "Transform: Compose(\n",
              "               RandomResizedCrop(size=(224, 224), scale=(0.08, 1.0), ratio=(0.75, 1.3333), interpolation=bilinear), antialias=None)\n",
              "               RandomHorizontalFlip(p=0.5)\n",
              "               ToTensor()\n",
              "               Normalize(mean=[0.485, 0.456, 0.406], std=[0.229, 0.224, 0.225])\n",
              "           )"
            ]
          },
          "execution_count": 13,
          "metadata": {},
          "output_type": "execute_result"
        }
      ],
      "source": [
        "ImageFolder(root_train, transform=train_transform)"
      ]
    },
    {
      "cell_type": "markdown",
      "metadata": {
        "id": "zrEdDAUPmJtt"
      },
      "source": [
        "# 4. Build the network"
      ]
    },
    {
      "cell_type": "markdown",
      "metadata": {
        "id": "_imLoR2bVbtz"
      },
      "source": [
        "## Implement ResNet50"
      ]
    },
    {
      "cell_type": "code",
      "execution_count": 49,
      "metadata": {
        "id": "ggxJrmzPmP8L"
      },
      "outputs": [],
      "source": [
        "import math\n",
        "import torch\n",
        "import torch.nn as nn\n",
        "import torch.nn.functional as F\n",
        "from torchvision.models import resnet50\n",
        "\n",
        "class Bottleneck(nn.Module):\n",
        "    '''\n",
        "    The single block in ResNet\n",
        "    '''\n",
        "    expansion = 4\n",
        "    def __init__(self, inplanes, planes, stride=1, downsample=None):\n",
        "        super(Bottleneck, self).__init__()\n",
        "        # -- write your codes here\n",
        "        self.conv1 = nn.Conv2d(inplanes, planes, kernel_size=1, bias=False)\n",
        "        self.bn1 = nn.BatchNorm2d(planes)\n",
        "\n",
        "        self.conv2 = nn.Conv2d(planes, planes, kernel_size=3, stride=stride, padding=1, bias=False)\n",
        "        self.bn2 = nn.BatchNorm2d(planes)\n",
        "\n",
        "        self.conv3 = nn.Conv2d(planes, planes * self.expansion, kernel_size=1, bias=False)\n",
        "        self.bn3 = nn.BatchNorm2d(planes * self.expansion)\n",
        "\n",
        "        self.relu = nn.ReLU(inplace=True)\n",
        "\n",
        "        self.downsample = downsample\n",
        "\n",
        "    def forward(self, x):\n",
        "        # -- write your codes here\n",
        "        \n",
        "        identity = x\n",
        "        \n",
        "        out = self.conv1(x)\n",
        "        out = self.bn1(out)\n",
        "        out = self.relu(out)\n",
        "\n",
        "        out = self.conv2(out)\n",
        "        out = self.bn2(out)\n",
        "        out = self.relu(out)\n",
        "        \n",
        "        out = self.conv3(out)\n",
        "        out = self.bn3(out)\n",
        "\n",
        "        # if downsample is not None, then apply downsample\n",
        "        if self.downsample is not None:\n",
        "            identity = self.downsample(x)\n",
        "        \n",
        "        out += identity\n",
        "        out = self.relu(out)\n",
        "        return out\n",
        "        \n",
        "\n",
        "class ResNet(nn.Module):\n",
        "    def __init__(self, block, layers, use_fc=False, dropout=None):\n",
        "        self.inplanes = 64\n",
        "        super(ResNet, self).__init__()\n",
        "\n",
        "        self.conv1 = nn.Conv2d(3, 64, kernel_size=7, stride=2, padding=3,bias=False)\n",
        "        self.bn1 = nn.BatchNorm2d(64)\n",
        "        self.relu = nn.ReLU(inplace=True)\n",
        "        self.maxpool = nn.MaxPool2d(kernel_size=3, stride=2, padding=1)\n",
        "\n",
        "        ### stacking layers\n",
        "        self.layer1 = self._make_layer(block, 64, layers[0])\n",
        "        self.layer2 = self._make_layer(block, 128, layers[1], stride=2)\n",
        "        self.layer3 = self._make_layer(block, 256, layers[2], stride=2)\n",
        "        self.layer4 = self._make_layer(block, 512, layers[3], stride=2)\n",
        "\n",
        "        self.avgpool = nn.AvgPool2d(7, stride=1)\n",
        "\n",
        "        self.use_fc = use_fc\n",
        "        self.use_dropout = True if dropout else False\n",
        "        if self.use_fc:\n",
        "            print('Using fc.')\n",
        "            self.fc_add = nn.Linear(512*block.expansion, 512)\n",
        "        if self.use_dropout:\n",
        "            print('Using dropout.')\n",
        "            self.dropout = nn.Dropout(p=dropout)\n",
        "\n",
        "        for m in self.modules():\n",
        "            if isinstance(m, nn.Conv2d):\n",
        "                n = m.kernel_size[0] * m.kernel_size[1] * m.out_channels\n",
        "                m.weight.data.normal_(0, math.sqrt(2. / n))\n",
        "            elif isinstance(m, nn.BatchNorm2d):\n",
        "                m.weight.data.fill_(1)\n",
        "                m.bias.data.zero_()\n",
        "\n",
        "    def _make_layer(self, block, planes, blocks, stride=1):\n",
        "        '''\n",
        "        Buiding ResNet layer by stacking blocks\n",
        "        '''\n",
        "        downsample = None\n",
        "        if stride != 1 or self.inplanes != planes * block.expansion:\n",
        "            downsample = nn.Sequential(\n",
        "                nn.Conv2d(self.inplanes, planes * block.expansion,\n",
        "                          kernel_size=1, stride=stride, bias=False),\n",
        "                nn.BatchNorm2d(planes * block.expansion),\n",
        "            )\n",
        "        layers = []\n",
        "        layers.append(block(self.inplanes, planes, stride, downsample))\n",
        "        self.inplanes = planes * block.expansion\n",
        "        for i in range(1, blocks):\n",
        "            layers.append(block(self.inplanes, planes))\n",
        "        return nn.Sequential(*layers)\n",
        "\n",
        "    def forward(self, x, *args):\n",
        "        # -- write your codes here\n",
        "        \n",
        "        # implement resnet50\n",
        "        x = self.conv1(x)\n",
        "        x = self.bn1(x)\n",
        "        x = self.relu(x)\n",
        "        x = self.maxpool(x)\n",
        "\n",
        "        x = self.layer1(x)\n",
        "        x = self.layer2(x)\n",
        "        x = self.layer3(x)\n",
        "        x = self.layer4(x)\n",
        "\n",
        "        x = self.avgpool(x)\n",
        "        x = x.view(x.size(0), -1)\n",
        "        \n",
        "        # in case\n",
        "        if self.use_fc:\n",
        "            print(\"FC Used\")\n",
        "            x = self.fc_add(x)\n",
        "        if self.use_dropout:\n",
        "            print(\"Dropout Used\")\n",
        "            x = self.dropout(x)\n",
        "\n",
        "        return x\n",
        "\n",
        "def get_resnet50(pre_trained=True):\n",
        "    Resnet50 = ResNet(Bottleneck, [3, 4, 6, 3], dropout=None)\n",
        "    if pre_trained:\n",
        "        pre_trained = resnet50(weights = \"IMAGENET1K_V2\").state_dict()\n",
        "        new_weights = {k: pre_trained[k] for k in Resnet50.state_dict()}\n",
        "        Resnet50.load_state_dict(new_weights)\n",
        "    return Resnet50"
      ]
    },
    {
      "cell_type": "markdown",
      "metadata": {
        "id": "9wENbOekVlwR"
      },
      "source": [
        "## Create Classification Model"
      ]
    },
    {
      "cell_type": "code",
      "execution_count": 50,
      "metadata": {
        "id": "z2ep693sViiP"
      },
      "outputs": [],
      "source": [
        "class ClassificationModel(nn.Module):\n",
        "    def __init__(self, encoder, num_classes=1):\n",
        "        super(ClassificationModel, self).__init__()\n",
        "        ### apply a vision encoder (ResNet-50 will be applied here)\n",
        "        self.encoder = encoder\n",
        "        # -- write your codes here: add a classifier to project the visual features\n",
        "        self.classifier = nn.Linear(2048, num_classes) # 512*4=2048\n",
        "    def forward(self, x):\n",
        "        # -- write your codes here:\n",
        "        x = self.encoder(x)\n",
        "        x = self.classifier(x)\n",
        "        return x\n",
        "\n",
        "resnet50 = get_resnet50(pre_trained=True)\n",
        "model = ClassificationModel(resnet50, 2)"
      ]
    },
    {
      "cell_type": "markdown",
      "metadata": {
        "id": "5Q4AZq_enGEI"
      },
      "source": [
        "### 5. Train and test your model"
      ]
    },
    {
      "cell_type": "code",
      "execution_count": 7,
      "metadata": {},
      "outputs": [],
      "source": [
        "import gc\n",
        "# reset GPU memory if needed\n",
        "def reset_gpu_mem():\n",
        "    gc.collect()\n",
        "    torch.cuda.empty_cache()"
      ]
    },
    {
      "cell_type": "code",
      "execution_count": 51,
      "metadata": {},
      "outputs": [],
      "source": [
        "reset_gpu_mem()"
      ]
    },
    {
      "cell_type": "code",
      "execution_count": 52,
      "metadata": {
        "id": "vfSsJ4AbnEID"
      },
      "outputs": [
        {
          "name": "stdout",
          "output_type": "stream",
          "text": [
            " -- Epoch 1/10\n"
          ]
        },
        {
          "name": "stderr",
          "output_type": "stream",
          "text": [
            "  0%|          | 0/57 [00:00<?, ?it/s]"
          ]
        },
        {
          "name": "stderr",
          "output_type": "stream",
          "text": [
            "100%|██████████| 57/57 [00:23<00:00,  2.40it/s]\n"
          ]
        },
        {
          "name": "stdout",
          "output_type": "stream",
          "text": [
            "Saving checkpoint\n",
            "Train Loss 0.0312, Valid Loss 0.0328, Train Accuracy 80.3333%, Validation Accuracy 77.8947%\n",
            " -- Epoch 2/10\n"
          ]
        },
        {
          "name": "stderr",
          "output_type": "stream",
          "text": [
            "100%|██████████| 57/57 [00:23<00:00,  2.39it/s]\n"
          ]
        },
        {
          "name": "stdout",
          "output_type": "stream",
          "text": [
            "Train Loss 0.0282, Valid Loss 0.0347, Train Accuracy 80.7778%, Validation Accuracy 77.8947%\n",
            " -- Epoch 3/10\n"
          ]
        },
        {
          "name": "stderr",
          "output_type": "stream",
          "text": [
            "100%|██████████| 57/57 [00:23<00:00,  2.41it/s]\n"
          ]
        },
        {
          "name": "stdout",
          "output_type": "stream",
          "text": [
            "Saving checkpoint\n",
            "Train Loss 0.0266, Valid Loss 0.0282, Train Accuracy 81.0000%, Validation Accuracy 78.9474%\n",
            " -- Epoch 4/10\n"
          ]
        },
        {
          "name": "stderr",
          "output_type": "stream",
          "text": [
            "100%|██████████| 57/57 [00:23<00:00,  2.41it/s]\n"
          ]
        },
        {
          "name": "stdout",
          "output_type": "stream",
          "text": [
            "Train Loss 0.0255, Valid Loss 0.0287, Train Accuracy 81.7778%, Validation Accuracy 79.4737%\n",
            " -- Epoch 5/10\n"
          ]
        },
        {
          "name": "stderr",
          "output_type": "stream",
          "text": [
            "100%|██████████| 57/57 [00:23<00:00,  2.39it/s]\n"
          ]
        },
        {
          "name": "stdout",
          "output_type": "stream",
          "text": [
            "Saving checkpoint\n",
            "Train Loss 0.0247, Valid Loss 0.0277, Train Accuracy 82.2222%, Validation Accuracy 81.0526%\n",
            " -- Epoch 6/10\n"
          ]
        },
        {
          "name": "stderr",
          "output_type": "stream",
          "text": [
            "100%|██████████| 57/57 [00:23<00:00,  2.41it/s]\n"
          ]
        },
        {
          "name": "stdout",
          "output_type": "stream",
          "text": [
            "Saving checkpoint\n",
            "Train Loss 0.0239, Valid Loss 0.0264, Train Accuracy 83.2222%, Validation Accuracy 79.4737%\n",
            " -- Epoch 7/10\n"
          ]
        },
        {
          "name": "stderr",
          "output_type": "stream",
          "text": [
            "100%|██████████| 57/57 [00:24<00:00,  2.37it/s]\n"
          ]
        },
        {
          "name": "stdout",
          "output_type": "stream",
          "text": [
            "Saving checkpoint\n",
            "Train Loss 0.0231, Valid Loss 0.0263, Train Accuracy 84.3333%, Validation Accuracy 82.6316%\n",
            " -- Epoch 8/10\n"
          ]
        },
        {
          "name": "stderr",
          "output_type": "stream",
          "text": [
            "100%|██████████| 57/57 [00:23<00:00,  2.40it/s]\n"
          ]
        },
        {
          "name": "stdout",
          "output_type": "stream",
          "text": [
            "Saving checkpoint\n",
            "Train Loss 0.0233, Valid Loss 0.0258, Train Accuracy 83.8889%, Validation Accuracy 82.6316%\n",
            " -- Epoch 9/10\n"
          ]
        },
        {
          "name": "stderr",
          "output_type": "stream",
          "text": [
            "100%|██████████| 57/57 [00:23<00:00,  2.40it/s]\n"
          ]
        },
        {
          "name": "stdout",
          "output_type": "stream",
          "text": [
            "Saving checkpoint\n",
            "Train Loss 0.0233, Valid Loss 0.0227, Train Accuracy 84.2222%, Validation Accuracy 86.8421%\n",
            " -- Epoch 10/10\n"
          ]
        },
        {
          "name": "stderr",
          "output_type": "stream",
          "text": [
            "100%|██████████| 57/57 [00:23<00:00,  2.40it/s]\n"
          ]
        },
        {
          "name": "stdout",
          "output_type": "stream",
          "text": [
            "Train Loss 0.0219, Valid Loss 0.0263, Train Accuracy 85.3333%, Validation Accuracy 81.0526%\n"
          ]
        }
      ],
      "source": [
        "from tqdm import tqdm\n",
        "import numpy as np\n",
        "import torch.nn as nn\n",
        "from sklearn.metrics import roc_auc_score, accuracy_score\n",
        "\n",
        "max_epoch = 10\n",
        "use_cuda = torch.cuda.is_available()\n",
        "if use_cuda:\n",
        "    model = model.cuda()\n",
        "\n",
        "lr = 1e-3\n",
        "train_loss_list = []\n",
        "valid_loss_list = []\n",
        "acc_train_list = []\n",
        "acc_valid_list = []\n",
        "train_auc_list = []\n",
        "val_auc_list = []\n",
        "best_valid_loss = float('inf')\n",
        "\n",
        "criterion = nn.CrossEntropyLoss() # -- write your codes here\n",
        "optimizer = torch.optim.SGD(model.parameters(), lr=lr, momentum = 0.9) # -- write your codes here\n",
        "\n",
        "for epoch in range(max_epoch):\n",
        "    print(\" -- Epoch {}/{}\".format(epoch + 1, max_epoch))\n",
        "\n",
        "    # for recording metrics\n",
        "    running_loss = 0.0\n",
        "    running_correct = 0\n",
        "    valid_loss = 0.0\n",
        "    valid_correct = 0\n",
        "    \n",
        "    ### training the model\n",
        "    model.train()\n",
        "\n",
        "    train_preds_list = np.arange(0)\n",
        "    train_labels_list = np.arange(0)\n",
        "\n",
        "    for data in tqdm(loader_train):\n",
        "        # -- write your codes here\n",
        "\n",
        "        # set all gradients to zero\n",
        "        optimizer.zero_grad()\n",
        "\n",
        "        # fetch data\n",
        "        inputs, labels = data\n",
        "        if use_cuda:\n",
        "            inputs = inputs.cuda()\n",
        "            labels = labels.cuda()\n",
        "            \n",
        "        # model forward\n",
        "        outputs = model(inputs) # -- write your code here --\n",
        "\n",
        "\n",
        "        # calculate loss\n",
        "        loss = criterion(outputs, labels) # -- write your code here --\n",
        "\n",
        "        loss.backward()\n",
        "        optimizer.step()\n",
        "\n",
        "        pred = torch.argmax(outputs, dim=1)\n",
        "        running_loss += loss.item()\n",
        "        running_correct += torch.sum(pred == labels)\n",
        "        # append to list\n",
        "        pred_np = np.array(pred.cpu()).astype('float64')\n",
        "        train_preds_list = np.concatenate((train_preds_list, pred_np))\n",
        "        labels_np = np.array(labels.cpu()).astype('float64')\n",
        "        train_labels_list = np.concatenate((train_labels_list, labels_np))\n",
        "        \n",
        "        \n",
        "\n",
        "    ### record the training loss and metrics\n",
        "    # -- write your codes here\n",
        "    loss = running_loss / len(loader_train.dataset)\n",
        "    train_loss_list.append(loss)\n",
        "    acc_train = running_correct / len(loader_train.dataset)\n",
        "    acc_train_list.append(acc_train.item())\n",
        "    train_auc = roc_auc_score(train_labels_list, train_preds_list)\n",
        "    train_auc_list.append(train_auc)\n",
        "\n",
        "\n",
        "    ### evaluate on validation set\n",
        "    model.eval()\n",
        "    val_preds_list = np.arange(0)\n",
        "    val_labels_list = np.arange(0)\n",
        "    valid_correct = 0\n",
        "    for data in loader_val:\n",
        "        # -- write your codes here\n",
        "        # fetch data\n",
        "        images, labels = data\n",
        "        if use_cuda:\n",
        "            images = images.cuda()\n",
        "            labels = labels.cuda()\n",
        "        \n",
        "        # model forward\n",
        "        voutputs = model(images)# -- write your code here --\n",
        "        \n",
        "        # calculate loss\n",
        "        vloss = criterion(voutputs, labels)\n",
        "        vpred = torch.argmax(voutputs, dim=1)\n",
        "        valid_loss += vloss.item()\n",
        "        valid_correct += torch.sum(vpred == labels)\n",
        "        # append to list\n",
        "        pred_np = np.array(vpred.cpu()).astype('float64')\n",
        "        val_preds_list = np.concatenate((val_preds_list, pred_np))\n",
        "        labels_np = np.array(labels.cpu()).astype('float64')\n",
        "        val_labels_list = np.concatenate((val_labels_list, labels_np))\n",
        "    \n",
        "    ### record the validation loss and metrics, save the best checkpoint\n",
        "    # -- write your codes here\n",
        "    # Save best checkpoint\n",
        "    if valid_loss < best_valid_loss:\n",
        "        best_valid_loss = valid_loss\n",
        "        print(\"Saving checkpoint\")\n",
        "        torch.save(model.state_dict(), 'best_checkpoint_lesion.pt')\n",
        "\n",
        "    # record the validation loss and metrics\n",
        "    acc_valid = valid_correct / len(loader_val.dataset)\n",
        "    acc_valid_list.append(acc_valid.item())\n",
        "    valid_loss = valid_loss / len(loader_val.dataset)\n",
        "    valid_loss_list.append(valid_loss)\n",
        "    val_auc = roc_auc_score(val_labels_list, val_preds_list)\n",
        "    val_auc_list.append(val_auc)\n",
        "\n",
        "    print(\"Train Loss {:.4f}, Valid Loss {:.4f}, Train Accuracy {:.4f}%, Validation Accuracy {:.4f}%\".format(\n",
        "        loss,\n",
        "        valid_loss,\n",
        "        acc_train * 100,\n",
        "        acc_valid * 100\n",
        "    ))\n",
        "\n",
        "    \n",
        "\n",
        "model.load_state_dict(torch.load('best_checkpoint_lesion.pt'))\n",
        "\n",
        "### evaluate on test set\n",
        "model.eval()\n",
        "test_loss = 0.0\n",
        "correct = 0\n",
        "total = len(loader_test.dataset)\n",
        "test_preds_list = []\n",
        "test_labels_list = []\n",
        "\n",
        "for data in loader_test:\n",
        "    # -- write your codes here\n",
        "    # fetch data\n",
        "    images, labels = data\n",
        "    if use_cuda:\n",
        "        images = images.cuda()\n",
        "        labels = labels.cuda()\n",
        "    \n",
        "    # model forward\n",
        "    outputs = model(images)\n",
        "    \n",
        "    # calculate accuracy on test set\n",
        "    pred = torch.argmax(outputs, dim=1)\n",
        "    tloss = criterion(outputs, labels)\n",
        "    test_loss += tloss.item()\n",
        "    correct += torch.sum(pred == labels)\n",
        "    # append to list\n",
        "    test_preds_list.append(torch.argmax(outputs, dim=1).detach().cpu().numpy())\n",
        "    test_labels_list.append(labels.detach().cpu().numpy())\n",
        "\n",
        "\n",
        "\n",
        "### compute and print the metrics on test set\n",
        "# -- write your codes here\n",
        "test_preds = np.concatenate(test_preds_list)\n",
        "test_labels = np.concatenate(test_labels_list)\n",
        "test_auc = roc_auc_score(test_labels, test_preds)\n",
        "test_acc = accuracy_score(test_labels, test_preds)"
      ]
    },
    {
      "cell_type": "code",
      "execution_count": 53,
      "metadata": {},
      "outputs": [
        {
          "name": "stdout",
          "output_type": "stream",
          "text": [
            "\n",
            "Best model accuracy on test set: 83.07%\n",
            "Testing AUC: 68.24%\n"
          ]
        }
      ],
      "source": [
        "# 2.  Report accuracy and AUC on the test set\n",
        "print(\"\\nBest model accuracy on test set: {:.2f}%\".format(test_acc * 100))\n",
        "print(\"Testing AUC: {:.2f}%\".format(test_auc * 100))"
      ]
    },
    {
      "cell_type": "markdown",
      "metadata": {},
      "source": [
        "Plots"
      ]
    },
    {
      "cell_type": "code",
      "execution_count": 54,
      "metadata": {
        "id": "oRiwcbu7oWx-"
      },
      "outputs": [
        {
          "data": {
            "image/png": "[encoded data removed]",
            "text/plain": [
              "<Figure size 640x480 with 1 Axes>"
            ]
          },
          "metadata": {},
          "output_type": "display_data"
        }
      ],
      "source": [
        "### 3. plot your training and test curves\n",
        "# training loss curve\n",
        "plt.figure()\n",
        "plt.plot(train_loss_list, label='Training Loss')\n",
        "plt.plot(valid_loss_list, label='Validation Loss')\n",
        "plt.title(\"Loss Curves\")\n",
        "plt.xlabel(\"Epoch\")\n",
        "plt.ylabel(\"Loss\")\n",
        "plt.legend()\n",
        "plt.show()"
      ]
    },
    {
      "cell_type": "code",
      "execution_count": 55,
      "metadata": {},
      "outputs": [
        {
          "data": {
            "image/png": "[encoded data removed]",
            "text/plain": [
              "<Figure size 640x480 with 1 Axes>"
            ]
          },
          "metadata": {},
          "output_type": "display_data"
        }
      ],
      "source": [
        "# training and testing accuracy curves\n",
        "plt.figure()\n",
        "plt.title(\"Accuracy Curves\")\n",
        "plt.plot(acc_train_list, label=\"Train\")\n",
        "plt.plot(acc_valid_list, label=\"Validation\")\n",
        "plt.xlabel(\"Epoch\")\n",
        "plt.ylabel(\"Accuracy\")\n",
        "plt.legend()\n",
        "plt.show()"
      ]
    },
    {
      "cell_type": "code",
      "execution_count": 56,
      "metadata": {},
      "outputs": [
        {
          "data": {
            "image/png": "[encoded data removed]",
            "text/plain": [
              "<Figure size 640x480 with 1 Axes>"
            ]
          },
          "metadata": {},
          "output_type": "display_data"
        }
      ],
      "source": [
        "plt.figure()\n",
        "plt.title(\"AUC Curves\")\n",
        "plt.plot(train_auc_list, label=\"Train\")\n",
        "plt.plot(val_auc_list, label=\"Validation\")\n",
        "plt.xlabel(\"Epoch\")\n",
        "plt.ylabel(\"AUC\")\n",
        "plt.legend()\n",
        "plt.show()"
      ]
    },
    {
      "cell_type": "markdown",
      "metadata": {},
      "source": [
        "### Dealing with class imbalance\n",
        "\n",
        "Will deal with imbalance by using weighted loss function for CrossEntropyLoss function"
      ]
    },
    {
      "cell_type": "code",
      "execution_count": 38,
      "metadata": {},
      "outputs": [
        {
          "name": "stdout",
          "output_type": "stream",
          "text": [
            "Train classes: Benign: 727, Malignant: 173\n",
            "Val classes: Benign: 148, Malignant: 42\n",
            "Test classes: Benign: 156, Malignant: 33\n",
            "Classes ID: {'benign': 0, 'malignant': 1}\n"
          ]
        }
      ],
      "source": [
        "# check imbalance\n",
        "print(f'Train classes: Benign: {num_train_benign}, Malignant: {num_train_malignant}')\n",
        "print(f'Val classes: Benign: {num_val_benign}, Malignant: {num_val_malignant}')\n",
        "print(f'Test classes: Benign: {num_test_benign}, Malignant: {num_test_malignant}')\n",
        "\n",
        "print(f'Classes ID: {loader_train.dataset.class_to_idx}')"
      ]
    },
    {
      "cell_type": "code",
      "execution_count": 39,
      "metadata": {},
      "outputs": [],
      "source": [
        "reset_gpu_mem()"
      ]
    },
    {
      "cell_type": "code",
      "execution_count": 40,
      "metadata": {},
      "outputs": [],
      "source": [
        "# set weights based on imbalance\n",
        "device = torch.device('cuda:0' if torch.cuda.is_available() else 'cpu')\n",
        "\n",
        "benign_weight = 1/ (num_train_benign/len(loader_train.dataset))\n",
        "malignant_weight = 1/ (num_train_malignant/len(loader_train.dataset))\n",
        "\n",
        "class_weights = [benign_weight, malignant_weight]\n",
        "weights = torch.FloatTensor(class_weights).to(device)"
      ]
    },
    {
      "cell_type": "code",
      "execution_count": 41,
      "metadata": {},
      "outputs": [
        {
          "name": "stdout",
          "output_type": "stream",
          "text": [
            " -- Epoch 1/10\n"
          ]
        },
        {
          "name": "stderr",
          "output_type": "stream",
          "text": [
            "100%|██████████| 57/57 [00:23<00:00,  2.42it/s]\n"
          ]
        },
        {
          "name": "stdout",
          "output_type": "stream",
          "text": [
            "Saving checkpoint\n",
            "Train Loss 0.0324, Valid Loss 0.0287, Train Accuracy 80.1111%, Validation Accuracy 82.6316%\n",
            " -- Epoch 2/10\n"
          ]
        },
        {
          "name": "stderr",
          "output_type": "stream",
          "text": [
            "100%|██████████| 57/57 [00:23<00:00,  2.39it/s]\n"
          ]
        },
        {
          "name": "stdout",
          "output_type": "stream",
          "text": [
            "Train Loss 0.0285, Valid Loss 0.0317, Train Accuracy 80.8889%, Validation Accuracy 81.0526%\n",
            " -- Epoch 3/10\n"
          ]
        },
        {
          "name": "stderr",
          "output_type": "stream",
          "text": [
            "100%|██████████| 57/57 [00:23<00:00,  2.41it/s]\n"
          ]
        },
        {
          "name": "stdout",
          "output_type": "stream",
          "text": [
            "Train Loss 0.0280, Valid Loss 0.0394, Train Accuracy 81.4445%, Validation Accuracy 77.8947%\n",
            " -- Epoch 4/10\n"
          ]
        },
        {
          "name": "stderr",
          "output_type": "stream",
          "text": [
            "100%|██████████| 57/57 [00:23<00:00,  2.39it/s]\n"
          ]
        },
        {
          "name": "stdout",
          "output_type": "stream",
          "text": [
            "Train Loss 0.0271, Valid Loss 0.0312, Train Accuracy 80.4445%, Validation Accuracy 80.0000%\n",
            " -- Epoch 5/10\n"
          ]
        },
        {
          "name": "stderr",
          "output_type": "stream",
          "text": [
            "100%|██████████| 57/57 [00:23<00:00,  2.41it/s]\n"
          ]
        },
        {
          "name": "stdout",
          "output_type": "stream",
          "text": [
            "Train Loss 0.0286, Valid Loss 0.0314, Train Accuracy 81.2222%, Validation Accuracy 80.0000%\n",
            " -- Epoch 6/10\n"
          ]
        },
        {
          "name": "stderr",
          "output_type": "stream",
          "text": [
            "100%|██████████| 57/57 [00:23<00:00,  2.39it/s]\n"
          ]
        },
        {
          "name": "stdout",
          "output_type": "stream",
          "text": [
            "Train Loss 0.0266, Valid Loss 0.0347, Train Accuracy 80.8889%, Validation Accuracy 81.5789%\n",
            " -- Epoch 7/10\n"
          ]
        },
        {
          "name": "stderr",
          "output_type": "stream",
          "text": [
            "100%|██████████| 57/57 [00:23<00:00,  2.40it/s]\n"
          ]
        },
        {
          "name": "stdout",
          "output_type": "stream",
          "text": [
            "Train Loss 0.0234, Valid Loss 0.0413, Train Accuracy 84.3333%, Validation Accuracy 78.4211%\n",
            " -- Epoch 8/10\n"
          ]
        },
        {
          "name": "stderr",
          "output_type": "stream",
          "text": [
            "100%|██████████| 57/57 [00:23<00:00,  2.40it/s]\n"
          ]
        },
        {
          "name": "stdout",
          "output_type": "stream",
          "text": [
            "Train Loss 0.0247, Valid Loss 0.0366, Train Accuracy 83.0000%, Validation Accuracy 81.0526%\n",
            " -- Epoch 9/10\n"
          ]
        },
        {
          "name": "stderr",
          "output_type": "stream",
          "text": [
            "100%|██████████| 57/57 [00:23<00:00,  2.39it/s]\n"
          ]
        },
        {
          "name": "stdout",
          "output_type": "stream",
          "text": [
            "Train Loss 0.0233, Valid Loss 0.0394, Train Accuracy 82.1111%, Validation Accuracy 81.0526%\n",
            " -- Epoch 10/10\n"
          ]
        },
        {
          "name": "stderr",
          "output_type": "stream",
          "text": [
            "100%|██████████| 57/57 [00:23<00:00,  2.38it/s]\n"
          ]
        },
        {
          "name": "stdout",
          "output_type": "stream",
          "text": [
            "Train Loss 0.0228, Valid Loss 0.0334, Train Accuracy 84.6667%, Validation Accuracy 76.8421%\n"
          ]
        }
      ],
      "source": [
        "criterion = nn.CrossEntropyLoss(weight=weights) # -- write your codes here\n",
        "\n",
        "from tqdm import tqdm\n",
        "import numpy as np\n",
        "import torch.nn as nn\n",
        "from sklearn.metrics import roc_auc_score, accuracy_score\n",
        "\n",
        "max_epoch = 10\n",
        "use_cuda = torch.cuda.is_available()\n",
        "if use_cuda:\n",
        "    model = model.cuda()\n",
        "\n",
        "lr = 1e-3\n",
        "train_loss_list = []\n",
        "valid_loss_list = []\n",
        "acc_train_list = []\n",
        "acc_valid_list = []\n",
        "train_auc_list = []\n",
        "val_auc_list = []\n",
        "best_valid_loss = float('inf')\n",
        "\n",
        "optimizer = torch.optim.SGD(model.parameters(), lr=lr, momentum = 0.9) # -- write your codes here\n",
        "\n",
        "for epoch in range(max_epoch):\n",
        "    print(\" -- Epoch {}/{}\".format(epoch + 1, max_epoch))\n",
        "\n",
        "    # for recording metrics\n",
        "    running_loss = 0.0\n",
        "    running_correct = 0\n",
        "    valid_loss = 0.0\n",
        "    valid_correct = 0\n",
        "    \n",
        "    ### training the model\n",
        "    model.train()\n",
        "\n",
        "    train_preds_list = np.arange(0)\n",
        "    train_labels_list = np.arange(0)\n",
        "\n",
        "    for data in tqdm(loader_train):\n",
        "        # -- write your codes here\n",
        "\n",
        "        # set all gradients to zero\n",
        "        optimizer.zero_grad()\n",
        "\n",
        "        # fetch data\n",
        "        inputs, labels = data\n",
        "        if use_cuda:\n",
        "            inputs = inputs.cuda()\n",
        "            labels = labels.cuda()\n",
        "            \n",
        "        # model forward\n",
        "        outputs = model(inputs) # -- write your code here --\n",
        "\n",
        "\n",
        "        # calculate loss\n",
        "        loss = criterion(outputs, labels) # -- write your code here --\n",
        "\n",
        "        loss.backward()\n",
        "        optimizer.step()\n",
        "\n",
        "        pred = torch.argmax(outputs, dim=1)\n",
        "        running_loss += loss.item()\n",
        "        running_correct += torch.sum(pred == labels)\n",
        "        # append to list\n",
        "        pred_np = np.array(pred.cpu()).astype('float64')\n",
        "        train_preds_list = np.concatenate((train_preds_list, pred_np))\n",
        "        labels_np = np.array(labels.cpu()).astype('float64')\n",
        "        train_labels_list = np.concatenate((train_labels_list, labels_np))\n",
        "        \n",
        "        \n",
        "\n",
        "    ### record the training loss and metrics\n",
        "    # -- write your codes here\n",
        "    loss = running_loss / len(loader_train.dataset)\n",
        "    train_loss_list.append(loss)\n",
        "    acc_train = running_correct / len(loader_train.dataset)\n",
        "    acc_train_list.append(acc_train.item())\n",
        "    train_auc = roc_auc_score(train_labels_list, train_preds_list)\n",
        "    train_auc_list.append(train_auc)\n",
        "\n",
        "\n",
        "    ### evaluate on validation set\n",
        "    model.eval()\n",
        "    val_preds_list = np.arange(0)\n",
        "    val_labels_list = np.arange(0)\n",
        "    valid_correct = 0\n",
        "    for data in loader_val:\n",
        "        # -- write your codes here\n",
        "        # fetch data\n",
        "        images, labels = data\n",
        "        if use_cuda:\n",
        "            images = images.cuda()\n",
        "            labels = labels.cuda()\n",
        "        \n",
        "        # model forward\n",
        "        voutputs = model(images)# -- write your code here --\n",
        "        \n",
        "        # calculate loss\n",
        "        vloss = criterion(voutputs, labels)\n",
        "        vpred = torch.argmax(voutputs, dim=1)\n",
        "        valid_loss += vloss.item()\n",
        "        valid_correct += torch.sum(vpred == labels)\n",
        "        # append to list\n",
        "        pred_np = np.array(vpred.cpu()).astype('float64')\n",
        "        val_preds_list = np.concatenate((val_preds_list, pred_np))\n",
        "        labels_np = np.array(labels.cpu()).astype('float64')\n",
        "        val_labels_list = np.concatenate((val_labels_list, labels_np))\n",
        "    \n",
        "    ### record the validation loss and metrics, save the best checkpoint\n",
        "    # -- write your codes here\n",
        "    # Save best checkpoint\n",
        "    if valid_loss < best_valid_loss:\n",
        "        best_valid_loss = valid_loss\n",
        "        # print(\"Saving checkpoint\")\n",
        "        torch.save(model.state_dict(), 'best_checkpoint_lesion.pt')\n",
        "\n",
        "    # record the validation loss and metrics\n",
        "    acc_valid = valid_correct / len(loader_val.dataset)\n",
        "    acc_valid_list.append(acc_valid.item())\n",
        "    valid_loss = valid_loss / len(loader_val.dataset)\n",
        "    valid_loss_list.append(valid_loss)\n",
        "    val_auc = roc_auc_score(val_labels_list, val_preds_list)\n",
        "    val_auc_list.append(val_auc)\n",
        "\n",
        "    print(\"Train Loss {:.4f}, Valid Loss {:.4f}, Train Accuracy {:.4f}%, Validation Accuracy {:.4f}%\".format(\n",
        "        loss,\n",
        "        valid_loss,\n",
        "        acc_train * 100,\n",
        "        acc_valid * 100\n",
        "    ))\n",
        "\n",
        "    \n",
        "\n",
        "model.load_state_dict(torch.load('best_checkpoint_lesion.pt'))\n",
        "\n",
        "### evaluate on test set\n",
        "model.eval()\n",
        "test_loss = 0.0\n",
        "correct = 0\n",
        "total = len(loader_test.dataset)\n",
        "test_preds_list = []\n",
        "test_labels_list = []\n",
        "\n",
        "for data in loader_test:\n",
        "    # -- write your codes here\n",
        "    # fetch data\n",
        "    images, labels = data\n",
        "    if use_cuda:\n",
        "        images = images.cuda()\n",
        "        labels = labels.cuda()\n",
        "    \n",
        "    # model forward\n",
        "    outputs = model(images)\n",
        "    \n",
        "    # calculate accuracy on test set\n",
        "    pred = torch.argmax(outputs, dim=1)\n",
        "    tloss = criterion(outputs, labels)\n",
        "    test_loss += tloss.item()\n",
        "    correct += torch.sum(pred == labels)\n",
        "    # append to list\n",
        "    test_preds_list.append(torch.argmax(outputs, dim=1).detach().cpu().numpy())\n",
        "    test_labels_list.append(labels.detach().cpu().numpy())\n",
        "\n",
        "\n",
        "\n",
        "### compute and print the metrics on test set\n",
        "# -- write your codes here\n",
        "test_preds = np.concatenate(test_preds_list)\n",
        "test_labels = np.concatenate(test_labels_list)\n",
        "test_auc = roc_auc_score(test_labels, test_preds)\n",
        "test_acc = accuracy_score(test_labels, test_preds)"
      ]
    },
    {
      "cell_type": "code",
      "execution_count": 42,
      "metadata": {},
      "outputs": [
        {
          "name": "stdout",
          "output_type": "stream",
          "text": [
            "\n",
            "Best model accuracy on test set: 84.13%\n",
            "Testing AUC: 71.27%\n"
          ]
        }
      ],
      "source": [
        "# display results\n",
        "print(\"\\nBest model accuracy on test set: {:.2f}%\".format(test_acc * 100))\n",
        "print(\"Testing AUC: {:.2f}%\".format(test_auc * 100))"
      ]
    },
    {
      "cell_type": "markdown",
      "metadata": {},
      "source": [
        "Plot"
      ]
    },
    {
      "cell_type": "code",
      "execution_count": 45,
      "metadata": {},
      "outputs": [
        {
          "data": {
            "image/png": "[encoded data removed]",
            "text/plain": [
              "<Figure size 640x480 with 1 Axes>"
            ]
          },
          "metadata": {},
          "output_type": "display_data"
        }
      ],
      "source": [
        "### 3. plot your training and test curves\n",
        "# training loss curve\n",
        "plt.figure()\n",
        "plt.plot(train_loss_list, label='Training Loss')\n",
        "plt.plot(valid_loss_list, label='Validation Loss')\n",
        "plt.title(\"Loss Curves\")\n",
        "plt.xlabel(\"Epoch\")\n",
        "plt.ylabel(\"Loss\")\n",
        "plt.legend()\n",
        "plt.show()"
      ]
    },
    {
      "cell_type": "code",
      "execution_count": 46,
      "metadata": {},
      "outputs": [
        {
          "data": {
            "image/png": "[encoded data removed]",
            "text/plain": [
              "<Figure size 640x480 with 1 Axes>"
            ]
          },
          "metadata": {},
          "output_type": "display_data"
        }
      ],
      "source": [
        "# training and testing accuracy curves\n",
        "plt.figure()\n",
        "plt.title(\"Accuracy Curves\")\n",
        "plt.plot(acc_train_list, label=\"Train\")\n",
        "plt.plot(acc_valid_list, label=\"Validation\")\n",
        "plt.xlabel(\"Epoch\")\n",
        "plt.ylabel(\"Accuracy\")\n",
        "plt.legend()\n",
        "plt.show()"
      ]
    }
  ],
  "metadata": {
    "accelerator": "GPU",
    "colab": {
      "gpuType": "T4",
      "provenance": []
    },
    "kernelspec": {
      "display_name": "Python 3",
      "name": "python3"
    },
    "language_info": {
      "codemirror_mode": {
        "name": "ipython",
        "version": 3
      },
      "file_extension": ".py",
      "mimetype": "text/x-python",
      "name": "python",
      "nbconvert_exporter": "python",
      "pygments_lexer": "ipython3",
      "version": "3.10.12"
    },
    "vscode": {
      "interpreter": {
        "hash": "0f056848cf5d2396a4970b625f23716aa539c2ff5334414c1b5d98d7daae66f6"
      }
    }
  },
  "nbformat": 4,
  "nbformat_minor": 0
}
