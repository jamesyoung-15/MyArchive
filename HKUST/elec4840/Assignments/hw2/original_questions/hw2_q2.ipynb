{
 "cells": [
  {
   "cell_type": "markdown",
   "metadata": {},
   "source": [
    "## Setup imports"
   ]
  },
  {
   "cell_type": "code",
   "execution_count": null,
   "metadata": {
    "tags": []
   },
   "outputs": [],
   "source": [
    "from monai.utils import first, set_determinism\n",
    "from monai.transforms import (\n",
    "    AsDiscrete,\n",
    "    AsDiscreted,\n",
    "    EnsureChannelFirstd,\n",
    "    Compose,\n",
    "    CropForegroundd,\n",
    "    LoadImaged,\n",
    "    Orientationd,\n",
    "    RandCropByPosNegLabeld,\n",
    "    SaveImaged,\n",
    "    ScaleIntensityRanged,\n",
    "    Spacingd,\n",
    "    Invertd,\n",
    ")\n",
    "from monai.handlers.utils import from_engine\n",
    "from monai.networks.nets import UNet\n",
    "from monai.networks.layers import Norm\n",
    "from monai.metrics import DiceMetric\n",
    "from monai.losses import DiceLoss\n",
    "from monai.inferers import sliding_window_inference\n",
    "from monai.data import CacheDataset, DataLoader, Dataset, decollate_batch\n",
    "import torch\n",
    "import matplotlib.pyplot as plt\n",
    "import shutil\n",
    "import os\n",
    "import glob"
   ]
  },
  {
   "cell_type": "markdown",
   "metadata": {},
   "source": [
    "## Set train/validation/test data filepath"
   ]
  },
  {
   "cell_type": "code",
   "execution_count": null,
   "metadata": {},
   "outputs": [],
   "source": [
    "data_dir = # your path\n",
    "train_images = sorted(glob.glob(os.path.join(data_dir,\"train\" ,\"image\", \"*.nii.gz\")))\n",
    "train_labels = sorted(glob.glob(os.path.join(data_dir,\"train\" , \"label\", \"*.nii.gz\")))\n",
    "train_data_dicts = [{\"image\": image_name, \"label\": label_name} for image_name, label_name in zip(train_images, train_labels)]\n",
    "\n",
    "val_images = sorted(glob.glob(os.path.join(data_dir,\"val\" ,\"image\", \"*.nii.gz\")))\n",
    "val_labels = sorted(glob.glob(os.path.join(data_dir,\"val\" , \"label\", \"*.nii.gz\")))\n",
    "val_data_dicts = [{\"image\": image_name, \"label\": label_name} for image_name, label_name in zip(val_images, val_labels)]\n",
    "\n",
    "test_images = sorted(glob.glob(os.path.join(data_dir,\"test\" ,\"image\", \"*.nii.gz\")))\n",
    "test_labels = sorted(glob.glob(os.path.join(data_dir,\"test\" , \"label\", \"*.nii.gz\")))\n",
    "test_data_dicts = [{\"image\": image_name, \"label\": label_name} for image_name, label_name in zip(test_images, test_labels)]"
   ]
  },
  {
   "cell_type": "markdown",
   "metadata": {},
   "source": [
    "## Setup data augmentation\n",
    "\n",
    "For data augmentation, here are the basic requirements:\n",
    "\n",
    "1. `LoadImaged` loads the spleen CT images and labels from NIfTI format files.\n",
    "1. `EnsureChannelFirstd` ensures the original data to construct \"channel first\" shape.\n",
    "1. `ScaleIntensityRanged` clips the CT's data format, HU value, into a certain range (-57,164) and normalize it to (0,1)\n",
    "1. `CropForegroundd` removes all zero borders to focus on the valid body area of the images and labels.\n",
    "1. `RandCropByPosNegLabeld` randomly crop patch samples from big image based on pos / neg ratio.  \n",
    "The image centers of negative samples must be in valid body area.\n",
    "\n",
    "You can try more data augmentation techniques to further improve the performance."
   ]
  },
  {
   "cell_type": "code",
   "execution_count": null,
   "metadata": {},
   "outputs": [],
   "source": [
    "train_transforms = Compose(\n",
    "    [\n",
    "    ]\n",
    ")\n",
    "val_transforms = Compose(\n",
    "    [\n",
    "    ]\n",
    ")"
   ]
  },
  {
   "cell_type": "code",
   "execution_count": null,
   "metadata": {},
   "outputs": [],
   "source": [
    "import os\n",
    "import torch\n",
    "from torch.utils.data import Dataset, DataLoader\n",
    "\n",
    "\n",
    "\n",
    "class CT_Dataset(Dataset):\n",
    "    def __init__(self, dataset_path, transform=None,split='test'):\n",
    "        pass\n",
    "\n",
    "    def __len__(self):\n",
    "        pass\n",
    "\n",
    "    def __getitem__(self, idx):\n",
    "        pass\n",
    "        \n",
    "\n",
    "\n",
    "# here we don't cache any data in case out of memory issue\n",
    "train_ds = CT_Dataset(train_files,train_transforms,split='train')\n",
    "train_loader = DataLoader(train_ds, batch_size=2, shuffle=True, num_workers=4)\n",
    "val_ds = CT_Dataset(val_files,val_transforms,split='val')\n",
    "val_loader = DataLoader(val_ds, batch_size=1, shuffle=False, num_workers=4)\n",
    "test_ds = CT_Dataset(test_files,test_transforms,split='test')\n",
    "test_loader = DataLoader(test_ds, batch_size=2, shuffle=True, num_workers=4)\n",
    "val_ds = CT_Dataset(val_files,val_transforms,split='val')\n",
    "val_loader = DataLoader(val_ds, batch_size=1, shuffle=False, num_workers=4)"
   ]
  },
  {
   "cell_type": "markdown",
   "metadata": {},
   "source": [
    "# Implement a 3D UNet for segmentation task\n",
    "\n",
    "We give a possible network structure here, and you can modify it for a stronger performance.\n",
    "\n",
    "In the block ```double_conv```, you can implement the following structure：\n",
    "\n",
    "| Layer |\n",
    "|-------|\n",
    "| Conv3d |\n",
    "| BatchNorm3d |\n",
    "| PReLU |\n",
    "| Conv3d |\n",
    "| BatchNorm3d |\n",
    "| PReLU |\n",
    "\n",
    "\n",
    "In the overall UNet structure, you can implement the following structure. ```conv_down``` and ```conv_up``` refers to the function block you defined above.\n",
    "\n",
    "| Layer | Input Channel | Output Channel |\n",
    "|-------|-------------|--------------|\n",
    "| conv_down1 | 1 | 16 |\n",
    "| maxpool | 16 | 16 |\n",
    "| conv_down2 | 16 | 32 |\n",
    "| maxpool | 32 | 32 |\n",
    "| conv_down3 | 32 | 64 |\n",
    "| maxpool | 64 | 64 |\n",
    "| conv_down4 | 64 | 128 |\n",
    "| maxpool | 128 | 128 |\n",
    "| conv_down5 | 128 | 256 |\n",
    "| upsample | 256 | 256 |\n",
    "| conv_up4 | 128+256 | 128 |\n",
    "| upsample | 128 | 128 |\n",
    "| conv_up3 | 64+128 | 64 |\n",
    "| upsample | 64 | 32 |\n",
    "| conv_up4 | 32+64 | 32 |\n",
    "| upsample | 32 | 32 |\n",
    "| conv_up4 | 16+32 | 16 |\n",
    "| conv_out | 16 | 2 |\n"
   ]
  },
  {
   "cell_type": "code",
   "execution_count": null,
   "metadata": {},
   "outputs": [],
   "source": [
    "import torch\n",
    "import torch.nn as nn\n",
    "\n",
    "def double_conv(in_channels, out_channels):\n",
    "    pass\n",
    "\n",
    "class UNet(nn.Module):\n",
    "\n",
    "    def __init__(self):\n",
    "        super().__init__()\n",
    "        pass\n",
    "        \n",
    "    def forward(self, x):\n",
    "        pass"
   ]
  },
  {
   "cell_type": "markdown",
   "metadata": {},
   "source": [
    "## Create Model, Loss, Optimizer"
   ]
  },
  {
   "cell_type": "code",
   "execution_count": null,
   "metadata": {},
   "outputs": [],
   "source": [
    "# standard PyTorch program style: create UNet, DiceLoss and Adam optimizer\n",
    "device = torch.device(\"cuda:3\")\n",
    "model = # define your model here\n",
    "loss_function = # define your loss function here\n",
    "optimizer = torch.optim.Adam(model.parameters(), 1e-4)\n",
    "dice_metric = # define your metric here"
   ]
  },
  {
   "cell_type": "markdown",
   "metadata": {},
   "source": [
    "## Define your training/val/test loop"
   ]
  },
  {
   "cell_type": "code",
   "execution_count": null,
   "metadata": {
    "scrolled": true,
    "tags": []
   },
   "outputs": [],
   "source": [
    "max_epochs = 600\n",
    "val_interval = 2\n",
    "best_metric = -1\n",
    "best_metric_epoch = -1\n",
    "epoch_loss_values = []\n",
    "metric_values = []\n",
    "post_pred = Compose([AsDiscrete(argmax=True, to_onehot=2)])\n",
    "post_label = Compose([AsDiscrete(to_onehot=2)])\n",
    "\n",
    "for epoch in range(max_epochs):\n",
    "    # the steps are similar to HW1. Please pay attention to the difference in the segmentation task."
   ]
  },
  {
   "cell_type": "markdown",
   "metadata": {},
   "source": [
    "## Inference and Report performance on Test Set"
   ]
  },
  {
   "cell_type": "code",
   "execution_count": null,
   "metadata": {},
   "outputs": [],
   "source": []
  }
 ],
 "metadata": {
  "kernelspec": {
   "display_name": "Python 3 (ipykernel)",
   "language": "python",
   "name": "python3"
  },
  "language_info": {
   "codemirror_mode": {
    "name": "ipython",
    "version": 3
   },
   "file_extension": ".py",
   "mimetype": "text/x-python",
   "name": "python",
   "nbconvert_exporter": "python",
   "pygments_lexer": "ipython3",
   "version": "3.9.18"
  }
 },
 "nbformat": 4,
 "nbformat_minor": 4
}
