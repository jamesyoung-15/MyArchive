{
 "cells": [
  {
   "cell_type": "markdown",
   "metadata": {},
   "source": [
    "### Objectives:\n",
    "\n",
    "- To compute the empirical and the theoretical probabilities of an event.\n",
    "- To plot the empirical histogram and the pmf of a discrete random variable.\n",
    "- To compute the empirical and the theoretical mean values of a discrete random variable."
   ]
  },
  {
   "cell_type": "markdown",
   "metadata": {},
   "source": [
    "The following code imports necessary libraries and defines some classes, which will be used below. You can skip this part and start reading from the Introduction."
   ]
  },
  {
   "cell_type": "code",
   "execution_count": 1,
   "metadata": {},
   "outputs": [],
   "source": [
    "import numpy as np\n",
    "import scipy.stats \n",
    "import matplotlib.pyplot as plt\n",
    "\n",
    "class source:\n",
    "    '''source creating messages'''\n",
    "    \n",
    "    def __init__(self, p = 0.5, nbits = 20):\n",
    "        '''initialize the source'''\n",
    "        self.p = p # probability each bit is a 1\n",
    "        self.nbits = nbits # number of bits in the message\n",
    "        \n",
    "    def message(self):\n",
    "        '''create message'''\n",
    "        return list(1*(np.random.rand(self.nbits) > self.p))\n",
    "    \n",
    "class binary_channel:\n",
    "    '''binary channel for a bitstream of 1's and zeros'''\n",
    "    \n",
    "    def __init__(self, p_error = 0.1):\n",
    "        '''initialize as symmetric channel'''\n",
    "        self.p_error1 = p_error # probability of error if input bit is 1\n",
    "        self.p_error0 = p_error # probability of error if input bit is 0\n",
    "        \n",
    "    def set_assymmetric(self, p_error0, p_error1):\n",
    "        '''set channel to be assymetric'''\n",
    "        self.p_error1 = p_error1\n",
    "        self.p_error0 = p_error0\n",
    "    \n",
    "    def transmit(self, input_bitstream):\n",
    "        '''transmit an input bitstream'''\n",
    "        \n",
    "        output_bitstream = []\n",
    "        for b in input_bitstream:\n",
    "            if b == 1:\n",
    "                output_bitstream.append( 1 * (np.random.rand() >= self.p_error1) )\n",
    "            else:\n",
    "                output_bitstream.append( 1 * (np.random.rand() < self.p_error0) )\n",
    "        return output_bitstream\n",
    "\n",
    "def count_errors(msg_in, msg_out):\n",
    "    '''count number of bit errors between two messages'''\n",
    "    \n",
    "    return sum( np.array(msg_in) != np.array(msg_out) )\n",
    "\n",
    "class repetition_coder():\n",
    "    '''repetition code channel coder'''\n",
    "    \n",
    "    def __init__(self, code_length = 1):\n",
    "        '''initialize'''\n",
    "        self.code_length = code_length # length of repetition code\n",
    "        \n",
    "    def encode(self, input_msg):\n",
    "        '''encode message'''        \n",
    "        output_msg = [] # create output message\n",
    "        for b in input_msg: # loop over each bit in the input message\n",
    "            output_msg.extend([b]*self.code_length) # repeat each bit code_length times\n",
    "        return output_msg\n",
    "    \n",
    "    def decode(self, input_msg):\n",
    "        '''decode message'''\n",
    "        output_msg = []\n",
    "        for i in range(0, len(input_msg), self.code_length):\n",
    "            output_msg.append( 1 * (sum(input_msg[i:i+self.code_length]) > self.code_length/2.0) )\n",
    "        return output_msg\n",
    "    \n",
    "class tcp_connection:\n",
    "    '''transmission control protocol connection for reliable transport'''\n",
    "    \n",
    "    def __init__(self, coder = None, channel = None):\n",
    "        '''initialize'''\n",
    "        if coder == None:\n",
    "            self.coder = repetition_coder()\n",
    "        else:\n",
    "            self.coder = coder\n",
    "        if channel == None:\n",
    "            self.channel = binary_channel()\n",
    "        else: \n",
    "            self.channel = channel\n",
    "    \n",
    "    def transmit(self, message = [], verbose = False):\n",
    "        '''transmit message'''\n",
    "        if len(message) == 0: # check if message exists\n",
    "            raise Exception('Length of message must be nonzero')\n",
    "        \n",
    "        bitstream = self.coder.encode(message) # create bitstream to transmit\n",
    "\n",
    "        xmit_count = 1 # counts number of transmit attempts until success\n",
    "        \n",
    "        # loop to transmit message until success\n",
    "        success = False\n",
    "        while not (success):\n",
    "            if verbose: print(f'Transmit attempt {xmit_count}: ')\n",
    "            received_bitstream = self.channel.transmit(bitstream) # transmit message\n",
    "            received_message = self.coder.decode(received_bitstream) # decode message\n",
    "            num_errors = count_errors(message, received_message) # check if error free\n",
    "            if num_errors == 0:\n",
    "                if verbose: print(f'Success!')\n",
    "                success = True\n",
    "            else:\n",
    "                if verbose: print(f'Failed! {num_errors} bit errors')\n",
    "                xmit_count += 1\n",
    "            if xmit_count > 1000:\n",
    "                print('Maximum number of transmissions exceeded.')\n",
    "                print(f'Setting number of transmissions to {xmit_count}.')\n",
    "                success = True\n",
    "        \n",
    "        return xmit_count       "
   ]
  },
  {
   "cell_type": "markdown",
   "metadata": {},
   "source": [
    "## Introduction\n",
    "\n",
    "This notebook simulates a communcation system that has many similarities to the way we transmit email. Recieved email needs to be 100% accurate, but transmission over the internet is unreliable (noisy) and can introduce errors. Thus, in order to make sure received email is correct, the receiver has a way of detecting errors in a received email, and will ask the sender to re-send the email if it detects an error. The sender will keep sending the email until it is received correctly. Thus over an unreliable channel, an email may need to be sent many times, depending upon the probability that the email is received correctly. The lower this probability, the more times the email may need to be sent.\n",
    "\n",
    "### Random bitsteams as messages\n",
    "\n",
    "Emails are encoded as bitstreams (sequences of 1's and 0's). In this notebook, we will model an email as a random sequence of __nbits__ bits. Objects in the \"source\" class can create random bitstreams with varying lengths, as shown below. You can try changing the value assigned to **nbits**, and re-running the cell."
   ]
  },
  {
   "cell_type": "code",
   "execution_count": 2,
   "metadata": {},
   "outputs": [
    {
     "name": "stdout",
     "output_type": "stream",
     "text": [
      "This is the random message generated : [1, 1, 1, 0, 1, 1, 0, 0, 0, 0]\n"
     ]
    }
   ],
   "source": [
    "src = source(nbits = 10) # create a source of random 10 bit bitstreams\n",
    "\n",
    "msg = src.message() # generate a message (bitstream) from the source\n",
    "\n",
    "print(f'This is the random message generated : {msg}')"
   ]
  },
  {
   "cell_type": "markdown",
   "metadata": {},
   "source": [
    "### Binary Channel Model\n",
    "\n",
    "One of the most common ways to model unreliable transmission of bitstreams is called the symmetric binary channel model. In this case, bits in the bitstream are flipped with some probability __p_error__. The following code creates a binary channel and transmits a random bitstream through it. "
   ]
  },
  {
   "cell_type": "code",
   "execution_count": 3,
   "metadata": {},
   "outputs": [
    {
     "name": "stdout",
     "output_type": "stream",
     "text": [
      " Input message = [1, 0, 1, 1, 1, 0, 0, 1, 0, 0]\n",
      "Output message = [0, 1, 1, 1, 0, 0, 1, 1, 0, 0]\n",
      "        Errors = [1, 1, 0, 0, 1, 0, 1, 0, 0, 0]\n",
      "Number of errors: 4\n"
     ]
    }
   ],
   "source": [
    "src = source(nbits = 10) # create a source of random 10 bit bitstreams\n",
    "\n",
    "msg = src.message() # generate a message (bitstream) from the source\n",
    "print(f' Input message = {msg}')\n",
    "\n",
    "ch1 = binary_channel(p_error = 0.5) # create a binary channel with 0.5 probability of error\n",
    "\n",
    "output_msg = ch1.transmit(msg) # transmit the message through the channel\n",
    "print(f'Output message = {output_msg}')\n",
    "\n",
    "errors = list( 1 * (np.array(msg) != np.array(output_msg)) ) # identify which bits have errors\n",
    "print(f'        Errors = {errors}')\n",
    "\n",
    "num_errors = count_errors(msg, output_msg)\n",
    "print(f'Number of errors: {num_errors}') # count the number of errors"
   ]
  },
  {
   "cell_type": "markdown",
   "metadata": {},
   "source": [
    "### Channel Coding\n",
    "\n",
    "One of the most common ways to increase the reliability of a communcation channel is called channel coding: adding additional bits to the message. The easiest way to do this is called a *repetition code*. We simply take each bit and repeat it a number (__code_length__) of times. The repetition_coder class creates channel coders that can encode and decode messages with varying code lengths. Try changing the value assigned to **code_length** to see its effect."
   ]
  },
  {
   "cell_type": "code",
   "execution_count": 19,
   "metadata": {
    "scrolled": true
   },
   "outputs": [
    {
     "name": "stdout",
     "output_type": "stream",
     "text": [
      "After repetition coding, the message [1, 0, 1] is encoded as [1, 1, 1, 0, 0, 0, 1, 1, 1].\n"
     ]
    }
   ],
   "source": [
    "coder = repetition_coder(code_length = 3) # create a coder that repeats each bit code_length times\n",
    "\n",
    "msg = [1, 0, 1] # create input message\n",
    "\n",
    "coded_msg = coder.encode(msg) # encode the message\n",
    "\n",
    "# compare the original and encoded messages\n",
    "print(f'After repetition coding, the message {msg} is encoded as {coded_msg}.')"
   ]
  },
  {
   "cell_type": "markdown",
   "metadata": {},
   "source": [
    "In order to decode the message, we use majority voting. More precisely, we break the received wavefrom up into blocks of __code_length__ bits and count the number of 1's. If there are more ones than zeros (the number of 1's is greater than __code_length__/2), then we assume the transmitted bit was a 1, otherwise, we assume it was a 0. This enables correct transmission, even if a few bit errors creep in, as shown below. However, the transmitted bitstream is much longer than the original."
   ]
  },
  {
   "cell_type": "code",
   "execution_count": 18,
   "metadata": {},
   "outputs": [
    {
     "name": "stdout",
     "output_type": "stream",
     "text": [
      "  The original message is [1, 0, 1].\n",
      "After repetition coding : [1, 1, 1, 0, 0, 0, 1, 1, 1].\n",
      " After bit errors added : [1, 0, 1, 0, 0, 1, 1, 1, 1].\n",
      "  The received message is [1, 0, 1]. (Same as original!)\n"
     ]
    }
   ],
   "source": [
    "coder = repetition_coder(code_length = 3) # create a repetition coder that repeats each bit 3 times\n",
    "\n",
    "# create a message\n",
    "msg = [1, 0, 1]\n",
    "print(f'  The original message is {msg}.')\n",
    "\n",
    "# use the repetition encoder to encode it\n",
    "coded_msg = coder.encode(msg) # encode a 3 bit bitstream\n",
    "print(f'After repetition coding : {coded_msg}.')\n",
    "\n",
    "# flip two bits in the waveform\n",
    "coded_msg[1] = 1-coded_msg[1]\n",
    "coded_msg[5] = 1-coded_msg[5]\n",
    "print(f' After bit errors added : {coded_msg}.')\n",
    "\n",
    "# use the coder to decode the corrupted bitstream\n",
    "decoded_msg = coder.decode(coded_msg) # decode the corrupted bitstream\n",
    "\n",
    "# print results\n",
    "print(f'  The received message is {decoded_msg}. (Same as original!)')"
   ]
  },
  {
   "cell_type": "markdown",
   "metadata": {},
   "source": [
    "### Reliable transmission through TCP\n",
    "\n",
    "Although we can use repetition coding to reduce errors, we cannot eliminate them entirely. Thus, in order to ensure reliable transmissions, emails are transmitted using the Transmission Control Protocol (TCP). An email is sent repeatedly until it is received correctly.  The code below creates a noisy channel and uses the TCP protocol to transmit a message over that channel. The verbose flag in the transmit method triggers the method to tell you what happens with each transmission attempt, i.e. whether the attempt succeeded or failed, and the number of bit errors  if there was a failure."
   ]
  },
  {
   "cell_type": "code",
   "execution_count": 17,
   "metadata": {
    "scrolled": true
   },
   "outputs": [
    {
     "name": "stdout",
     "output_type": "stream",
     "text": [
      "Transmit attempt 1: \n",
      "Failed! 1 bit errors\n",
      "Transmit attempt 2: \n",
      "Failed! 2 bit errors\n",
      "Transmit attempt 3: \n",
      "Failed! 1 bit errors\n",
      "Transmit attempt 4: \n",
      "Failed! 1 bit errors\n",
      "Transmit attempt 5: \n",
      "Failed! 1 bit errors\n",
      "Transmit attempt 6: \n",
      "Failed! 2 bit errors\n",
      "Transmit attempt 7: \n",
      "Success!\n",
      "The number of transmissions required until a successful transmission was 7.\n"
     ]
    }
   ],
   "source": [
    "src = source(nbits = 10) # create message source\n",
    "ch = binary_channel(p_error = 0.15) # create noisy binary channel \n",
    "\n",
    "tcp1 = tcp_connection(channel = ch) # create a tcp connection called tcp1\n",
    "\n",
    "msg = src.message() # generate a message\n",
    "\n",
    "num_xmit = tcp1.transmit(message = msg, verbose = True) # transmit message over the tcp_connection tcp1\n",
    "\n",
    "# print results\n",
    "print(f'The number of transmissions required until a successful transmission was {num_xmit}.')"
   ]
  },
  {
   "cell_type": "markdown",
   "metadata": {},
   "source": [
    "### Combining Channel Coding with TCP\n",
    "\n",
    "We can improve the reliability of the channel by adding repetition coding. This increases the length of each transmitted message, but generally reduces the number of attempts before a successful transmission. TCP transmission with a channel coder that repeats each bit 3 times is simulated below."
   ]
  },
  {
   "cell_type": "code",
   "execution_count": 7,
   "metadata": {},
   "outputs": [
    {
     "name": "stdout",
     "output_type": "stream",
     "text": [
      "Transmit attempt 1: \n",
      "Failed! 2 bit errors\n",
      "Transmit attempt 2: \n",
      "Failed! 2 bit errors\n",
      "Transmit attempt 3: \n",
      "Failed! 1 bit errors\n",
      "Transmit attempt 4: \n",
      "Success!\n",
      "The number of transmissions require until a successful transmission was 4.\n"
     ]
    }
   ],
   "source": [
    "src = source(nbits = 10) # create message source\n",
    "ch = binary_channel(p_error = 0.15) # create noisy binary channel \n",
    "\n",
    "rep3 = repetition_coder(code_length = 3) # create a repetition coder\n",
    "\n",
    "# create tcp connection over the channel using repetition coding\n",
    "tcp3 = tcp_connection(channel = ch, coder = rep3) \n",
    "\n",
    "num_xmit3 = tcp3.transmit(message = msg, verbose = True) # transmit message\n",
    "\n",
    "# print resuts\n",
    "print(f'The number of transmissions require until a successful transmission was {num_xmit3}.')"
   ]
  },
  {
   "cell_type": "markdown",
   "metadata": {},
   "source": [
    "Try running the two code cells above several times. Because the system is random, sometimes the first system will require fewer transmissions than the second. Probability cannot tell us much about any particular outcome or trial. However, it can tell us about what happens in average. On average, we expect the number of transmissions required for the first case to be larger than the number of transmissions required in the second case."
   ]
  },
  {
   "cell_type": "markdown",
   "metadata": {},
   "source": [
    "Does increasing the repetition rate result in a net increase or decrease in the number of bits that need to be transmitted on average for successful transmission?  Is there an optimal length of the repetition code that minimizes the number of bits transmitted on average? How does this depend upon the length of the email that needs to be transmitted? How does the probability of error in the binary channel? What if we make the channel assymetric (different probabilities of errors for 0 and 1)? All of these questions can be answered using computer simulation anf with probability theory, as we show in more detail below."
   ]
  },
  {
   "cell_type": "markdown",
   "metadata": {},
   "source": [
    "### Useful probability distributions\n",
    "\n",
    "In network communcations, discrete probability distributions are very useful. In class, we have studied a number of discrete probablity distributions, including the binomial, geometric and Poisson.  Python includes classes enabling us to compute various quantities relating to these in the **scipy.stats** library. Useful methods associated with these classes are the **pmf** method and the **mean** method, the use of which are illustrated below."
   ]
  },
  {
   "cell_type": "code",
   "execution_count": 8,
   "metadata": {},
   "outputs": [
    {
     "data": {
      "image/png": "[encoded data removed]",
      "text/plain": [
       "<Figure size 640x480 with 1 Axes>"
      ]
     },
     "metadata": {},
     "output_type": "display_data"
    }
   ],
   "source": [
    "from scipy.stats import binom # binomial distribution\n",
    "from scipy.stats import geom # geometric distribution\n",
    "from scipy.stats import poisson # Poisson distribution\n",
    "\n",
    "n = 10 # number of trials in binomial distribution\n",
    "p = 0.4 # probability of success in \n",
    "mu = 6 # mu (also often called lambda) parameter of the Poisson distribution\n",
    "\n",
    "npts = 10\n",
    "x = np.arange(0,npts+1) # range of plots\n",
    "pmfs = np.zeros((3,npts+1))\n",
    "pmfs[0,:] = binom.pmf(x, n=n, p=p) # binomial pmf\n",
    "pmfs[1,:] = geom.pmf(x, p=p) # geometric pmf\n",
    "pmfs[2,:] = poisson.pmf(x, mu=mu) # Poisson pmf\n",
    "\n",
    "means = np.zeros(3)\n",
    "means[0] = binom.mean(n=n, p=p) # mean of binomial RV\n",
    "means[1] = geom.mean(p=p) # mean of binomial RV\n",
    "means[2] = poisson.mean(mu=mu) # mean of binomial RV\n",
    "\n",
    "labels = ('binomial','geometric','poisson')\n",
    "colors = ('r','g','b')\n",
    "\n",
    "fig, ax = plt.subplots() # create a figure and a set of axes\n",
    "# plot the three distributions using a for loop\n",
    "for i in range(0,3):\n",
    "    ax.plot(x, pmfs[i,:], '-o', label = labels[i], color = colors[i]) # plot the pmf\n",
    "    ax.plot(means[i]*np.ones(2),[0, 0.5], ':', color = colors[i]) # plot a dotted vertical line for the mean\n",
    "ax.legend() # add a plot legend\n",
    "ax.set_title('Vertical lines indicate means') # set the title\n",
    "ax.grid() # show a grid\n",
    "plt.show() # show the plot"
   ]
  },
  {
   "cell_type": "markdown",
   "metadata": {},
   "source": [
    "## Part a: Number of bit errors in a single block of bits\n",
    "\n",
    "What if we transmit a block of 11 bits (or more generally n bits)  over a noisy channel? What is the distribution of the number of bit errors in the block? What is the average number of bit errors? This situation can be described using the binomial distribution, which is available in the class **binom** from the **scipy.stats** library.\n",
    "\n",
    "The following code simulates the transmission of a block of 11 bits over a noisy channel many times, and keeps a record of the number of errors that occur in each trial. The code plots a histogram of the number of errors, and compares it to the probability mass function of the binomial random variable."
   ]
  },
  {
   "cell_type": "code",
   "execution_count": 9,
   "metadata": {
    "scrolled": false
   },
   "outputs": [
    {
     "data": {
      "image/png": "[encoded data removed]",
      "text/plain": [
       "<Figure size 640x480 with 1 Axes>"
      ]
     },
     "metadata": {},
     "output_type": "display_data"
    }
   ],
   "source": [
    "# create source\n",
    "num_bits = 11 # number of bits in a block\n",
    "src = source(nbits = num_bits) # create source\n",
    "\n",
    "# create channel\n",
    "p = 0.25 # probability of error\n",
    "ch = binary_channel(p_error = p) # create channel\n",
    "\n",
    "# run the simulations\n",
    "num_trials = 2000 # number of trials to run\n",
    "error_record = np.zeros(num_trials) # create numpy array to hold record of bit errors\n",
    "for i in range(0,num_trials):\n",
    "    msg = src.message() # create a random message\n",
    "    received = ch.transmit(msg) # transmit it over the channel\n",
    "    error_record[i] = count_errors(msg, received) # count and record the number of errors\n",
    "\n",
    "# calculate the theoretical prediction\n",
    "x = np.arange(0,num_bits+1) # values at which to calculate the pmf\n",
    "y = binom.pmf(x, num_bits, p) # the values of the pmf\n",
    "\n",
    "# create plot\n",
    "fig, ax = plt.subplots() # create figure and axes to plot into\n",
    "\n",
    "# plot the histogram\n",
    "bin_edges = np.arange(-0.5,num_bits+1,1) # create edges of the histogram bins at -0.5, 0.5, 1.5, ...\n",
    "ax.hist(error_record, bins = bin_edges, density = True, label='empirical histogram')\n",
    "\n",
    "# plot the theoretical prediction\n",
    "ax.plot(x, y, '-o', label = \"binomial pmf\")\n",
    "\n",
    "# add legend and show plot\n",
    "ax.legend()\n",
    "plt.show()"
   ]
  },
  {
   "cell_type": "markdown",
   "metadata": {},
   "source": [
    "From the record of bit errors generated in the simulations above, calculate the relative frequency that the number of bit errors is more than half the total number of bits in the block. "
   ]
  },
  {
   "cell_type": "code",
   "execution_count": 10,
   "metadata": {},
   "outputs": [
    {
     "name": "stdout",
     "output_type": "stream",
     "text": [
      "The relative frequency that the number of bit errors is more than half the total number of bit in the block is 0.037.\n"
     ]
    }
   ],
   "source": [
    "# put your code here\n",
    "count = 0\n",
    "for i in error_record:\n",
    "    count += (i > num_bits/2)\n",
    "rf = np.divide(count, num_trials)\n",
    "print(f'The relative frequency that the number of bit errors is more than half the total number of bit in the block is {rf}.')"
   ]
  },
  {
   "cell_type": "markdown",
   "metadata": {},
   "source": [
    "Use the binomial pmf to calculate the numerical value of the theoretical probability that more than half the bits in the block are received in error. This should be close to the relative frequency you calculated above."
   ]
  },
  {
   "cell_type": "code",
   "execution_count": 11,
   "metadata": {},
   "outputs": [
    {
     "name": "stdout",
     "output_type": "stream",
     "text": [
      "The theoretical probability that more than half the bits in the block are received in error is 0.03432750701904296\n"
     ]
    }
   ],
   "source": [
    "# put your code here\n",
    "p_more_than_half = np.sum(y[6:num_bits+1])\n",
    "print(f'The theoretical probability that more than half the bits in the block are received in error is {p_more_than_half}')"
   ]
  },
  {
   "cell_type": "markdown",
   "metadata": {},
   "source": [
    "## Part b: Number of transmissions required by TCP\n",
    "\n",
    "As discussed above, TCP connections retransmit messages until the first success: an error free transmission. We define that an error free transmission occurs when the received message (after decoding by the channel coder if any) is identical to the original message, i.e. there are no bit errors in the message.\n",
    "\n",
    "Suppose we are running a TCP transmitter that is transmitting messages over a channel that introduces bit errors with probablity **p**. The messages are random bitstreams of length **num_bits**. No repetition coding is used.  What probability distribution describes the number of transmissions required until the message is successfuly transmitted? What is(are) the parameter(s) of that distribution?\n",
    "\n",
    "To answer this question, write code that simulates a TCP connection **num_trials** times. Keep a record of the number of attempts until a successful transmission. Plot the pmf of the probability distribution with the correct parameter(s), and compare it with the empirical histogram. \n",
    "\n",
    "Use the following values: **p** = 0.1, **num_bits** = 11, **num_trials** = 1000\n",
    "\n",
    "**Hints:**\n",
    "\n",
    "This task is very similar to what was done for the number of bit errors in Part a\n",
    "\n",
    "Compute the histogram with the **bins** assigned, and plot the pmf at the values **x** assigned below.\n",
    "\n",
    "Note that the **transmit** method of the **tcp_connection** object returns the number of attempts until a successful transmission. Also, when running the simulation, set __verbose = False__ during **transmit**, to suppress the text output and avoid clutter.  \n",
    "\n",
    "Since we will assume that there is no channel coder, the code for running the TCP connection is similar to the case in the section \"Reliable Coding with TCP\" above.\n",
    "\n",
    "If you need more help, you may find it helpful to peek ahead to the inner loop of the code in **Part c**."
   ]
  },
  {
   "cell_type": "code",
   "execution_count": 12,
   "metadata": {},
   "outputs": [
    {
     "data": {
      "image/png": "[encoded data removed]",
      "text/plain": [
       "<Figure size 640x480 with 1 Axes>"
      ]
     },
     "metadata": {},
     "output_type": "display_data"
    }
   ],
   "source": [
    "# use this variable for the bins of the histogram\n",
    "bin_edges = np.arange(-0.5,16,1) # create bin edges at -0.5, 0.5, 1.5, ...\n",
    "# plot the pmf at these values\n",
    "x = np.arange(0,16)\n",
    "\n",
    "# put your code here\n",
    "num_trials = 1000 # number of trials to run\n",
    "\n",
    "num_bits = 11 # number of bits in a block\n",
    "src = source(nbits = num_bits)\n",
    "\n",
    "p = 0.1 # probability of error\n",
    "ch = binary_channel(p_error = p)\n",
    "\n",
    "tcp1 = tcp_connection(channel = ch) # create tcp connection\n",
    "\n",
    "# run the simulations\n",
    "transmit_record = np.zeros(num_trials)\n",
    "for i in range(0,num_trials):\n",
    "    msg = src.message() # create a random message\n",
    "    transmit_record[i] = tcp1.transmit(message = msg, verbose = False)\n",
    "\n",
    "# calculate the theoretical prediction (the geometric pmf)\n",
    "y = geom.pmf(x, p = np.power((1-p),num_bits))\n",
    "\n",
    "# create plot\n",
    "fig, ax = plt.subplots()\n",
    "ax.hist(transmit_record, bins = bin_edges, density = True, label='empirical histogram')\n",
    "ax.plot(x, y, '-o', label = \"geometric pmf\")\n",
    "ax.legend()\n",
    "plt.show()"
   ]
  },
  {
   "cell_type": "markdown",
   "metadata": {},
   "source": [
    "Find the average number of transmissions required until the message is successfully transmitted in your simulations. Compare this with the theoretical prediction from the pmf you used to model the empirical histogram. "
   ]
  },
  {
   "cell_type": "code",
   "execution_count": 13,
   "metadata": {},
   "outputs": [
    {
     "name": "stdout",
     "output_type": "stream",
     "text": [
      "The average number of transmissions required until the message is successfully transmitted in 1000 trails is 3.179\n",
      "The theoretical mean of the number of transmissions required until the message is successfully transmitted is 3.186635545324934\n"
     ]
    }
   ],
   "source": [
    "# put your code here\n",
    "\n",
    "mean_empirical = np.sum(transmit_record) / num_trials\n",
    "mean_theoretical = geom.mean(p = np.power((1-p),num_bits))\n",
    "\n",
    "print(f'The average number of transmissions required until the message is successfully transmitted in 1000 trails is {mean_empirical}')\n",
    "print(f'The theoretical mean of the number of transmissions required until the message is successfully transmitted is {mean_theoretical}')"
   ]
  },
  {
   "cell_type": "markdown",
   "metadata": {},
   "source": [
    "# Part C: Average number of bits required to transmit successfully.\n",
    "\n",
    "As discussed above, if we use reptition coding, the probability that a message gets through without errors increases. This decreases the number of times on average we need to transmit the message. However, the length of the message increases.\n",
    "\n",
    "Does the decrease in the number of transmissions offset the increase in the length of bits? The following code investigates this by running a simulation where we keep track of the average number of bits transmitted until a successful transmission for a number of repetition code lengths. For each successful, the number of bits required is equal to the number of bits in the message times the repetition code length times the number of transmission attempts required. We also comapre the simulation model to a simple theoretical model that assumes the first transmission attempt is always successful, i.e. the number of bits required is equal to the number of bits in the message times the repetition code length."
   ]
  },
  {
   "cell_type": "code",
   "execution_count": 241,
   "metadata": {},
   "outputs": [
    {
     "name": "stdout",
     "output_type": "stream",
     "text": [
      "The average bit needed to transmit message for repetition length 3 in 1000 trials : 110.616\n"
     ]
    }
   ],
   "source": [
    "# put your code here\n",
    "num_trials = 1000 # number of trials to run\n",
    "rep_length = 3 # repetition length\n",
    "num_bits = 11 # number of bits in a block\n",
    "src = source(nbits = num_bits)\n",
    "\n",
    "rep4 = repetition_coder(code_length=rep_length)\n",
    "\n",
    "p = 0.2 # probability of error\n",
    "ch = binary_channel(p_error = p)\n",
    "\n",
    "tcp1 = tcp_connection(channel = ch, coder=rep4) # create tcp connection\n",
    "\n",
    "transmit_bit = [0]*num_trials\n",
    "average_bit = [0]*num_trials\n",
    "\n",
    "# run the simulations\n",
    "transmit_record = np.zeros(num_trials)\n",
    "for i in range(0,num_trials):\n",
    "    msg = src.message() # create a random message\n",
    "    transmit_record[i] = tcp1.transmit(message = msg, verbose = False)\n",
    "    #track average bit, number of bits = num of bits in message * repetition code length * transmission\n",
    "    transmit_bit[i] = num_bits*rep_length*transmit_record[i]\n",
    "    # current_total = np.sum(transmit_bit)\n",
    "    # average_bit[i] = current_total/(i+1)\n",
    "    # print(transmit_record[i])\n",
    "    # print(transmit_bit[i])\n",
    "\n",
    "total_average_bit = np.sum(transmit_bit)/num_trials\n",
    "print(\"The average bit needed to transmit message for repetition length \" +str(rep_length) + \" in 1000 trials : \" + str(total_average_bit))\n",
    "\n",
    "# print(average_bit[999])\n",
    "\n",
    "# # create plot\n",
    "# x = np.arange(0, num_trials)\n",
    "# fig = plt.plot(x,average_bit)\n",
    "# plt.show()\n"
   ]
  },
  {
   "cell_type": "code",
   "execution_count": 242,
   "metadata": {},
   "outputs": [
    {
     "name": "stdout",
     "output_type": "stream",
     "text": [
      "Total bits in 1000 trials: 123134.0\n",
      "Average bit needed with no repetition length: 123.134\n"
     ]
    }
   ],
   "source": [
    "# put your code here\n",
    "\n",
    "tcp1 = tcp_connection(channel = ch) # create tcp connection\n",
    "\n",
    "transmit_bit = [0]*num_trials\n",
    "\n",
    "# run the simulations\n",
    "transmit_record = np.zeros(num_trials)\n",
    "for i in range(0,num_trials):\n",
    "    msg = src.message() # create a random message\n",
    "    transmit_record[i] = tcp1.transmit(message = msg, verbose = False)\n",
    "    #track average bit, number of bits = num of bits in message * repetition code length * transmission\n",
    "    transmit_bit[i] = num_bits*transmit_record[i]\n",
    "    # print(transmit_record[i])\n",
    "    # print(transmit_bit[i])\n",
    "\n",
    "average_bit = np.sum(transmit_bit)/num_trials\n",
    "print(\"Total bits in 1000 trials: \" + str(np.sum(transmit_bit)))\n",
    "print(\"Average bit needed with no repetition length: \" + str(average_bit))"
   ]
  },
  {
   "cell_type": "code",
   "execution_count": 243,
   "metadata": {},
   "outputs": [
    {
     "name": "stdout",
     "output_type": "stream",
     "text": [
      "Theoretical average bit: 33.0\n"
     ]
    }
   ],
   "source": [
    "# put your code here\n",
    "num_trials = 1000 # number of trials to run\n",
    "num_bits = 11 # number of bits in a block\n",
    "src = source(nbits = num_bits)\n",
    "\n",
    "rep4 = repetition_coder(code_length=rep_length)\n",
    "\n",
    "p = 0 # probability of error\n",
    "ch = binary_channel(p_error = p)\n",
    "\n",
    "tcp1 = tcp_connection(channel = ch, coder=rep4) # create tcp connection\n",
    "\n",
    "transmit_bit = [0]*num_trials\n",
    "\n",
    "# run the simulations\n",
    "transmit_record = np.zeros(num_trials)\n",
    "for i in range(0,num_trials):\n",
    "    msg = src.message() # create a random message\n",
    "    transmit_record[i] = tcp1.transmit(message = msg, verbose = False)\n",
    "    #track average bit, number of bits = num of bits in message * repetition code length * transmission\n",
    "    transmit_bit[i] = num_bits*rep_length*transmit_record[i]\n",
    "    # print(transmit_record[i])\n",
    "    # print(transmit_bit[i])\n",
    "\n",
    "average_bit = np.sum(transmit_bit)/num_trials\n",
    "print(\"Theoretical average bit: \" + str(average_bit))"
   ]
  }
 ],
 "metadata": {
  "kernelspec": {
   "display_name": "Python 3.10.6 64-bit",
   "language": "python",
   "name": "python3"
  },
  "language_info": {
   "codemirror_mode": {
    "name": "ipython",
    "version": 3
   },
   "file_extension": ".py",
   "mimetype": "text/x-python",
   "name": "python",
   "nbconvert_exporter": "python",
   "pygments_lexer": "ipython3",
   "version": "3.10.6"
  },
  "vscode": {
   "interpreter": {
    "hash": "e7370f93d1d0cde622a1f8e1c04877d8463912d04d973331ad4851f04de6915a"
   }
  }
 },
 "nbformat": 4,
 "nbformat_minor": 2
}
