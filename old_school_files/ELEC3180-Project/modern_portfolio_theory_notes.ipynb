{
 "cells": [
  {
   "attachments": {},
   "cell_type": "markdown",
   "metadata": {},
   "source": [
    "# Notes"
   ]
  },
  {
   "attachments": {},
   "cell_type": "markdown",
   "metadata": {},
   "source": [
    "### Portfolio Optimization"
   ]
  },
  {
   "cell_type": "code",
   "execution_count": 9,
   "metadata": {},
   "outputs": [],
   "source": [
    "## import packages ##\n",
    "\n",
    "# solver tools\n",
    "import scipy\n",
    "import cvxpy as cp\n",
    "\n",
    "# basic data and math tools\n",
    "import random\n",
    "import numpy as np\n",
    "import pandas as pd\n",
    "import matplotlib.pyplot as plt\n",
    "\n",
    "from pandas_datareader import data as pdr # for web scraping\n",
    "import yfinance as yf # tool for download yahoo finance data\n",
    "import requests # for web scraping data from yahoo finance website if needed \n",
    "import re # try different replace string method\n",
    "\n",
    "# try backtesting library\n",
    "from backtesting import Backtest, Strategy\n",
    "from backtesting.lib import crossover\n",
    "\n",
    "import pypfopt"
   ]
  },
  {
   "attachments": {},
   "cell_type": "markdown",
   "metadata": {},
   "source": [
    "#### General Markowitz Portfolio with Practical Constraints\n",
    "\n",
    "\\begin{array}{lll}\n",
    "\\underset{\\mathbf{w}}{\\textsf{maximize}} & \n",
    "\\mathbf{w}^{T}\\boldsymbol{\\mu}-\\lambda\\mathbf{w}^{T}\\boldsymbol{\\Sigma}\\mathbf{w} & \\\\\n",
    "\\textsf{subject to}\n",
    "& \\mathbf{w}^{T}\\mathbf{1}=1 & \\text{budget}\\\\\n",
    "& \\mathbf{w}\\ge\\mathbf{0} & \\text{no shorting}\\\\\n",
    "& \\left\\Vert \\mathbf{w}\\right\\Vert _{1}\\leq\\gamma & \\text{leverage}\\\\\n",
    "& \\left\\Vert \\mathbf{w}-\\mathbf{w}_{0}\\right\\Vert _{1}\\leq\\tau & \\text{turnover}\\\\\n",
    "& \\left\\Vert \\mathbf{w}\\right\\Vert _{\\infty}\\leq u & \\text{max position}\\\\\n",
    "& \\left\\Vert \\mathbf{w}\\right\\Vert _{0}\\leq K & \\text{sparsity}\n",
    "\\end{array}"
   ]
  },
  {
   "attachments": {},
   "cell_type": "markdown",
   "metadata": {},
   "source": [
    "#### Markowitz Mean-Variance Portfolio (MVP)\n",
    "\n",
    "\\begin{array}{ll}\n",
    "\\underset{\\mathbf{w}}{\\textsf{maximize}} & \\boldsymbol{\\mu}^T\\mathbf{w} -\\lambda\\mathbf{w}^T\\mathbf{\\Sigma}\\mathbf{w}\\\\\n",
    "{\\textsf{subject to}}\n",
    " & \\mathbf{1}^T\\mathbf{w} = 1\\\\\n",
    " & \\mathbf{w}\\ge\\mathbf{0}.\n",
    "\\end{array}"
   ]
  },
  {
   "cell_type": "code",
   "execution_count": 10,
   "metadata": {},
   "outputs": [],
   "source": [
    "def MVP(mu, Sigma, lmd=0.5):\n",
    "    w = cp.Variable(len(mu))\n",
    "    variance = cp.quad_form(w, Sigma)\n",
    "    expected_return = w @ mu\n",
    "    problem = cp.Problem(cp.Minimize(lmd * variance - expected_return), [w >= 0, cp.sum(w) == 1])   \n",
    "    problem.solve()\n",
    "    return w.value"
   ]
  },
  {
   "attachments": {},
   "cell_type": "markdown",
   "metadata": {},
   "source": [
    "#### Global Minimum Variance Portfolio (GMVP)\n",
    "\n",
    "\\begin{array}{ll}\n",
    "\\underset{\\mathbf{w}}{\\textsf{minimize}} & \\mathbf{w}^T\\mathbf{\\Sigma}\\mathbf{w}\\\\\n",
    "{\\textsf{subject to}}\n",
    " & \\mathbf{1}^T\\mathbf{w} = 1\\\\\n",
    " & \\mathbf{w}\\ge\\mathbf{0}\n",
    "\\end{array}"
   ]
  },
  {
   "cell_type": "code",
   "execution_count": 11,
   "metadata": {},
   "outputs": [],
   "source": [
    "# function for GMVP\n",
    "def GMVP(Sigma):\n",
    "     w = cp.Variable(np.shape(Sigma)[0])\n",
    "     variance = cp.quad_form(w, Sigma)\n",
    "     problem = cp.Problem(cp.Minimize(variance),\n",
    "                    [w >= 0, cp.sum(w) == 1])\n",
    "     problem.solve()\n",
    "     return w.value"
   ]
  },
  {
   "attachments": {},
   "cell_type": "markdown",
   "metadata": {},
   "source": [
    "#### Maximum Sharpe Ratio Portfolio (MSRP)\n",
    "\n",
    "Nonconvex Form: \n",
    "\\begin{array}{ll}\n",
    "\\underset{\\mathbf{w}}{\\textsf{maximize}} &\n",
    "\\dfrac{\\mathbf{w}^{T}\\boldsymbol{\\mu}-r_{f}}{\\sqrt{\\mathbf{w}^{T}\\boldsymbol{\\Sigma}\\mathbf{w}}}\\\\\n",
    "\\textsf{subject to} & \\mathbf{1}^{T}\\mathbf{w}=1\\\\\n",
    "& \\mathbf{w}\\ge\\mathbf{0}\n",
    "\\end{array}\n",
    "\n",
    "Rewrite to convex form via schaible:\n",
    "\\begin{array}{ll}\n",
    "\\underset{\\tilde{\\mathbf{w}}}{\\textsf{minimize}} & \\tilde{\\mathbf{w}}^T\\mathbf{\\Sigma}\\tilde{\\mathbf{w}}\\\\\n",
    "{\\textsf{subject to}}\n",
    " & \\tilde{\\mathbf{w}}^T\\boldsymbol{\\mu} = 1\\\\\n",
    " & \\tilde{\\mathbf{w}}\\ge\\mathbf{0}\n",
    "\\end{array}"
   ]
  },
  {
   "cell_type": "code",
   "execution_count": 12,
   "metadata": {},
   "outputs": [],
   "source": [
    "def MSRP(mu, Sigma):\n",
    "    w = cp.Variable(len(mu))\n",
    "    variance = cp.quad_form(w, Sigma)\n",
    "    problem = cp.Problem(cp.Minimize(variance), [w >= 0, w @ mu == 1])   \n",
    "    problem.solve()\n",
    "    return w.value/np.sum(w.value)"
   ]
  }
 ],
 "metadata": {
  "kernelspec": {
   "display_name": "Python 3",
   "language": "python",
   "name": "python3"
  },
  "language_info": {
   "codemirror_mode": {
    "name": "ipython",
    "version": 3
   },
   "file_extension": ".py",
   "mimetype": "text/x-python",
   "name": "python",
   "nbconvert_exporter": "python",
   "pygments_lexer": "ipython3",
   "version": "3.10.10 (main, Mar  5 2023, 22:26:53) [GCC 12.2.1 20230201]"
  },
  "orig_nbformat": 4,
  "vscode": {
   "interpreter": {
    "hash": "e7370f93d1d0cde622a1f8e1c04877d8463912d04d973331ad4851f04de6915a"
   }
  }
 },
 "nbformat": 4,
 "nbformat_minor": 2
}
